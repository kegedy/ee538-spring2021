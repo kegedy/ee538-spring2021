{
 "cells": [
  {
   "cell_type": "markdown",
   "metadata": {},
   "source": [
    "<center><b>EE 538 Spring 2021<br>\n",
    "Low-Noise Analog Circuit Design<br>\n",
    "University of Washington Electrical & Computer Engineering</b></center>\n"
   ]
  },
  {
   "cell_type": "markdown",
   "metadata": {},
   "source": [
    "<b>Instructor: Jason Silver<br>\n",
    "Design Project: Low-Noise Wideband Transimpedance Amplifier Design<br>\n",
    "Due Friday, June 11 (Submit on Canvas as a Jupyter Notebook)</b> "
   ]
  },
  {
   "cell_type": "markdown",
   "metadata": {},
   "source": [
    "The final project for this course involves the design of a transimpedance amplifier signal path for photosensing applications. You will design the TIA and additional gain stages to meet challenging noise and bandwidth specifications. The goals of this project are:\n",
    "\n",
    " - To explore the limits of noise minimization in wideband photosensing applications\n",
    " - To understand the impact of photodiode capacitance on TIA noise and bandwidth\n",
    " - To perform circuit verification under real-world constraints such as component properties and temperature variation"
   ]
  },
  {
   "cell_type": "markdown",
   "metadata": {},
   "source": [
    "The project deliverables comprise both a presentation and a written report. Both should include details of your design performance, a description of your design process and the tradeoffs involved, and SPICE verification results. "
   ]
  },
  {
   "cell_type": "markdown",
   "metadata": {},
   "source": [
    "\n",
    "| Item               | Due date | Proportion of project grade |\n",
    "| :---------------- | :------: | :-------------------------: |\n",
    "| In-class presentation | June 2 | 40 % |\n",
    "| Final report submission | June 11 | 60 % |"
   ]
  },
  {
   "cell_type": "markdown",
   "metadata": {},
   "source": [
    "__System Architecture__\n",
    "\n",
    "Wideband, low-noise transimpedance amplifiers are challenging to design due to the impact of photodiode capacitance on both aspects of performance."
   ]
  },
  {
   "cell_type": "markdown",
   "metadata": {
    "cell_style": "center"
   },
   "source": [
    "<center><img src=\"TIA_simple.png\" width=600></center>\n",
    "<br>\n",
    "<center><b> Figure 1. Simplified TIA schematic</center>"
   ]
  },
  {
   "cell_type": "markdown",
   "metadata": {},
   "source": [
    "Fig 1. shows a simplified schematic for a transimpedance amplifier, which comprises a reverse-biased photodiode (bias circuitry not shown) and an opamp with feedback resistance $R_f$. The opamp provides a low-impedance path for the photodiode current $i_d$ and $R_f$ converts this current into an output voltage $v_o$. The photodiode capacitance that appears in parallel with the signal current can have a signicant impact on noise, stability and speed.\n",
    "\n"
   ]
  },
  {
   "cell_type": "markdown",
   "metadata": {},
   "source": [
    "__Design Specifications__"
   ]
  },
  {
   "cell_type": "markdown",
   "metadata": {},
   "source": [
    "| Parameter                            | Specification   | Conditions | Unit |\n",
    "| :----------------                    | :------:        |:--------------|:--------------------: |\n",
    "| Transimpedance gain (full signal path)                        | $1$         |               | $V/\\mu A$ |\n",
    "| Transimpedance bandwidth ($f_{3dB}$)            | $1$             |               | $MHz$ |\n",
    "| Minimum photodiode current ($i_d$)                  | $2$         |               | $\\mu A$ | \n",
    "| Photodiode capacitance ($C_d$)              | $150$      |               | $pF$ |\n",
    "| Closed-loop gain magnitude peaking          | $0$      |               |$dB$|\n",
    "| $rms$ noise figure ($F = 1 + i_n^2/i_{ns}^2$)        | $\\leq 0.5$           |               | $dB$ |\n",
    "| Power dissipation ($I_{DD} \\cdot (V_{CC} + V_{EE}) $) | Optimize   |               |$mW$ |\n",
    "| Cost-per-unit (1000 units)          | Optimize       |               |$\\$$ |"
   ]
  },
  {
   "cell_type": "markdown",
   "metadata": {},
   "source": [
    "__Recommended design approach__\n",
    "\n",
    " - Determine the architecture you want to use and perform a thorough analysis of noise, gain, and bandwidth, including the noise, bandwidth, and input capacitance specifications of available opamps. You don't want to head very long down a design path that is doomed to fail from the beginning. \n",
    " - You may not be able to realize all of the required gain in the TIA stage and meet all specifications. Don't limit yourself to one stage!\n",
    " - If a cascode device is used ensure that its $\\beta$ value large enough given the collector current value to avoid degrading the noise performance of your design."
   ]
  },
  {
   "cell_type": "markdown",
   "metadata": {},
   "source": [
    "__Presentation deliverables__\n",
    "\n",
    "You will give an in-class presentation (8-10 slides) describing your system architecture, design approach, analysis, and verification results. You may not be 100% finished with the design at this point, and that is okay. However, you should be able to present, at a minimum, 1) a discussion of the application and the challenges involved, 2) your system architecture and design approach (including schematic) and 3) the results of your performance analyses and associated Python plots (i.e. noise and frequency response - see below). Also, even if you are not yet meeting specifications, it will be beneficial to include some simulation results for discussion.\n",
    "\n",
    "__Presentation Grading metrics__\n",
    "\n",
    " - Presentation quality (figures, equations, general content) (30%)\n",
    " - Completeness (1-3 from above included) (50%)\n",
    " - Accuracy of analysis (20%)"
   ]
  },
  {
   "cell_type": "markdown",
   "metadata": {},
   "source": [
    "__Report deliverables__\n",
    "\n",
    "Report summarizing your design. Your submission should be organized into the following sections (with deliverables clearly indicated). \n",
    "\n",
    "*Analysis/Design*\n",
    "\n",
    "1.  A thorough analysis of your design, clearly demonstrating its capacity to meet the specifications. This primarily includes noise and AC analyses. Simulation results alone are not enough!\n",
    "2. Plots showing the predicted noise and gain/phase as functions of frequency (e.g. using Python).\n",
    "3. Complete schematic showing the transimpedance stage, any additional gain stages, supply voltages, opamp models, resistor values, and all branch currents and DC node voltages. Indicate the power dissipated by each amplifier by annotating the current through the positive supply pin.\n",
    "4. A table summarizing noise contributions from *all* devices (opamps, transistors, and resistors) and the calculated input-referred noise density and $rms$ noise of each. \n",
    "5. A table listing components used, quantity, active power (if applicable) and cost for each item assuming a purchase quantity of 1000, in addition to the total cost and power. Include a link to a Digikey (or equivalent) listing for each component.\n",
    "\n",
    "*Verification*\n",
    "\n",
    "1. Noise simulation result showing the input-referred noise noise from 0.01Hz to 100MHz and total $rms$ noise. To plot the input-referred noise, divide the output voltage noise by the DC transimpedance gain value. \n",
    "2. AC simulation result demonstrating the frequency response (gain and phase) of the entire circuit (0.1Hz to 100MHz), indicating the gain and phase at 1MHz.\n",
    "3. AC simulation result showing the input impedance as a function of frequency from 0.1Hz to 100MHz.\n",
    "4. Output step response for an input current step of $0$ to $2\\mu A$.\n",
    "\n",
    "\n",
    "*Discussion*\n",
    "\n",
    "1. Include a discussion of major design tradeoffs, any insight you gained throughout the design process, and possible suggestions for improving the architecture."
   ]
  },
  {
   "cell_type": "markdown",
   "metadata": {},
   "source": [
    "__A few words on design__\n",
    "- Many design resources exist in textbooks and on the web for transimpedance amplifiers. Please refrain from just copying something and submitting it as your design. Even if you end up with a very similar implementation as that demonstrated elsewhere, the process of getting there on your own is the most important aspect of the project.\n",
    "- Be creative! Don't just settle on the first design that \"works\". Explore the possibilities and try to better understand the various options that exist.\n",
    "\n",
    "__Notes on the report submission__\n",
    "\n",
    " - Sections should be clearly labeled and should be logical and easy to follow. This should be a *professional quality* report. Don't just throw your results together in a document and expect full credit.\n",
    " -  All plots should be labeled and clearly legible using appropriate colors and scale. Ltspice outputs are acceptable only if they meet these requirements.\n",
    " -  Organize your schematics neatly so that the circuit architecture and all relevant information is clear to the reader. Presentation-friendly schematics (e.g. created using Visio or draw.io) are encouraged.\n",
    " \n",
    "__Final Report Grading metrics__\n",
    "\n",
    " - Organization/clarity (20%)\n",
    " - Completeness (all deliverables included) (50%)\n",
    " - Performance specifications achieved (25%)\n",
    " - Power/cost (competitively graded) (5%)"
   ]
  }
 ],
 "metadata": {
  "kernelspec": {
   "display_name": "Python 3",
   "language": "python",
   "name": "python3"
  },
  "language_info": {
   "codemirror_mode": {
    "name": "ipython",
    "version": 3
   },
   "file_extension": ".py",
   "mimetype": "text/x-python",
   "name": "python",
   "nbconvert_exporter": "python",
   "pygments_lexer": "ipython3",
   "version": "3.8.2"
  }
 },
 "nbformat": 4,
 "nbformat_minor": 4
}
