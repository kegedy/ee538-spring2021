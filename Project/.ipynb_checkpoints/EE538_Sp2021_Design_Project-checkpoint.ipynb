{
 "cells": [
  {
   "cell_type": "markdown",
   "metadata": {},
   "source": [
    "<center><b>EE 538 Spring 2021<br>\n",
    "Low-Noise Analog Circuit Design<br>\n",
    "University of Washington Electrical & Computer Engineering</b></center>\n"
   ]
  },
  {
   "cell_type": "markdown",
   "metadata": {},
   "source": [
    "<b>Instructor: Jason Silver<br>\n",
    "Design Project: Low-Noise Wideband Transimpedance Amplifier Design<br>\n",
    "Due Friday, June 11 (Submit on Canvas as a Jupyter Notebook)</b> "
   ]
  },
  {
   "cell_type": "markdown",
   "metadata": {},
   "source": [
    "The final project for this course involves the design of a transimpedance amplifier signal path for photosensing applications. You will design the TIA and additional gain stages to meet challenging noise and bandwidth specifications. The goals of this project are:\n",
    "\n",
    " - To explore the limits of noise minimization in widebadn photosensing applications\n",
    " - To understand the impact of photodiode capacitance on TIA noise and bandwidth\n",
    " - To perform circuit verification under real-world constraints such as component properties and temperature variation"
   ]
  },
  {
   "cell_type": "markdown",
   "metadata": {},
   "source": [
    "The project deliverables comprise both a presentation and a written report. Both should provide details of your design performance, a description of your design process and the tradeoffs involved, and SPICE verification results. "
   ]
  },
  {
   "cell_type": "markdown",
   "metadata": {},
   "source": [
    "\n",
    "| Item               | Due date | Proportion of project grade |\n",
    "| :---------------- | :------: | :-------------------------: |\n",
    "| In-class presentation | June 2 | 40 % |\n",
    "| Final report submission | June 11 | 60 % |"
   ]
  },
  {
   "cell_type": "markdown",
   "metadata": {},
   "source": [
    "__System Architecture__\n",
    "\n",
    "Wideband, low-noise transimpedance amplifiers are challenging to design due to the impact of photodiode capacitance on both parameters."
   ]
  },
  {
   "cell_type": "markdown",
   "metadata": {
    "cell_style": "center"
   },
   "source": [
    "<center><img src=\"TIA_simple.png\" width=600></center>\n",
    "<br>\n",
    "<center><b> Figure 1. Simplified TIA schematic</center>"
   ]
  },
  {
   "cell_type": "markdown",
   "metadata": {},
   "source": [
    "Fig 1. shows a simplified schematic for a transimpedance amplifier, which comprises a reverse-biased photodiode (bias circuitry not shown) and an opamp with feedback resistance $R_f$. The opamp provides a low-impedance path for the photodiode current $i_d$ and $R_f$ converts this current into an output voltage $v_o$.\n",
    "\n"
   ]
  },
  {
   "cell_type": "markdown",
   "metadata": {},
   "source": [
    "__Design Specifications__"
   ]
  },
  {
   "cell_type": "markdown",
   "metadata": {},
   "source": [
    "| Parameter                            | Specification   | Conditions | Unit |\n",
    "| :----------------                    | :------:        |:--------------|:--------------------: |\n",
    "| TIA bandwidth ($f_{3dB}$)            | $1$             |               | $MHz$ |\n",
    "| Closed-loop gain magnitude peaking          | $0$      |               |$dB$|\n",
    "| $rms$ noise figure ($F$)        | $\\leq 0.5$           |               | $dB$ |\n",
    "| Input impedance ($ 0- 1MHz$)               | $\\leq 100$|               | $\\Omega$ | \n",
    "| Power dissipation ($I_{DD} \\cdot V_{DD}$) | Optimize   |               |$mW$ |\n",
    "| Cost-per-unit (10,000 units)          | Optimize       |               |$\\$$ |"
   ]
  },
  {
   "cell_type": "markdown",
   "metadata": {},
   "source": [
    "__Recommended design approach__\n",
    "\n",
    " - Determine the input-referred $rms$ current noise required to meet the SNR specification.\n",
    " - References voltages (e.g. for active filters) should be generated using a voltage buffer (don't use an ideal voltage source) "
   ]
  },
  {
   "cell_type": "markdown",
   "metadata": {},
   "source": [
    "__Simulating Noise Performance__\n",
    "\n",
    "To test the noise performance of your system, including the effect of ADC quantization noise, you will first need to generate a random noise voltage in Python to modeling your input-referred noise. This can be used to drive the input of your circuit with a PWL voltage source in SPICE."
   ]
  },
  {
   "cell_type": "markdown",
   "metadata": {},
   "source": [
    "__Report deliverables__\n",
    "\n",
    "Report summarizing your design. Your submission should be organized into the following sections (with deliverables listed for each). \n",
    "\n",
    "*Instrumentation Amplifier*\n",
    "\n",
    "1.  A schematic of the amplifier with component values and DC node voltages clearly labeled.\n",
    "2. A summary of the major noise contributors and the calculated input-referred noise density.\n",
    "3. Noise simulation result showing the output noise from 0.01Hz to 100MHz and total $rms$ noise *without filtering* (this is the $rms$ noise value that should be used in the time-domain noise simulations described above).\n",
    "4. A table of components listing the cost for each item assuming a purchase quantity of 10,000. Include a link to a Digikey (or equivalent) listing for each component.\n",
    "\n",
    "*Lowpass Filter*\n",
    "\n",
    "1. Filter design based on the target specifications. The ideal (analytical) filter should be modeled in Python to demonstrate that it meets the requirements. You need to calculate the noise bandwidth of your filter and use this to estimate the input-referred  $rms$  noise based on the input-referred noise density of your circuit.\n",
    "1. Filter schematic with component values and DC node voltages clearly labeled\n",
    "2. A description of the filter design, including the design parameters for each 2nd order stage (assuming you use a cascaded design)\n",
    "3. AC simulation results (from 0.1Hz to 100MHz) showing the frequency response of the filter and attenuation at 10kHz. Use the 'Power Bandwidth' in LTspice to measure the filter's noise bandwidth.4. Table of components, as in Part 1\n",
    "\n",
    "*Top-level Design*\n",
    "\n",
    "1. Complete schematic showing the strain gage model, instrumentation amplifier, filter, supply voltages, opamp models, resistor values, and DC operating point voltages at all nodes. Indicate the power dissipated by each amplifier by annotating the current through the positive supply pin.\n",
    "2. Table showing components used, quantity, and cost per unit (assuming a total of 10,000 units)\n",
    "3. Table listing the power dissipation for each amplifier and a summary of the total power. \n",
    "4.  AC simulation results showing the frequency response of the entire circuit (0.1Hz to 100MHz), indicating the attenuation at 10kHz\n",
    "5.\tInput-referred noise plot showing the input-referred noise density at 10kHz, as well as the total integrated noise from 0.1Hz to 100MHz.\n",
    "6. Time-domain simulation results as described above. Calculate the SNR as shown above using the \"measured\" (i.e. simulated) signal and noise waveforms (this should include the effects of sampling and ADC quantization noise). Include plots of both the time-domain noise and its power spectral density. \n",
    "7. A discussion of major design tradeoffs, any insight you gained throughout the design process, and possible suggestions for improving the architecture"
   ]
  },
  {
   "cell_type": "markdown",
   "metadata": {},
   "source": [
    "__Notes on the final submission__\n",
    "\n",
    " - Sections should be clearly labeled and should be logical and easy to follow.\n",
    " -  All plots should be labeled and clearly legible using appropriate colors and scale. Ltspice outputs are acceptable as long as they meet these requirements.\n",
    " -  Organize your schematics neatly so that the circuit architecture and all relevant information is clear to the reader.\n",
    " \n",
    "__Grading metrics__\n",
    "\n",
    " - Organization/clarity (20%)\n",
    " - Completeness (all deliverables included) (60%)\n",
    " - Performance/cost (competitively graded) (20%)"
   ]
  }
 ],
 "metadata": {
  "kernelspec": {
   "display_name": "Python 3",
   "language": "python",
   "name": "python3"
  },
  "language_info": {
   "codemirror_mode": {
    "name": "ipython",
    "version": 3
   },
   "file_extension": ".py",
   "mimetype": "text/x-python",
   "name": "python",
   "nbconvert_exporter": "python",
   "pygments_lexer": "ipython3",
   "version": "3.8.2"
  }
 },
 "nbformat": 4,
 "nbformat_minor": 4
}
