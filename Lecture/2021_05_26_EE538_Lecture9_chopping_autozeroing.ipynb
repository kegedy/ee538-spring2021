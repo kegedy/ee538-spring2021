{
 "cells": [
  {
   "cell_type": "markdown",
   "metadata": {
    "cell_style": "center",
    "slideshow": {
     "slide_type": "slide"
    }
   },
   "source": [
    "# EE 538: Low-Noise Analog Circuit Design\n",
    "## Spring 2021\n",
    "## Instructor: Jason Silver"
   ]
  },
  {
   "cell_type": "markdown",
   "metadata": {
    "slideshow": {
     "slide_type": "slide"
    }
   },
   "source": [
    "## Announcements"
   ]
  },
  {
   "cell_type": "markdown",
   "metadata": {
    "slideshow": {
     "slide_type": "-"
    }
   },
   "source": [
    " - Design project presentations next Wednesday (June 2)\n",
    "     - Final report due Friday, June 11 at midnight\n",
    " - Midterm solutions posted\n",
    "     - Midterm grades coming soon"
   ]
  },
  {
   "cell_type": "markdown",
   "metadata": {
    "slideshow": {
     "slide_type": "slide"
    }
   },
   "source": [
    "## Week 9"
   ]
  },
  {
   "cell_type": "markdown",
   "metadata": {
    "slideshow": {
     "slide_type": "-"
    }
   },
   "source": [
    " - Analog MOS Integrated Circuits for Signal Processing, Gregorian & Temes\n",
    " - CMOS Mixed-Signal Circuit Design, $2^{nd}$ edition, R. Jacob Baker\n",
    " - Circuit Techniques for Reducing the Effects of Op-Amp Imperfections, Enz & Gregorian\n",
    " - Simulating Switched-Capacitor Filters with SpectreRF, Ken Kundert"
   ]
  },
  {
   "cell_type": "markdown",
   "metadata": {
    "slideshow": {
     "slide_type": "slide"
    }
   },
   "source": [
    "## Overview"
   ]
  },
  {
   "cell_type": "markdown",
   "metadata": {
    "slideshow": {
     "slide_type": "-"
    }
   },
   "source": [
    " - Last time...\n",
    "     - Sampled-data systems\n",
    "     - Aliasing\n",
    "     - Track-and-hold noise\n",
    "     - Switched-capacitor design\n",
    "     - Integrator noise\n",
    " - Today...\n",
    "    - MOS amplifier error sources\n",
    "    - Autozeroing (AZ)\n",
    "        - Effect on $1/f$ noise\n",
    "        - Effect on white noise\n",
    "    - Chopper stabilization\n",
    "    - Switched-capacitor gain structures\n",
    "    - Other sources of error"
   ]
  },
  {
   "cell_type": "markdown",
   "metadata": {
    "slideshow": {
     "slide_type": "skip"
    }
   },
   "source": [
    "## Python packages/modules"
   ]
  },
  {
   "cell_type": "code",
   "execution_count": 24,
   "metadata": {
    "slideshow": {
     "slide_type": "skip"
    }
   },
   "outputs": [],
   "source": [
    "import matplotlib as mpl\n",
    "from matplotlib import pyplot as plt\n",
    "from matplotlib import ticker, cm\n",
    "import numpy as np\n",
    "from scipy import signal\n",
    "from scipy import integrate\n",
    "from scipy.fft import fft\n",
    "#%matplotlib notebook\n",
    "\n",
    "mpl.rcParams['font.size'] = 14\n",
    "mpl.rcParams['legend.fontsize'] = 'large'\n",
    "\n",
    "def plot_xy(x, y, xlabel, ylabel):\n",
    "    fig, ax = plt.subplots(figsize=(10.0, 7.5));\n",
    "    ax.plot(x, y, 'b')\n",
    "    ax.grid()\n",
    "    ax.set_xlabel(xlabel)\n",
    "    ax.set_ylabel(ylabel)\n",
    "    \n",
    "def plot_2xy(x, y1, y2, xlabel, ylabel, y1label, y2label):\n",
    "    fig, ax = plt.subplots(figsize=(10.0,7.5))\n",
    "    \n",
    "    ax.plot(x, y1, 'b', label=y1label)\n",
    "    ax.plot(x, y2, 'r', label=y2label)\n",
    "    ax.set_ylabel(ylabel)\n",
    "    ax.set_xlabel(xlabel)\n",
    "    ax.grid()    \n",
    "    \n",
    "    ax.legend()\n",
    "    ax.legend(loc='upper center', ncol=2, fancybox=True, \n",
    "               shadow=True, bbox_to_anchor=(0.5,1.13) )\n",
    "    \n",
    "def plot_3xy(x, y1, y2, y3, xlabel, ylabel, y1label, y2label, y3label):\n",
    "    fig, ax = plt.subplots(figsize=(10.0,7.5))\n",
    "    \n",
    "    ax.plot(x, y1, 'b', label=y1label)\n",
    "    ax.plot(x, y2, 'r', label=y2label)\n",
    "    ax.plot(x, y3, 'g', label=y3label)\n",
    "    ax.set_ylabel(ylabel)\n",
    "    ax.set_xlabel(xlabel)\n",
    "    ax.grid()    \n",
    "    \n",
    "    ax.legend()\n",
    "    ax.legend(loc='upper center', ncol=3, fancybox=True, \n",
    "               shadow=True, bbox_to_anchor=(0.5,1.13) )  \n",
    "\n",
    "def plot_xy2(x1, y1, x1label, y1label, x2, y2, x2label, y2label):\n",
    "    fig, ax = plt.subplots(2, figsize = (10.0, 7.5));\n",
    "    ax[0].plot(x1, y1, 'b')\n",
    "    ax[0].set_ylabel(y1label)\n",
    "    ax[0].grid()\n",
    "    \n",
    "    ax[1].plot(x2, y2, 'b')\n",
    "    ax[1].set_xlabel(x1label)\n",
    "    ax[1].set_xlabel(x2label)\n",
    "    ax[1].set_ylabel(y2label)\n",
    "    ax[1].grid()\n",
    "    \n",
    "    fig.align_ylabels(ax[:])\n",
    "\n",
    "def plot_xy3(x, y1, y2, y3, xlabel, y1label, y2label, y3label):\n",
    "    fig, ax = plt.subplots(3, figsize=(10.0,7.5))\n",
    "    \n",
    "    ax[0].plot(x, y1)\n",
    "    ax[0].set_ylabel(y1label)\n",
    "    ax[0].grid()\n",
    "    \n",
    "    ax[1].plot(x, y2)\n",
    "    ax[1].set_ylabel(y2label)\n",
    "    ax[1].grid()\n",
    "    \n",
    "    ax[2].plot(x, y3)  \n",
    "    ax[2].set_ylabel(y3label)\n",
    "    ax[2].set_xlabel(xlabel)\n",
    "    ax[2].grid()\n",
    "    \n",
    "def plot_logxy3(x, y1, y2, y3, xlabel, y1label, y2label, y3label):\n",
    "    fig, ax = plt.subplots(3, figsize=(10.0,7.5))\n",
    "    \n",
    "    ax[0].semilogx(x, y1)\n",
    "    ax[0].set_ylabel(y1label)\n",
    "    ax[0].grid()\n",
    "    \n",
    "    ax[1].semilogx(x, y2)\n",
    "    ax[1].set_ylabel(y2label)\n",
    "    ax[1].grid()\n",
    "    \n",
    "    ax[2].semilogx(x, y3)  \n",
    "    ax[2].set_ylabel(y3label)\n",
    "    ax[2].set_xlabel(xlabel)\n",
    "    ax[2].grid()\n",
    "\n",
    "def plot_logxy(x, y, xlabel, ylabel):\n",
    "    fig, ax = plt.subplots(figsize=(10.0, 7.5))\n",
    "    ax.semilogx(x, y, 'b')\n",
    "    ax.grid();\n",
    "    ax.set_xlabel(xlabel)\n",
    "    ax.set_ylabel(ylabel)    \n",
    "    \n",
    "def plot_log3xy(x, y1, y2, y3, xlabel, ylabel, y1label, y2label, y3label):\n",
    "    fig, ax = plt.subplots(figsize=(10.0,7.5))\n",
    "    \n",
    "    ax.semilogx(x, y1, 'b', label=y1label)\n",
    "    ax.semilogx(x, y2, 'r', label=y2label)\n",
    "    ax.semilogx(x, y3, 'g', label=y3label)  \n",
    "    ax.set_ylabel(ylabel)\n",
    "    ax.set_xlabel(xlabel)\n",
    "    ax.grid()    \n",
    "    \n",
    "    ax.legend()\n",
    "    ax.legend(loc='upper center', ncol=3, fancybox=True, \n",
    "               shadow=True, bbox_to_anchor=(0.5,1.13) )  \n",
    "    \n",
    "def plot_log2xy(x, y1, y2, xlabel, ylabel, y1label, y2label):\n",
    "    fig, ax = plt.subplots(figsize=(10.0,7.5))\n",
    "    \n",
    "    ax.semilogx(x, y1, 'b', label=y1label)\n",
    "    ax.semilogx(x, y2, 'r', label=y2label)\n",
    "    ax.set_ylabel(ylabel)\n",
    "    ax.set_xlabel(xlabel)\n",
    "    ax.grid()    \n",
    "    \n",
    "    ax.legend()\n",
    "    ax.legend(loc='upper center', ncol=2, fancybox=True, \n",
    "               shadow=True, bbox_to_anchor=(0.5,1.13) )  \n",
    "    \n",
    "def plot_loglog(x, y, xlabel, ylabel):\n",
    "    fig, ax = plt.subplots(figsize=(10.0, 7.5))\n",
    "    ax.loglog(x, y, 'b')\n",
    "    ax.grid();\n",
    "    ax.set_xlabel(xlabel)\n",
    "    ax.set_ylabel(ylabel)\n",
    "    \n",
    "    \n",
    "def plot_loglog2(x, y1, y2, xlabel, ylabel, y1label, y2label):\n",
    "    fig, ax = plt.subplots(figsize=(10.0,7.5))\n",
    "    \n",
    "    ax.loglog(x, y1, 'b', label=y1label)\n",
    "    ax.loglog(x, y2, 'r', label=y2label)\n",
    "    ax.set_ylabel(ylabel)\n",
    "    ax.set_xlabel(xlabel)\n",
    "    ax.grid()    \n",
    "    \n",
    "    ax.legend()\n",
    "    ax.legend(loc='upper center', ncol=2, fancybox=True, \n",
    "               shadow=True, bbox_to_anchor=(0.5,1.13) )  \n",
    "    \n",
    "def plot_xlogy(x, y, xlabel, ylabel):\n",
    "    fig, ax = plt.subplots(figsize=(10.0, 7.5));\n",
    "    ax.semilogy(x, y, 'b');\n",
    "    ax.grid();\n",
    "    ax.set_xlabel(xlabel);\n",
    "    ax.set_ylabel(ylabel);\n",
    "    \n",
    "def read_ltspice_ac(file_name):\n",
    "    with open(file_name, 'r') as data:\n",
    "        x = []\n",
    "        y = []\n",
    "        z = []\n",
    "        next(data) # skip header line\n",
    "        for line in data:\n",
    "            p = line.split()\n",
    "            x.append(float(p[0]))\n",
    "            complex = p[1].split(\",\")\n",
    "            y.append(float(complex[0]))\n",
    "            z.append(float(complex[1]))\n",
    "\n",
    "    return x, y, z\n",
    "\n",
    "def plot_logxy2(x1, y1, x2, y2, x1label, y1label, x2label, y2label):\n",
    "    fig, ax = plt.subplots(2, figsize = (10.0, 7.5));\n",
    "    ax[0].semilogx(x1, y1, 'b');\n",
    "    ax[0].set_ylabel(y1label)\n",
    "    ax[0].grid()\n",
    "    \n",
    "    ax[1].semilogx(x2, y2, 'b');\n",
    "    ax[1].set_xlabel(x1label)\n",
    "    ax[1].set_xlabel(x2label);\n",
    "    ax[1].set_ylabel(y2label);\n",
    "    ax[1].grid();\n",
    "    \n",
    "    fig.align_ylabels(ax[:])\n",
    "    \n",
    "def plot_noise_bandwidth(f, mag):\n",
    "    fig, ax = plt.subplots(2, figsize=(10.0,7.5))\n",
    "    ax[0].semilogx(f, RC_mag)\n",
    "    ax[0].set_xscale(\"log\")\n",
    "    ax[0].set_xlim(f[0], f[-1])\n",
    "    ax[0].set_xticks(np.logspace(0.1,4,5))\n",
    "    ax[0].set_xticklabels([])\n",
    "    ax[0].set_ylabel('Magnitude [V/V]')\n",
    "    ax[0].set_title('Equivalent Noise Bandwidth')\n",
    "    ax[0].grid()\n",
    "\n",
    "    ax[1].hlines(1, 0, f_enb, color='tab:blue')\n",
    "    ax[1].hlines(0, f_enb, f[-1], color='tab:blue')\n",
    "    ax[1].vlines(f_enb, 0, 1, color='tab:blue')\n",
    "    ax[1].set_xlim(f[0], f[-1])\n",
    "    ax[1].set_xscale(\"log\")\n",
    "    ax[1].set_xticks(np.logspace(0.1,4,5))\n",
    "    ax[1].set_xticklabels([r'$10^0$',r'$10^1$', r'$10^2$', r'$10^3$', r'$10^4$'])\n",
    "    ax[1].set_ylabel('Magnitude [V/V]')\n",
    "    ax[1].set_xlabel('Frequency [Hz]')\n",
    "    ax[1].grid()\n",
    "    \n",
    "def noise_hist(vnoise, vn_rms, bins):\n",
    "    fig = plt.figure( figsize=(10.0,7.5) )\n",
    "    vn_norm = vnoise/ vn_rms\n",
    "    ax = fig.add_subplot(111)\n",
    "    n, bins, rectangles = ax.hist(vn_norm, bins, density=True, range=(-3, 3),\n",
    "                                 color='b')\n",
    "    ax.set_xlabel(r'Sample Voltage [$v_{n(rms)}$]')\n",
    "    ax.set_ylabel('Probability Density')\n",
    "    ax.grid()\n",
    "    fig.canvas.draw()\n",
    "\n",
    "def plot_NF_vs_Rs(en_vals, in_vals, Rs_min, Rs_max, T_in_K):\n",
    "    fig, ax = plt.subplots(figsize=(10.0, 7.5))\n",
    "    k = 1.38e-23\n",
    "    Rs = np.logspace(np.log10(Rs_min), np.log10(Rs_max), num=200)\n",
    "    F1 = 1 + (en_vals[0]**2+Rs**2*in_vals[0]**2)/(4*k*T_in_K*Rs)\n",
    "    F2 = 1 + (en_vals[1]**2+Rs**2*in_vals[1]**2)/(4*k*T_in_K*Rs)\n",
    "    F3 = 1 + (en_vals[2]**2+Rs**2*in_vals[2]**2)/(4*k*T_in_K*Rs)\n",
    "    ax.semilogx(Rs, 10*np.log10(F1), 'b', label=r'$e_{n1}$, $i_{n1}$')\n",
    "    ax.semilogx(Rs, 10*np.log10(F2), 'r', label=r'$e_{n2}$, $i_{n2}$')\n",
    "    ax.semilogx(Rs, 10*np.log10(F3), 'g', label=r'$e_{n3}$, $i_{n3}$')\n",
    "    ax.grid();\n",
    "    ax.set_xlabel(r'Source Resistance $R_s [\\Omega]$')\n",
    "    ax.set_ylabel(r'Noise Figure $NF$ [$dB$]')  \n",
    "    \n",
    "    ax.legend()\n",
    "    ax.legend(loc='upper center', ncol=3, fancybox=True, \n",
    "               shadow=True, bbox_to_anchor=(0.5,1.13) )  \n",
    "    \n",
    "def plot_noise_curve(e_n, i_n, Rs_min, Rs_max):\n",
    "    fig, ax = plt.subplots(figsize=(10.0, 7.5))\n",
    "    Rs = np.logspace(np.log10(Rs_min), np.log10(Rs_max), num=200)\n",
    "    e_ni_2 = 4*k*T*Rs + e_n**2 + i_n**2*Rs**2\n",
    "    ax.loglog(Rs, np.sqrt(e_ni_2), 'b', label='Total Noise')\n",
    "    ax.loglog(Rs, np.sqrt(4*k*T*Rs), 'r', label=r'$\\sqrt{4kTR_s}$')\n",
    "    ax.loglog(Rs, e_n*np.ones(np.size(Rs)), 'g', label=r'$e_n$')\n",
    "    ax.loglog(Rs, i_n*Rs, 'y', label=r'$i_n R_s$')\n",
    "    ax.grid();\n",
    "    ax.set_xlabel(r'Source Resistance $R_s [\\Omega]$')\n",
    "    ax.set_ylabel(r'Equivalent Input Noise [$V/\\sqrt{Hz}$]')\n",
    "    \n",
    "    ax.legend()\n",
    "    ax.legend(loc='upper center', ncol=4, fancybox=True, \n",
    "               shadow=True, bbox_to_anchor=(0.5,1.13) )   \n",
    "    \n",
    "def plot_bjt_NF(beta, r_bb, Rmin, Rmax, Imin, Imax):\n",
    "    fig, ax = plt.subplots(figsize=(10.0, 7.5))\n",
    "    k = 1.38e-23\n",
    "    T = 300\n",
    "    q = 1.602e-19\n",
    "    V_T = k*T/q\n",
    "    rs = np.logspace(np.log10(Rmin), np.log10(Rmax), num = 100)\n",
    "    ic = np.logspace(np.log10(Imin), np.log10(Imax), num = 100)\n",
    "    I_C, R_S = np.meshgrid(ic, rs)\n",
    "    e_n_2 = 4*k*T*(V_T/2/I_C + r_bb)\n",
    "    i_n_2 = 2*q*I_C/beta_0\n",
    "    NF = 1 + (e_n_2 + i_n_2*R_S**2)/(4*k*T*R_S)\n",
    "    cp = ax.contourf(I_C, R_S, 10*np.log10(NF), levels=np.linspace(0,15, num=16))\n",
    "    plt.xscale('log')\n",
    "    plt.yscale('log')\n",
    "    plt.ylabel(r'Source Resistance $R_s$ [$\\Omega$]')\n",
    "    plt.xlabel(r'Collector Current $I_C$ [A]')\n",
    "    fig.colorbar(cp)\n",
    "\n",
    "def fftnoise(f):\n",
    "    f = np.array(f, dtype='complex')\n",
    "    Np = (len(f) - 1) // 2\n",
    "    phases = np.random.rand(Np) * 2 * np.pi\n",
    "    phases = np.cos(phases) + 1j * np.sin(phases)\n",
    "    f[1:Np+1] *= phases\n",
    "    f[-1:-1-Np:-1] = np.conj(f[1:Np+1])\n",
    "    return np.fft.ifft(f).real\n",
    "\n",
    "def band_limited_noise(min_freq, max_freq, samples=1024, samplerate=1):\n",
    "    freqs = np.abs(np.fft.fftfreq(samples, 1/samplerate))\n",
    "    f = np.zeros(samples)\n",
    "    idx = np.where(np.logical_and(freqs>=min_freq, freqs<=max_freq))[0]\n",
    "    f[idx] = 1\n",
    "    return fftnoise(f)\n",
    "\n",
    "def fft_mag(x, N, T, t):\n",
    "    fft_sig  = fft(x, N)  \n",
    "    freqs = np.linspace(0.0, 1.0/(2.0*T), N//2)\n",
    "    mags = 2.0/N * np.abs(fft_sig[0:N//2]) # single-sided FFT\n",
    "    \n",
    "    return freqs, mags\n",
    "\n",
    "def plot_fft_dB(freqs, mags, fmin, fmax):\n",
    "    fig, ax = plt.subplots(figsize = (10.0,7.5))\n",
    "    ax.plot(1e-3*freqs, 20*np.log10(mags), 'b')\n",
    "    ax.set_xlim(fmin, fmax)\n",
    "    ax.set_xlabel('Frequency [kHz]')\n",
    "    ax.set_ylabel('Magnitude [dB]')\n",
    "    ax.grid()"
   ]
  },
  {
   "cell_type": "markdown",
   "metadata": {
    "slideshow": {
     "slide_type": "slide"
    }
   },
   "source": [
    "# Lecture 9 - Opamp Error Reduction Techniques"
   ]
  },
  {
   "cell_type": "markdown",
   "metadata": {
    "slideshow": {
     "slide_type": "slide"
    }
   },
   "source": [
    "## MOS operational amplifiers"
   ]
  },
  {
   "cell_type": "markdown",
   "metadata": {
    "cell_style": "split"
   },
   "source": [
    "<center><img src=\"img/MOS_opamp_errors.png\" width=600 /></center>"
   ]
  },
  {
   "cell_type": "markdown",
   "metadata": {
    "cell_style": "split"
   },
   "source": [
    " - Due to their low input current noise (which we can often assume is zero), MOS operational amplifiers are attractive for sensing applications involving high source impedance\n",
    " \n",
    " - However, both $1/f$ noise and offset voltage, typically negligible in BJT amplifiers, are significant sources of error in MOS opamps\n",
    " \n",
    " - Offset voltage arises due to mismatch in threshold voltage that occur due random variations in doping concentrations\n",
    " \n",
    " - $1/f$ noise can be catastrophic for low-frequency, low-bandwidth applications\n",
    " \n",
    " - Both sources of error add directly to any signal voltage, degrading SNR and dynamic range"
   ]
  },
  {
   "cell_type": "markdown",
   "metadata": {
    "slideshow": {
     "slide_type": "slide"
    }
   },
   "source": [
    "## Input offset voltage"
   ]
  },
  {
   "cell_type": "markdown",
   "metadata": {},
   "source": [
    " - Nominally identical transistors, resistors, and capacitors suffer from random variability in their construction that results in finite differences in behavior\n",
    " \n",
    " - Device parameters are typically modeled as normally-distributed random variables\n",
    " \n",
    " - For MOS transistors, threshold voltage *mismatch* can be quantified in terms of its variance, which depends inversely on transistor gate area $WL$ and is proportional to an empirical coefficent derived from device measurements\n",
    " \n",
    "\\begin{equation}\n",
    "\\sigma_{V_{T0}}^2 = \\dfrac{A_{V_{T0}}^2}{WL}\n",
    "\\end{equation}\n",
    "\n",
    " - $A_{V_{T0}}$ is a process constant, while $W$ and $L$ can be selected by the chip designer to minimize offset, at the expense of increased input capacitance"
   ]
  },
  {
   "cell_type": "markdown",
   "metadata": {
    "cell_style": "split",
    "slideshow": {
     "slide_type": "subslide"
    }
   },
   "source": [
    "<center><img src=\"img/MOS_OTA_offset.png\" width=500 /></center>"
   ]
  },
  {
   "cell_type": "markdown",
   "metadata": {
    "cell_style": "split"
   },
   "source": [
    "<center><img src=\"img/MOS_OTA_input_offset.png\" width=500 /></center>"
   ]
  },
  {
   "cell_type": "markdown",
   "metadata": {
    "cell_style": "center"
   },
   "source": [
    " - In an amplifier with differential inputs, threshold voltage mismatch manifests as an error in the differential DC bias current of the input pair\n",
    " \n",
    " - In open-loop (left), the current error $\\Delta I_D$ becomes an output voltage error $v_{os,out}$ (which due to high open-loop gain is typically large enough to saturate an opamp's output voltage)\n",
    " \n",
    " - When an opamp is connected in feedback (right), the active current mirror causes the differential bias currents to equalize, forcing a voltage of $v_{os}$ at the gate of $M_2$"
   ]
  },
  {
   "cell_type": "markdown",
   "metadata": {
    "cell_style": "split",
    "slideshow": {
     "slide_type": "subslide"
    }
   },
   "source": [
    "<center><img src=\"img/opamp_offset_model.png\" width=600 /></center>"
   ]
  },
  {
   "cell_type": "markdown",
   "metadata": {
    "cell_style": "split"
   },
   "source": [
    " - The opamp is modeled as an offset-free amplifier driven by an input-voltage $v_{os}$\n",
    " \n",
    " - The *input-referred offset* sets the minimum bound on the opamp's ability to resolve small DC inputs (i.e. the DC output voltage is only accurate to within the opamp's $v_{os}$, divided by the feedback factor $\\beta$)\n",
    " \n",
    " - For MOS amplifiers with no offset compensation, typical offset values are from $1 - 10 \\:\\text{mV}$\n",
    " \n",
    " - Offset may not be a problem for applications that do not require DC precision, but care must be taken that input offset does not lead to amplifier saturation for high-gain signal paths"
   ]
  },
  {
   "cell_type": "markdown",
   "metadata": {
    "slideshow": {
     "slide_type": "slide"
    }
   },
   "source": [
    "## 1/f noise"
   ]
  },
  {
   "cell_type": "markdown",
   "metadata": {},
   "source": [
    " - $1/f$ noise, due to the slow nature of its fluctuations relative to white noise, allows the potential for compensation using similar techniques to those used to compensate for offset (to be discussed shortly)\n",
    " \n",
    " - Recall that noise power spectral density is the Fourier transform of its autocorrelation function, which expresses the correlation between values of the noise process observed $\\tau$ seconds apart \n",
    " \n",
    "\\begin{equation}\n",
    "R_{xx}(\\tau) = E[x(t)x(t+\\tau)] = \\lim_{T\\to\\infty}\\dfrac{1}{2T}\\int_{-T}^{T}x(t)x(t+\\tau)dt \n",
    "\\end{equation}\n",
    " \n",
    " \n",
    " - For white noise, the autocorrelation function is an impulse at $\\tau = 0$, corresponding to zero correlation between successive noise values down to arbitrarily small values of $\\tau$ (the Fourier transform of an impulse function $\\delta (t)$ is a constant) \n",
    " \n",
    " - The $1/f$ dependence of flicker noise PSD reveals a strong correlation between noise samples taken at different points in time, and this correlation increases as the interval $\\tau \\rightarrow 0$ \n",
    " \n",
    " - That is, if the observation interval $\\tau$ is small, a $1/f$ noise process will vary little from one observation to the next (we will exploit this)"
   ]
  },
  {
   "cell_type": "markdown",
   "metadata": {
    "slideshow": {
     "slide_type": "subslide"
    }
   },
   "source": [
    " - Recall that $1/f$ drain current noise of a MOSFET can be expressed as\n",
    " \n",
    "\\begin{equation}\n",
    "i_{nf}^2 = \\dfrac{K_f}{f}\\cdot\\dfrac{g_m^2}{WLC_{ox}}\n",
    "\\end{equation}\n",
    "\n",
    " - Note from this expression that, like input offset, reduction of $1/f$ noise can also be accomplished by an increase in the gate area of the MOSFET\n",
    " \n",
    " - In general, the noise performance of an opamp is limited by input transistor pair, so reduction of both raw input offset and $1/f$ noise is achieved in opamp ICs by the use of large gate areas (again, at the expense of increase input capacitance and hence reduced bandwidth)"
   ]
  },
  {
   "cell_type": "markdown",
   "metadata": {
    "slideshow": {
     "slide_type": "slide"
    }
   },
   "source": [
    "## Auto-zeroing (AZ)"
   ]
  },
  {
   "cell_type": "markdown",
   "metadata": {},
   "source": [
    "<center><img src=\"img/auto_zeroing_amplifier.png\" width=800 /></center>"
   ]
  },
  {
   "cell_type": "markdown",
   "metadata": {},
   "source": [
    " - One method of compensating for opamp errors is auto-zeroing, which relies on sampling the error(s) during one clock phase and subtracting it during another\n",
    " \n",
    " - In the implementation depicted here, the error $v_{os} + v_n$ is sampled onto the capacitor $C$ during the sampling phase ($\\phi_1$), and connected in series with the original error (with opposite polarity) during the amplification phase ($\\phi_2$)\n",
    " \n",
    " - Note that a separate feedback path (not shown) is required to realize the desired closed-loop gain"
   ]
  },
  {
   "cell_type": "markdown",
   "metadata": {
    "slideshow": {
     "slide_type": "slide"
    }
   },
   "source": [
    "## Sampling phase"
   ]
  },
  {
   "cell_type": "markdown",
   "metadata": {
    "cell_style": "split"
   },
   "source": [
    "<center><img src=\"img/auto_zeroing_phi1.png\" width=1000 /></center>"
   ]
  },
  {
   "cell_type": "markdown",
   "metadata": {
    "cell_style": "split"
   },
   "source": [
    " - During the sampling phase, $\\phi_1$, the opamp is connected in unity-feedback and the input voltage error $v_n + v_{os}$ is sampled onto the capacitor $C$\n",
    " \n",
    " - The switch connected to the bottom plate of the capacitor ensures that the polarity of voltage sampled onto the capacitor is opposite that of the original input-referred voltage error\n",
    " \n",
    " - Finite gain of the opamp will result in a slight mismatch between the sampled voltage and the original error, but this is typically negligible\n",
    " \n",
    " - Note that the opamp must be unity-gain stable if this approach is used"
   ]
  },
  {
   "cell_type": "markdown",
   "metadata": {
    "slideshow": {
     "slide_type": "slide"
    }
   },
   "source": [
    "## Signal-processing phase"
   ]
  },
  {
   "cell_type": "markdown",
   "metadata": {},
   "source": [
    "<center><img src=\"img/auto_zeroing_phi2.png\" width=1000 /></center>"
   ]
  },
  {
   "cell_type": "markdown",
   "metadata": {},
   "source": [
    " - At the end of the sampling phase, the switches controlled by $\\phi_1$ are opened and the input switches controlled by $\\phi_2$ are closed\n",
    " \n",
    " - The sampled error voltage is maintained on the capacitor with a polarity opposite that of the opamp error voltage\n",
    " \n",
    " - If the opamp error voltage does not change between the sampling phase and the signal-processing phase, the auto-zeroed opamp is ready for error-free processing of the input voltage $v_p - v_m$ \n",
    " \n",
    " - Note that due to the two-phase operation of auto-zeroing, the opamp is only available for amplification during $\\phi_2$"
   ]
  },
  {
   "cell_type": "markdown",
   "metadata": {
    "slideshow": {
     "slide_type": "slide"
    }
   },
   "source": [
    "## Simplified AZ model"
   ]
  },
  {
   "cell_type": "markdown",
   "metadata": {},
   "source": [
    "<center><img src=\"img/AZ_simple_model.png\" width=1000 /></center>"
   ]
  },
  {
   "cell_type": "markdown",
   "metadata": {
    "slideshow": {
     "slide_type": "-"
    }
   },
   "source": [
    " - In the simplified model shown here, the error voltage $v_{err} = v_{os} + v_n$ is sampled onto the capacitor $C$ during the sampling phase $T_{AZ}$ (assume $RC\\ll T_{AZ}$ so the full error voltage is sampled onto $C$) every $T_s$ seconds\n",
    " \n",
    " - During the hold phase $T_h$, the voltage across the switch is \n",
    " \n",
    "\\begin{equation} \n",
    "v_{AZ} = v_{err} - v_c\n",
    "\\end{equation}"
   ]
  },
  {
   "cell_type": "markdown",
   "metadata": {
    "slideshow": {
     "slide_type": "subslide"
    }
   },
   "source": [
    " - The AZ voltage can be expressed as a function of time by\n",
    " \n",
    "\\begin{equation}\n",
    "v_{AZ}(t) = \\sum_{m=-\\infty}^{\\infty} h(t-mT_s)[v_{err}(t) - v_{err}(mT_s)]\n",
    "\\end{equation}\n",
    "\n",
    " - $h(t)$ is a window function similar to that in the sample/track-and-hold, given by\n",
    " \n",
    "\\begin{equation}\n",
    "h(t) = \n",
    "\\begin{cases} \n",
    "1, & \\: 0 \\leq t < T_h \\\\\n",
    "0, & \\text{otherwise} \n",
    "\\end{cases}\n",
    "\\end{equation}\n",
    "\n",
    " - The Fourier transform of $v_{AZ}(t)$ is given by \n",
    " \n",
    "\\begin{equation}\n",
    "H_n(f) = d[e^{-j\\pi nd}\\text{sinc}(\\pi nd) - e^{-j\\pi dfT_s}\\text{sinc}(\\pi dfT_s)]\n",
    "\\end{equation}\n",
    "\n",
    " - From which the magnitude function(s) are determined to be\n",
    "\n",
    "\\begin{equation}\n",
    "|H_n(f)|^2 = d^2\\left\\{\\left[\\dfrac{\\sin(2\\pi dn)}{2\\pi dn} - \\dfrac{\\sin(2\\pi dfT_s)}{2\\pi dfT_s}\\right]^2 + \\left[\\dfrac{1-\\cos(2\\pi dn)}{2\\pi dn} - \\dfrac{1-\\cos(2\\pi dfT_s)}{2\\pi dfT_s}\\right]^2\\right\\}\n",
    "\\end{equation}"
   ]
  },
  {
   "cell_type": "markdown",
   "metadata": {
    "slideshow": {
     "slide_type": "slide"
    }
   },
   "source": [
    "## Effect of AZ on noise"
   ]
  },
  {
   "cell_type": "markdown",
   "metadata": {
    "cell_style": "center"
   },
   "source": [
    " - Because autozeroing uses sampling, it results in aliasing of both the narrowband $1/f$ noise and the broadband white (i.e. thermal) noise\n",
    " \n",
    " - The PSD of the autozeroed noise with original (continuous-time) PSD $S_N(f)$ consists of a baseband noise component and an aliased component\n",
    " \n",
    "\\begin{equation}\n",
    "S_{AZ}(f) = |H_0(f)|^2 S_N(f) + S_{fold}(f)\n",
    "\\end{equation}\n",
    "\n",
    " - The baseband transfer function is determined by letting $n = 0$ in the magnitude expression given previously:\n",
    " \n",
    "\\begin{equation}\n",
    "|H_0(f)|^2 = d^2\\left\\{\\left[1-\\dfrac{\\sin(2\\pi f T_h)}{2\\pi fT_h} \\right]^2 +\\left[\\dfrac{1-\\cos(2\\pi f T_h)}{2\\pi fT_h}\\right]^2 \\right\\}\n",
    "\\end{equation}\n",
    "\n",
    " - The foldover component results from replicas of the original spectrum spaced at integer multiples of the clock frequency \n",
    " \n",
    "\\begin{equation}\n",
    "S_{fold}(f) = \\sum_{n = -\\infty, n\\neq 0}^{\\infty} |H_n(f)|^2 S_N \\left(f - \\dfrac{n}{T_s}\\right)\n",
    "\\end{equation}\n",
    "\n",
    " "
   ]
  },
  {
   "cell_type": "markdown",
   "metadata": {
    "slideshow": {
     "slide_type": "subslide"
    }
   },
   "source": [
    " - For $\\pi fT_h \\ll 1$, $H_0(f)$ behaves like a differentiator, high-pass filtering both offset and low-frequency noise\n",
    " \n",
    "\\begin{equation}\n",
    "|H_0(f)| \\cong \\pi f T_h\n",
    "\\end{equation}\n",
    "\n",
    " - For $T_{AZ} \\ll T_h$, the transfer function for the foldover component can be approximated by a $\\text{sinc}(x)$ function\n",
    " \n",
    "\\begin{equation}\n",
    "H_n(f) \\cong d\\cdot\\dfrac{\\sin(\\pi fT_h)}{\\pi fT_h}\n",
    "\\end{equation}"
   ]
  },
  {
   "cell_type": "markdown",
   "metadata": {
    "slideshow": {
     "slide_type": "subslide"
    }
   },
   "source": [
    " - Here we see the transfer function magnitudes for the baseband ($H_0$) and foldover ($H_n$) components"
   ]
  },
  {
   "cell_type": "code",
   "execution_count": 25,
   "metadata": {},
   "outputs": [
    {
     "data": {
      "image/png": "[encoded data removed]",
      "text/plain": [
       "<Figure size 720x540 with 1 Axes>"
      ]
     },
     "metadata": {
      "needs_background": "light"
     },
     "output_type": "display_data"
    }
   ],
   "source": [
    "d = 0.9\n",
    "fc = 5e6\n",
    "Ts = 5/fc  \n",
    "Th = d*Ts\n",
    "f = np.logspace(-2, 7, num=900)\n",
    "H_0_2 = d**2*((1-np.sin(2*np.pi*f*Th)/(2*np.pi*f*Th))**2 \n",
    "              + ((1-np.cos(2*np.pi*f*Th))/(2*np.pi*f*Th))**2 )\n",
    "H_n = d*np.sin(np.pi*f*Th)/(np.pi*f*Th)\n",
    "plot_2xy(f*Th, (1/d)*np.sqrt(H_0_2), (1/d)*np.abs(H_n),\n",
    "       r'$f\\cdot T_h$', r'$(1/d)|H_0|$', r'$H_0$', r'$H_n$')"
   ]
  },
  {
   "cell_type": "markdown",
   "metadata": {
    "slideshow": {
     "slide_type": "subslide"
    }
   },
   "source": [
    " - For frequencies much lower than the auto-zeroing clock frequency auto-zeroing effectively high-pass filters the noise, eliminating offset and significantly reducing $1/f$ noise"
   ]
  },
  {
   "cell_type": "code",
   "execution_count": 26,
   "metadata": {},
   "outputs": [
    {
     "data": {
      "image/png": "[encoded data removed]",
      "text/plain": [
       "<Figure size 720x540 with 1 Axes>"
      ]
     },
     "metadata": {
      "needs_background": "light"
     },
     "output_type": "display_data"
    }
   ],
   "source": [
    "f = np.logspace(-2, 6, num=800)\n",
    "H_0_2 = d**2*((1-np.sin(2*np.pi*f*Th)/(2*np.pi*f*Th))**2 \n",
    "              + ((1-np.cos(2*np.pi*f*Th))/(2*np.pi*f*Th))**2 )\n",
    "plot_xy(f*Th, (1/d)*np.sqrt(H_0_2),\n",
    "       r'$f\\cdot T_h$', r'$(1/d)|H_0|$')"
   ]
  },
  {
   "cell_type": "markdown",
   "metadata": {
    "slideshow": {
     "slide_type": "slide"
    }
   },
   "source": [
    "## Autozeroed 1/f noise"
   ]
  },
  {
   "cell_type": "markdown",
   "metadata": {},
   "source": [
    " - For an opamp in unity-gain feedback (where $f_c = A_0\\cdot f_{3dB}$), its band-limited $1/f$ noise can be expressed as\n",
    "\n",
    "\\begin{equation}\n",
    "S_{N-1/f}(f) = \\dfrac{S_0 f_k}{|f|\\left[1+\\left(\\dfrac{f}{f_c}\\right)^2\\right]}\n",
    "\\end{equation}\n",
    "\n",
    "\n",
    " - The foldover component for the $1/f$ noise can be approximated in the Nyquist range by\n",
    " \n",
    "\\begin{equation}\n",
    "S_{fold-1/f} \\cong 2S_0 f_k T_s[1+\\ln(\\tfrac{2}{3}f_cT_s)]\\cdot\\text{sinc}^2(\\pi f T_s))\n",
    "\\end{equation}\n",
    "\n",
    " - The PSD of the autozeroed noise is the sum of the baseband and foldover components\n",
    " \n",
    "\\begin{equation}\n",
    "S_{AZ-1/f}(f) = |H_0(f)|^2S_{N-1/f}(f) + S_{fold-1/f}(f)\n",
    "\\end{equation}"
   ]
  },
  {
   "cell_type": "markdown",
   "metadata": {
    "slideshow": {
     "slide_type": "subslide"
    }
   },
   "source": [
    " - The baseband component of the $1/f$ noise exhibits a zero at DC, while the aliased component has a $\\text{sinc}(x)$ shape"
   ]
  },
  {
   "cell_type": "code",
   "execution_count": 30,
   "metadata": {},
   "outputs": [
    {
     "data": {
      "image/png": "[encoded data removed]",
      "text/plain": [
       "<Figure size 720x540 with 1 Axes>"
      ]
     },
     "metadata": {
      "needs_background": "light"
     },
     "output_type": "display_data"
    }
   ],
   "source": [
    "fk = 1/Ts\n",
    "S_0 = 4*k*T*1e3\n",
    "S_1_by_f = S_0*fk/f/(1+f/fc)**2\n",
    "S_bb_1_by_f = (1/d)**2*H_0_2*S_1_by_f\n",
    "S_fold_1_by_f = 2*S_0*fk*Ts*(1+np.log((2/3)*fc*Ts))*np.sinc(f*Ts)**2\n",
    "S_AZ_1_by_f = S_bb_1_by_f + S_fold_1_by_f\n",
    "plot_3xy(f*Ts, S_bb_1_by_f/S_0, S_fold_1_by_f/S_0, S_AZ_1_by_f/S_0,\n",
    "         r'$f\\cdot T_s$', r'$S_{1/f}/S_0$',\n",
    "        r'$S_{bb-1/f}/S_0$', r'$S_{fold-1/f}/S_0$', r'$S_{AZ-1/f}/S_0$' )"
   ]
  },
  {
   "cell_type": "markdown",
   "metadata": {
    "slideshow": {
     "slide_type": "slide"
    }
   },
   "source": [
    "## Autozeroed white noise"
   ]
  },
  {
   "cell_type": "markdown",
   "metadata": {
    "slideshow": {
     "slide_type": "-"
    }
   },
   "source": [
    " - For broadband white noise with a PSD of $S_0$ and an equivalent noise bandwidth of  $f_{EBW} = \\frac{\\pi}{2}f_{c}$, the foldover component of the AZ noise is given by\n",
    " \n",
    "\\begin{equation}\n",
    "\\sum_{n=-\\infty}^{\\infty}S_N\\left(f - \\dfrac{n}{T_s}\\right) \\cong 2f_{EBW}T_sS_0 = \\pi f_c T_s S_0\n",
    "\\end{equation}\n",
    " \n",
    " - The term $2f_{EBW}T_s$ is the *undersampling factor*, i.e. the ratio of the noise bandwidth to the Nyquist bandwidth of the sampling clock\n",
    " \n",
    " - If we assume that the undersampling factor $2f_{EBW}T_sS_0 = \\pi f_c T_s S_0 \\gg 1$, the foldover (aliased) component dominates and the autozeroed white noise can be approximated by\n",
    " \n",
    "\\begin{equation}\n",
    "S_{AZ-white}(f) \\cong S_{fold-white} = (\\pi f_c T_s - 1)S_0\\cdot\\text{sinc}^2(\\pi fT_s)\n",
    "\\end{equation}\n"
   ]
  },
  {
   "cell_type": "markdown",
   "metadata": {
    "slideshow": {
     "slide_type": "subslide"
    }
   },
   "source": [
    " - As with the track-and-hold circuit previously discussed, broadband white noise is aliased and shaped by a $\\text{sinc}(x)$ response\n",
    " \n",
    " - Also as with the track-and-hold circuit, the undersampling factor is typically high due to the need to settle during the sampling period, which leads to a tradeoff between $1/f$ noise and white noise"
   ]
  },
  {
   "cell_type": "code",
   "execution_count": 32,
   "metadata": {},
   "outputs": [
    {
     "data": {
      "image/png": "[encoded data removed]",
      "text/plain": [
       "<Figure size 720x540 with 1 Axes>"
      ]
     },
     "metadata": {
      "needs_background": "light"
     },
     "output_type": "display_data"
    }
   ],
   "source": [
    "S_AZ_white = (np.pi*fc*Ts - 1)*S_0*np.sinc(f*Ts)**2\n",
    "plot_logxy(f*Ts, S_AZ_white/S_0,\n",
    "         r'$f\\cdot T_s$', r'$S_{AZ-white}/S_0$')"
   ]
  },
  {
   "cell_type": "markdown",
   "metadata": {
    "slideshow": {
     "slide_type": "slide"
    }
   },
   "source": [
    "## Switched-capacitor gain stage"
   ]
  },
  {
   "cell_type": "markdown",
   "metadata": {
    "cell_style": "split"
   },
   "source": [
    "<center><img src=\"img/SC_amplifier.png\" width=600 /></center>"
   ]
  },
  {
   "cell_type": "markdown",
   "metadata": {
    "cell_style": "split"
   },
   "source": [
    " - Another advantage of switched-capacitor architectures is reduced resistive loading of opamps \n",
    " \n",
    " - An offset-compensated switched-capacitor gain stage is shown here\n",
    " \n",
    " - During $\\phi_1$, $C_1$ is charged to $v_{in} - v_{os}$ and $C_2$ to $v_{os}$\n",
    " \n",
    " - During $\\phi_2$, the signal charge $q_{sig} = -C_1v_{in}$ is transferred to $C_2$, resulting in a charge of $q_{out} = -C_2v_{os} - C_1v_{in}$\n",
    " \n",
    " - The output voltage is thus\n",
    " \n",
    "\\begin{equation}\n",
    "v_{out}(\\phi_2) = v_{os} - v_{os} - \\dfrac{C_1}{C_2}v_{in} = -\\dfrac{C_1}{C_2}v_{in} \n",
    "\\end{equation}"
   ]
  },
  {
   "cell_type": "markdown",
   "metadata": {
    "slideshow": {
     "slide_type": "slide"
    }
   },
   "source": [
    "## Chopper stabilization"
   ]
  },
  {
   "cell_type": "markdown",
   "metadata": {},
   "source": [
    "<center><img src=\"img/chopper_modulation.png\" width=1000 /></center>"
   ]
  },
  {
   "cell_type": "markdown",
   "metadata": {},
   "source": [
    " - Another technique for the suppression of low-frequency noise, *chopper stabilization*, utilizes *modulation* to transpose the amplifier input signal to a frequency beyond the $1/f$ corner frequency $f_k$\n",
    " \n",
    " - The input signal spectrum is processed at a higher frequency and demodulated back to baseband after amplification\n",
    " \n",
    " - In the figure, $v_{in}$ is 1) modulated (i.e. multiplied) by a square wave signal $m_1(t)$, 2) corrupted by noise and offset, 3) amplified by a gain $G(f)$, and 4) demodulated back to baseband to form $v_{out}$"
   ]
  },
  {
   "cell_type": "markdown",
   "metadata": {
    "slideshow": {
     "slide_type": "slide"
    }
   },
   "source": [
    "## Chopper-modulated noise"
   ]
  },
  {
   "cell_type": "markdown",
   "metadata": {
    "slideshow": {
     "slide_type": "-"
    }
   },
   "source": [
    " - The modulated noise consists of scaled replicas of the baseband noise at odd integer multiples of the modulator frequency \n",
    "\n",
    "\\begin{equation}\n",
    "S_{CS} = \\left(\\dfrac{2}{\\pi}\\right)^2\\sum\\limits_{\\substack{n=-\\infty \\\\ n\\:\\text{odd}}}^n \\dfrac{1}{n^2}S_N\\left(f - \\dfrac{n}{T}\\right)\n",
    "\\end{equation}\n",
    "\n",
    " - For white noise with a PSD of $S_0$, this results in a PSD at the chopper output given (assuming $f_cT\\gg 1$) approximately by\n",
    " \n",
    "\\begin{equation}\n",
    "S_{CS - white} \\cong S_0\\left[1 - \\dfrac{\\tanh\\tfrac{\\pi}{2}f_c T}{\\tfrac{\\pi}{2}f_c T} \\right] \\cong S_0\n",
    "\\end{equation}\n",
    "\n",
    " - The chopper-modulated $1/f$ noise can be approximated in the baseband by a white noise component given by\n",
    " \n",
    "\\begin{equation}\n",
    "S_{CS-1/f}(f) \\cong 0.8525 S_0 f_k T\n",
    "\\end{equation}\n",
    "\n",
    " - The PSD of the chopper modulated noise is thus\n",
    " \n",
    "\\begin{equation}\n",
    "S_{CS} \\cong S_0(1+0.8525f_k T)\n",
    "\\end{equation}"
   ]
  },
  {
   "cell_type": "markdown",
   "metadata": {
    "slideshow": {
     "slide_type": "slide"
    }
   },
   "source": [
    "## Charge injection"
   ]
  },
  {
   "cell_type": "markdown",
   "metadata": {
    "cell_style": "split"
   },
   "source": [
    "<center><img src=\"img/MOS_charge_injection.png\" width=600 /></center>"
   ]
  },
  {
   "cell_type": "markdown",
   "metadata": {
    "cell_style": "split"
   },
   "source": [
    " - Assuming $V_d \\approx V_s$ when $V_g = V_{DD}$ the NMOS switch is in triode and the channel contains a charge given by\n",
    " \n",
    "\\begin{align}\n",
    "Q_{ch} &= \\mu C_{ox} \\dfrac{W}{L}(V_{gs} - V_{th}) \\\\\n",
    "&= \\mu C_{ox} \\dfrac{W}{L}(V_{DD} - V_{in} - V_{th}) \n",
    "\\end{align}\n",
    "\n",
    " - When the switch turns off, approximately half of this charge will remain on the sampling capacitance (depending on certain conditions), contributing an error to the sampled voltage given by\n",
    " \n",
    "\\begin{equation}\n",
    "\\Delta V = \\dfrac{1}{2}\\dfrac{Q_{ch}}{C_h}\n",
    "\\end{equation}\n",
    " \n",
    " - As $V_{in}$ changes, so does the error due to charge injection, which becomes a source of nonlinear distortion due to the nonlinearity of the switch resistance\n",
    " \n"
   ]
  },
  {
   "cell_type": "markdown",
   "metadata": {
    "slideshow": {
     "slide_type": "slide"
    }
   },
   "source": [
    "## Channel charge distribution"
   ]
  },
  {
   "cell_type": "markdown",
   "metadata": {},
   "source": [
    " - The distribution of the channel charge during the ON-OFF transition of the switch depends on both \n",
    "     \n",
    "     - The ratio of capacitance at the switch drain ($C_h$) to that at the source ($C_p$), and \n",
    "     \n",
    "     - The slope of the clock signal applied to the gate\n",
    "     \n",
    " - The channel charge is split equally between source and drain only if either \n",
    " \n",
    "    - $C_h$ and $C_p$ are equal, or\n",
    "    \n",
    "    - The clock transition time is much less than the $R_{on}C$ time constant\n",
    "    \n",
    " - For slowly falling clock signals, the channel charge will be split unequally between source and drain, favoring the terminal with the lower impedance\n",
    " \n",
    " - As a result, the charge injection error is difficult to predict, but there are several circuit techniques that can reduce the effect of charge injection"
   ]
  },
  {
   "cell_type": "markdown",
   "metadata": {
    "slideshow": {
     "slide_type": "slide"
    }
   },
   "source": [
    "## Dummy switch"
   ]
  },
  {
   "cell_type": "markdown",
   "metadata": {},
   "source": [
    "<center><img src=\"img/MOS_dummy_switch.png\" width=800 /></center>"
   ]
  },
  {
   "cell_type": "markdown",
   "metadata": {},
   "source": [
    " - One method of alleviating the effect of charge injection is to include a \"dummy\" switch, with source and drain terminals shorted, in series with the sampling switch \n",
    " \n",
    " - $M_2$ is sized such that $(W/L)_2 = \\frac{1}{2}(W/L)_1$, making its channel charge equal to half of $M_1$'s\n",
    " \n",
    " - When $\\phi$ goes low, $M_1$ turns off and half of its channel charge is injected onto the capacitor\n",
    " \n",
    " - $M_2$'s gate voltage, $\\overline{\\phi}$, is complementary to that of $M_1$, and slightly delayed\n",
    " \n",
    " - When $\\overline{\\phi}$ goes high, $M_2$'s channel charge is drawn from the capacitor, removing the charge injection error voltage\n",
    " \n",
    " - Note that this technique requires of fast-transitioning clock signals\n"
   ]
  },
  {
   "cell_type": "markdown",
   "metadata": {
    "slideshow": {
     "slide_type": "slide"
    }
   },
   "source": [
    "## Differential structures"
   ]
  },
  {
   "cell_type": "markdown",
   "metadata": {
    "cell_style": "split"
   },
   "source": [
    "<center><img src=\"img/differential_sampling.png\" width=600 /></center>"
   ]
  },
  {
   "cell_type": "markdown",
   "metadata": {
    "cell_style": "split"
   },
   "source": [
    " - A fully differential structure offers the possibility of processing charge injection as a common-mode signal \n",
    " \n",
    " - If $V_{in+}$ and $V_{in-}$ are close to ground, the channel charge of both switches is given approximately by\n",
    " \n",
    "\\begin{equation}\n",
    "Q_{ch+} \\approx Q_{ch-} \\approx \\mu C_{ox} \\dfrac{W}{L}(V_{DD} - V_{th}) \n",
    "\\end{equation}\n",
    "\n",
    " - The differential output voltage is thus given approximately by\n",
    " \n",
    "\\begin{align}\n",
    "V_{od} &= V_{out+} - V_{out-} \\\\\n",
    "&\\approx V_{in+} - V_{in-} + Q_{ch+}/C_h - Q_{ch-}/C_h\\\\\n",
    "&\\approx V_{in+} - V_{in-}\n",
    "\\end{align}\n",
    "\n",
    " - However, for large differential signals the channel charges will exhibit significant mismatch due to the dependence of $Q_{ch}$ on the source potential(s)"
   ]
  },
  {
   "cell_type": "markdown",
   "metadata": {
    "slideshow": {
     "slide_type": "slide"
    }
   },
   "source": [
    "## Bottom-plate sampling"
   ]
  },
  {
   "cell_type": "markdown",
   "metadata": {
    "cell_style": "split"
   },
   "source": [
    "<center><img src=\"img/bottom_plate_sampling.png\" width=600 /></center>"
   ]
  },
  {
   "cell_type": "markdown",
   "metadata": {
    "cell_style": "split"
   },
   "source": [
    " - Bottom-plate sampling is a technique employed to ensure that the error caused by charge injection is signal-independent, converting a nonlinear error into an offset (this is preferable)\n",
    " \n",
    " - In this configuration, $\\phi_1$ goes low before $\\phi_2$ so that the charge injection onto $C$ is constant, due to the connection to ground\n",
    " \n",
    " - This ensures that the voltage error is an offset, rather than nonlinear distortion\n",
    " \n",
    " - When $\\phi_2$ goes low, its channel charge flows toward the low impedance of the source $V_{in}$ instead of the capacitor (because $\\phi_1$ is low at that time)"
   ]
  },
  {
   "cell_type": "markdown",
   "metadata": {
    "slideshow": {
     "slide_type": "slide"
    }
   },
   "source": [
    "## Clock feedthrough"
   ]
  },
  {
   "cell_type": "markdown",
   "metadata": {
    "cell_style": "split",
    "slideshow": {
     "slide_type": "-"
    }
   },
   "source": [
    "<center><img src=\"img/clock_feedthrough.png\" width=700 /></center>"
   ]
  },
  {
   "cell_type": "markdown",
   "metadata": {
    "cell_style": "split"
   },
   "source": [
    " - Another source of error in sampled-data circuits is due to the capacitive coupling of the clock signal through the gate-drain overlap capacitance of the switch $C_{ov}$\n",
    " \n",
    " - As the clock begins to transition from $V_{DD}$, initially the feedthrough current is compensated by the transistor drain current\n",
    " \n",
    " - The transistor stops conducting when $V_{gs} = V_{g} - V_{in} = V_{th}$, corresponding to a gate voltage of\n",
    " \n",
    "\\begin{equation}\n",
    "V_g = V_{in} + V_{th}\n",
    "\\end{equation}\n",
    " \n",
    " - Thus, an error voltage develops on $C_h$ given by\n",
    " \n",
    "\\begin{equation}\n",
    "\\Delta V = \\dfrac{C_{ov}}{C_h + C_{ov}}(V_{in} + V_{th})\n",
    "\\end{equation}"
   ]
  },
  {
   "cell_type": "markdown",
   "metadata": {
    "slideshow": {
     "slide_type": "subslide"
    }
   },
   "source": [
    " - As the clock transition time approaches zero, very little of the feedthrough current is compensated by the drain current and the majority goes through the coupling capacitance\n",
    " \n",
    " - In this case, the error voltage due to feedthrough is given approximately by\n",
    " \n",
    "\\begin{equation}\n",
    "\\Delta V = \\dfrac{C_{ov}}{C_h + C_{ov}}V_{DD}\n",
    "\\end{equation} \n",
    "\n",
    " - Here we see an advantage to slowing down the clock transition speed, particularly for small input signals and if $V_{DD} \\gg V_{th}$ \n",
    " \n",
    " - However, slowing down the fall time of the clock may conflict with the goal of minimizing charge injection through the use of dummy switches, as this technique relies on the channel charge splitting evenly between source and drain)\n",
    " \n",
    " - Smaller switches and larger values of $C_h$ reduce the magnitude of clock feedthrough errors, though this comes at the expense of speed"
   ]
  },
  {
   "cell_type": "markdown",
   "metadata": {
    "slideshow": {
     "slide_type": "slide"
    }
   },
   "source": [
    "## Leakage current"
   ]
  },
  {
   "cell_type": "markdown",
   "metadata": {
    "cell_style": "center",
    "slideshow": {
     "slide_type": "-"
    }
   },
   "source": [
    "<center><img src=\"img/leakage_current.png\" width=800 /></center>"
   ]
  },
  {
   "cell_type": "markdown",
   "metadata": {},
   "source": [
    " - During the hold period $T_h$, charge is removed from the capacitor via the reverse-bias leakage current of the drain-bulk junction, resulting in a voltage error given by\n",
    " \n",
    "\\begin{equation}\n",
    "\\Delta V_{leak} = \\dfrac{I_{leak}T_h}{C_h}\n",
    "\\end{equation}\n",
    " \n",
    " - This source of error increases with $T_h$, and is exacerbated at high temperatures due to the temperature dependence of $I_{leak}$ (which doubles with every $10^{\\circ}C$ increase in temperature)\n",
    " \n",
    " - As with other sources of error, the effect of leakage current is reduced by an increase in $C_h$ (though leakage errors are typically less significant than other types of error)"
   ]
  },
  {
   "cell_type": "markdown",
   "metadata": {
    "slideshow": {
     "slide_type": "slide"
    }
   },
   "source": [
    "## Summary"
   ]
  },
  {
   "cell_type": "markdown",
   "metadata": {},
   "source": [
    " - MOS operational amplifiers are attractive due to their high input impedance and low input current noise, but they suffer from significant $1/f$ noise and input voltage offset\n",
    " \n",
    " - Autozeroing (AZ) is one means of alleviating these sources of error, trading a decrease in input offset and $1/f$ noise for an increase in white noise spectral density in the Nyquist band\n",
    " \n",
    " - AZ can be incorporated into a number of switched-capacitor gain and filter structures, improving precision while taking advantage of the properties of switched-capacitor structures (i.e. device matching and reduced amplifier loading)\n",
    " \n",
    " - Discrete-time analog circuit architectures employ CMOS switches which, in addition to thermal noise, exhibit errors due to charge injection, clock feedthrough, and leakage\n",
    " \n",
    " - All four types of error are minimized by the use of larger sampling capacitors, indicating a tradeoff between speed and precision"
   ]
  }
 ],
 "metadata": {
  "celltoolbar": "Slideshow",
  "kernelspec": {
   "display_name": "Python 3",
   "language": "python",
   "name": "python3"
  },
  "language_info": {
   "codemirror_mode": {
    "name": "ipython",
    "version": 3
   },
   "file_extension": ".py",
   "mimetype": "text/x-python",
   "name": "python",
   "nbconvert_exporter": "python",
   "pygments_lexer": "ipython3",
   "version": "3.8.2"
  },
  "livereveal": {
   "controls": false,
   "scroll": true,
   "theme": "simple"
  },
  "rise": {
   "enable_chalkboard": true,
   "slideNumber": true
  }
 },
 "nbformat": 4,
 "nbformat_minor": 4
}
