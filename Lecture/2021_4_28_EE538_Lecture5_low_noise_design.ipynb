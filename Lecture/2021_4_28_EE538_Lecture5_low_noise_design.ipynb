{
 "cells": [
  {
   "cell_type": "markdown",
   "metadata": {
    "cell_style": "center",
    "slideshow": {
     "slide_type": "slide"
    }
   },
   "source": [
    "# EE 538: Low-Noise Analog Circuit Design\n",
    "## Spring 2021\n",
    "## Instructor: Jason Silver"
   ]
  },
  {
   "cell_type": "markdown",
   "metadata": {
    "slideshow": {
     "slide_type": "slide"
    }
   },
   "source": [
    "## Announcements"
   ]
  },
  {
   "cell_type": "markdown",
   "metadata": {
    "slideshow": {
     "slide_type": "-"
    }
   },
   "source": [
    " - Instructor office hours moved to Saturdays at 11am\n",
    " - Assignment 4 due Sunday, May 2 at midnight\n",
    " - Assignment 5 will be posted Saturday, May 1"
   ]
  },
  {
   "cell_type": "markdown",
   "metadata": {
    "slideshow": {
     "slide_type": "slide"
    }
   },
   "source": [
    "## Week 5"
   ]
  },
  {
   "cell_type": "markdown",
   "metadata": {
    "slideshow": {
     "slide_type": "-"
    }
   },
   "source": [
    " - Motchenbacher Chapter 5\n",
    " - Art of Electronics Chapter 8"
   ]
  },
  {
   "cell_type": "markdown",
   "metadata": {
    "slideshow": {
     "slide_type": "slide"
    }
   },
   "source": [
    "## Overview"
   ]
  },
  {
   "cell_type": "markdown",
   "metadata": {
    "slideshow": {
     "slide_type": "-"
    }
   },
   "source": [
    " - Last time...\n",
    "     - FET large/small-signal operation\n",
    "     - Thermal noise in FET devices\n",
    "     - 1/f noise and gate current noise\n",
    "     - FET noise model \n",
    "     - FET vs BJT\n",
    " - Today..."
   ]
  },
  {
   "cell_type": "markdown",
   "metadata": {
    "slideshow": {
     "slide_type": "skip"
    }
   },
   "source": [
    "## Python packages/modules"
   ]
  },
  {
   "cell_type": "code",
   "execution_count": 23,
   "metadata": {
    "slideshow": {
     "slide_type": "skip"
    }
   },
   "outputs": [],
   "source": [
    "import matplotlib as mpl\n",
    "from matplotlib import pyplot as plt\n",
    "from matplotlib import ticker, cm\n",
    "import numpy as np\n",
    "from scipy import signal\n",
    "from scipy import integrate\n",
    "#%matplotlib notebook\n",
    "\n",
    "mpl.rcParams['font.size'] = 14\n",
    "mpl.rcParams['legend.fontsize'] = 'large'\n",
    "\n",
    "def plot_xy(x, y, xlabel, ylabel):\n",
    "    fig, ax = plt.subplots(figsize=(10.0, 7.5));\n",
    "    ax.plot(x, y, 'b')\n",
    "    ax.grid()\n",
    "    ax.set_xlabel(xlabel)\n",
    "    ax.set_ylabel(ylabel)\n",
    "    \n",
    "def plot_xy2(x1, y1, x1label, y1label, x2, y2, x2label, y2label):\n",
    "    fig, ax = plt.subplots(2, figsize = (10.0, 7.5));\n",
    "    ax[0].plot(x1, y1, 'b')\n",
    "    ax[0].set_ylabel(y1label)\n",
    "    ax[0].grid()\n",
    "    \n",
    "    ax[1].plot(x2, y2, 'b')\n",
    "    ax[1].set_xlabel(x1label)\n",
    "    ax[1].set_xlabel(x2label)\n",
    "    ax[1].set_ylabel(y2label)\n",
    "    ax[1].grid()\n",
    "    \n",
    "    fig.align_ylabels(ax[:])\n",
    "\n",
    "def plot_xy3(x, y1, y2, y3, xlabel, y1label, y2label, y3label):\n",
    "    fig, ax = plt.subplots(3, figsize=(10.0,7.5))\n",
    "    \n",
    "    ax[0].plot(x, y1)\n",
    "    ax[0].set_ylabel(y1label)\n",
    "    ax[0].grid()\n",
    "    \n",
    "    ax[1].plot(x, y2)\n",
    "    ax[1].set_ylabel(y2label)\n",
    "    ax[1].grid()\n",
    "    \n",
    "    ax[2].plot(x, y3)  \n",
    "    ax[2].set_ylabel(y3label)\n",
    "    ax[2].set_xlabel(xlabel)\n",
    "    ax[2].grid()\n",
    "    \n",
    "def plot_logxy3(x, y1, y2, y3, xlabel, y1label, y2label, y3label):\n",
    "    fig, ax = plt.subplots(3, figsize=(10.0,7.5))\n",
    "    \n",
    "    ax[0].semilogx(x, y1)\n",
    "    ax[0].set_ylabel(y1label)\n",
    "    ax[0].grid()\n",
    "    \n",
    "    ax[1].semilogx(x, y2)\n",
    "    ax[1].set_ylabel(y2label)\n",
    "    ax[1].grid()\n",
    "    \n",
    "    ax[2].semilogx(x, y3)  \n",
    "    ax[2].set_ylabel(y3label)\n",
    "    ax[2].set_xlabel(xlabel)\n",
    "    ax[2].grid()\n",
    "\n",
    "def plot_logxy(x, y, xlabel, ylabel):\n",
    "    fig, ax = plt.subplots(figsize=(10.0, 7.5))\n",
    "    ax.semilogx(x, y, 'b')\n",
    "    ax.grid();\n",
    "    ax.set_xlabel(xlabel)\n",
    "    ax.set_ylabel(ylabel)    \n",
    "    \n",
    "def plot_log3xy(x, y1, y2, y3, xlabel, ylabel, y1label, y2label, y3label):\n",
    "    fig, ax = plt.subplots(figsize=(10.0,7.5))\n",
    "    \n",
    "    ax.semilogx(x, y1, 'b', label=y1label)\n",
    "    ax.semilogx(x, y2, 'r', label=y2label)\n",
    "    ax.semilogx(x, y3, 'g', label=y3label)  \n",
    "    ax.set_ylabel(ylabel)\n",
    "    ax.set_xlabel(xlabel)\n",
    "    ax.grid()    \n",
    "    \n",
    "    ax.legend()\n",
    "    ax.legend(loc='upper center', ncol=3, fancybox=True, \n",
    "               shadow=True, bbox_to_anchor=(0.5,1.13) )  \n",
    "    \n",
    "def plot_log2xy(x, y1, y2, xlabel, ylabel, y1label, y2label):\n",
    "    fig, ax = plt.subplots(figsize=(10.0,7.5))\n",
    "    \n",
    "    ax.semilogx(x, y1, 'b', label=y1label)\n",
    "    ax.semilogx(x, y2, 'r', label=y2label)\n",
    "    ax.set_ylabel(ylabel)\n",
    "    ax.set_xlabel(xlabel)\n",
    "    ax.grid()    \n",
    "    \n",
    "    ax.legend()\n",
    "    ax.legend(loc='upper center', ncol=2, fancybox=True, \n",
    "               shadow=True, bbox_to_anchor=(0.5,1.13) )  \n",
    "    \n",
    "def plot_loglog(x, y, xlabel, ylabel):\n",
    "    fig, ax = plt.subplots(figsize=(10.0, 7.5))\n",
    "    ax.loglog(x, y, 'b')\n",
    "    ax.grid();\n",
    "    ax.set_xlabel(xlabel)\n",
    "    ax.set_ylabel(ylabel)\n",
    "    \n",
    "    \n",
    "def plot_loglog2(x, y1, y2, xlabel, ylabel, y1label, y2label):\n",
    "    fig, ax = plt.subplots(figsize=(10.0,7.5))\n",
    "    \n",
    "    ax.loglog(x, y1, 'b', label=y1label)\n",
    "    ax.loglog(x, y2, 'r', label=y2label)\n",
    "    ax.set_ylabel(ylabel)\n",
    "    ax.set_xlabel(xlabel)\n",
    "    ax.grid()    \n",
    "    \n",
    "    ax.legend()\n",
    "    ax.legend(loc='upper center', ncol=2, fancybox=True, \n",
    "               shadow=True, bbox_to_anchor=(0.5,1.13) )  \n",
    "    \n",
    "def plot_xlogy(x, y, xlabel, ylabel):\n",
    "    fig, ax = plt.subplots(figsize=(10.0, 7.5));\n",
    "    ax.semilogy(x, y, 'b');\n",
    "    ax.grid();\n",
    "    ax.set_xlabel(xlabel);\n",
    "    ax.set_ylabel(ylabel);\n",
    "    \n",
    "def read_ltspice_ac(file_name):\n",
    "    with open(file_name, 'r') as data:\n",
    "        x = []\n",
    "        y = []\n",
    "        z = []\n",
    "        next(data) # skip header line\n",
    "        for line in data:\n",
    "            p = line.split()\n",
    "            x.append(float(p[0]))\n",
    "            complex = p[1].split(\",\")\n",
    "            y.append(float(complex[0]))\n",
    "            z.append(float(complex[1]))\n",
    "\n",
    "    return x, y, z\n",
    "\n",
    "def plot_logxy2(x1, y1, x2, y2, x1label, y1label, x2label, y2label):\n",
    "    fig, ax = plt.subplots(2, figsize = (10.0, 7.5));\n",
    "    ax[0].semilogx(x1, y1, 'b');\n",
    "    ax[0].set_ylabel(y1label)\n",
    "    ax[0].grid()\n",
    "    \n",
    "    ax[1].semilogx(x2, y2, 'b');\n",
    "    ax[1].set_xlabel(x1label)\n",
    "    ax[1].set_xlabel(x2label);\n",
    "    ax[1].set_ylabel(y2label);\n",
    "    ax[1].grid();\n",
    "    \n",
    "    fig.align_ylabels(ax[:])\n",
    "    \n",
    "def plot_noise_bandwidth(f, mag):\n",
    "    fig, ax = plt.subplots(2, figsize=(10.0,7.5))\n",
    "    ax[0].semilogx(f, RC_mag)\n",
    "    ax[0].set_xscale(\"log\")\n",
    "    ax[0].set_xlim(f[0], f[-1])\n",
    "    ax[0].set_xticks(np.logspace(0.1,4,5))\n",
    "    ax[0].set_xticklabels([])\n",
    "    ax[0].set_ylabel('Magnitude [V/V]')\n",
    "    ax[0].set_title('Equivalent Noise Bandwidth')\n",
    "    ax[0].grid()\n",
    "\n",
    "    ax[1].hlines(1, 0, f_enb, color='tab:blue')\n",
    "    ax[1].hlines(0, f_enb, f[-1], color='tab:blue')\n",
    "    ax[1].vlines(f_enb, 0, 1, color='tab:blue')\n",
    "    ax[1].set_xlim(f[0], f[-1])\n",
    "    ax[1].set_xscale(\"log\")\n",
    "    ax[1].set_xticks(np.logspace(0.1,4,5))\n",
    "    ax[1].set_xticklabels([r'$10^0$',r'$10^1$', r'$10^2$', r'$10^3$', r'$10^4$'])\n",
    "    ax[1].set_ylabel('Magnitude [V/V]')\n",
    "    ax[1].set_xlabel('Frequency [Hz]')\n",
    "    ax[1].grid()\n",
    "    \n",
    "def noise_hist(vnoise, vn_rms, bins):\n",
    "    fig = plt.figure( figsize=(10.0,7.5) )\n",
    "    vn_norm = vnoise/ vn_rms\n",
    "    ax = fig.add_subplot(111)\n",
    "    n, bins, rectangles = ax.hist(vn_norm, bins, density=True, range=(-3, 3),\n",
    "                                 color='b')\n",
    "    ax.set_xlabel(r'Sample Voltage [$v_{n(rms)}$]')\n",
    "    ax.set_ylabel('Probability Density')\n",
    "    ax.grid()\n",
    "    fig.canvas.draw()\n",
    "\n",
    "def plot_NF_vs_Rs(en_vals, in_vals, Rs_min, Rs_max, T_in_K):\n",
    "    fig, ax = plt.subplots(figsize=(10.0, 7.5))\n",
    "    k = 1.38e-23\n",
    "    Rs = np.logspace(np.log10(Rs_min), np.log10(Rs_max), num=200)\n",
    "    F1 = 1 + (en_vals[0]**2+Rs**2*in_vals[0]**2)/(4*k*T_in_K*Rs)\n",
    "    F2 = 1 + (en_vals[1]**2+Rs**2*in_vals[1]**2)/(4*k*T_in_K*Rs)\n",
    "    F3 = 1 + (en_vals[2]**2+Rs**2*in_vals[2]**2)/(4*k*T_in_K*Rs)\n",
    "    ax.semilogx(Rs, 10*np.log10(F1), 'b', label=r'$e_{n1}$, $i_{n1}$')\n",
    "    ax.semilogx(Rs, 10*np.log10(F2), 'r', label=r'$e_{n2}$, $i_{n2}$')\n",
    "    ax.semilogx(Rs, 10*np.log10(F3), 'g', label=r'$e_{n3}$, $i_{n3}$')\n",
    "    ax.grid();\n",
    "    ax.set_xlabel(r'Source Resistance $R_s [\\Omega]$')\n",
    "    ax.set_ylabel(r'Noise Figure $NF$ [$dB$]')  \n",
    "    \n",
    "    ax.legend()\n",
    "    ax.legend(loc='upper center', ncol=3, fancybox=True, \n",
    "               shadow=True, bbox_to_anchor=(0.5,1.13) )  \n",
    "    \n",
    "def plot_noise_curve(e_n, i_n, Rs_min, Rs_max):\n",
    "    fig, ax = plt.subplots(figsize=(10.0, 7.5))\n",
    "    Rs = np.logspace(np.log10(Rs_min), np.log10(Rs_max), num=200)\n",
    "    e_ni_2 = 4*k*T*Rs + e_n**2 + i_n**2*Rs**2\n",
    "    ax.loglog(Rs, np.sqrt(e_ni_2), 'b', label='Total Noise')\n",
    "    ax.loglog(Rs, np.sqrt(4*k*T*Rs), 'r', label=r'$\\sqrt{4kTR_s}$')\n",
    "    ax.loglog(Rs, e_n*np.ones(np.size(Rs)), 'g', label=r'$e_n$')\n",
    "    ax.loglog(Rs, i_n*Rs, 'y', label=r'$i_n R_s$')\n",
    "    ax.grid();\n",
    "    ax.set_xlabel(r'Source Resistance $R_s [\\Omega]$')\n",
    "    ax.set_ylabel(r'Equivalent Input Noise [$V/\\sqrt{Hz}$]')\n",
    "    \n",
    "    ax.legend()\n",
    "    ax.legend(loc='upper center', ncol=4, fancybox=True, \n",
    "               shadow=True, bbox_to_anchor=(0.5,1.13) )   \n",
    "    \n",
    "def plot_bjt_NF(beta, r_bb, Rmin, Rmax, Imin, Imax):\n",
    "    fig, ax = plt.subplots(figsize=(10.0, 7.5))\n",
    "    k = 1.38e-23\n",
    "    T = 300\n",
    "    q = 1.602e-19\n",
    "    V_T = k*T/q\n",
    "    rs = np.logspace(np.log10(Rmin), np.log10(Rmax), num = 100)\n",
    "    ic = np.logspace(np.log10(Imin), np.log10(Imax), num = 100)\n",
    "    I_C, R_S = np.meshgrid(ic, rs)\n",
    "    e_n_2 = 4*k*T*(V_T/2/I_C + r_bb)\n",
    "    i_n_2 = 2*q*I_C/beta_0\n",
    "    NF = 1 + (e_n_2 + i_n_2*R_S**2)/(4*k*T*R_S)\n",
    "    cp = ax.contourf(I_C, R_S, 10*np.log10(NF), levels=np.linspace(0,15, num=16))\n",
    "    plt.xscale('log')\n",
    "    plt.yscale('log')\n",
    "    plt.ylabel(r'Source Resistance $R_s$ [$\\Omega$]')\n",
    "    plt.xlabel(r'Collector Current $I_C$ [A]')\n",
    "    fig.colorbar(cp)"
   ]
  },
  {
   "cell_type": "code",
   "execution_count": 2,
   "metadata": {
    "slideshow": {
     "slide_type": "skip"
    }
   },
   "outputs": [],
   "source": [
    "def fftnoise(f):\n",
    "    f = np.array(f, dtype='complex')\n",
    "    Np = (len(f) - 1) // 2\n",
    "    phases = np.random.rand(Np) * 2 * np.pi\n",
    "    phases = np.cos(phases) + 1j * np.sin(phases)\n",
    "    f[1:Np+1] *= phases\n",
    "    f[-1:-1-Np:-1] = np.conj(f[1:Np+1])\n",
    "    return np.fft.ifft(f).real\n",
    "\n",
    "def band_limited_noise(min_freq, max_freq, samples=1024, samplerate=1):\n",
    "    freqs = np.abs(np.fft.fftfreq(samples, 1/samplerate))\n",
    "    f = np.zeros(samples)\n",
    "    idx = np.where(np.logical_and(freqs>=min_freq, freqs<=max_freq))[0]\n",
    "    f[idx] = 1\n",
    "    return fftnoise(f)"
   ]
  },
  {
   "cell_type": "markdown",
   "metadata": {
    "slideshow": {
     "slide_type": "slide"
    }
   },
   "source": [
    "# Lecture 5 - Low-Noise Amplifier Design"
   ]
  }
 ],
 "metadata": {
  "celltoolbar": "Slideshow",
  "kernelspec": {
   "display_name": "Python 3",
   "language": "python",
   "name": "python3"
  },
  "language_info": {
   "codemirror_mode": {
    "name": "ipython",
    "version": 3
   },
   "file_extension": ".py",
   "mimetype": "text/x-python",
   "name": "python",
   "nbconvert_exporter": "python",
   "pygments_lexer": "ipython3",
   "version": "3.8.2"
  },
  "livereveal": {
   "controls": false,
   "scroll": true,
   "theme": "simple"
  },
  "rise": {
   "enable_chalkboard": true,
   "slideNumber": true
  }
 },
 "nbformat": 4,
 "nbformat_minor": 4
}
