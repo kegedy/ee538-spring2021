{
 "cells": [
  {
   "cell_type": "markdown",
   "metadata": {
    "cell_style": "center",
    "slideshow": {
     "slide_type": "slide"
    }
   },
   "source": [
    "# EE 538: Low-Noise Analog Circuit Design\n",
    "## Spring 2021\n",
    "## Instructor: Jason Silver"
   ]
  },
  {
   "cell_type": "markdown",
   "metadata": {
    "slideshow": {
     "slide_type": "slide"
    }
   },
   "source": [
    "## Announcements"
   ]
  },
  {
   "cell_type": "markdown",
   "metadata": {
    "slideshow": {
     "slide_type": "-"
    }
   },
   "source": [
    " - Assignment 3 due Monday, April 26 at midnight\n",
    " - Assignment 4 will be posted Saturday, April 24"
   ]
  },
  {
   "cell_type": "markdown",
   "metadata": {
    "slideshow": {
     "slide_type": "slide"
    }
   },
   "source": [
    "## Week 4"
   ]
  },
  {
   "cell_type": "markdown",
   "metadata": {
    "slideshow": {
     "slide_type": "-"
    }
   },
   "source": [
    " - Motchenbacher Chapter 5\n",
    " - Art of Electronics Chapter 8"
   ]
  },
  {
   "cell_type": "markdown",
   "metadata": {
    "slideshow": {
     "slide_type": "slide"
    }
   },
   "source": [
    "## Overview"
   ]
  },
  {
   "cell_type": "markdown",
   "metadata": {
    "slideshow": {
     "slide_type": "-"
    }
   },
   "source": [
    " - Last time...\n",
    "     - Hybrid-$\\pi$ model\n",
    "     - BJT noise model\n",
    "     - BJT noise figure\n",
    "     - Noise in common-emitter structures\n",
    " - Today...\n",
    "     - FET large/small-signal operation\n",
    "     - Thermal noise in FET devices\n",
    "     - 1/f noise and gate current noise\n",
    "     - FET noise model \n",
    "     - FET vs BJT"
   ]
  },
  {
   "cell_type": "markdown",
   "metadata": {
    "slideshow": {
     "slide_type": "skip"
    }
   },
   "source": [
    "## Python packages/modules"
   ]
  },
  {
   "cell_type": "code",
   "execution_count": 23,
   "metadata": {
    "slideshow": {
     "slide_type": "skip"
    }
   },
   "outputs": [],
   "source": [
    "import matplotlib as mpl\n",
    "from matplotlib import pyplot as plt\n",
    "from matplotlib import ticker, cm\n",
    "import numpy as np\n",
    "from scipy import signal\n",
    "from scipy import integrate\n",
    "#%matplotlib notebook\n",
    "\n",
    "mpl.rcParams['font.size'] = 14\n",
    "mpl.rcParams['legend.fontsize'] = 'large'\n",
    "\n",
    "def plot_xy(x, y, xlabel, ylabel):\n",
    "    fig, ax = plt.subplots(figsize=(10.0, 7.5));\n",
    "    ax.plot(x, y, 'b')\n",
    "    ax.grid()\n",
    "    ax.set_xlabel(xlabel)\n",
    "    ax.set_ylabel(ylabel)\n",
    "    \n",
    "def plot_xy2(x1, y1, x1label, y1label, x2, y2, x2label, y2label):\n",
    "    fig, ax = plt.subplots(2, figsize = (10.0, 7.5));\n",
    "    ax[0].plot(x1, y1, 'b')\n",
    "    ax[0].set_ylabel(y1label)\n",
    "    ax[0].grid()\n",
    "    \n",
    "    ax[1].plot(x2, y2, 'b')\n",
    "    ax[1].set_xlabel(x1label)\n",
    "    ax[1].set_xlabel(x2label)\n",
    "    ax[1].set_ylabel(y2label)\n",
    "    ax[1].grid()\n",
    "    \n",
    "    fig.align_ylabels(ax[:])\n",
    "\n",
    "def plot_xy3(x, y1, y2, y3, xlabel, y1label, y2label, y3label):\n",
    "    fig, ax = plt.subplots(3, figsize=(10.0,7.5))\n",
    "    \n",
    "    ax[0].plot(x, y1)\n",
    "    ax[0].set_ylabel(y1label)\n",
    "    ax[0].grid()\n",
    "    \n",
    "    ax[1].plot(x, y2)\n",
    "    ax[1].set_ylabel(y2label)\n",
    "    ax[1].grid()\n",
    "    \n",
    "    ax[2].plot(x, y3)  \n",
    "    ax[2].set_ylabel(y3label)\n",
    "    ax[2].set_xlabel(xlabel)\n",
    "    ax[2].grid()\n",
    "    \n",
    "def plot_logxy3(x, y1, y2, y3, xlabel, y1label, y2label, y3label):\n",
    "    fig, ax = plt.subplots(3, figsize=(10.0,7.5))\n",
    "    \n",
    "    ax[0].semilogx(x, y1)\n",
    "    ax[0].set_ylabel(y1label)\n",
    "    ax[0].grid()\n",
    "    \n",
    "    ax[1].semilogx(x, y2)\n",
    "    ax[1].set_ylabel(y2label)\n",
    "    ax[1].grid()\n",
    "    \n",
    "    ax[2].semilogx(x, y3)  \n",
    "    ax[2].set_ylabel(y3label)\n",
    "    ax[2].set_xlabel(xlabel)\n",
    "    ax[2].grid()\n",
    "\n",
    "def plot_logxy(x, y, xlabel, ylabel):\n",
    "    fig, ax = plt.subplots(figsize=(10.0, 7.5))\n",
    "    ax.semilogx(x, y, 'b')\n",
    "    ax.grid();\n",
    "    ax.set_xlabel(xlabel)\n",
    "    ax.set_ylabel(ylabel)    \n",
    "    \n",
    "def plot_log3xy(x, y1, y2, y3, xlabel, ylabel, y1label, y2label, y3label):\n",
    "    fig, ax = plt.subplots(figsize=(10.0,7.5))\n",
    "    \n",
    "    ax.semilogx(x, y1, 'b', label=y1label)\n",
    "    ax.semilogx(x, y2, 'r', label=y2label)\n",
    "    ax.semilogx(x, y3, 'g', label=y3label)  \n",
    "    ax.set_ylabel(ylabel)\n",
    "    ax.set_xlabel(xlabel)\n",
    "    ax.grid()    \n",
    "    \n",
    "    ax.legend()\n",
    "    ax.legend(loc='upper center', ncol=3, fancybox=True, \n",
    "               shadow=True, bbox_to_anchor=(0.5,1.13) )  \n",
    "    \n",
    "def plot_log2xy(x, y1, y2, xlabel, ylabel, y1label, y2label):\n",
    "    fig, ax = plt.subplots(figsize=(10.0,7.5))\n",
    "    \n",
    "    ax.semilogx(x, y1, 'b', label=y1label)\n",
    "    ax.semilogx(x, y2, 'r', label=y2label)\n",
    "    ax.set_ylabel(ylabel)\n",
    "    ax.set_xlabel(xlabel)\n",
    "    ax.grid()    \n",
    "    \n",
    "    ax.legend()\n",
    "    ax.legend(loc='upper center', ncol=2, fancybox=True, \n",
    "               shadow=True, bbox_to_anchor=(0.5,1.13) )  \n",
    "    \n",
    "def plot_loglog(x, y, xlabel, ylabel):\n",
    "    fig, ax = plt.subplots(figsize=(10.0, 7.5))\n",
    "    ax.loglog(x, y, 'b')\n",
    "    ax.grid();\n",
    "    ax.set_xlabel(xlabel)\n",
    "    ax.set_ylabel(ylabel)\n",
    "    \n",
    "    \n",
    "def plot_loglog2(x, y1, y2, xlabel, ylabel, y1label, y2label):\n",
    "    fig, ax = plt.subplots(figsize=(10.0,7.5))\n",
    "    \n",
    "    ax.loglog(x, y1, 'b', label=y1label)\n",
    "    ax.loglog(x, y2, 'r', label=y2label)\n",
    "    ax.set_ylabel(ylabel)\n",
    "    ax.set_xlabel(xlabel)\n",
    "    ax.grid()    \n",
    "    \n",
    "    ax.legend()\n",
    "    ax.legend(loc='upper center', ncol=2, fancybox=True, \n",
    "               shadow=True, bbox_to_anchor=(0.5,1.13) )  \n",
    "    \n",
    "def plot_xlogy(x, y, xlabel, ylabel):\n",
    "    fig, ax = plt.subplots(figsize=(10.0, 7.5));\n",
    "    ax.semilogy(x, y, 'b');\n",
    "    ax.grid();\n",
    "    ax.set_xlabel(xlabel);\n",
    "    ax.set_ylabel(ylabel);\n",
    "    \n",
    "def read_ltspice_ac(file_name):\n",
    "    with open(file_name, 'r') as data:\n",
    "        x = []\n",
    "        y = []\n",
    "        z = []\n",
    "        next(data) # skip header line\n",
    "        for line in data:\n",
    "            p = line.split()\n",
    "            x.append(float(p[0]))\n",
    "            complex = p[1].split(\",\")\n",
    "            y.append(float(complex[0]))\n",
    "            z.append(float(complex[1]))\n",
    "\n",
    "    return x, y, z\n",
    "\n",
    "def plot_logxy2(x1, y1, x2, y2, x1label, y1label, x2label, y2label):\n",
    "    fig, ax = plt.subplots(2, figsize = (10.0, 7.5));\n",
    "    ax[0].semilogx(x1, y1, 'b');\n",
    "    ax[0].set_ylabel(y1label)\n",
    "    ax[0].grid()\n",
    "    \n",
    "    ax[1].semilogx(x2, y2, 'b');\n",
    "    ax[1].set_xlabel(x1label)\n",
    "    ax[1].set_xlabel(x2label);\n",
    "    ax[1].set_ylabel(y2label);\n",
    "    ax[1].grid();\n",
    "    \n",
    "    fig.align_ylabels(ax[:])\n",
    "    \n",
    "def plot_noise_bandwidth(f, mag):\n",
    "    fig, ax = plt.subplots(2, figsize=(10.0,7.5))\n",
    "    ax[0].semilogx(f, RC_mag)\n",
    "    ax[0].set_xscale(\"log\")\n",
    "    ax[0].set_xlim(f[0], f[-1])\n",
    "    ax[0].set_xticks(np.logspace(0.1,4,5))\n",
    "    ax[0].set_xticklabels([])\n",
    "    ax[0].set_ylabel('Magnitude [V/V]')\n",
    "    ax[0].set_title('Equivalent Noise Bandwidth')\n",
    "    ax[0].grid()\n",
    "\n",
    "    ax[1].hlines(1, 0, f_enb, color='tab:blue')\n",
    "    ax[1].hlines(0, f_enb, f[-1], color='tab:blue')\n",
    "    ax[1].vlines(f_enb, 0, 1, color='tab:blue')\n",
    "    ax[1].set_xlim(f[0], f[-1])\n",
    "    ax[1].set_xscale(\"log\")\n",
    "    ax[1].set_xticks(np.logspace(0.1,4,5))\n",
    "    ax[1].set_xticklabels([r'$10^0$',r'$10^1$', r'$10^2$', r'$10^3$', r'$10^4$'])\n",
    "    ax[1].set_ylabel('Magnitude [V/V]')\n",
    "    ax[1].set_xlabel('Frequency [Hz]')\n",
    "    ax[1].grid()\n",
    "    \n",
    "def noise_hist(vnoise, vn_rms, bins):\n",
    "    fig = plt.figure( figsize=(10.0,7.5) )\n",
    "    vn_norm = vnoise/ vn_rms\n",
    "    ax = fig.add_subplot(111)\n",
    "    n, bins, rectangles = ax.hist(vn_norm, bins, density=True, range=(-3, 3),\n",
    "                                 color='b')\n",
    "    ax.set_xlabel(r'Sample Voltage [$v_{n(rms)}$]')\n",
    "    ax.set_ylabel('Probability Density')\n",
    "    ax.grid()\n",
    "    fig.canvas.draw()\n",
    "\n",
    "def plot_NF_vs_Rs(en_vals, in_vals, Rs_min, Rs_max, T_in_K):\n",
    "    fig, ax = plt.subplots(figsize=(10.0, 7.5))\n",
    "    k = 1.38e-23\n",
    "    Rs = np.logspace(np.log10(Rs_min), np.log10(Rs_max), num=200)\n",
    "    F1 = 1 + (en_vals[0]**2+Rs**2*in_vals[0]**2)/(4*k*T_in_K*Rs)\n",
    "    F2 = 1 + (en_vals[1]**2+Rs**2*in_vals[1]**2)/(4*k*T_in_K*Rs)\n",
    "    F3 = 1 + (en_vals[2]**2+Rs**2*in_vals[2]**2)/(4*k*T_in_K*Rs)\n",
    "    ax.semilogx(Rs, 10*np.log10(F1), 'b', label=r'$e_{n1}$, $i_{n1}$')\n",
    "    ax.semilogx(Rs, 10*np.log10(F2), 'r', label=r'$e_{n2}$, $i_{n2}$')\n",
    "    ax.semilogx(Rs, 10*np.log10(F3), 'g', label=r'$e_{n3}$, $i_{n3}$')\n",
    "    ax.grid();\n",
    "    ax.set_xlabel(r'Source Resistance $R_s [\\Omega]$')\n",
    "    ax.set_ylabel(r'Noise Figure $NF$ [$dB$]')  \n",
    "    \n",
    "    ax.legend()\n",
    "    ax.legend(loc='upper center', ncol=3, fancybox=True, \n",
    "               shadow=True, bbox_to_anchor=(0.5,1.13) )  \n",
    "    \n",
    "def plot_noise_curve(e_n, i_n, Rs_min, Rs_max):\n",
    "    fig, ax = plt.subplots(figsize=(10.0, 7.5))\n",
    "    Rs = np.logspace(np.log10(Rs_min), np.log10(Rs_max), num=200)\n",
    "    e_ni_2 = 4*k*T*Rs + e_n**2 + i_n**2*Rs**2\n",
    "    ax.loglog(Rs, np.sqrt(e_ni_2), 'b', label='Total Noise')\n",
    "    ax.loglog(Rs, np.sqrt(4*k*T*Rs), 'r', label=r'$\\sqrt{4kTR_s}$')\n",
    "    ax.loglog(Rs, e_n*np.ones(np.size(Rs)), 'g', label=r'$e_n$')\n",
    "    ax.loglog(Rs, i_n*Rs, 'y', label=r'$i_n R_s$')\n",
    "    ax.grid();\n",
    "    ax.set_xlabel(r'Source Resistance $R_s [\\Omega]$')\n",
    "    ax.set_ylabel(r'Equivalent Input Noise [$V/\\sqrt{Hz}$]')\n",
    "    \n",
    "    ax.legend()\n",
    "    ax.legend(loc='upper center', ncol=4, fancybox=True, \n",
    "               shadow=True, bbox_to_anchor=(0.5,1.13) )   \n",
    "    \n",
    "def plot_bjt_NF(beta, r_bb, Rmin, Rmax, Imin, Imax):\n",
    "    fig, ax = plt.subplots(figsize=(10.0, 7.5))\n",
    "    k = 1.38e-23\n",
    "    T = 300\n",
    "    q = 1.602e-19\n",
    "    V_T = k*T/q\n",
    "    rs = np.logspace(np.log10(Rmin), np.log10(Rmax), num = 100)\n",
    "    ic = np.logspace(np.log10(Imin), np.log10(Imax), num = 100)\n",
    "    I_C, R_S = np.meshgrid(ic, rs)\n",
    "    e_n_2 = 4*k*T*(V_T/2/I_C + r_bb)\n",
    "    i_n_2 = 2*q*I_C/beta_0\n",
    "    NF = 1 + (e_n_2 + i_n_2*R_S**2)/(4*k*T*R_S)\n",
    "    cp = ax.contourf(I_C, R_S, 10*np.log10(NF), levels=np.linspace(0,15, num=16))\n",
    "    plt.xscale('log')\n",
    "    plt.yscale('log')\n",
    "    plt.ylabel(r'Source Resistance $R_s$ [$\\Omega$]')\n",
    "    plt.xlabel(r'Collector Current $I_C$ [A]')\n",
    "    fig.colorbar(cp)"
   ]
  },
  {
   "cell_type": "code",
   "execution_count": 2,
   "metadata": {
    "slideshow": {
     "slide_type": "skip"
    }
   },
   "outputs": [],
   "source": [
    "def fftnoise(f):\n",
    "    f = np.array(f, dtype='complex')\n",
    "    Np = (len(f) - 1) // 2\n",
    "    phases = np.random.rand(Np) * 2 * np.pi\n",
    "    phases = np.cos(phases) + 1j * np.sin(phases)\n",
    "    f[1:Np+1] *= phases\n",
    "    f[-1:-1-Np:-1] = np.conj(f[1:Np+1])\n",
    "    return np.fft.ifft(f).real\n",
    "\n",
    "def band_limited_noise(min_freq, max_freq, samples=1024, samplerate=1):\n",
    "    freqs = np.abs(np.fft.fftfreq(samples, 1/samplerate))\n",
    "    f = np.zeros(samples)\n",
    "    idx = np.where(np.logical_and(freqs>=min_freq, freqs<=max_freq))[0]\n",
    "    f[idx] = 1\n",
    "    return fftnoise(f)"
   ]
  },
  {
   "cell_type": "markdown",
   "metadata": {
    "slideshow": {
     "slide_type": "slide"
    }
   },
   "source": [
    "# Lecture 4 - Noise in Field Effect Transistors"
   ]
  },
  {
   "cell_type": "markdown",
   "metadata": {
    "slideshow": {
     "slide_type": "slide"
    }
   },
   "source": [
    "## MOSFET operation (NMOS)"
   ]
  },
  {
   "cell_type": "markdown",
   "metadata": {},
   "source": [
    "<center><img src=\"img/MOSFET_operation.png\" width=700 /></center>"
   ]
  },
  {
   "cell_type": "markdown",
   "metadata": {},
   "source": [
    " - $V_{gs} > V_{th}$ creates a vertical electric field attracting minority carriers from the source/drain to form a conductive channel in the bulk region (i.e. the conductivity of the channel is controlled by $V_{gs}$)\n",
    " \n",
    " - $V_{ds} > 0$ generates an lateral electric field causing electrons in the channel to drift from source to drain\n",
    " \n",
    " - Saturation occurs for $V_d > V_{ov} = V_{gs} - V_{th}$, at which point the drain current magnitude is predominantly determined by $V_{gs}$ and the effect of $V_{ds}$ on $I_d$ is reduced\n"
   ]
  },
  {
   "cell_type": "markdown",
   "metadata": {
    "slideshow": {
     "slide_type": "slide"
    }
   },
   "source": [
    "## MOSFET large-signal model"
   ]
  },
  {
   "cell_type": "markdown",
   "metadata": {
    "cell_style": "split",
    "slideshow": {
     "slide_type": "-"
    }
   },
   "source": [
    "<center><img src=\"img/MOS_transistor.png\" width=300 /></center>"
   ]
  },
  {
   "cell_type": "markdown",
   "metadata": {
    "cell_style": "split",
    "slideshow": {
     "slide_type": "-"
    }
   },
   "source": [
    "$$I_d = \\frac{1}{2}\\mu C_{ox}\\frac{W}{L}(V_{gs} - V_{th})^2(1+\\lambda V_{ds}) $$\n",
    "\n",
    "\\begin{align} I_g = 0 && I_s = I_d\n",
    "\\end{align}\n",
    "\n",
    "$$ V_{gs} = \\sqrt{\\dfrac{2I_d}{\\mu C_{ox}\\frac{W}{L}}} + V_{th}$$"
   ]
  },
  {
   "cell_type": "markdown",
   "metadata": {
    "slideshow": {
     "slide_type": "-"
    }
   },
   "source": [
    " - In saturation drain current ($I_d$) is a quadratic function of $V_{gs}$ and (secondarily) a linear function of $V_{ds}$\n",
    " \n",
    " - $I_g = 0$ at DC and increases with frequency due to gate oxide capacitance\n",
    " \n",
    " - If $I_d$ is the independent variable (assuming $\\lambda = 0$), $V_{gs}$ varies as the square root of $I_d$\n"
   ]
  },
  {
   "cell_type": "markdown",
   "metadata": {
    "slideshow": {
     "slide_type": "subslide"
    }
   },
   "source": [
    " - If derived from first principles (and neglecting channel-length modulation), the long-channel drain current expression of the MOSFET can be expressed as \n",
    " \n",
    "\\begin{equation}\n",
    "I_d = \\dfrac{1}{2}\\mu C_{ox}\\dfrac{W}{L}(V_{gs} - V_{th})^2\n",
    "\\end{equation}\n",
    "\n",
    " - This expression can be decomposed into the effects of 2 electric fields. The first is a vertical electric field that controls the channel charge:\n",
    " \n",
    "\\begin{equation}\n",
    "C_{ox}W(V_{gs} - V_{th})\n",
    "\\end{equation}\n",
    "\n",
    " - The second field is the lateral field that controls charge velocity ($v= \\mu E$), assuming the potential at the edge of the channel is equal to $V_{gs} - V_{th}$\n",
    "\n",
    "\\begin{equation}\n",
    "\\mu \\dfrac{(V_{gs} - V_{th})}{L}\n",
    "\\end{equation}"
   ]
  },
  {
   "cell_type": "markdown",
   "metadata": {
    "slideshow": {
     "slide_type": "slide"
    }
   },
   "source": [
    "## FET small-signal model"
   ]
  },
  {
   "cell_type": "markdown",
   "metadata": {
    "cell_style": "split"
   },
   "source": [
    "<center><img src=\"img/MOS_small_signal.png\" width=700 /></center>\n",
    "\n",
    "\\begin{equation}\n",
    "g_m \\equiv \\dfrac{\\partial I_D}{\\partial V_{GS}} = \\dfrac{2I_D}{V_{gs}-V_{th}} = \\dfrac{2I_D}{V_{ov}} \n",
    "\\end{equation}\n",
    "\n",
    "\\begin{equation}\n",
    "r_o \\equiv \\dfrac{\\partial V_{DS}}{\\partial I_D} = \\dfrac{1}{\\lambda I_D}\n",
    "\\end{equation}"
   ]
  },
  {
   "cell_type": "markdown",
   "metadata": {
    "cell_style": "split"
   },
   "source": [
    " - The transconductance $g_m$ is the derivative of drain current with respect to gate-source voltage\n",
    "\n",
    " - $r_o$ is the small-signal output resistance of the transistor which captures the dependence of $i_d$ on $v_{gs}$\n",
    " \n",
    " - $r_o$ is primarily associated with the phenomenon of *channel-length modulation*, the influence of the drain voltage on the effective length of the channel\n"
   ]
  },
  {
   "cell_type": "markdown",
   "metadata": {
    "slideshow": {
     "slide_type": "slide"
    }
   },
   "source": [
    "## FET capacitances"
   ]
  },
  {
   "cell_type": "markdown",
   "metadata": {
    "cell_style": "split"
   },
   "source": [
    "<center><img src=\"img/MOS_small_signal.png\" width=700 /></center>\n",
    "\n",
    "\\begin{equation}\n",
    "C_{gs} = \\dfrac{2}{3}WLC_{ox}\n",
    "\\end{equation}\n",
    "\n",
    "\\begin{equation}\n",
    "C_{gd} = WC_{ov}\n",
    "\\end{equation}"
   ]
  },
  {
   "cell_type": "markdown",
   "metadata": {
    "cell_style": "split"
   },
   "source": [
    " - The high frequency behavior of the FET, like that of the BJT, is governed by two primary capacitances $C_{gs}$ and $C_{gd}$\n",
    " \n",
    " - In strong inversion $C_{gs}$ assumes the majority of the the total gate oxide capacitance ($WLC_{ox}$, where $[C_{ox}] = F/m^2$)\n",
    " \n",
    " - $C_{gd}$ comprises the \"overlap\" capacitance arising along the edge of the gate-drain interface ($[C_{ov}] = F/m$)\n",
    " \n",
    " - In most practical cases of interest, $C_{gs} \\gg C_{gd}$, though $C_{gd}$ can play a significant role due to a phenomenon known as the \"Miller effect\" in which the apparent capacitance contributed by $C_{gd}$ is \"amplified\" by the voltage gain of the transistor/amplifier "
   ]
  },
  {
   "cell_type": "markdown",
   "metadata": {
    "slideshow": {
     "slide_type": "slide"
    }
   },
   "source": [
    "## FET transit frequency"
   ]
  },
  {
   "cell_type": "markdown",
   "metadata": {
    "cell_style": "split"
   },
   "source": [
    "<center><img src=\"img/MOS_transit_frequency.png\" width=500 /></center>"
   ]
  },
  {
   "cell_type": "markdown",
   "metadata": {
    "cell_style": "split"
   },
   "source": [
    " - The FET transit frequency $f_T$ is defined as the frequency at which the short-circuit current gain is unity:\n",
    " \n",
    "\\begin{equation}\n",
    "f_T = \\dfrac{g_m}{2\\pi \\cdot (C_{gs} + C_{gd})}\n",
    "\\end{equation}\n",
    "\n",
    " - $f_T$ constitutes the maximum frequency at which the transistor is able to provide power gain - beyond this frequency, it loses its utility as a gain device\n",
    " \n",
    " - As with the BJT, $f_T$ increases with $I_D$, with more power being required to operate at higher speeds"
   ]
  },
  {
   "cell_type": "markdown",
   "metadata": {
    "slideshow": {
     "slide_type": "subslide"
    }
   },
   "source": [
    " - Transit frequency often serves as a technology characterization metric, and is a useful means of comparing different devices/technologies\n",
    " \n",
    " - Assuming $C_{gs} \\gg C_{gd}$, the transit frequency of the MOSFET in strong inversion can be expressed as\n",
    " \n",
    "\\begin{equation}\n",
    "f_T = \\dfrac{g_m}{2\\pi \\cdot (C_{gs} + C_{gd})} \\approx \\dfrac{\\mu C_{ox}(W/L)(V_{gs} - V_{th})}{2\\pi\\cdot(2/3)\\cdot WLC_{ox}} = \\dfrac{3}{2}\\dfrac{\\mu\\cdot(V_{gs}-V_{th})}{2\\pi\\cdot L^2}\n",
    "\\end{equation}\n",
    "\n",
    " - From this expression we gather that the speed of a MOS device depends significantly on the gate length, and to a lesser extent, on mobility and overdrive voltage"
   ]
  },
  {
   "cell_type": "markdown",
   "metadata": {
    "slideshow": {
     "slide_type": "slide"
    }
   },
   "source": [
    "## MOSFET as a resistance/switch"
   ]
  },
  {
   "cell_type": "markdown",
   "metadata": {
    "cell_style": "center"
   },
   "source": [
    " - In linear/triode operation, the drain current is heavily influenced by the modulation of the lateral electric field with $V_{ds}$ and can be expressed as\n",
    " \n",
    "\\begin{equation}\n",
    "I_d = \\mu C_{ox}\\left(\\dfrac{W}{L}\\right)\\left[(V_{gs} - V_{th})V_{ds} - \\dfrac{V_{ds}^2}{2}\\right]\n",
    "\\end{equation}\n",
    "\n",
    " - For $V_{ds} \\ll V_{gs} - V_{th}$, this can be approximated by a linear function in $V_{ds}$\n",
    " \n",
    "\\begin{equation}\n",
    "I_d \\approx \\mu C_{ox}\\left(\\dfrac{W}{L}\\right)(V_{gs} - V_{th})V_{ds}\n",
    "\\end{equation}\n",
    "\n",
    " - From this expression we can defined an effective resistance given by\n",
    " \n",
    "\\begin{equation}\n",
    "r_{ds} = \\dfrac{1}{\\mu C_{ox}\\left(\\dfrac{W}{L}\\right)(V_{gs} - V_{th})}\n",
    "\\end{equation}\n",
    "\n",
    " - This is the expression typically used to describe MOS behavior when operated as a switch"
   ]
  },
  {
   "cell_type": "markdown",
   "metadata": {
    "slideshow": {
     "slide_type": "slide"
    }
   },
   "source": [
    "## JFET operation (NFET)"
   ]
  },
  {
   "cell_type": "markdown",
   "metadata": {},
   "source": [
    "<center><img src=\"img/JFET_operation.png\" width=700 /></center>"
   ]
  },
  {
   "cell_type": "markdown",
   "metadata": {
    "slideshow": {
     "slide_type": "-"
    }
   },
   "source": [
    " - $V_g \\leq 0$ reverse-biases the gate-channel junction and modulates the conductivity of the channel by increasing/decreasing the width of the depletion region(s)\n",
    "\n",
    " - $V_{d} > 0$ produces a lateral electric field and causes majority carriers (electrons in this case) to drift between source and drain, in addition to modulating the depletion region width near the drain\n",
    "\n",
    " - Saturation occurs for  $V_d > V_P$, where $V_P$ is referred to as the \"pinch-off\" voltage, at which point $V_d$ has diminished influence on the field experienced by mobile charge carriers in the non-depleted region of the channel"
   ]
  },
  {
   "cell_type": "markdown",
   "metadata": {
    "slideshow": {
     "slide_type": "slide"
    }
   },
   "source": [
    "## JFET operation"
   ]
  },
  {
   "cell_type": "markdown",
   "metadata": {
    "cell_style": "split",
    "slideshow": {
     "slide_type": "-"
    }
   },
   "source": [
    "<center><img src=\"img/JFET_transistor.png\" width=300 /></center>"
   ]
  },
  {
   "cell_type": "markdown",
   "metadata": {
    "cell_style": "split",
    "slideshow": {
     "slide_type": "-"
    }
   },
   "source": [
    "$$I_d = I_{DSS}\\left(1-\\dfrac{V_{gs}}{V_p}\\right)^2 $$\n",
    "\n",
    "$$g_m = \\dfrac{2I_{DSS}}{V_p}\\left(1-\\dfrac{V_{gs}}{V_p} \\right)$$"
   ]
  },
  {
   "cell_type": "markdown",
   "metadata": {},
   "source": [
    " - In saturation, drain current ($I_d$) is a quadratic function of $V_{gs}$ \n",
    " \n",
    " - $I_g \\neq 0$ at DC, but because the junction is reverse-biased it is small at low frequencies\n",
    " \n",
    " - $V_p$ is referred to as the \"pinch-off\" voltage, the value of $V_{gs}$ at which the channel thickness goes to zero"
   ]
  },
  {
   "cell_type": "markdown",
   "metadata": {
    "slideshow": {
     "slide_type": "slide"
    }
   },
   "source": [
    "## FET channel noise"
   ]
  },
  {
   "cell_type": "markdown",
   "metadata": {
    "cell_style": "split"
   },
   "source": [
    "<center><img src=\"img/MOSFET_operation.png\" width=700 /></center>"
   ]
  },
  {
   "cell_type": "markdown",
   "metadata": {
    "cell_style": "split"
   },
   "source": [
    "<center><img src=\"img/JFET_operation.png\" width=700 /></center>"
   ]
  },
  {
   "cell_type": "markdown",
   "metadata": {},
   "source": [
    " - The primary noise mechanism in the MOSFET (and JFET) is the thermally-induced movement of mobile charge carriers in the channel\n",
    " \n",
    " - In the MOSFET, the channel charge is modulated by an electric field that attracts minority carriers from the source and drain to the region of the bulk directly under the gate\n",
    " \n",
    " - In the JFET, the applied gate voltage increases/decreases the width of the depletion layer(s) near the gate contact(s), decreasing/increasing the effective height of the channel and modulating the conductivity\n",
    " \n",
    " - In this sense, prior to saturation, both devices can be viewed as resistances whose magnitude is controlled by the gate voltage"
   ]
  },
  {
   "cell_type": "markdown",
   "metadata": {
    "slideshow": {
     "slide_type": "slide"
    }
   },
   "source": [
    "## Thermal noise in a resistor"
   ]
  },
  {
   "cell_type": "markdown",
   "metadata": {},
   "source": [
    " - The mean-square current spectral density of noise due to thermal fluctuation of charge carriers in a resistance $R$ is expressed as\n",
    " \n",
    "\\begin{equation}\n",
    "i_n^2 = \\dfrac{4kT}{R} \\; A^2/Hz\n",
    "\\end{equation}\n",
    "\n",
    " - Resistance can be expressed in terms of material parameters $\\mu_c$ (carrier mobility) and $n_c$ (carrier concentration), legnth $L$, and cross-sectional area $A$\n",
    " \n",
    "\\begin{equation}\n",
    "R = \\dfrac{L}{\\sigma A} = \\dfrac{L}{q n_c \\mu_c A}\n",
    "\\end{equation}\n",
    "\n",
    " - The *total charge* in the volume defined by $A\\cdot L$ is given by\n",
    " \n",
    "\\begin{equation}\n",
    "Q_{tot} = qn_cAL\n",
    "\\end{equation}\n",
    "\n",
    " -  The spectral density of the noise can be expressed in terms of the total charge as\n",
    " \n",
    "\\begin{equation}\n",
    "i_n^2 = \\dfrac{4kT}{dR}  = 4kT \\dfrac{q n_c \\mu_c A}{L} = 4kT \\dfrac{\\mu_cQ_{tot}}{L^2}\\; A^2/Hz\n",
    "\\end{equation} "
   ]
  },
  {
   "cell_type": "markdown",
   "metadata": {
    "slideshow": {
     "slide_type": "slide"
    }
   },
   "source": [
    "## MOSFET channel charge"
   ]
  },
  {
   "cell_type": "markdown",
   "metadata": {
    "cell_style": "split"
   },
   "source": [
    "<center><img src=\"img/MOSFET_channel_charge_linear.png\" width=700 /></center>"
   ]
  },
  {
   "cell_type": "markdown",
   "metadata": {
    "cell_style": "split"
   },
   "source": [
    "<center><img src=\"img/MOSFET_channel_charge_saturation.png\" width=700 /></center>"
   ]
  },
  {
   "cell_type": "markdown",
   "metadata": {},
   "source": [
    " - The inversion charge in the conducting channel of a MOSFET is a function of the gate capacitance $C_{ox}$ and the applied voltage (above threshold) $V_{gs} - V_{th}$\n",
    " \n",
    " - In the linear mode of operation, when $V_{ds} \\ll V_{gs} - V_{th}$ the capacitance and charge are approximately uniform along the channel and the charge is given by $Q_{lin} = WLC_{ox}(V_{gs} - V_{th})$\n",
    "\n",
    " - In saturation, the capacitance is non-uniform between the source and drain and the total charge can be approximated as $Q_{sat} = \\frac{2}{3}WLC_{ox}(V_{gs} - V_{th})$\n",
    " "
   ]
  },
  {
   "cell_type": "markdown",
   "metadata": {
    "slideshow": {
     "slide_type": "slide"
    }
   },
   "source": [
    "## Channel thermal noise"
   ]
  },
  {
   "cell_type": "markdown",
   "metadata": {
    "slideshow": {
     "slide_type": "-"
    }
   },
   "source": [
    " - In triode/linear operation, the spectral density of the thermal noise can be expressed in terms of the channel charge as\n",
    "\n",
    "\\begin{equation}\n",
    "i_{nd}^2 =  4kT \\dfrac{\\mu Q_{lin}}{L^2} = 4kT \\mu C_{ox} \\dfrac{W}{L} (V_{gs} - V_{th}) \\; A^2/Hz\n",
    "\\end{equation} \n",
    "\n",
    " - The noise is often expressed in terms of $g_{d0}$, the derivative of the drain current with respect to $V_{ds}$ when $V_{ds} = 0$:\n",
    " \n",
    "\\begin{equation}\n",
    "g_{d0} \\equiv \\dfrac{dI_{d}}{d V_{ds}}\\biggr\\rvert_{V_{ds} = 0} = \\mu C_{ox} \\dfrac{W}{L} (V_{gs} - V_{th})\n",
    "\\end{equation}\n",
    "\n",
    " - This gives\n",
    " \n",
    "\\begin{equation}\n",
    "i_{nd}^2 = 4kT \\mu C_{ox} \\dfrac{W}{L} (V_{gs} - V_{th})  = 4kTg_{d0}\\; A^2/Hz\n",
    "\\end{equation}  "
   ]
  },
  {
   "cell_type": "markdown",
   "metadata": {
    "slideshow": {
     "slide_type": "subslide"
    }
   },
   "source": [
    " - In saturation the drain current noise can be expressed as\n",
    "\n",
    "\\begin{equation}\n",
    "i_{nd}^2 =  4kT \\dfrac{\\mu Q_{sat}}{L^2} = 4kT \\gamma g_{d0} \\; A^2/Hz\n",
    "\\end{equation} \n",
    "\n",
    " - It is often assumed that $g_m \\approx g_{d0}$, resulting in the common expression\n",
    "\n",
    "\\begin{equation}\n",
    "i_{nd}^2 = 4kT \\gamma g_{m} \\; A^2/Hz\n",
    "\\end{equation} \n",
    "\n",
    " - The factor $\\gamma$ is sometimes called the \"excess noise factor\" and is typically taken to be $\\frac{2}{3}$ for long-channel devices\n",
    " \n",
    " - Particularly for shorter channel lengths (i.e. $L \\ll 10\\mu m$), velocity saturation and other effects cause an increase in the observed noise, resulting in excess noise factors as high as $2-3$"
   ]
  },
  {
   "cell_type": "markdown",
   "metadata": {
    "slideshow": {
     "slide_type": "slide"
    }
   },
   "source": [
    "## JFET thermal noise"
   ]
  },
  {
   "cell_type": "markdown",
   "metadata": {},
   "source": [
    "<center><img src=\"img/AoE_JFET_thermal_noise.png\" width=700 /></center>"
   ]
  },
  {
   "cell_type": "markdown",
   "metadata": {},
   "source": [
    " - Measured noise of discrete JFETs shows decent conformity to the to the $\\gamma = \\frac{2}{3}$ prediction at frequencies well above the $1/f$ corner\n",
    " \n",
    " - *Figure source: Art of Electronics, Third Edition*"
   ]
  },
  {
   "cell_type": "markdown",
   "metadata": {
    "slideshow": {
     "slide_type": "slide"
    }
   },
   "source": [
    "## 1/f noise"
   ]
  },
  {
   "cell_type": "markdown",
   "metadata": {},
   "source": [
    "- MOSFET drain current exhibits $1/f$ noise due to the trapping/release of charge carriers primarily at the $\\text{Si}-\\text{SiO}_2$ interface, producing current noise with a $1/f$ characteristic\n",
    " \n",
    "\\begin{equation}\n",
    "i_{nf}^2 = \\dfrac{K_f}{f}\\cdot\\dfrac{g_m^2}{WLC_{ox}}\n",
    "\\end{equation}\n",
    "\n",
    " - $1/f$ noise in MOSFETs can be reduced by increasing gate area (as seen in the above expression), though this comes at the expense of increased gate capacitance and a reduced $f_T$\n",
    " \n",
    " - $1/f$ noise corners for MOSFETs are substantially higher that those of BJT's, and this tends to be limiting factor when considering their use at low frequencies\n",
    " \n",
    " - JFET's also exhibit $1/f$ noise, though this tends to be more subdued than in MOSFET's\n",
    " \n",
    " - Many devices produce low-frequency noise that does not neatly conform to the $1/f$ model, and in these cases it is common to see noise reported as integrated or peak-to-peak noise within a given frequency range "
   ]
  },
  {
   "cell_type": "markdown",
   "metadata": {
    "slideshow": {
     "slide_type": "slide"
    }
   },
   "source": [
    "## BJT, MOSFET, JFET 1/f comparison"
   ]
  },
  {
   "cell_type": "markdown",
   "metadata": {
    "cell_style": "split"
   },
   "source": [
    "<center><img src=\"img/AoE_BJT_MOSFET_JFET.png\" width=1000 /></center>"
   ]
  },
  {
   "cell_type": "markdown",
   "metadata": {
    "cell_style": "split"
   },
   "source": [
    " - At low to moderate frequencies, the high $1/f$ noise corners of MOSFETs makes them far inferior to both BJT and JFET devices\n",
    " \n",
    " - *Figure source: Art of Electronics, Third Edition*"
   ]
  },
  {
   "cell_type": "markdown",
   "metadata": {
    "slideshow": {
     "slide_type": "slide"
    }
   },
   "source": [
    "## Gate current shot noise"
   ]
  },
  {
   "cell_type": "markdown",
   "metadata": {},
   "source": [
    "- Gate current in FETs is due to charge leakage through the silicon dioxide gate to the source region, and can be expressed as\n",
    " \n",
    "\\begin{equation}\n",
    "i_{ng}^2 = 2qI_G\n",
    "\\end{equation}\n",
    "\n",
    " - MOSFET gate current is typically extremely small (measured in $\\text{fA}$), so this noise current is in most cases negligible\n",
    "\n",
    " - JFET gate current is due to the leakage current of the reverse-biased $pn$ junction comprising the gate, and tends to be somewhat higher than that of the MOSFET\n",
    " \n",
    " - Both "
   ]
  },
  {
   "cell_type": "markdown",
   "metadata": {
    "slideshow": {
     "slide_type": "slide"
    }
   },
   "source": [
    "## Miller effect"
   ]
  },
  {
   "cell_type": "markdown",
   "metadata": {},
   "source": [
    "<center><img src=\"img/Miller_theorem.png\" width=1100 /></center>"
   ]
  },
  {
   "cell_type": "markdown",
   "metadata": {},
   "source": [
    " - Another source of gate current noise can be explained with the help Miller's theorem, which decomposes the impedance between the input and output nodes of an inverting votlage amplifier ($Z$) into equivalent input and output impedances to ground ($Z_1$ and $Z_2$)\n",
    " \n",
    " - For a given input voltage $v_i$, the gain of the amplifier increases the effective current through $Z$, lowering the impedance \"seen\" by the input voltage\n",
    " \n",
    " - Using Miller's theorem it can be shown that $Z_1 = Z/(1+A_v)$ "
   ]
  },
  {
   "cell_type": "markdown",
   "metadata": {
    "slideshow": {
     "slide_type": "slide"
    }
   },
   "source": [
    "## Excess input current noise"
   ]
  },
  {
   "cell_type": "markdown",
   "metadata": {},
   "source": [
    " - Assuming a feedback capacitance $C_{fb}$ and a voltage gain of $g_m Z_L$, where $Z_L$ is the parallel combination of $R_L$ and $C_L$, it can be shown that the effective input admittance $Y_1 = 1/Z_1$ due to the Miller effect is given by\n",
    " \n",
    "\\begin{equation}\n",
    "Y_1 = \\dfrac{-\\omega^2R_LC_LC_{fb} + \\omega^2C_{fb}(1+g_mR_L)R_LC_L+j\\omega C_{fb}[1+g_mR_L+\\omega^2R_L^2C_L^2]}{1+\\omega^2R_L^2C_L^2}\n",
    "\\end{equation}\n",
    "\n",
    " - The real portion of $Y_1$ is given by\n",
    " \n",
    "\\begin{equation}\n",
    "G_1 = \\dfrac{1}{R_1} =  \\dfrac{\\omega^2g_mR_L^2C_{fb}C_L}{1+\\omega^2R_L^2C_L^2} \\; [\\Omega^{-1}]\n",
    "\\end{equation}\n",
    "\n",
    " - This conductance/resistance is real, and thus produces thermal noise given by\n",
    "\n",
    "\\begin{equation}\n",
    "i_n^2 = 4kTG_1 = 4kT\\dfrac{\\omega^2g_mR_L^2C_{fb}C_L}{1+\\omega^2R_L^2C_L^2} \\; A^2/Hz\n",
    "\\end{equation}\n",
    " "
   ]
  },
  {
   "cell_type": "code",
   "execution_count": 181,
   "metadata": {
    "slideshow": {
     "slide_type": "subslide"
    }
   },
   "outputs": [
    {
     "data": {
      "image/png": "[encoded data removed]",
      "text/plain": [
       "<Figure size 720x540 with 1 Axes>"
      ]
     },
     "metadata": {
      "needs_background": "light"
     },
     "output_type": "display_data"
    }
   ],
   "source": [
    "f = np.logspace(2,8,num=800)\n",
    "w = 2*np.pi*f\n",
    "gm = 10e-3\n",
    "RL = 10e3\n",
    "Rs = 10e3\n",
    "CL = 10e-12\n",
    "Cfb = 1e-12\n",
    "G_1 = (w**2*gm*RL**2*Cfb*CL)/(1+w**2*RL**2*CL**2)\n",
    "i_n = np.sqrt(2*q*10e-12 + 4*k*T*G_1)\n",
    "e_n = 1e-9\n",
    "e_ns = np.sqrt(4*k*T*Rs)\n",
    "F = 1+(e_n**2+i_n**2*Rs**2)/(e_ns**2)\n",
    "plot_logxy(f, 10*np.log10(F), r'Frequency [$Hz$]', r'Noise Figure [$dB$]') "
   ]
  },
  {
   "cell_type": "markdown",
   "metadata": {},
   "source": [
    " - Using reasonable values for $g_m$, $C_L$, $R_L$, and $C_{fb}$, we see that the current noise starts to degrade the noise figure above $100kHz$, an effect which depends on the source resistance ($10k\\Omega$ in this case)\n",
    " "
   ]
  },
  {
   "cell_type": "markdown",
   "metadata": {
    "slideshow": {
     "slide_type": "slide"
    }
   },
   "source": [
    "\n",
    "## FET noise sources"
   ]
  },
  {
   "cell_type": "markdown",
   "metadata": {},
   "source": [
    "<center><img src=\"img/FET_noise_model.png\" width=1000 /></center>"
   ]
  },
  {
   "cell_type": "markdown",
   "metadata": {},
   "source": [
    " - FET drain current noise arises due to the resistivity of the channel and $1/f$ noise and is expressed as\n",
    " \n",
    "\\begin{equation}\n",
    " i_{nd}^2 = 4kT\\gamma g_m \\;\\;\\;\\; i_{nf}^2 \\dfrac{K_f}{f}\\cdot\\dfrac{g_m^2}{WLC_{ox}}\n",
    "\\end{equation}\n",
    "\n",
    " - FET gate current noise is primarily due to shot noise and thermal noise due to the Miller effect (only significant at high frequencies)\n",
    " \n",
    "\\begin{equation}\n",
    "i_{ng}^2 =2qI_G + 4kT\\dfrac{\\omega^2g_mR_L^2C_{fb}C_L}{1+\\omega^2R_L^2C_L^2}\n",
    "\\end{equation}"
   ]
  },
  {
   "cell_type": "markdown",
   "metadata": {
    "slideshow": {
     "slide_type": "slide"
    }
   },
   "source": [
    "\n",
    "## FET equivalent noise model"
   ]
  },
  {
   "cell_type": "markdown",
   "metadata": {},
   "source": [
    "<center><img src=\"img/FET_equivalent_noise_model.png\" width=600 /></center>"
   ]
  },
  {
   "cell_type": "markdown",
   "metadata": {
    "slideshow": {
     "slide_type": "-"
    }
   },
   "source": [
    " - The equivalent voltage noise is determined by reflecting the drain current noise through $g_m$:\n",
    " \n",
    "\\begin{equation}\n",
    "e_n^2 = \\dfrac{4kT\\gamma}{g_m} + \\dfrac{K_f}{f}\\cdot\\dfrac{1}{WLC_{ox}}\n",
    "\\end{equation}\n",
    "\n",
    " - The equivalent current noise is due both to gate leakage shot current and the Miller effect:\n",
    " \n",
    "\\begin{equation}\n",
    "i_n^2 =2qI_G + 4kT\\dfrac{\\omega^2g_mR_L^2C_{fb}C_L}{1+\\omega^2R_L^2C_L^2}\n",
    "\\end{equation}\n",
    " \n",
    " "
   ]
  },
  {
   "cell_type": "markdown",
   "metadata": {
    "slideshow": {
     "slide_type": "slide"
    }
   },
   "source": [
    "## Voltage noise in FETs versus BJTs"
   ]
  },
  {
   "cell_type": "markdown",
   "metadata": {},
   "source": [
    " - At moderate frequencies FET input voltage noise is dominated by the thermal noise of the channel\n",
    " \n",
    "\\begin{equation}\n",
    "i_{nd}^2 = 4kT\\gamma g_m \\rightarrow e_n^2 = \\dfrac{i_{nd}^2}{g_m^2} = \\dfrac{4kT\\gamma}{g_m} = \\dfrac{2kT\\gamma}{I_D}\\cdot V_{OV}\n",
    "\\end{equation}\n",
    "\n",
    " - Similarly, assuming $r_e/2 \\gg r_b$, BJT voltage noise is dominated by collector current shot noise \n",
    "\n",
    "\\begin{equation}\n",
    "i_{nc}^2 = 2qI_C = 2kTg_m \\rightarrow e_n^2 = \\dfrac{i_{nc}^2}{g_m^2} = \\dfrac{2kT}{g_m} = \\dfrac{2kT}{I_C}\\cdot V_T\n",
    "\\end{equation}\n",
    "\n",
    " - To compare the two device types, the concept of *transconductance efficiency* proves useful, the ratio of transconductance to device current"
   ]
  },
  {
   "cell_type": "markdown",
   "metadata": {
    "slideshow": {
     "slide_type": "subslide"
    }
   },
   "source": [
    " - For the MOSFET, the transconductance efficiency in strong inversion is given by\n",
    " \n",
    "\\begin{equation}\n",
    "\\dfrac{g_m}{I_D} = \\dfrac{2I_D/V_{ov}}{I_D} = \\dfrac{2}{V_{ov}}\n",
    "\\end{equation}\n",
    "\n",
    " - Though $V_{ov}$ varies based on device fabrication and sizing, a representative range of values for moderate drain currents (i.e. milliamps) is $0.2 - 1\\text{V}$, resulting in $g_m/I_D$ values from $2 - 10\\; \\text{S/A}$\n",
    " \n",
    " - For the BJT, trasconductance efficiency in the forward active mode is\n",
    " \n",
    "\\begin{equation}\n",
    "\\dfrac{g_m}{I_C} = \\dfrac{1}{V_T} = \\dfrac{q}{kT}\n",
    "\\end{equation}\n",
    "\n",
    " - At $300K$, $g_m/I_C \\approx 40 \\text{S/A} $, making BJT's far superior to FETs in terms of transconductance efficiency\n",
    " \n",
    " - To achieve higher values of $g_m/I_D$, FETs must be operated with lower current densities, increasing gate capacitance and impacting bandwidth/stability"
   ]
  },
  {
   "cell_type": "markdown",
   "metadata": {
    "slideshow": {
     "slide_type": "subslide"
    }
   },
   "source": [
    " - Returning to the question of input voltage noise (still neglecting $r_b$), we have\n",
    " \n",
    "\\begin{equation}\n",
    "e_{n,BJT}^2 = \\dfrac{2kT}{g_m} \\;\\;\\;\\; e_{n,FET}^2 = \\dfrac{4kT\\gamma}{g_m}\n",
    "\\end{equation}\n",
    "\n",
    " - Using the concept of transconductance efficiency we can rewrite these expressions as\n",
    " \n",
    "\\begin{equation}\n",
    "e_{n,BJT}^2 = \\dfrac{2kT}{(g_m/I_C)\\cdot I_C} \\;\\;\\;\\; e_{n,FET}^2 = \\dfrac{4kT\\gamma}{(g_m/I_D)\\cdot I_D}\n",
    "\\end{equation}\n",
    "\n",
    " - As an example, assuming $I_D = I_C = 1mA$ and $g_m/I_D = 5\\; \\text{S/A}$ results in $e_{n,BJT} \\approx 0.5 nV/\\sqrt{Hz}$ and $e_{n,MOS} \\approx 1.5 nV/\\sqrt{Hz}$ \n",
    "\n",
    " - For increased values of $f_T$, the required reduction in channel length results in an increase in the excess noise factor $gamma$, further increasing the gap between the two types of devices\n",
    "\n",
    " - As a result, for low to moderate source impedances (assuming small $r_b$), a BJTs typically significantly outperform MOSFETs"
   ]
  },
  {
   "cell_type": "markdown",
   "metadata": {
    "slideshow": {
     "slide_type": "slide"
    }
   },
   "source": [
    "## Effect of source impedance"
   ]
  },
  {
   "cell_type": "markdown",
   "metadata": {},
   "source": [
    " - Assuming an ideal BJT (i.e. one with no base resistance or $1/f$ noise), we can compare the noise performance of BJT and FET devices"
   ]
  },
  {
   "cell_type": "code",
   "execution_count": 75,
   "metadata": {
    "slideshow": {
     "slide_type": "-"
    }
   },
   "outputs": [],
   "source": [
    "Rs = np.logspace(0, 6, num=600)\n",
    "IC = 1e-3\n",
    "ID = IC\n",
    "beta = 400\n",
    "r_b = 10\n",
    "gm_over_ID = 5\n",
    "gm_BJT = IC/(k*T/q)\n",
    "gm_MOS = gm_over_ID*ID\n",
    "in_BJT_2 = 2*q*IC/beta\n",
    "en_BJT_2 = 4*k*T*r_b + 2*k*T/gm_BJT + in_BJT_2*Rs**2\n",
    "en_MOS_2 = 4*k*T*gamma/gm_MOS*np.ones(np.size(Rs))"
   ]
  },
  {
   "cell_type": "code",
   "execution_count": 76,
   "metadata": {
    "slideshow": {
     "slide_type": "subslide"
    }
   },
   "outputs": [
    {
     "data": {
      "image/png": "[encoded data removed]",
      "text/plain": [
       "<Figure size 720x540 with 1 Axes>"
      ]
     },
     "metadata": {
      "needs_background": "light"
     },
     "output_type": "display_data"
    }
   ],
   "source": [
    "plot_loglog2(Rs, np.sqrt(en_BJT_2), np.sqrt(en_MOS_2), \n",
    "           r'Source Resistance [$\\Omega$]', r'Voltage Noise Density [$V/\\sqrt{Hz}$]',\n",
    "           'BJT Noise', 'MOS Noise')"
   ]
  },
  {
   "cell_type": "markdown",
   "metadata": {},
   "source": [
    " - Thus,  for moderate currents, and depending on the values of $r_b$ and MOS $g_m/I_D$, BJT's tend be go-to devices for source resistances below a few $k\\Omega$, and beyond this FETs will generally outperform\n",
    "\n",
    " - However, BJT's are superior devices in a number of other ways, including lower input capacitance for a given $g_m$, lower $1/f$ noise, and more stable/predictable characteristics\n",
    "\n",
    " - Let's take a look at how the two device types perform in terms of noise factor/figure..."
   ]
  },
  {
   "cell_type": "code",
   "execution_count": 77,
   "metadata": {
    "scrolled": false,
    "slideshow": {
     "slide_type": "subslide"
    }
   },
   "outputs": [
    {
     "data": {
      "image/png": "[encoded data removed]",
      "text/plain": [
       "<Figure size 720x540 with 1 Axes>"
      ]
     },
     "metadata": {
      "needs_background": "light"
     },
     "output_type": "display_data"
    }
   ],
   "source": [
    "NF_BJT = 10*np.log10((en_BJT_2 + 4*k*T*Rs)/(4*k*T*Rs))\n",
    "NF_MOS = 10*np.log10((en_MOS_2 + 4*k*T*Rs)/(4*k*T*Rs))\n",
    "\n",
    "plot_log2xy(Rs, NF_BJT, NF_MOS, \n",
    "           r'Source Resistance [$\\Omega$]', r'Noise Figure [$dB$]',\n",
    "           'BJT NF', 'MOS NF')"
   ]
  },
  {
   "cell_type": "markdown",
   "metadata": {},
   "source": [
    " - Unsurprisingly, the BJT achieves a superior noise figure for moderate values of $R_s$, but suffers as $R_s$ increases\n",
    " \n",
    " - Why not just decrease collector current to increase $R_{opt}$ as $R_s$ increases?\n",
    " \n"
   ]
  },
  {
   "cell_type": "markdown",
   "metadata": {
    "slideshow": {
     "slide_type": "slide"
    }
   },
   "source": [
    "## Other considerations"
   ]
  },
  {
   "cell_type": "markdown",
   "metadata": {},
   "source": [
    " - Let's assume we have a source with equivalent resistance $R_s = 1M\\Omega$ and a signal bandwidth of $10kHz$. We could design our BJT amplifier such that $R_{opt} = R_s$. \n",
    " \n",
    " - Recall that in the shot-noise-limited regime $R_{opt}$ is given by\n",
    " \n",
    "\\begin{equation}\n",
    "R_{opt} \\approx \\dfrac{V_T}{I_C}\\sqrt{\\beta_0}\n",
    "\\end{equation}\n",
    "\n",
    " - Let $\\beta_0 = 200$. Assuming we're operating at room temperature, the condition $R_{opt} = R_s$ requires\n",
    " \n",
    "\\begin{equation}\n",
    "I_{C} \\approx \\dfrac{V_T}{R_{opt}}\\sqrt{\\beta_0} = 365nA\n",
    "\\end{equation}\n",
    "\n",
    " - Thes use of such low collector currents leads to precipitously low values of $f_T$, drastically reducing the usable frequency range of the device\n"
   ]
  },
  {
   "cell_type": "markdown",
   "metadata": {
    "slideshow": {
     "slide_type": "slide"
    }
   },
   "source": [
    "## Summary"
   ]
  },
  {
   "cell_type": "markdown",
   "metadata": {},
   "source": [
    " - The primary noise mechanism in MOSFET and JFET devices is the thermal agitation of charge carriers in the channel \n",
    "\n",
    " - Thermal noise density in MOSFETs depends on the excess noise factor $\\gamma$, which has a minimum value of $\\frac{2}{3}$ in saturation and can be $2-3$ times higher, particularly for high values of $f_T$\n",
    " \n",
    " - $1/f$ noise is more prounounced in FET devices relative to BJTs, particularly in MOSFETs due to defects at the oxide-silicon interface\n",
    "  \n",
    " - Gate current noise in FETs is extremely low at low to moderate frequencies, but can increase substantially at high frequencies/temperatures\n",
    " \n",
    " - BJTs outperform FETs in terms of thermal noise, in part due to their higher transconductance efficiency, but FETs are generally superior for applications involving high source resistances\n"
   ]
  },
  {
   "cell_type": "code",
   "execution_count": null,
   "metadata": {},
   "outputs": [],
   "source": []
  }
 ],
 "metadata": {
  "celltoolbar": "Slideshow",
  "kernelspec": {
   "display_name": "Python 3",
   "language": "python",
   "name": "python3"
  },
  "language_info": {
   "codemirror_mode": {
    "name": "ipython",
    "version": 3
   },
   "file_extension": ".py",
   "mimetype": "text/x-python",
   "name": "python",
   "nbconvert_exporter": "python",
   "pygments_lexer": "ipython3",
   "version": "3.8.2"
  },
  "livereveal": {
   "controls": false,
   "scroll": true,
   "theme": "simple"
  },
  "rise": {
   "enable_chalkboard": true,
   "slideNumber": true
  }
 },
 "nbformat": 4,
 "nbformat_minor": 4
}
