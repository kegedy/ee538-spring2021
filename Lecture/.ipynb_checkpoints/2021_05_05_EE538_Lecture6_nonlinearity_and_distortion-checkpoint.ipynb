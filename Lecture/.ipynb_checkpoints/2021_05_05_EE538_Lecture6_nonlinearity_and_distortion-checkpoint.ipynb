{
 "cells": [
  {
   "cell_type": "markdown",
   "metadata": {
    "cell_style": "center",
    "slideshow": {
     "slide_type": "slide"
    }
   },
   "source": [
    "# EE 538: Low-Noise Analog Circuit Design\n",
    "## Spring 2021\n",
    "## Instructor: Jason Silver"
   ]
  },
  {
   "cell_type": "markdown",
   "metadata": {
    "slideshow": {
     "slide_type": "slide"
    }
   },
   "source": [
    "## Announcements"
   ]
  },
  {
   "cell_type": "markdown",
   "metadata": {
    "slideshow": {
     "slide_type": "-"
    }
   },
   "source": [
    " - Jason's office hours moved to Saturdays at 11am\n",
    " - Assignment 4 due Sunday, May 2 at midnight\n",
    " - Assignment 5 will be posted Saturday, May 1\n",
    " - Midterm exam will be posted Saturday, May 1\n",
    "     - Online format administered as a quiz on Canvas"
   ]
  },
  {
   "cell_type": "markdown",
   "metadata": {
    "slideshow": {
     "slide_type": "slide"
    }
   },
   "source": [
    "## Week 6"
   ]
  },
  {
   "cell_type": "markdown",
   "metadata": {
    "slideshow": {
     "slide_type": "-"
    }
   },
   "source": [
    " - EE538 lecture notes\n",
    " - Analysis and Design of Analog Integrated Circuits, $5^{th}$ Edition\n",
    " - The Design of CMOS Radio-Frequency Integrated Circuits, $2^{nd}$ Edition"
   ]
  },
  {
   "cell_type": "markdown",
   "metadata": {
    "slideshow": {
     "slide_type": "slide"
    }
   },
   "source": [
    "## Overview"
   ]
  },
  {
   "cell_type": "markdown",
   "metadata": {
    "slideshow": {
     "slide_type": "-"
    }
   },
   "source": [
    " - Last time...\n",
    "     - Noise in common-emitter stages\n",
    "     - Active load and current mirror noise\n",
    "     - Cascode and parallel stages\n",
    "     - Differential amplifier noise\n",
    " - Today...\n",
    "     - Nonlinear device characteristics\n",
    "     - Distortion in amplifiers\n",
    "     - Total harmonic distortion\n",
    "     - Intermodulation distortion\n",
    "     - Effect of feedback on nonlinearity"
   ]
  },
  {
   "cell_type": "markdown",
   "metadata": {
    "slideshow": {
     "slide_type": "skip"
    }
   },
   "source": [
    "## Python packages/modules"
   ]
  },
  {
   "cell_type": "code",
   "execution_count": 3,
   "metadata": {
    "slideshow": {
     "slide_type": "skip"
    }
   },
   "outputs": [],
   "source": [
    "import matplotlib as mpl\n",
    "from matplotlib import pyplot as plt\n",
    "from matplotlib import ticker, cm\n",
    "import numpy as np\n",
    "from scipy import signal\n",
    "from scipy import integrate\n",
    "from scipy.fft import fft\n",
    "#%matplotlib notebook\n",
    "\n",
    "mpl.rcParams['font.size'] = 14\n",
    "mpl.rcParams['legend.fontsize'] = 'large'\n",
    "\n",
    "def plot_xy(x, y, xlabel, ylabel):\n",
    "    fig, ax = plt.subplots(figsize=(10.0, 7.5));\n",
    "    ax.plot(x, y, 'b')\n",
    "    ax.grid()\n",
    "    ax.set_xlabel(xlabel)\n",
    "    ax.set_ylabel(ylabel)\n",
    "    \n",
    "def plot_2xy(x, y1, y2, xlabel, ylabel, y1label, y2label):\n",
    "    fig, ax = plt.subplots(figsize=(10.0,7.5))\n",
    "    \n",
    "    ax.plot(x, y1, 'b', label=y1label)\n",
    "    ax.plot(x, y2, 'r', label=y2label)\n",
    "    ax.set_ylabel(ylabel)\n",
    "    ax.set_xlabel(xlabel)\n",
    "    ax.grid()    \n",
    "    \n",
    "    ax.legend()\n",
    "    ax.legend(loc='upper center', ncol=2, fancybox=True, \n",
    "               shadow=True, bbox_to_anchor=(0.5,1.13) )     \n",
    "\n",
    "def plot_xy2(x1, y1, x1label, y1label, x2, y2, x2label, y2label):\n",
    "    fig, ax = plt.subplots(2, figsize = (10.0, 7.5));\n",
    "    ax[0].plot(x1, y1, 'b')\n",
    "    ax[0].set_ylabel(y1label)\n",
    "    ax[0].grid()\n",
    "    \n",
    "    ax[1].plot(x2, y2, 'b')\n",
    "    ax[1].set_xlabel(x1label)\n",
    "    ax[1].set_xlabel(x2label)\n",
    "    ax[1].set_ylabel(y2label)\n",
    "    ax[1].grid()\n",
    "    \n",
    "    fig.align_ylabels(ax[:])\n",
    "\n",
    "def plot_xy3(x, y1, y2, y3, xlabel, y1label, y2label, y3label):\n",
    "    fig, ax = plt.subplots(3, figsize=(10.0,7.5))\n",
    "    \n",
    "    ax[0].plot(x, y1)\n",
    "    ax[0].set_ylabel(y1label)\n",
    "    ax[0].grid()\n",
    "    \n",
    "    ax[1].plot(x, y2)\n",
    "    ax[1].set_ylabel(y2label)\n",
    "    ax[1].grid()\n",
    "    \n",
    "    ax[2].plot(x, y3)  \n",
    "    ax[2].set_ylabel(y3label)\n",
    "    ax[2].set_xlabel(xlabel)\n",
    "    ax[2].grid()\n",
    "    \n",
    "def plot_logxy3(x, y1, y2, y3, xlabel, y1label, y2label, y3label):\n",
    "    fig, ax = plt.subplots(3, figsize=(10.0,7.5))\n",
    "    \n",
    "    ax[0].semilogx(x, y1)\n",
    "    ax[0].set_ylabel(y1label)\n",
    "    ax[0].grid()\n",
    "    \n",
    "    ax[1].semilogx(x, y2)\n",
    "    ax[1].set_ylabel(y2label)\n",
    "    ax[1].grid()\n",
    "    \n",
    "    ax[2].semilogx(x, y3)  \n",
    "    ax[2].set_ylabel(y3label)\n",
    "    ax[2].set_xlabel(xlabel)\n",
    "    ax[2].grid()\n",
    "\n",
    "def plot_logxy(x, y, xlabel, ylabel):\n",
    "    fig, ax = plt.subplots(figsize=(10.0, 7.5))\n",
    "    ax.semilogx(x, y, 'b')\n",
    "    ax.grid();\n",
    "    ax.set_xlabel(xlabel)\n",
    "    ax.set_ylabel(ylabel)    \n",
    "    \n",
    "def plot_log3xy(x, y1, y2, y3, xlabel, ylabel, y1label, y2label, y3label):\n",
    "    fig, ax = plt.subplots(figsize=(10.0,7.5))\n",
    "    \n",
    "    ax.semilogx(x, y1, 'b', label=y1label)\n",
    "    ax.semilogx(x, y2, 'r', label=y2label)\n",
    "    ax.semilogx(x, y3, 'g', label=y3label)  \n",
    "    ax.set_ylabel(ylabel)\n",
    "    ax.set_xlabel(xlabel)\n",
    "    ax.grid()    \n",
    "    \n",
    "    ax.legend()\n",
    "    ax.legend(loc='upper center', ncol=3, fancybox=True, \n",
    "               shadow=True, bbox_to_anchor=(0.5,1.13) )  \n",
    "    \n",
    "def plot_log2xy(x, y1, y2, xlabel, ylabel, y1label, y2label):\n",
    "    fig, ax = plt.subplots(figsize=(10.0,7.5))\n",
    "    \n",
    "    ax.semilogx(x, y1, 'b', label=y1label)\n",
    "    ax.semilogx(x, y2, 'r', label=y2label)\n",
    "    ax.set_ylabel(ylabel)\n",
    "    ax.set_xlabel(xlabel)\n",
    "    ax.grid()    \n",
    "    \n",
    "    ax.legend()\n",
    "    ax.legend(loc='upper center', ncol=2, fancybox=True, \n",
    "               shadow=True, bbox_to_anchor=(0.5,1.13) )  \n",
    "    \n",
    "def plot_loglog(x, y, xlabel, ylabel):\n",
    "    fig, ax = plt.subplots(figsize=(10.0, 7.5))\n",
    "    ax.loglog(x, y, 'b')\n",
    "    ax.grid();\n",
    "    ax.set_xlabel(xlabel)\n",
    "    ax.set_ylabel(ylabel)\n",
    "    \n",
    "    \n",
    "def plot_loglog2(x, y1, y2, xlabel, ylabel, y1label, y2label):\n",
    "    fig, ax = plt.subplots(figsize=(10.0,7.5))\n",
    "    \n",
    "    ax.loglog(x, y1, 'b', label=y1label)\n",
    "    ax.loglog(x, y2, 'r', label=y2label)\n",
    "    ax.set_ylabel(ylabel)\n",
    "    ax.set_xlabel(xlabel)\n",
    "    ax.grid()    \n",
    "    \n",
    "    ax.legend()\n",
    "    ax.legend(loc='upper center', ncol=2, fancybox=True, \n",
    "               shadow=True, bbox_to_anchor=(0.5,1.13) )  \n",
    "    \n",
    "def plot_xlogy(x, y, xlabel, ylabel):\n",
    "    fig, ax = plt.subplots(figsize=(10.0, 7.5));\n",
    "    ax.semilogy(x, y, 'b');\n",
    "    ax.grid();\n",
    "    ax.set_xlabel(xlabel);\n",
    "    ax.set_ylabel(ylabel);\n",
    "    \n",
    "def read_ltspice_ac(file_name):\n",
    "    with open(file_name, 'r') as data:\n",
    "        x = []\n",
    "        y = []\n",
    "        z = []\n",
    "        next(data) # skip header line\n",
    "        for line in data:\n",
    "            p = line.split()\n",
    "            x.append(float(p[0]))\n",
    "            complex = p[1].split(\",\")\n",
    "            y.append(float(complex[0]))\n",
    "            z.append(float(complex[1]))\n",
    "\n",
    "    return x, y, z\n",
    "\n",
    "def plot_logxy2(x1, y1, x2, y2, x1label, y1label, x2label, y2label):\n",
    "    fig, ax = plt.subplots(2, figsize = (10.0, 7.5));\n",
    "    ax[0].semilogx(x1, y1, 'b');\n",
    "    ax[0].set_ylabel(y1label)\n",
    "    ax[0].grid()\n",
    "    \n",
    "    ax[1].semilogx(x2, y2, 'b');\n",
    "    ax[1].set_xlabel(x1label)\n",
    "    ax[1].set_xlabel(x2label);\n",
    "    ax[1].set_ylabel(y2label);\n",
    "    ax[1].grid();\n",
    "    \n",
    "    fig.align_ylabels(ax[:])\n",
    "    \n",
    "def plot_noise_bandwidth(f, mag):\n",
    "    fig, ax = plt.subplots(2, figsize=(10.0,7.5))\n",
    "    ax[0].semilogx(f, RC_mag)\n",
    "    ax[0].set_xscale(\"log\")\n",
    "    ax[0].set_xlim(f[0], f[-1])\n",
    "    ax[0].set_xticks(np.logspace(0.1,4,5))\n",
    "    ax[0].set_xticklabels([])\n",
    "    ax[0].set_ylabel('Magnitude [V/V]')\n",
    "    ax[0].set_title('Equivalent Noise Bandwidth')\n",
    "    ax[0].grid()\n",
    "\n",
    "    ax[1].hlines(1, 0, f_enb, color='tab:blue')\n",
    "    ax[1].hlines(0, f_enb, f[-1], color='tab:blue')\n",
    "    ax[1].vlines(f_enb, 0, 1, color='tab:blue')\n",
    "    ax[1].set_xlim(f[0], f[-1])\n",
    "    ax[1].set_xscale(\"log\")\n",
    "    ax[1].set_xticks(np.logspace(0.1,4,5))\n",
    "    ax[1].set_xticklabels([r'$10^0$',r'$10^1$', r'$10^2$', r'$10^3$', r'$10^4$'])\n",
    "    ax[1].set_ylabel('Magnitude [V/V]')\n",
    "    ax[1].set_xlabel('Frequency [Hz]')\n",
    "    ax[1].grid()\n",
    "    \n",
    "def noise_hist(vnoise, vn_rms, bins):\n",
    "    fig = plt.figure( figsize=(10.0,7.5) )\n",
    "    vn_norm = vnoise/ vn_rms\n",
    "    ax = fig.add_subplot(111)\n",
    "    n, bins, rectangles = ax.hist(vn_norm, bins, density=True, range=(-3, 3),\n",
    "                                 color='b')\n",
    "    ax.set_xlabel(r'Sample Voltage [$v_{n(rms)}$]')\n",
    "    ax.set_ylabel('Probability Density')\n",
    "    ax.grid()\n",
    "    fig.canvas.draw()\n",
    "\n",
    "def plot_NF_vs_Rs(en_vals, in_vals, Rs_min, Rs_max, T_in_K):\n",
    "    fig, ax = plt.subplots(figsize=(10.0, 7.5))\n",
    "    k = 1.38e-23\n",
    "    Rs = np.logspace(np.log10(Rs_min), np.log10(Rs_max), num=200)\n",
    "    F1 = 1 + (en_vals[0]**2+Rs**2*in_vals[0]**2)/(4*k*T_in_K*Rs)\n",
    "    F2 = 1 + (en_vals[1]**2+Rs**2*in_vals[1]**2)/(4*k*T_in_K*Rs)\n",
    "    F3 = 1 + (en_vals[2]**2+Rs**2*in_vals[2]**2)/(4*k*T_in_K*Rs)\n",
    "    ax.semilogx(Rs, 10*np.log10(F1), 'b', label=r'$e_{n1}$, $i_{n1}$')\n",
    "    ax.semilogx(Rs, 10*np.log10(F2), 'r', label=r'$e_{n2}$, $i_{n2}$')\n",
    "    ax.semilogx(Rs, 10*np.log10(F3), 'g', label=r'$e_{n3}$, $i_{n3}$')\n",
    "    ax.grid();\n",
    "    ax.set_xlabel(r'Source Resistance $R_s [\\Omega]$')\n",
    "    ax.set_ylabel(r'Noise Figure $NF$ [$dB$]')  \n",
    "    \n",
    "    ax.legend()\n",
    "    ax.legend(loc='upper center', ncol=3, fancybox=True, \n",
    "               shadow=True, bbox_to_anchor=(0.5,1.13) )  \n",
    "    \n",
    "def plot_noise_curve(e_n, i_n, Rs_min, Rs_max):\n",
    "    fig, ax = plt.subplots(figsize=(10.0, 7.5))\n",
    "    Rs = np.logspace(np.log10(Rs_min), np.log10(Rs_max), num=200)\n",
    "    e_ni_2 = 4*k*T*Rs + e_n**2 + i_n**2*Rs**2\n",
    "    ax.loglog(Rs, np.sqrt(e_ni_2), 'b', label='Total Noise')\n",
    "    ax.loglog(Rs, np.sqrt(4*k*T*Rs), 'r', label=r'$\\sqrt{4kTR_s}$')\n",
    "    ax.loglog(Rs, e_n*np.ones(np.size(Rs)), 'g', label=r'$e_n$')\n",
    "    ax.loglog(Rs, i_n*Rs, 'y', label=r'$i_n R_s$')\n",
    "    ax.grid();\n",
    "    ax.set_xlabel(r'Source Resistance $R_s [\\Omega]$')\n",
    "    ax.set_ylabel(r'Equivalent Input Noise [$V/\\sqrt{Hz}$]')\n",
    "    \n",
    "    ax.legend()\n",
    "    ax.legend(loc='upper center', ncol=4, fancybox=True, \n",
    "               shadow=True, bbox_to_anchor=(0.5,1.13) )   \n",
    "    \n",
    "def plot_bjt_NF(beta, r_bb, Rmin, Rmax, Imin, Imax):\n",
    "    fig, ax = plt.subplots(figsize=(10.0, 7.5))\n",
    "    k = 1.38e-23\n",
    "    T = 300\n",
    "    q = 1.602e-19\n",
    "    V_T = k*T/q\n",
    "    rs = np.logspace(np.log10(Rmin), np.log10(Rmax), num = 100)\n",
    "    ic = np.logspace(np.log10(Imin), np.log10(Imax), num = 100)\n",
    "    I_C, R_S = np.meshgrid(ic, rs)\n",
    "    e_n_2 = 4*k*T*(V_T/2/I_C + r_bb)\n",
    "    i_n_2 = 2*q*I_C/beta_0\n",
    "    NF = 1 + (e_n_2 + i_n_2*R_S**2)/(4*k*T*R_S)\n",
    "    cp = ax.contourf(I_C, R_S, 10*np.log10(NF), levels=np.linspace(0,15, num=16))\n",
    "    plt.xscale('log')\n",
    "    plt.yscale('log')\n",
    "    plt.ylabel(r'Source Resistance $R_s$ [$\\Omega$]')\n",
    "    plt.xlabel(r'Collector Current $I_C$ [A]')\n",
    "    fig.colorbar(cp)\n",
    "\n",
    "def fftnoise(f):\n",
    "    f = np.array(f, dtype='complex')\n",
    "    Np = (len(f) - 1) // 2\n",
    "    phases = np.random.rand(Np) * 2 * np.pi\n",
    "    phases = np.cos(phases) + 1j * np.sin(phases)\n",
    "    f[1:Np+1] *= phases\n",
    "    f[-1:-1-Np:-1] = np.conj(f[1:Np+1])\n",
    "    return np.fft.ifft(f).real\n",
    "\n",
    "def band_limited_noise(min_freq, max_freq, samples=1024, samplerate=1):\n",
    "    freqs = np.abs(np.fft.fftfreq(samples, 1/samplerate))\n",
    "    f = np.zeros(samples)\n",
    "    idx = np.where(np.logical_and(freqs>=min_freq, freqs<=max_freq))[0]\n",
    "    f[idx] = 1\n",
    "    return fftnoise(f)\n",
    "\n",
    "def fft_mag(x, N, T, t):\n",
    "    fft_sig  = fft(x, N)  \n",
    "    freqs = np.linspace(0.0, 1.0/(2.0*T), N//2)\n",
    "    mags = 2.0/N * np.abs(fft_sig[0:N//2]) # single-sided FFT\n",
    "    \n",
    "    return freqs, mags\n",
    "\n",
    "def plot_fft_dB(freqs, mags, fmin, fmax):\n",
    "    fig, ax = plt.subplots(figsize = (10.0,7.5))\n",
    "    ax.plot(1e-3*freqs, 20*np.log10(mags), 'b')\n",
    "    ax.set_xlim(fmin, fmax)\n",
    "    ax.set_xlabel('Frequency [kHz]')\n",
    "    ax.set_ylabel('Magnitude [dB]')\n",
    "    ax.grid()"
   ]
  },
  {
   "cell_type": "markdown",
   "metadata": {
    "slideshow": {
     "slide_type": "slide"
    }
   },
   "source": [
    "# Lecture 6 - Nonlinearity and Distortion"
   ]
  },
  {
   "cell_type": "markdown",
   "metadata": {
    "slideshow": {
     "slide_type": "slide"
    }
   },
   "source": [
    "## Nonlinear characteristics of semiconductor devices"
   ]
  },
  {
   "cell_type": "markdown",
   "metadata": {},
   "source": [
    " - Semiconductor devices (i.e. diodes and transistors), like most physical systems, are by nature nonlinear in their operation\n",
    " \n",
    " - For example, the collector current of a BJT depends exponentially on the base-emitter voltage\n",
    " \n",
    "\\begin{equation}\n",
    "I_C = I_S \\exp\\left(\\dfrac{V_{be}}{V_T}\\right)\n",
    "\\end{equation}\n",
    "\n",
    " - Similarly, the drain current of a MOSFET in strong inversion depends quadratically on the gate-source voltage:\n",
    " \n",
    "\\begin{equation}\n",
    "I_D = \\dfrac{1}{2}\\mu C_{ox}\\dfrac{W}{L}(V_{gs} - V_{th})^2\n",
    "\\end{equation}\n",
    " \n",
    " - In analog design, we often assume \"small-signal\" operation, and linearize our model about an operating point\n",
    " \n",
    " - What are the bounds of the \"small-signal approximation,\" and what happens when we exceed them?"
   ]
  },
  {
   "cell_type": "markdown",
   "metadata": {
    "slideshow": {
     "slide_type": "slide"
    }
   },
   "source": [
    "## Taylor series expansion"
   ]
  },
  {
   "cell_type": "markdown",
   "metadata": {},
   "source": [
    " - A Taylor series is the expression of a function as an infinite sum of its derivatives about a single point \n",
    " \n",
    " - Given a function $f(x)$ and a point $x=a$ (and assuming certain requirements like infinite differentiability at $a$), $f(x)$ can be expressed as \n",
    " \n",
    "\\begin{align}\n",
    "f(x) &= f(a)+{\\frac {f'(a)}{1!}}(x-a)+{\\frac {f''(a)}{2!}}(x-a)^{2}+{\\frac {f'''(a)}{3!}}(x-a)^{3}+\\cdots \\\\\n",
    "&=\\sum _{n=0}^{\\infty }{\\frac {f^{(n)}(a)}{n!}}(x-a)^{n}\n",
    "\\end{align}\n",
    "\n",
    " - The series is typically truncated using an appropriate number of terms to express the function as a finite polynomial\n",
    " \n",
    " - The McLaurin series is a special case of the Taylor series, i.e. that of $a = 0$\n",
    " \n",
    "\\begin{align}\n",
    "f(x) &= f(0)+{\\frac {f'(0)}{1!}}x+{\\frac {f''(0)}{2!}}x^{2}+{\\frac {f'''(0)}{3!}}x^{3}+\\cdots \\\\\n",
    "\\end{align}"
   ]
  },
  {
   "cell_type": "markdown",
   "metadata": {
    "slideshow": {
     "slide_type": "slide"
    }
   },
   "source": [
    "## MOSFET nonlinearity"
   ]
  },
  {
   "cell_type": "markdown",
   "metadata": {},
   "source": [
    " - We can evaluate the nonlinearity of the MOSFET by expanding the drain current equation and assessing the magnitude of the nonlinear term(s)\n",
    " \n",
    "\\begin{align}\n",
    "I_d(v_{gs}) &= \\dfrac{1}{2}\\mu C_{ox}\\dfrac{W}{L}(V_{GS} - V_{th} + v_{gs})^2 = \\dfrac{1}{2}\\mu C_{ox}\\dfrac{W}{L}(V_{ov} + v_{gs})^2 \\\\\n",
    "&= \\dfrac{1}{2}\\mu C_{ox}\\dfrac{W}{L} [V_{ov}^2 + 2V_{ov}v_{gs} + v_{gs}^2] \\\\\n",
    "&= \\dfrac{1}{2}\\mu C_{ox}\\dfrac{W}{L}V_{ov}^2 +\\mu C_{ox}\\dfrac{W}{L}V_{ov}v_{gs} + \\dfrac{1}{2}\\mu C_{ox}\\dfrac{W}{L}v_{gs}^2\\\\\n",
    "&= I_{D0}\\left(1+ \\dfrac{2}{V_{ov}}v_{gs} + \\dfrac{1}{V_{ov}^2}v_{gs}^2\\right)\\\\\n",
    "&= a_0 + a_1v_{gs} + a_2v_{gs}^2\n",
    "\\end{align}\n",
    "\n",
    " - In this case obtaining the Taylor series is straightforward, since the drain current expression is already in the form of a polynomial\n",
    " \n",
    " - Here, $a_0 = I_{D0}$ (DC current), $a_1 = g_m$ (transconductance), and $a_2$ is the second-order nonlinear coefficient"
   ]
  },
  {
   "cell_type": "markdown",
   "metadata": {
    "slideshow": {
     "slide_type": "slide"
    }
   },
   "source": [
    "## BJT nonlinearity"
   ]
  },
  {
   "cell_type": "markdown",
   "metadata": {},
   "source": [
    " - The nonlinearity of the BJT can be evaluated with the aid of a McLaurin series expansion of its characteristic about an operating point\n",
    " \n",
    " - First express the collector current as a combination of bias and small-signal terms\n",
    " \n",
    "\\begin{equation}\n",
    "I_c = I_S\\exp\\left(\\dfrac{V_{BE0}+v_{be}}{V_T}\\right) = I_S\\exp\\left(\\dfrac{V_{BE0}}{V_T}\\right)\\exp\\left(\\dfrac{v_{be}}{V_T}\\right) = I_{C0}\\exp\\left(\\dfrac{v_{be}}{V_T}\\right)\n",
    "\\end{equation}\n",
    "\n",
    " - Then use the McLaurin series to determine coefficients\n",
    "\n",
    "\\begin{align}\n",
    "I_c(v_{be}) &= I_{C0} \\left(1 +\\dfrac{1}{V_T}v_{be} + \\dfrac{1}{2V_T^2}v_{be}^2 + \\dfrac{1}{6V_T^3}v_{be}^3 \\right) + \\cdots\\\\\n",
    "I_c(v_{be}) &= a_0  + a_1v_{be} + a_2v_{be}^2 + a_3v_{be}^3 + \\cdots\n",
    "\\end{align}\n",
    "\n",
    " - Here again, $a_1$ represents the DC bias current $I_{C0}$, $a_1$ the transconductance $g_m$, and $a_2$ and $a_3$ the second- and third-order nonlinear coeffcients"
   ]
  },
  {
   "cell_type": "markdown",
   "metadata": {
    "slideshow": {
     "slide_type": "slide"
    }
   },
   "source": [
    "## Common-emitter nonlinearity"
   ]
  },
  {
   "cell_type": "markdown",
   "metadata": {},
   "source": [
    " - Given the nonlinear relationship between the base-emitter voltage and the collector current of the BJT, we can determine a nonlinear expression for the output voltage of a common-emitter amplifier with load resistance $R_C$\n",
    " \n",
    "\\begin{align}\n",
    "V_o &= V_{CC} - I_c(v_i) R_C \\\\\n",
    "&= V_{CC} - [a_o + a_1 v_i + a_2 v_i^2 + a_3 v_i^3 + \\cdots]R_C\n",
    "\\end{align}\n",
    "\n",
    " - Substituting in the expressions for $a_0$, $a_1$, $\\cdots$ gives\n",
    " \n",
    "\\begin{align}\n",
    "V_o &= V_{CC} - I_c V_i \\\\\n",
    "&= V_{CC} - I_{C0}\\left[1 + \\dfrac{1}{V_T} v_i + \\dfrac{1}{2V_T^2} v_i^2 + \\dfrac{1}{6V_T^3} v_i^3 + \\cdots\\right]R_C\n",
    "\\end{align}\n",
    "\n",
    " - While the linear (transconductance) term is independent of the amplitude of $v_i$, the higher-order terms aren't (definition of nonlinearity)\n",
    " \n",
    " - If we ignore the higher-order terms we obtain the small-signal approximation\n",
    " \n",
    "\\begin{align}\n",
    "V_o &\\approx V_{CC} - I_{C0}R_C + \\dfrac{I_{C0}}{V_T}R_C v_i\n",
    "\\end{align}"
   ]
  },
  {
   "cell_type": "markdown",
   "metadata": {
    "slideshow": {
     "slide_type": "slide"
    }
   },
   "source": [
    "## Harmonic distortion"
   ]
  },
  {
   "cell_type": "markdown",
   "metadata": {},
   "source": [
    " - An amplifier's nonlinearity is commonly specified by *harmonic distortion*, which can be assessed by determining the amplitudes of frequency components at integer multiles (i.e. harmonics) of the input frequency ($2\\omega_0, 3\\omega_0, \\cdots$)\n",
    " \n",
    " - Given a nonlinear transfer function expressed as \n",
    " \n",
    "\\begin{equation}\n",
    "v_{out} = a_0 + a_1 v_{in} + a_2 v_{in}^2 + a_3 v_{in}^3 + \\cdots\n",
    "\\end{equation}\n",
    "\n",
    " - The output voltage given the nonlinear gain characteristic is given approximately by\n",
    " \n",
    "\\begin{equation}\n",
    "v_{out} \\approx a_0 + a_1 A \\sin\\omega_0 t + a_2 A^2 \\sin^2\\omega_0 t + a_3 A^3 \\sin^3\\omega_0 t\n",
    "\\end{equation}\n",
    "\n",
    " - Here we have ignored higher order terms above the $\\sin^3$ terms, though these may have an impact depending on the system under consideration\n",
    " "
   ]
  },
  {
   "cell_type": "markdown",
   "metadata": {
    "slideshow": {
     "slide_type": "subslide"
    }
   },
   "source": [
    " - The output voltage can be expressed as\n",
    " \n",
    "\\begin{equation}\n",
    "v_{out} \\approx a_0 + a_1 A \\sin\\omega_0 t + \\frac{a_2 A^2}{2}(1-\\cos2\\omega_0t) + \\frac{a_3 A^3}{4}(3\\sin\\omega_0 t  - \\sin3\\omega_0 t)\n",
    "\\end{equation}\n",
    "\n",
    " - Combining terms with like frequencies gives\n",
    " \n",
    "\\begin{equation}\n",
    "v_{out} \\approx a_0 + \\frac{a_2 A^2}{2} + \\left(a_1A + \\frac{3 a_3 A^3}{4}\\right) \\sin\\omega_0 t - \\frac{a_2 A^2}{2}\\cos2\\omega_0t - \\frac{a_3 A^3}{4} \\sin3\\omega_0 t\n",
    "\\end{equation}\n",
    "\n",
    " - Second-harmonic distortion is defined as the ratio of the amplitude of the output component at $2\\omega_0$ to the amplitude of the first harmonic (or fundamental) at $\\omega_0$. Assuming $a_1 A\\gg a_3 A^3/4$,   \n",
    " \n",
    "\\begin{equation}\n",
    "HD_2 = \\dfrac{a_2A^2}{2}\\dfrac{1}{a_1 A} = \\dfrac{1}{2}\\dfrac{a_2}{a_1}A\n",
    "\\end{equation}\n",
    "\n",
    " - Thus, $HD_2$ varies linearly with the input signal amplitude"
   ]
  },
  {
   "cell_type": "markdown",
   "metadata": {
    "slideshow": {
     "slide_type": "subslide"
    }
   },
   "source": [
    " - Similarly, third-harmonic distortion is given by\n",
    " \n",
    "\\begin{equation}\n",
    "HD_3 = \\dfrac{a_3 A^3}{4}\\dfrac{1}{a_1 A} = \\dfrac{1}{4}\\dfrac{a_3}{a_1}A^2\n",
    "\\end{equation}\n",
    "\n",
    " - So, $HD_3$ varies quadratically with signal amplitude, meaning that very small amplitude inputs produces little third harmonic distortion, but this grows substantially with increasingly large amplitude signals\n",
    " \n",
    " - $HD_2$ and $HD_3$ are essentially expressions of the second and third harmonic amplitudes as percentages of the fundamental\n",
    " "
   ]
  },
  {
   "cell_type": "markdown",
   "metadata": {
    "slideshow": {
     "slide_type": "slide"
    }
   },
   "source": [
    "## Common-emitter distortion"
   ]
  },
  {
   "cell_type": "markdown",
   "metadata": {
    "cell_style": "center"
   },
   "source": [
    " - The output voltage of the common-emitter amplifier given a sinusoidal input $v_i$ is again given by\n",
    " \n",
    "\\begin{align}\n",
    "V_o &= V_{CC} - I_c V_i \\\\\n",
    "&= V_{CC} - I_{C0}\\left[1 + \\dfrac{1}{V_T} v_i + \\dfrac{1}{2V_T^2} v_i^2 + \\dfrac{1}{6V_T^3} v_i^3 + \\cdots\\right]R_C\n",
    "\\end{align}\n",
    "\n",
    " - Here, $a_1 = g_mR_C$ and $a_2 = I_{C0}R_C/2V_T^2$. $HD_2$ is thus given by\n",
    " \n",
    "\\begin{equation}\n",
    "HD_2 = \\dfrac{1}{2}\\dfrac{a_2}{a_1}A = \\dfrac{1}{4}\\dfrac{1}{V_T}A\n",
    "\\end{equation}\n",
    "\n",
    " - That is, if the input signal amplitude is equal to $V_T$ the ratio of the fundamental to second harmonic is about $1/4$, or $-12dB$\n",
    " \n",
    " - From this it is clear that the input signal amplitude should be kept well below $V_T$ if we want to minimize distortion\n"
   ]
  },
  {
   "cell_type": "markdown",
   "metadata": {
    "slideshow": {
     "slide_type": "subslide"
    }
   },
   "source": [
    " - For small input amplitudes the second harmonic will dominate distortion due to its dependence on the square of the amplitude\n",
    " \n",
    " - However, as the input amplitude increases the higher-order terms will contribute substantially to the total distortion\n",
    " \n",
    " - Taking the common-emitter amplifier as an example, for an input signal with amplitude $V_T/2$, the second and third harmonics are given by\n",
    " \n",
    "\\begin{equation}\n",
    "HD_2 = \\dfrac{1}{4}\\dfrac{1}{V_T}\\dfrac{V_T}{2}= \\dfrac{1}{8} \\;\\;\\;\\;\\;\\; HD_3 = \\dfrac{1}{24}\\dfrac{1}{V_T^2}\\dfrac{V_T^2}{4} = \\dfrac{1}{96}\n",
    "\\end{equation} \n",
    "\n",
    " - However, for an input amplitude of $2V_T$, the situation is somewhat  different\n",
    " \n",
    "\\begin{equation}\n",
    "HD_2 = \\dfrac{1}{4}\\dfrac{1}{V_T}4V_T= \\dfrac{1}{2} \\;\\;\\;\\;\\;\\; HD_3 = \\dfrac{1}{24}\\dfrac{1}{V_T^2}4V_T^2 = \\dfrac{1}{6}\n",
    "\\end{equation}"
   ]
  },
  {
   "cell_type": "markdown",
   "metadata": {
    "slideshow": {
     "slide_type": "subslide"
    }
   },
   "source": [
    "## Common-source distortion"
   ]
  },
  {
   "cell_type": "markdown",
   "metadata": {},
   "source": [
    " - As a comparison, distortion in a common-source amplifier is only second order (assuming strong inversion)\n",
    " \n",
    " - Second-harmonic distortion in a common-source amplifier is given by\n",
    " \n",
    "\\begin{equation}\n",
    "HD_2 = \\dfrac{1}{2}\\dfrac{a_2}{a_1}A = \\dfrac{1}{4}\\dfrac{1}{V_{ov}}A\n",
    "\\end{equation}\n",
    "\n",
    " - This is similar to the $HD_2$ for a common-emitter amplifier, except that it is inversely proportional to $V_{ov}$ instead of $V_T$\n",
    " \n",
    " - This reveals a tradeoff between (transconductance) gain and linearity in the common source amplifier, along with the opportunity to improve linearity by reducing $g_m$ (any potential issues with this?)"
   ]
  },
  {
   "cell_type": "markdown",
   "metadata": {
    "slideshow": {
     "slide_type": "slide"
    }
   },
   "source": [
    "## Differential pair distortion"
   ]
  },
  {
   "cell_type": "markdown",
   "metadata": {},
   "source": [
    " - The nonlinearity of a differential pair can be assessed using the Taylor series expansion of the hyperbolic tangent function:\n",
    "\n",
    "\\begin{align}\n",
    "V_{od} = V_{op} - V_{om} &= \\alpha I_{TAIL}R_C\\tanh\\left(\\dfrac{-V_{id}}{2V_T}\\right)\\\\\n",
    "&= \\alpha I_{TAIL}R_C\\left[\\dfrac{V_{id}}{2V_T}-\\dfrac{1}{3}\\left(\\dfrac{V_{id}}{2V_T}\\right)^3+\\dfrac{2}{15}\\left(\\dfrac{V_{id}}{2V_T}\\right)^5−\\dfrac{17}{315}\\left(\\dfrac{V_{id}}{2V_T}\\right)^7-\\cdots\\right]\n",
    "\\end{align}\n",
    "\n",
    " - An interesting aspect of this expression is the absence of even-order terms, which is due to the symmetry of the the differential amplifier\n",
    " \n",
    " - Third harmonic distortion in the BJT differential pair is given by\n",
    " \n",
    "\\begin{equation}\n",
    "HD_3 = \\dfrac{1}{4}\\dfrac{a_3}{a_1}V_{id}^2 = \\dfrac{1}{4}\\dfrac{2V_T}{24V_T^3}V_{id}^2 = \\dfrac{V_{id}^2}{48V_T^2}\n",
    "\\end{equation}"
   ]
  },
  {
   "cell_type": "markdown",
   "metadata": {
    "slideshow": {
     "slide_type": "subslide"
    }
   },
   "source": [
    " - How much distortion is present when the input signal equals, say, $V_T$?\n",
    " \n",
    " - For $V_{id} = V_T$ the third harmonic distortion is\n",
    " \n",
    "\\begin{equation}\n",
    "HD_3 = \\dfrac{V_{id}^2}{48V_T^2} = \\dfrac{V_T^2}{48V_T^2} \\approx 0.0\n",
    "2\n",
    "\\end{equation}\n",
    "\n",
    "- This is the amplitude of the third harmonic component of the output signal relative to that of the fundamental, which equates to a distortion percentage of about $2\\%$"
   ]
  },
  {
   "cell_type": "markdown",
   "metadata": {
    "slideshow": {
     "slide_type": "slide"
    }
   },
   "source": [
    "## Fourier transform"
   ]
  },
  {
   "cell_type": "code",
   "execution_count": 36,
   "metadata": {},
   "outputs": [],
   "source": [
    "# frequency of sine wave, in Hz\n",
    "f = 1e3               \n",
    "w = 2*np.pi*f\n",
    "t_sim = 1000e-3           \n",
    "N = 30000\n",
    "k = 1.38e-23\n",
    "T = 300\n",
    "q = 1.602e-19\n",
    "t_in = np.linspace(0, t_sim, N)\n",
    "v_in = (k*T/q)*np.sin(w*t_in+ np.pi/3)"
   ]
  },
  {
   "cell_type": "code",
   "execution_count": 96,
   "metadata": {
    "slideshow": {
     "slide_type": "subslide"
    }
   },
   "outputs": [
    {
     "data": {
      "image/png": "[encoded data removed]",
      "text/plain": [
       "<Figure size 720x540 with 1 Axes>"
      ]
     },
     "metadata": {
      "needs_background": "light"
     },
     "output_type": "display_data"
    }
   ],
   "source": [
    "i_c = np.exp(v_in/(k*T/q))\n",
    "NFFT = 2**16\n",
    "fft_freq, fft_mag_out = fft_mag(i_c, NFFT, t_sim/NFFT, t_sim)\n",
    "freq_abs = fft_freq*N/NFFT\n",
    "plot_fft_dB(freq_abs, fft_mag_out*NFFT/N, 0, 6)  "
   ]
  },
  {
   "cell_type": "markdown",
   "metadata": {
    "slideshow": {
     "slide_type": "slide"
    }
   },
   "source": [
    "## Intermodulation distortion"
   ]
  },
  {
   "cell_type": "markdown",
   "metadata": {},
   "source": [
    " - Distortion can also result from the interaction between signals at different frequencies, a phenomenon generally referred to as *intermodulation distortion*, important in communication systems\n",
    " \n",
    " - Consider the input to a nonlinear amplifier as the sum of two sinusoidal components\n",
    " \n",
    "\\begin{equation}\n",
    "v_{in} = A[\\cos(\\omega_1 t) + \\cos(\\omega_2 t)]\n",
    "\\end{equation}\n",
    "\n",
    " - The amplifier output (current) can be described as\n",
    " \n",
    "\\begin{equation}\n",
    "i_{out} \\approx c_0 + c_1 v_{in} + c_2 v_{in}^2 + c_3 v_{in}^3 \n",
    "\\end{equation}\n",
    "\n",
    " - Combining the above equations enables expression of the fundamental and DC components of the output as\n",
    " \n",
    "\\begin{equation}\n",
    "[c_0 + c_2 A^2] + [c_1 A + \\tfrac{9}{4}c_3 A^3][\\cos(\\omega_1 t) + \\cos(\\omega_2 t)]\n",
    "\\end{equation}\n",
    "\n",
    " - From this expression we see that the quadratic term ($c_2$) contributes a DC term that adds to the output bias, and that the cubic factor ($c_3$) contributes to distortion of the fundamental component"
   ]
  },
  {
   "cell_type": "markdown",
   "metadata": {
    "slideshow": {
     "slide_type": "subslide"
    }
   },
   "source": [
    " - The second and third harmonic terms are expressed as\n",
    " \n",
    "\\begin{equation}\n",
    "(\\tfrac{1}{2}c_2A^2)[\\cos(2\\omega_1 t) + \\cos(2\\omega_2 t)] + (\\tfrac{3}{4}c_3A^3)[\\cos(3\\omega_1 t) + \\cos(3\\omega_2 t)]\n",
    "\\end{equation}\n",
    " \n",
    " - Applying appropriate trigonometric relations to the third harmonic term results in\n",
    " \n",
    "\\begin{equation}\n",
    "(\\tfrac{3}{4}c_3A^3)[\\cos(\\omega_1 + 2\\omega)t + \\cos(\\omega_1 - 2\\omega_2)t +\\cos(2\\omega_1+\\omega_2)t + \\cos(2\\omega_1-\\omega_2)t]\n",
    "\\end{equation}\n",
    "\n",
    " - The sum terms in the above expression are typically out of band and thus attenuated, but the difference terms can be significant\n",
    " \n",
    " - The input amplitude at which the amplitude of the intermodulation difference terms ($\\tfrac{3}{4}c_3A^3$)equal that of the fundamental ($c_1A$) is given by\n",
    " \n",
    "\\begin{equation}\n",
    "A^2 = \\dfrac{4}{3}\\left|\\dfrac{c_1}{c_3}\\right|\n",
    "\\end{equation}"
   ]
  },
  {
   "cell_type": "markdown",
   "metadata": {
    "slideshow": {
     "slide_type": "slide"
    }
   },
   "source": [
    "## Negative feedback"
   ]
  },
  {
   "cell_type": "markdown",
   "metadata": {},
   "source": [
    "<center><img src=\"img/negative_feedback.png\" width=800 /></center>"
   ]
  },
  {
   "cell_type": "markdown",
   "metadata": {},
   "source": [
    " - Negative feedback is used to reduce the sensitivity of *closed-loop* gain to variability in open-loop gain due to, for example, temperature and manufaturing variations\n",
    " \n",
    " - Feedback also reduces distortion by reducing the amplitude of the signal, $s_e$, applied to the open-loop gain element $A$\n",
    " \n",
    " - This signal is effectively an *error* signal, the difference between the actual output signal and the desired one"
   ]
  },
  {
   "cell_type": "markdown",
   "metadata": {
    "slideshow": {
     "slide_type": "subslide"
    }
   },
   "source": [
    " - Taking the expression for the closed-loop gain to be $G = A/(1+\\beta A)$, we can differentiate with respect to deviations in  the open-loop gain $dA$\n",
    " \n",
    "\\begin{equation}\n",
    "\\dfrac{dG}{dA} = \\dfrac{(1+\\beta A) - \\beta A}{(1+\\beta A)^2} = \\dfrac{1}{(1+\\beta A)^2}\n",
    "\\end{equation}\n",
    "\n",
    " - If $A$ changes by $\\delta A$ for a fractional change of $\\delta A/A$ the resulting change in $G$ is\n",
    " \n",
    "\\begin{equation}\n",
    "\\delta G = \\dfrac{\\delta A}{(1+\\beta A)^2}\n",
    "\\end{equation}\n",
    "\n",
    " - The fractional change in $G$ is\n",
    " \n",
    "\\begin{equation}\n",
    "\\dfrac{\\delta G}{G} = \\dfrac{1+\\beta A}{A}\\dfrac{\\delta A}{(1+\\beta A)^2} = \\dfrac{\\tfrac{\\delta A}{A}}{1+\\beta A}\n",
    "\\end{equation}\n",
    "\n",
    " - That is, the sensitivity of the *closed-loop* gain to fractional changes in the *open-loop* gain is reduced by the factor $1+\\beta A$"
   ]
  },
  {
   "cell_type": "markdown",
   "metadata": {
    "slideshow": {
     "slide_type": "slide"
    }
   },
   "source": [
    "## Non-inverting amplifier"
   ]
  },
  {
   "cell_type": "markdown",
   "metadata": {},
   "source": [
    "<center><img src=\"img/noninverting_amplifier.png\" width=700 /></center>"
   ]
  },
  {
   "cell_type": "markdown",
   "metadata": {},
   "source": [
    " - In the context of the standard non-inverting amplifier, the improved linearity can be understood as the minimization of the *error voltage* given by $v_e = v^+ - v^-$\n",
    " \n",
    " - In the closed loop, the error voltage becomes\n",
    " \n",
    "\\begin{equation}\n",
    "v_e = v^+ - v^- = V_i - \\beta V_o =  V_i - \\dfrac{\\beta A}{1+\\beta A}V_i= \\boxed{\\dfrac{V_i}{1+\\beta A}}\n",
    "\\end{equation}\n",
    "\n",
    " - That is, feedback reduces distortion by minimizing the signal applied to the nonlinear open-loop element $A$"
   ]
  },
  {
   "cell_type": "markdown",
   "metadata": {
    "slideshow": {
     "slide_type": "slide"
    }
   },
   "source": [
    "# Emitter degeneration"
   ]
  },
  {
   "cell_type": "markdown",
   "metadata": {},
   "source": [
    " - In the case of the emitter-degenerated common-emitter amplifier the error signal is the base-emitter voltage, while the output signal is the collector current\n",
    "\n",
    "\\begin{equation}\n",
    "v_{err} =  v_{be} = \\dfrac{v_{in}}{1+g_mR_E}\n",
    "\\end{equation}\n",
    "\n",
    " - If $g_m R_E \\gg 1$, the base-emitter voltage seen by the transistor will be much smaller than the actual input signal \n",
    " \n",
    " - Assuming the product $g_m R_E$ is relatively constant, the collector current distortion can be approximated as\n",
    " \n",
    "\\begin{align}\n",
    "I_c &\\approx  I_{C0}\\left[1 + \\dfrac{1}{V_T} \\dfrac{v_i}{1+g_m R_E} + \\dfrac{1}{2V_T^2}\\dfrac{v_i^2}{(1+g_mR_E)^2} + \\dfrac{1}{6V_T^3} \\dfrac{v_i^3}{(1+g_mR_E)^3} + \\cdots\\right] \\\\\n",
    "\\\\\n",
    "&\\approx c_0^{'} + c_1^{'}v_{in} + c_2^{'}v_{in}^2  + c_3^{'}v_{in}^3 + \\cdots \n",
    "\\end{align}\n",
    " "
   ]
  },
  {
   "cell_type": "markdown",
   "metadata": {
    "slideshow": {
     "slide_type": "slide"
    }
   },
   "source": [
    "## Total harmonic distortion"
   ]
  },
  {
   "cell_type": "markdown",
   "metadata": {},
   "source": [
    " - *Total harmonic distortion* (THD) is a measure of, you guessed it, the total harmonic distortion in a signal relative to the fundamental\n",
    " \n",
    " - Strictly speaking, THD is the RMS sum of all the harmonic components present in a signal (over the signal bandwidth), relative to the RMS signal level\n",
    " \n",
    " - Given an amplifier transfer function described as $a_0 + a_1v_{in} + a_2v_{in}^2 + \\cdots$, and assuming the only distortion present is that due to the intrinsic nonlinearity of the amplifier, the THD of the output voltage can be expressed as\n",
    " \n",
    "\\begin{equation}\n",
    "THD = \\dfrac{\\sqrt{(\\frac{a_2 v_{in}^2}{2})^2 + (\\frac{a_3 v_{in}^3}{3})^2 + \\cdots}}{a_1\\cdot v_{in}}\n",
    "\\end{equation}\n",
    "\n"
   ]
  },
  {
   "cell_type": "markdown",
   "metadata": {
    "slideshow": {
     "slide_type": "subslide"
    }
   },
   "source": [
    " - In the case of the common-emitter amplifier, the collector current THD is given by\n",
    " \n",
    "\\begin{equation}\n",
    "THD = \\dfrac{\\sqrt{(\\frac{g_m v_{in}^2}{4V_T})^2 + (\\frac{g_m v_{in}^3}{24V_T^2})^2 + \\cdots}}{g_m\\cdot v_{in}}\n",
    "\\end{equation}\n",
    "\n",
    " - For reasonably small input amplitudes the THD is limited by the second harmonic term, and the THD can be approximated as\n",
    " \n",
    "\\begin{equation}\n",
    "THD \\approx  \\dfrac{v_{in}}{4V_T}\n",
    "\\end{equation}\n",
    "\n",
    " - For moderate signal amplitudes, the input amplitude that results in a specified level of THD in the common-emitter amplifier can be determined by\n",
    " \n",
    "\\begin{equation}\n",
    "v_{in,max} = THD_{max} \\cdot 4V_T\n",
    "\\end{equation}"
   ]
  },
  {
   "cell_type": "markdown",
   "metadata": {
    "slideshow": {
     "slide_type": "slide"
    }
   },
   "source": [
    "## Dynamic range"
   ]
  },
  {
   "cell_type": "markdown",
   "metadata": {},
   "source": [
    " - Whereas noise limits amplifier performance for small input signals, low distortion is critical for performance at large signal amplitudes\n",
    " \n",
    " - The \"space between\" the two extremes is often referred to as the *dyanmic range*, which is (roughly) defined as the ratio of the largest to smallest \"useful\" signal levels\n",
    " \n",
    " - Different metrics are used to quantify dynamic range for different applications, one of which is the ratio of signal amplitude for a specified maximum level of THD to RMS noise:\n",
    " \n",
    "\\begin{equation}\n",
    "DR = \\dfrac{v_{in,max,rms}}{v_{n,rms}}\n",
    "\\end{equation}"
   ]
  },
  {
   "cell_type": "markdown",
   "metadata": {
    "slideshow": {
     "slide_type": "subslide"
    }
   },
   "source": [
    " - Assuming shot noise only and a noise bandwidth of $f_{enb}$, the RMS input-referred noise of a common-emitter amplifier is \n",
    " \n",
    "\\begin{equation}\n",
    "v_{n,rms} = \\sqrt{\\dfrac{2kT}{g_m}f_{enb}}\n",
    "\\end{equation}\n",
    "\n",
    " - For a maximum distortion of $1\\%$ (assuming only second order distortion is significant), the maximum signal amplitude is\n",
    " \n",
    "\\begin{equation}\n",
    "v_{in,max} = 2 \\cdot 0.05 \\cdot\\dfrac{a_1}{a_2} = 4V_T\\cdot 0.05 \\approx 5mV\n",
    "\\end{equation}\n",
    "\n",
    " - Taking the ratio of the maximum (set by linearity) to minimum (set by noise) signal amplitudes gives us the dynamic range\n",
    " \n",
    "\\begin{equation}\n",
    "DR = \\dfrac{0.2 V_T/\\sqrt{2}}{\\sqrt{\\dfrac{2kT}{g_m}f_{enb}}}\n",
    "\\end{equation}\n",
    "\n",
    " - For example, assuming a signal bandwidth of $10kHz$, and a collector current of $1mA$, the dynamic range is ~$98dB$ (approximately 16 bits)"
   ]
  },
  {
   "cell_type": "markdown",
   "metadata": {
    "slideshow": {
     "slide_type": "slide"
    }
   },
   "source": [
    "## Spurious-free dynamic range (SFDR)"
   ]
  },
  {
   "cell_type": "markdown",
   "metadata": {},
   "source": [
    " - THD may not be the best metric to use when specifying dynamic range, depending on the"
   ]
  },
  {
   "cell_type": "markdown",
   "metadata": {
    "slideshow": {
     "slide_type": "slide"
    }
   },
   "source": [
    "## Opamp slew rate distortion "
   ]
  },
  {
   "cell_type": "markdown",
   "metadata": {},
   "source": [
    " - For small input/output signals an opamp's behavior is assumed to be linear, exhibiting a settling characteristic in response to a step input given by\n",
    " \n",
    "\\begin{equation}\n",
    "V_{out}(t) = G_{CL}\\left[1 - \\exp\\left(\\dfrac{t}{\\tau_{CL}}\\right)\\right]V_{step}(t)\n",
    "\\end{equation}\n",
    "\n",
    " - As an example, a non-inverting amplifier has closed-loop gain and time constant given by\n",
    " \n",
    "\\begin{equation}\n",
    "G_{CL} = \\dfrac{A_{0}}{1+\\beta A_{0}} \\;\\;\\;\\; \\tau_{CL} \\approx \\dfrac{1}{\\beta\\omega_t}\n",
    "\\end{equation}\n",
    "\n",
    " - $A_0$ is the open-loop gain of the opamp, $\\omega_t$ is its transit frequency, and $\\beta$ is the feedback factor of the closed-loop amplifier, typically taking a form similar to $\\beta = R_2/(R_1+R_2)$\n",
    " \n",
    " - However, as the amplitude of the opamp output increases, the rate of change of the output voltage becomes limited by the internal bias currents of the opamp, making the response slew-rate limited"
   ]
  },
  {
   "cell_type": "markdown",
   "metadata": {
    "slideshow": {
     "slide_type": "subslide"
    }
   },
   "source": [
    " - Opamps can become slew-rate limited even for sinusoidal signals\n",
    " \n",
    " - The maximum possible signal amplitude an opamp is capable of delivering is limited by the supply rails, i.e. $V_{max} = V_{CC} - V_{EE}$ (lower than this for opamps without rail-to-rail output capability)\n",
    " \n",
    " - Assuming a sinusoidal output with amplitude $V_{max}$ and frequency $f_{max}$, the maximum slope is given by\n",
    " \n",
    "\\begin{equation} \n",
    "\\dfrac{d}{dt} [V_{max}\\cdot\\sin (2\\pi\\cdot f_{max}\\cdot t)] = V_{max}\\cdot 2\\pi\\cdot f_{max}\\cos(2\\pi\\cdot f_{max}\\cdot t)\n",
    "\\end{equation}\n",
    "\n",
    " - This reaches a maximum value when $\\cos 2\\pi \\cdot f_{max}\\cdot t = 1$, requiring a slew rate of\n",
    " \n",
    "\\begin{equation}\n",
    "SR \\geq V_{max}\\cdot 2\\pi\\cdot f_{max}\n",
    "\\end{equation}\n",
    "\n",
    " - The slew rate requirement scales with the maximum frequency (assuming full-scale signals are expected at this frequency)"
   ]
  },
  {
   "cell_type": "markdown",
   "metadata": {
    "slideshow": {
     "slide_type": "subslide"
    }
   },
   "source": [
    " - Taking a typical value of $V_{max}$ to be $36V$ ($\\pm 18V$), this limits the RMS value of a sinusoidal signal to be $12.7 V_{rms}$\n",
    " \n",
    " - Using the audio frequency range as an example, the maximum required frequency of operation is $20kHz$, and a $12.7V_{rms}$, $20kHz$ sinusoid has a maximum slope of\n",
    " \n",
    "\\begin{equation}\n",
    "\\dfrac{d}{dt} [18V\\cdot\\sin (2\\pi\\cdot20kHz\\cdot t)] = 18V\\cdot 2\\pi\\cdot 20kHz\\cos(2\\pi\\cdot20kHz\\cdot t)\n",
    "\\end{equation}\n",
    "\n",
    " - The required opamp slew rate is given by\n",
    "\n",
    "\\begin{equation}\n",
    "SR \\geq 18V\\cdot 2\\pi\\cdot 20kHz = 2.26V/\\mu s\n",
    "\\end{equation}\n",
    "\n",
    " "
   ]
  },
  {
   "cell_type": "markdown",
   "metadata": {
    "slideshow": {
     "slide_type": "slide"
    }
   },
   "source": [
    "## Other types of distortion"
   ]
  },
  {
   "cell_type": "markdown",
   "metadata": {},
   "source": [
    " - __Distortion due to loading__\n",
    " - __Thermal distortion__\n",
    " - __Common-mode distortion__"
   ]
  },
  {
   "cell_type": "markdown",
   "metadata": {
    "slideshow": {
     "slide_type": "slide"
    }
   },
   "source": [
    "## Summary"
   ]
  },
  {
   "cell_type": "markdown",
   "metadata": {},
   "source": [
    " - While amplifier noise sets a lower bound on precision for small signals, nonlinearity/distortion limits precision as signal amplitude grows\n",
    " \n",
    " - Transistors are intrinsically nonlinear in converting voltage to current, and produce significant distortion in open-loop operation "
   ]
  }
 ],
 "metadata": {
  "celltoolbar": "Slideshow",
  "kernelspec": {
   "display_name": "Python 3",
   "language": "python",
   "name": "python3"
  },
  "language_info": {
   "codemirror_mode": {
    "name": "ipython",
    "version": 3
   },
   "file_extension": ".py",
   "mimetype": "text/x-python",
   "name": "python",
   "nbconvert_exporter": "python",
   "pygments_lexer": "ipython3",
   "version": "3.8.2"
  },
  "livereveal": {
   "controls": false,
   "scroll": true,
   "theme": "simple"
  },
  "rise": {
   "enable_chalkboard": true,
   "slideNumber": true
  }
 },
 "nbformat": 4,
 "nbformat_minor": 4
}
