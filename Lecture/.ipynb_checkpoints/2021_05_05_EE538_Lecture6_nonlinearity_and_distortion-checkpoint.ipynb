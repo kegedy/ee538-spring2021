{
 "cells": [
  {
   "cell_type": "markdown",
   "metadata": {
    "cell_style": "center",
    "slideshow": {
     "slide_type": "slide"
    }
   },
   "source": [
    "# EE 538: Low-Noise Analog Circuit Design\n",
    "## Spring 2021\n",
    "## Instructor: Jason Silver"
   ]
  },
  {
   "cell_type": "markdown",
   "metadata": {
    "slideshow": {
     "slide_type": "slide"
    }
   },
   "source": [
    "## Announcements"
   ]
  },
  {
   "cell_type": "markdown",
   "metadata": {
    "slideshow": {
     "slide_type": "-"
    }
   },
   "source": [
    " - Jason's office hours moved to Saturdays at 11am\n",
    " - Assignment 4 due Sunday, May 2 at midnight\n",
    " - Assignment 5 will be posted Saturday, May 1\n",
    " - Midterm exam will be posted Saturday, May 1\n",
    "     - Online format administered as a quiz on Canvas"
   ]
  },
  {
   "cell_type": "markdown",
   "metadata": {
    "slideshow": {
     "slide_type": "slide"
    }
   },
   "source": [
    "## Week 6"
   ]
  },
  {
   "cell_type": "markdown",
   "metadata": {
    "slideshow": {
     "slide_type": "-"
    }
   },
   "source": [
    " - EE538 lecture notes"
   ]
  },
  {
   "cell_type": "markdown",
   "metadata": {
    "slideshow": {
     "slide_type": "slide"
    }
   },
   "source": [
    "## Overview"
   ]
  },
  {
   "cell_type": "markdown",
   "metadata": {
    "slideshow": {
     "slide_type": "-"
    }
   },
   "source": [
    " - Last time...\n",
    "     - Noise in common-emitter stages\n",
    "     - Active load and current mirror noise\n",
    "     - Cascode and parallel stages\n",
    "     - Differential amplifier noise\n",
    " - Today...\n",
    "     - Nonlinear device characteristics\n",
    "     - Distortion in amplifiers\n",
    "     - Total harmonic distortion\n",
    "     - Intermodulation distortion\n",
    "     - Effect of feedback on nonlinearity"
   ]
  },
  {
   "cell_type": "markdown",
   "metadata": {
    "slideshow": {
     "slide_type": "skip"
    }
   },
   "source": [
    "## Python packages/modules"
   ]
  },
  {
   "cell_type": "code",
   "execution_count": 3,
   "metadata": {
    "slideshow": {
     "slide_type": "skip"
    }
   },
   "outputs": [],
   "source": [
    "import matplotlib as mpl\n",
    "from matplotlib import pyplot as plt\n",
    "from matplotlib import ticker, cm\n",
    "import numpy as np\n",
    "from scipy import signal\n",
    "from scipy import integrate\n",
    "from scipy.fft import fft\n",
    "#%matplotlib notebook\n",
    "\n",
    "mpl.rcParams['font.size'] = 14\n",
    "mpl.rcParams['legend.fontsize'] = 'large'\n",
    "\n",
    "def plot_xy(x, y, xlabel, ylabel):\n",
    "    fig, ax = plt.subplots(figsize=(10.0, 7.5));\n",
    "    ax.plot(x, y, 'b')\n",
    "    ax.grid()\n",
    "    ax.set_xlabel(xlabel)\n",
    "    ax.set_ylabel(ylabel)\n",
    "    \n",
    "def plot_2xy(x, y1, y2, xlabel, ylabel, y1label, y2label):\n",
    "    fig, ax = plt.subplots(figsize=(10.0,7.5))\n",
    "    \n",
    "    ax.plot(x, y1, 'b', label=y1label)\n",
    "    ax.plot(x, y2, 'r', label=y2label)\n",
    "    ax.set_ylabel(ylabel)\n",
    "    ax.set_xlabel(xlabel)\n",
    "    ax.grid()    \n",
    "    \n",
    "    ax.legend()\n",
    "    ax.legend(loc='upper center', ncol=2, fancybox=True, \n",
    "               shadow=True, bbox_to_anchor=(0.5,1.13) )     \n",
    "\n",
    "def plot_xy2(x1, y1, x1label, y1label, x2, y2, x2label, y2label):\n",
    "    fig, ax = plt.subplots(2, figsize = (10.0, 7.5));\n",
    "    ax[0].plot(x1, y1, 'b')\n",
    "    ax[0].set_ylabel(y1label)\n",
    "    ax[0].grid()\n",
    "    \n",
    "    ax[1].plot(x2, y2, 'b')\n",
    "    ax[1].set_xlabel(x1label)\n",
    "    ax[1].set_xlabel(x2label)\n",
    "    ax[1].set_ylabel(y2label)\n",
    "    ax[1].grid()\n",
    "    \n",
    "    fig.align_ylabels(ax[:])\n",
    "\n",
    "def plot_xy3(x, y1, y2, y3, xlabel, y1label, y2label, y3label):\n",
    "    fig, ax = plt.subplots(3, figsize=(10.0,7.5))\n",
    "    \n",
    "    ax[0].plot(x, y1)\n",
    "    ax[0].set_ylabel(y1label)\n",
    "    ax[0].grid()\n",
    "    \n",
    "    ax[1].plot(x, y2)\n",
    "    ax[1].set_ylabel(y2label)\n",
    "    ax[1].grid()\n",
    "    \n",
    "    ax[2].plot(x, y3)  \n",
    "    ax[2].set_ylabel(y3label)\n",
    "    ax[2].set_xlabel(xlabel)\n",
    "    ax[2].grid()\n",
    "    \n",
    "def plot_logxy3(x, y1, y2, y3, xlabel, y1label, y2label, y3label):\n",
    "    fig, ax = plt.subplots(3, figsize=(10.0,7.5))\n",
    "    \n",
    "    ax[0].semilogx(x, y1)\n",
    "    ax[0].set_ylabel(y1label)\n",
    "    ax[0].grid()\n",
    "    \n",
    "    ax[1].semilogx(x, y2)\n",
    "    ax[1].set_ylabel(y2label)\n",
    "    ax[1].grid()\n",
    "    \n",
    "    ax[2].semilogx(x, y3)  \n",
    "    ax[2].set_ylabel(y3label)\n",
    "    ax[2].set_xlabel(xlabel)\n",
    "    ax[2].grid()\n",
    "\n",
    "def plot_logxy(x, y, xlabel, ylabel):\n",
    "    fig, ax = plt.subplots(figsize=(10.0, 7.5))\n",
    "    ax.semilogx(x, y, 'b')\n",
    "    ax.grid();\n",
    "    ax.set_xlabel(xlabel)\n",
    "    ax.set_ylabel(ylabel)    \n",
    "    \n",
    "def plot_log3xy(x, y1, y2, y3, xlabel, ylabel, y1label, y2label, y3label):\n",
    "    fig, ax = plt.subplots(figsize=(10.0,7.5))\n",
    "    \n",
    "    ax.semilogx(x, y1, 'b', label=y1label)\n",
    "    ax.semilogx(x, y2, 'r', label=y2label)\n",
    "    ax.semilogx(x, y3, 'g', label=y3label)  \n",
    "    ax.set_ylabel(ylabel)\n",
    "    ax.set_xlabel(xlabel)\n",
    "    ax.grid()    \n",
    "    \n",
    "    ax.legend()\n",
    "    ax.legend(loc='upper center', ncol=3, fancybox=True, \n",
    "               shadow=True, bbox_to_anchor=(0.5,1.13) )  \n",
    "    \n",
    "def plot_log2xy(x, y1, y2, xlabel, ylabel, y1label, y2label):\n",
    "    fig, ax = plt.subplots(figsize=(10.0,7.5))\n",
    "    \n",
    "    ax.semilogx(x, y1, 'b', label=y1label)\n",
    "    ax.semilogx(x, y2, 'r', label=y2label)\n",
    "    ax.set_ylabel(ylabel)\n",
    "    ax.set_xlabel(xlabel)\n",
    "    ax.grid()    \n",
    "    \n",
    "    ax.legend()\n",
    "    ax.legend(loc='upper center', ncol=2, fancybox=True, \n",
    "               shadow=True, bbox_to_anchor=(0.5,1.13) )  \n",
    "    \n",
    "def plot_loglog(x, y, xlabel, ylabel):\n",
    "    fig, ax = plt.subplots(figsize=(10.0, 7.5))\n",
    "    ax.loglog(x, y, 'b')\n",
    "    ax.grid();\n",
    "    ax.set_xlabel(xlabel)\n",
    "    ax.set_ylabel(ylabel)\n",
    "    \n",
    "    \n",
    "def plot_loglog2(x, y1, y2, xlabel, ylabel, y1label, y2label):\n",
    "    fig, ax = plt.subplots(figsize=(10.0,7.5))\n",
    "    \n",
    "    ax.loglog(x, y1, 'b', label=y1label)\n",
    "    ax.loglog(x, y2, 'r', label=y2label)\n",
    "    ax.set_ylabel(ylabel)\n",
    "    ax.set_xlabel(xlabel)\n",
    "    ax.grid()    \n",
    "    \n",
    "    ax.legend()\n",
    "    ax.legend(loc='upper center', ncol=2, fancybox=True, \n",
    "               shadow=True, bbox_to_anchor=(0.5,1.13) )  \n",
    "    \n",
    "def plot_xlogy(x, y, xlabel, ylabel):\n",
    "    fig, ax = plt.subplots(figsize=(10.0, 7.5));\n",
    "    ax.semilogy(x, y, 'b');\n",
    "    ax.grid();\n",
    "    ax.set_xlabel(xlabel);\n",
    "    ax.set_ylabel(ylabel);\n",
    "    \n",
    "def read_ltspice_ac(file_name):\n",
    "    with open(file_name, 'r') as data:\n",
    "        x = []\n",
    "        y = []\n",
    "        z = []\n",
    "        next(data) # skip header line\n",
    "        for line in data:\n",
    "            p = line.split()\n",
    "            x.append(float(p[0]))\n",
    "            complex = p[1].split(\",\")\n",
    "            y.append(float(complex[0]))\n",
    "            z.append(float(complex[1]))\n",
    "\n",
    "    return x, y, z\n",
    "\n",
    "def plot_logxy2(x1, y1, x2, y2, x1label, y1label, x2label, y2label):\n",
    "    fig, ax = plt.subplots(2, figsize = (10.0, 7.5));\n",
    "    ax[0].semilogx(x1, y1, 'b');\n",
    "    ax[0].set_ylabel(y1label)\n",
    "    ax[0].grid()\n",
    "    \n",
    "    ax[1].semilogx(x2, y2, 'b');\n",
    "    ax[1].set_xlabel(x1label)\n",
    "    ax[1].set_xlabel(x2label);\n",
    "    ax[1].set_ylabel(y2label);\n",
    "    ax[1].grid();\n",
    "    \n",
    "    fig.align_ylabels(ax[:])\n",
    "    \n",
    "def plot_noise_bandwidth(f, mag):\n",
    "    fig, ax = plt.subplots(2, figsize=(10.0,7.5))\n",
    "    ax[0].semilogx(f, RC_mag)\n",
    "    ax[0].set_xscale(\"log\")\n",
    "    ax[0].set_xlim(f[0], f[-1])\n",
    "    ax[0].set_xticks(np.logspace(0.1,4,5))\n",
    "    ax[0].set_xticklabels([])\n",
    "    ax[0].set_ylabel('Magnitude [V/V]')\n",
    "    ax[0].set_title('Equivalent Noise Bandwidth')\n",
    "    ax[0].grid()\n",
    "\n",
    "    ax[1].hlines(1, 0, f_enb, color='tab:blue')\n",
    "    ax[1].hlines(0, f_enb, f[-1], color='tab:blue')\n",
    "    ax[1].vlines(f_enb, 0, 1, color='tab:blue')\n",
    "    ax[1].set_xlim(f[0], f[-1])\n",
    "    ax[1].set_xscale(\"log\")\n",
    "    ax[1].set_xticks(np.logspace(0.1,4,5))\n",
    "    ax[1].set_xticklabels([r'$10^0$',r'$10^1$', r'$10^2$', r'$10^3$', r'$10^4$'])\n",
    "    ax[1].set_ylabel('Magnitude [V/V]')\n",
    "    ax[1].set_xlabel('Frequency [Hz]')\n",
    "    ax[1].grid()\n",
    "    \n",
    "def noise_hist(vnoise, vn_rms, bins):\n",
    "    fig = plt.figure( figsize=(10.0,7.5) )\n",
    "    vn_norm = vnoise/ vn_rms\n",
    "    ax = fig.add_subplot(111)\n",
    "    n, bins, rectangles = ax.hist(vn_norm, bins, density=True, range=(-3, 3),\n",
    "                                 color='b')\n",
    "    ax.set_xlabel(r'Sample Voltage [$v_{n(rms)}$]')\n",
    "    ax.set_ylabel('Probability Density')\n",
    "    ax.grid()\n",
    "    fig.canvas.draw()\n",
    "\n",
    "def plot_NF_vs_Rs(en_vals, in_vals, Rs_min, Rs_max, T_in_K):\n",
    "    fig, ax = plt.subplots(figsize=(10.0, 7.5))\n",
    "    k = 1.38e-23\n",
    "    Rs = np.logspace(np.log10(Rs_min), np.log10(Rs_max), num=200)\n",
    "    F1 = 1 + (en_vals[0]**2+Rs**2*in_vals[0]**2)/(4*k*T_in_K*Rs)\n",
    "    F2 = 1 + (en_vals[1]**2+Rs**2*in_vals[1]**2)/(4*k*T_in_K*Rs)\n",
    "    F3 = 1 + (en_vals[2]**2+Rs**2*in_vals[2]**2)/(4*k*T_in_K*Rs)\n",
    "    ax.semilogx(Rs, 10*np.log10(F1), 'b', label=r'$e_{n1}$, $i_{n1}$')\n",
    "    ax.semilogx(Rs, 10*np.log10(F2), 'r', label=r'$e_{n2}$, $i_{n2}$')\n",
    "    ax.semilogx(Rs, 10*np.log10(F3), 'g', label=r'$e_{n3}$, $i_{n3}$')\n",
    "    ax.grid();\n",
    "    ax.set_xlabel(r'Source Resistance $R_s [\\Omega]$')\n",
    "    ax.set_ylabel(r'Noise Figure $NF$ [$dB$]')  \n",
    "    \n",
    "    ax.legend()\n",
    "    ax.legend(loc='upper center', ncol=3, fancybox=True, \n",
    "               shadow=True, bbox_to_anchor=(0.5,1.13) )  \n",
    "    \n",
    "def plot_noise_curve(e_n, i_n, Rs_min, Rs_max):\n",
    "    fig, ax = plt.subplots(figsize=(10.0, 7.5))\n",
    "    Rs = np.logspace(np.log10(Rs_min), np.log10(Rs_max), num=200)\n",
    "    e_ni_2 = 4*k*T*Rs + e_n**2 + i_n**2*Rs**2\n",
    "    ax.loglog(Rs, np.sqrt(e_ni_2), 'b', label='Total Noise')\n",
    "    ax.loglog(Rs, np.sqrt(4*k*T*Rs), 'r', label=r'$\\sqrt{4kTR_s}$')\n",
    "    ax.loglog(Rs, e_n*np.ones(np.size(Rs)), 'g', label=r'$e_n$')\n",
    "    ax.loglog(Rs, i_n*Rs, 'y', label=r'$i_n R_s$')\n",
    "    ax.grid();\n",
    "    ax.set_xlabel(r'Source Resistance $R_s [\\Omega]$')\n",
    "    ax.set_ylabel(r'Equivalent Input Noise [$V/\\sqrt{Hz}$]')\n",
    "    \n",
    "    ax.legend()\n",
    "    ax.legend(loc='upper center', ncol=4, fancybox=True, \n",
    "               shadow=True, bbox_to_anchor=(0.5,1.13) )   \n",
    "    \n",
    "def plot_bjt_NF(beta, r_bb, Rmin, Rmax, Imin, Imax):\n",
    "    fig, ax = plt.subplots(figsize=(10.0, 7.5))\n",
    "    k = 1.38e-23\n",
    "    T = 300\n",
    "    q = 1.602e-19\n",
    "    V_T = k*T/q\n",
    "    rs = np.logspace(np.log10(Rmin), np.log10(Rmax), num = 100)\n",
    "    ic = np.logspace(np.log10(Imin), np.log10(Imax), num = 100)\n",
    "    I_C, R_S = np.meshgrid(ic, rs)\n",
    "    e_n_2 = 4*k*T*(V_T/2/I_C + r_bb)\n",
    "    i_n_2 = 2*q*I_C/beta_0\n",
    "    NF = 1 + (e_n_2 + i_n_2*R_S**2)/(4*k*T*R_S)\n",
    "    cp = ax.contourf(I_C, R_S, 10*np.log10(NF), levels=np.linspace(0,15, num=16))\n",
    "    plt.xscale('log')\n",
    "    plt.yscale('log')\n",
    "    plt.ylabel(r'Source Resistance $R_s$ [$\\Omega$]')\n",
    "    plt.xlabel(r'Collector Current $I_C$ [A]')\n",
    "    fig.colorbar(cp)\n",
    "\n",
    "def fftnoise(f):\n",
    "    f = np.array(f, dtype='complex')\n",
    "    Np = (len(f) - 1) // 2\n",
    "    phases = np.random.rand(Np) * 2 * np.pi\n",
    "    phases = np.cos(phases) + 1j * np.sin(phases)\n",
    "    f[1:Np+1] *= phases\n",
    "    f[-1:-1-Np:-1] = np.conj(f[1:Np+1])\n",
    "    return np.fft.ifft(f).real\n",
    "\n",
    "def band_limited_noise(min_freq, max_freq, samples=1024, samplerate=1):\n",
    "    freqs = np.abs(np.fft.fftfreq(samples, 1/samplerate))\n",
    "    f = np.zeros(samples)\n",
    "    idx = np.where(np.logical_and(freqs>=min_freq, freqs<=max_freq))[0]\n",
    "    f[idx] = 1\n",
    "    return fftnoise(f)\n",
    "\n",
    "def fft_mag(x, N, T, t):\n",
    "    fft_sig  = fft(x, N)  \n",
    "    freqs = np.linspace(0.0, 1.0/(2.0*T), N//2)\n",
    "    mags = 2.0/N * np.abs(fft_sig[0:N//2]) # single-sided FFT\n",
    "    \n",
    "    return freqs, mags\n",
    "\n",
    "def plot_fft_dB(freqs, mags, fmin, fmax):\n",
    "    fig, ax = plt.subplots(figsize = (10.0,7.5))\n",
    "    ax.plot(1e-3*freqs, 20*np.log10(mags), 'b')\n",
    "    ax.set_xlim(fmin, fmax)\n",
    "    ax.set_xlabel('Frequency [kHz]')\n",
    "    ax.set_ylabel('Magnitude [dB]')\n",
    "    ax.grid()"
   ]
  },
  {
   "cell_type": "markdown",
   "metadata": {
    "slideshow": {
     "slide_type": "slide"
    }
   },
   "source": [
    "# Lecture 6 - Nonlinearity and Distortion"
   ]
  },
  {
   "cell_type": "markdown",
   "metadata": {
    "slideshow": {
     "slide_type": "slide"
    }
   },
   "source": [
    "## Nonlinear characteristics of semiconductor devices"
   ]
  },
  {
   "cell_type": "markdown",
   "metadata": {},
   "source": [
    " - Semiconductor devices (i.e. diodes and transistors), like most physical systems, are by nature nonlinear in their operation\n",
    " \n",
    " - For example, the collector current of a BJT depends exponentially on the base-emitter voltage\n",
    " \n",
    "\\begin{equation}\n",
    "I_C = I_S \\exp\\left(\\dfrac{V_{be}}{V_T}\\right)\n",
    "\\end{equation}\n",
    "\n",
    " - Similarly the drain current of a MOSFET in strong inversion depends quadratically on the gate-source voltage:\n",
    " \n",
    "\\begin{equation}\n",
    "I_D = \\dfrac{1}{2}\\mu C_{ox}\\dfrac{W}{L}(V_{gs} - V_{th})^2\n",
    "\\end{equation}\n",
    " \n",
    " - In analog design, we often assume \"small-signal\" operation, and linearize our model about an operating point\n",
    " \n",
    " - What are the bounds of our \"small-signal approximation,\" and what happens when we exceed them?"
   ]
  },
  {
   "cell_type": "markdown",
   "metadata": {
    "slideshow": {
     "slide_type": "slide"
    }
   },
   "source": [
    "## Taylor series expansion"
   ]
  },
  {
   "cell_type": "markdown",
   "metadata": {},
   "source": [
    " - A Taylor series is the expression of a function as an infinite sum of its derivatives about a single point \n",
    " \n",
    " - Given a function $f(x)$ and a point $x=a$ (and assuming certain requirements like infinite differentiability at $a$), $f(x)$ can be expressed as \n",
    " \n",
    "\\begin{align}\n",
    "f(x) &= f(a)+{\\frac {f'(a)}{1!}}(x-a)+{\\frac {f''(a)}{2!}}(x-a)^{2}+{\\frac {f'''(a)}{3!}}(x-a)^{3}+\\cdots \\\\\n",
    "&=\\sum _{n=0}^{\\infty }{\\frac {f^{(n)}(a)}{n!}}(x-a)^{n}\n",
    "\\end{align}\n",
    "\n",
    " - The series is typically truncated using an appropriate number of terms to express the function as a finite polynomial\n",
    " \n",
    " - The McLaurin series is a special case of the Taylor series, i.e. that of $a = 0$\n",
    " \n",
    "\\begin{align}\n",
    "f(x) &= f(0)+{\\frac {f'(0)}{1!}}x+{\\frac {f''(0)}{2!}}x^{2}+{\\frac {f'''(0)}{3!}}x^{3}+\\cdots \\\\\n",
    "\\end{align}"
   ]
  },
  {
   "cell_type": "markdown",
   "metadata": {
    "slideshow": {
     "slide_type": "slide"
    }
   },
   "source": [
    "## MOSFET nonlinearity"
   ]
  },
  {
   "cell_type": "markdown",
   "metadata": {},
   "source": [
    " - We can evaluate the nonlinearity of the MOSFET by expanding the drain current equation and assessing the magnitude of the nonlinear term(s)\n",
    " \n",
    "\\begin{align}\n",
    "I_d(v_{gs}) &= \\dfrac{1}{2}\\mu C_{ox}\\dfrac{W}{L}(V_{GS} - V_{th} + v_{gs})^2 = \\dfrac{1}{2}\\mu C_{ox}\\dfrac{W}{L}(V_{ov} + v_{gs})^2 \\\\\n",
    "&= \\dfrac{1}{2}\\mu C_{ox}\\dfrac{W}{L} [V_{ov}^2 + 2V_{ov}v_{gs} + v_{gs}^2] \\\\\n",
    "&= \\dfrac{1}{2}\\mu C_{ox}\\dfrac{W}{L}V_{ov}^2 +\\mu C_{ox}\\dfrac{W}{L}V_{ov}v_{gs} + \\dfrac{1}{2}\\mu C_{ox}\\dfrac{W}{L}v_{gs}^2\\\\\n",
    "&= I_{D0}\\left(1+ \\dfrac{2}{V_{ov}}v_{gs} + \\dfrac{1}{V_{ov}^2}v_{gs}^2\\right)\\\\\n",
    "&= a_0 + a_1v_{gs} + a_2v_{gs}^2\n",
    "\\end{align}\n",
    "\n",
    " - In this case obtaining the Taylor series is straightforward, since the drain current expression is already in the form of a polynomial\n",
    " \n",
    " - Here, $a_0 = I_{D0}$ (DC current), $a_1 = g_m$ (transconductance), and $a_2$ is the second-order nonlinear coefficient"
   ]
  },
  {
   "cell_type": "markdown",
   "metadata": {
    "slideshow": {
     "slide_type": "slide"
    }
   },
   "source": [
    "## BJT nonlinearity"
   ]
  },
  {
   "cell_type": "markdown",
   "metadata": {},
   "source": [
    " - The nonlinearity of the BJT can be evaluated with the aid of a McLaurin series expansion of its characteristic about an operating point\n",
    " \n",
    " - First express the collector current as a combination of bias and small-signal terms\n",
    " \n",
    "\\begin{equation}\n",
    "I_c = I_S\\exp\\left(\\dfrac{V_{BE0}+v_{be}}{V_T}\\right) = I_S\\exp\\left(\\dfrac{V_{BE0}}{V_T}\\right)\\exp\\left(\\dfrac{v_{be}}{V_T}\\right) = I_{C0}\\exp\\left(\\dfrac{v_{be}}{V_T}\\right)\n",
    "\\end{equation}\n",
    "\n",
    " - Then use the McLaurin series to determine coefficients\n",
    "\n",
    "\\begin{align}\n",
    "I_c(v_{be}) &= I_{C0} \\left(1 +\\dfrac{1}{V_T}v_{be} + \\dfrac{1}{2V_T^2}v_{be}^2 + \\dfrac{1}{3V_T^3}v_{be}^3 \\right) + \\cdots\\\\\n",
    "I_c(v_{be}) &= a_0  + a_1v_{be} + a_2v_{be}^2 + a_3v_{be}^3 + \\cdots\n",
    "\\end{align}\n",
    "\n",
    " - Here again, $a_1$ represents the DC bias current $I_{C0}$, $a_1$ the transconductance $g_m$, and $a_2$ and $a_3$ the second- and third-order nonlinear coeffcients"
   ]
  },
  {
   "cell_type": "markdown",
   "metadata": {
    "slideshow": {
     "slide_type": "slide"
    }
   },
   "source": [
    "## Common-emitter nonlinearity"
   ]
  },
  {
   "cell_type": "markdown",
   "metadata": {},
   "source": [
    " - Given the nonlinear relationship between the base-emitter voltage and the collector current of the BJT, we can determine a nonlinear expression for the output voltage of a common-emitter amplifier with load resistance $R_C$\n",
    " \n",
    "\\begin{align}\n",
    "V_o &= V_{CC} - I_c(v_i) R_C \\\\\n",
    "&= V_{CC} - [a_o + a_1 v_i + a_2 v_i^2 + a_3 v_i^3 + \\cdots]R_C\n",
    "\\end{align}\n",
    "\n",
    " - Substituting in the expressions for $a_0$, $a_1$, $\\cdots$ gives\n",
    " \n",
    "\\begin{align}\n",
    "V_o &= V_{CC} - I_c V_i \\\\\n",
    "&= V_{CC} - I_{C0}\\left[1 + \\dfrac{1}{V_T} v_i + \\dfrac{1}{2V_T^2} v_i^2 + \\dfrac{1}{3V_T^2} v_i^3 + \\cdots\\right]R_C\n",
    "\\end{align}\n",
    "\n",
    " - While the linear (transconductance) term is independent of the amplitude of $v_i$, the higher-order terms aren't (definition of nonlinearity)\n",
    " \n",
    " - If we ignore the higher-order terms we obtain the small-signal approximation\n",
    " \n",
    "\\begin{align}\n",
    "V_o &\\approx V_{CC} - I_{C0}R_C + \\dfrac{I_{C0}}{V_T}R_C v_i\n",
    "\\end{align}"
   ]
  },
  {
   "cell_type": "markdown",
   "metadata": {
    "slideshow": {
     "slide_type": "slide"
    }
   },
   "source": [
    "## Harmonic distortion"
   ]
  },
  {
   "cell_type": "markdown",
   "metadata": {},
   "source": [
    " - An amplifier's nonlinearity is commonly specified by *harmonic distortion*, which can be assessed by determining the amplitudes of frequency components at integer multiles (i.e. harmonics) of the input frequency ($2\\omega_0, 3\\omega_0, \\cdots$)\n",
    " \n",
    " - Given a nonlinear transfer function expressed as \n",
    " \n",
    "\\begin{equation}\n",
    "v_{out} = a_0 + a_1 v_{in} + a_2 v_{in}^2 + a_3 v_{in}^3 + \\cdots\n",
    "\\end{equation}\n",
    "\n",
    " - The output voltage given the nonlinear \"gain\" characteristic is given approximately by\n",
    " \n",
    "\\begin{equation}\n",
    "v_{out} \\approx a_0 + a_1 A \\sin\\omega_0 t + a_2 A^2 \\sin^2\\omega_0 t + a_3 A^3 \\sin^3\\omega_0 t\n",
    "\\end{equation}\n",
    "\n",
    " - Here we have ignored higher order terms above the $\\sin^3$ terms, thought these may have an impact depending on the system under consideration\n",
    " \n",
    " - To proceed, we'll use the trigonometric relation $\\sin^2x = \\frac{1}{2}[1-\\cos2x]$"
   ]
  },
  {
   "cell_type": "markdown",
   "metadata": {
    "slideshow": {
     "slide_type": "subslide"
    }
   },
   "source": [
    " - The output voltage can be expressed as\n",
    " \n",
    "\\begin{equation}\n",
    "v_{out} \\approx a_0 + a_1 A \\sin\\omega_0 t + \\frac{a_2 A^2}{2}(1-\\cos2\\omega_0t) + \\frac{a_3 A^3}{4}(3\\sin\\omega_0 t  - \\sin3\\omega_0 t)\n",
    "\\end{equation}\n",
    "\n",
    " - Combining terms with like frequencies gives\n",
    " \n",
    "\\begin{equation}\n",
    "v_{out} \\approx a_0 + \\frac{a_2 A^2}{2} + \\left(a_1A + \\frac{3 a_3 A^3}{4}\\right) \\sin\\omega_0 t - \\frac{a_2 A^2}{2}\\cos2\\omega_0t - \\frac{a_3 A^3}{4} \\sin3\\omega_0 t\n",
    "\\end{equation}\n",
    "\n",
    " - Second-harmonic distortion is defined as the ratio of the amplitude of the output component at $2\\omega_0$ to the amplitude of the first harmonic (or fundamental) at $\\omega_0$. Assuming $a_1 A\\gg a_3 A^3/4$,   \n",
    " \n",
    "\\begin{equation}\n",
    "HD_2 = \\dfrac{a_2A^2}{2}\\dfrac{1}{a_1 A} = \\dfrac{1}{2}\\dfrac{a_2}{a_1}A\n",
    "\\end{equation}\n",
    "\n",
    " - Thus, $HD_2$ varies linearly with the input signal amplitude"
   ]
  },
  {
   "cell_type": "markdown",
   "metadata": {
    "slideshow": {
     "slide_type": "subslide"
    }
   },
   "source": [
    " - Similarly, third-harmonic distortion is given by\n",
    " \n",
    "\\begin{equation}\n",
    "HD_3 = \\dfrac{a_3 A^3}{4}\\dfrac{1}{a_1 A} = \\dfrac{1}{4}\\dfrac{a_3}{a_1}A^2\n",
    "\\end{equation}\n",
    "\n",
    " - So, $HD_3$ varies quadratically with signal amplitude, meaning that very small amplitude inputs produces little third harmonic distortion, but this grows substantially with increasingly large amplitude signals\n",
    " "
   ]
  },
  {
   "cell_type": "markdown",
   "metadata": {
    "slideshow": {
     "slide_type": "slide"
    }
   },
   "source": [
    "## Common-emitter distortion"
   ]
  },
  {
   "cell_type": "markdown",
   "metadata": {},
   "source": [
    " - The output voltage of the common-emitter amplifier given a sinusoidal input $v_i$ is again given by\n",
    " \n",
    "\\begin{align}\n",
    "V_o &= V_{CC} - I_c V_i \\\\\n",
    "&= V_{CC} - I_{C0}\\left[1 + \\dfrac{1}{V_T} v_i + \\dfrac{1}{2V_T^2} v_i^2 + \\dfrac{1}{3V_T^2} v_i^3 + \\cdots\\right]R_C\n",
    "\\end{align}\n",
    "\n",
    " - Here, $a_1 = g_mR_C$ and $a_2 = I_{C0}R_C/2V_T^2$. $HD_2$ is thus given by\n",
    " \n",
    "\\begin{equation}\n",
    "HD_2 = \\dfrac{1}{4}\\dfrac{1}{V_T}A\n",
    "\\end{equation}\n",
    "\n",
    " - That is, if the input signal amplitude is equal to $V_T$ the ratio of the fundamental to second harmonic is about $1/4$, or $-12dB$\n",
    " \n",
    " - From this it is clear that the input signal amplitude should be kept well below $V_T$ if we want to minimize distortion\n"
   ]
  },
  {
   "cell_type": "markdown",
   "metadata": {
    "slideshow": {
     "slide_type": "slide"
    }
   },
   "source": [
    "## Total harmonic distortion"
   ]
  },
  {
   "cell_type": "markdown",
   "metadata": {
    "slideshow": {
     "slide_type": "slide"
    }
   },
   "source": [
    "## Fourier transform"
   ]
  },
  {
   "cell_type": "code",
   "execution_count": 36,
   "metadata": {},
   "outputs": [],
   "source": [
    "# frequency of sine wave, in Hz\n",
    "f = 1e3               \n",
    "w = 2*np.pi*f\n",
    "t_sim = 1000e-3           \n",
    "N = 30000\n",
    "k = 1.38e-23\n",
    "T = 300\n",
    "q = 1.602e-19\n",
    "t_in = np.linspace(0, t_sim, N)\n",
    "v_in = (k*T/q)*np.sin(w*t_in+ np.pi/3)"
   ]
  },
  {
   "cell_type": "code",
   "execution_count": 37,
   "metadata": {
    "slideshow": {
     "slide_type": "subslide"
    }
   },
   "outputs": [
    {
     "data": {
      "image/png": "[encoded data removed]",
      "text/plain": [
       "<Figure size 720x540 with 1 Axes>"
      ]
     },
     "metadata": {
      "needs_background": "light"
     },
     "output_type": "display_data"
    }
   ],
   "source": [
    "i_c = np.exp(v_in/(k*T/q))\n",
    "NFFT = 2**16\n",
    "fft_freq, fft_mag_out = fft_mag(i_c, NFFT, t_sim/NFFT, t_sim)\n",
    "freq_abs = fft_freq*N/NFFT\n",
    "plot_fft_dB(freq_abs, fft_mag_out*NFFT/N, 0, 15)  "
   ]
  },
  {
   "cell_type": "markdown",
   "metadata": {
    "slideshow": {
     "slide_type": "slide"
    }
   },
   "source": [
    "## Intermodulation distortion"
   ]
  },
  {
   "cell_type": "markdown",
   "metadata": {
    "slideshow": {
     "slide_type": "slide"
    }
   },
   "source": [
    "## Effect of feedback"
   ]
  },
  {
   "cell_type": "markdown",
   "metadata": {
    "slideshow": {
     "slide_type": "slide"
    }
   },
   "source": [
    "## Dynamic range"
   ]
  },
  {
   "cell_type": "markdown",
   "metadata": {
    "slideshow": {
     "slide_type": "slide"
    }
   },
   "source": [
    "## Slew rate distortion"
   ]
  },
  {
   "cell_type": "markdown",
   "metadata": {
    "slideshow": {
     "slide_type": "slide"
    }
   },
   "source": [
    "## Summary"
   ]
  },
  {
   "cell_type": "markdown",
   "metadata": {},
   "source": [
    " - "
   ]
  },
  {
   "cell_type": "code",
   "execution_count": null,
   "metadata": {},
   "outputs": [],
   "source": []
  }
 ],
 "metadata": {
  "celltoolbar": "Slideshow",
  "kernelspec": {
   "display_name": "Python 3",
   "language": "python",
   "name": "python3"
  },
  "language_info": {
   "codemirror_mode": {
    "name": "ipython",
    "version": 3
   },
   "file_extension": ".py",
   "mimetype": "text/x-python",
   "name": "python",
   "nbconvert_exporter": "python",
   "pygments_lexer": "ipython3",
   "version": "3.8.2"
  },
  "livereveal": {
   "controls": false,
   "scroll": true,
   "theme": "simple"
  },
  "rise": {
   "enable_chalkboard": true,
   "slideNumber": true
  }
 },
 "nbformat": 4,
 "nbformat_minor": 4
}
