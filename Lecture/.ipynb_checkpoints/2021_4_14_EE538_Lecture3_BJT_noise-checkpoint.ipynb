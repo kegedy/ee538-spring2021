{
 "cells": [
  {
   "cell_type": "markdown",
   "metadata": {
    "cell_style": "center",
    "slideshow": {
     "slide_type": "slide"
    }
   },
   "source": [
    "# EE 538: Low-Noise Analog Circuit Design\n",
    "## Spring 2021\n",
    "## Instructor: Jason Silver"
   ]
  },
  {
   "cell_type": "markdown",
   "metadata": {
    "slideshow": {
     "slide_type": "slide"
    }
   },
   "source": [
    "## Announcements"
   ]
  },
  {
   "cell_type": "markdown",
   "metadata": {
    "slideshow": {
     "slide_type": "-"
    }
   },
   "source": [
    " - Assignment 2 due Sunday, April 18 at midnight\n",
    " - Assignment 3 will be posted Saturday, April 24"
   ]
  },
  {
   "cell_type": "markdown",
   "metadata": {
    "slideshow": {
     "slide_type": "slide"
    }
   },
   "source": [
    "## Week 3"
   ]
  },
  {
   "cell_type": "markdown",
   "metadata": {
    "slideshow": {
     "slide_type": "-"
    }
   },
   "source": [
    " - Motchenbacher Chapter 4\n",
    " - Art of Electronics Chapter 8"
   ]
  },
  {
   "cell_type": "markdown",
   "metadata": {
    "slideshow": {
     "slide_type": "slide"
    }
   },
   "source": [
    "## Overview"
   ]
  },
  {
   "cell_type": "markdown",
   "metadata": {
    "slideshow": {
     "slide_type": "-"
    }
   },
   "source": [
    " - Last time...\n",
    "     - 2-port noise theory\n",
    "     - Noise figure/noise factor\n",
    "     - Amplifier noise model\n",
    "     - Feedback amplifier noise analysis\n",
    " - Today\n",
    "     - Hybrid-$\\pi$ model\n",
    "     - BJT noise model\n",
    "     - BJT noise figure"
   ]
  },
  {
   "cell_type": "markdown",
   "metadata": {
    "slideshow": {
     "slide_type": "skip"
    }
   },
   "source": [
    "## Python packages/modules"
   ]
  },
  {
   "cell_type": "code",
   "execution_count": 8,
   "metadata": {
    "slideshow": {
     "slide_type": "skip"
    }
   },
   "outputs": [],
   "source": [
    "import matplotlib as mpl\n",
    "from matplotlib import pyplot as plt\n",
    "from matplotlib import ticker, cm\n",
    "import numpy as np\n",
    "from scipy import signal\n",
    "from scipy import integrate\n",
    "#%matplotlib notebook\n",
    "\n",
    "mpl.rcParams['font.size'] = 14\n",
    "mpl.rcParams['legend.fontsize'] = 'large'\n",
    "\n",
    "def plot_xy(x, y, xlabel, ylabel):\n",
    "    fig, ax = plt.subplots(figsize=(10.0, 7.5));\n",
    "    ax.plot(x, y, 'b')\n",
    "    ax.grid()\n",
    "    ax.set_xlabel(xlabel)\n",
    "    ax.set_ylabel(ylabel)\n",
    "    \n",
    "def plot_xy2(x1, y1, x1label, y1label, x2, y2, x2label, y2label):\n",
    "    fig, ax = plt.subplots(2, figsize = (10.0, 7.5));\n",
    "    ax[0].plot(x1, y1, 'b')\n",
    "    ax[0].set_ylabel(y1label)\n",
    "    ax[0].grid()\n",
    "    \n",
    "    ax[1].plot(x2, y2, 'b')\n",
    "    ax[1].set_xlabel(x1label)\n",
    "    ax[1].set_xlabel(x2label)\n",
    "    ax[1].set_ylabel(y2label)\n",
    "    ax[1].grid()\n",
    "    \n",
    "    fig.align_ylabels(ax[:])\n",
    "\n",
    "def plot_xy3(x, y1, y2, y3, xlabel, y1label, y2label, y3label):\n",
    "    fig, ax = plt.subplots(3, figsize=(10.0,7.5))\n",
    "    \n",
    "    ax[0].plot(x, y1)\n",
    "    ax[0].set_ylabel(y1label)\n",
    "    ax[0].grid()\n",
    "    \n",
    "    ax[1].plot(x, y2)\n",
    "    ax[1].set_ylabel(y2label)\n",
    "    ax[1].grid()\n",
    "    \n",
    "    ax[2].plot(x, y3)  \n",
    "    ax[2].set_ylabel(y3label)\n",
    "    ax[2].set_xlabel(xlabel)\n",
    "    ax[2].grid()\n",
    "    \n",
    "def plot_logxy3(x, y1, y2, y3, xlabel, y1label, y2label, y3label):\n",
    "    fig, ax = plt.subplots(3, figsize=(10.0,7.5))\n",
    "    \n",
    "    ax[0].semilogx(x, y1)\n",
    "    ax[0].set_ylabel(y1label)\n",
    "    ax[0].grid()\n",
    "    \n",
    "    ax[1].semilogx(x, y2)\n",
    "    ax[1].set_ylabel(y2label)\n",
    "    ax[1].grid()\n",
    "    \n",
    "    ax[2].semilogx(x, y3)  \n",
    "    ax[2].set_ylabel(y3label)\n",
    "    ax[2].set_xlabel(xlabel)\n",
    "    ax[2].grid()\n",
    "\n",
    "def plot_log3xy(x, y1, y2, y3, xlabel, ylabel, y1label, y2label, y3label):\n",
    "    fig, ax = plt.subplots(figsize=(10.0,7.5))\n",
    "    \n",
    "    ax.semilogx(x, y1, 'b', label=y1label)\n",
    "    ax.semilogx(x, y2, 'r', label=y2label)\n",
    "    ax.semilogx(x, y3, 'g', label=y3label)  \n",
    "    ax.set_ylabel(ylabel)\n",
    "    ax.set_xlabel(xlabel)\n",
    "    ax.grid()    \n",
    "    \n",
    "    ax.legend()\n",
    "    ax.legend(loc='upper center', ncol=3, fancybox=True, \n",
    "               shadow=True, bbox_to_anchor=(0.5,1.13) )  \n",
    "    \n",
    "def plot_logxy(x, y, xlabel, ylabel):\n",
    "    fig, ax = plt.subplots(figsize=(10.0, 7.5))\n",
    "    ax.semilogx(x, y, 'b')\n",
    "    ax.grid();\n",
    "    ax.set_xlabel(xlabel)\n",
    "    ax.set_ylabel(ylabel)\n",
    "    \n",
    "def plot_loglog(x, y, xlabel, ylabel):\n",
    "    fig, ax = plt.subplots(figsize=(10.0, 7.5))\n",
    "    ax.loglog(x, y, 'b')\n",
    "    ax.grid();\n",
    "    ax.set_xlabel(xlabel)\n",
    "    ax.set_ylabel(ylabel)\n",
    "    \n",
    "def plot_xlogy(x, y, xlabel, ylabel):\n",
    "    fig, ax = plt.subplots(figsize=(10.0, 7.5));\n",
    "    ax.semilogy(x, y, 'b');\n",
    "    ax.grid();\n",
    "    ax.set_xlabel(xlabel);\n",
    "    ax.set_ylabel(ylabel);\n",
    "    \n",
    "def read_ltspice_ac(file_name):\n",
    "    with open(file_name, 'r') as data:\n",
    "        x = []\n",
    "        y = []\n",
    "        z = []\n",
    "        next(data) # skip header line\n",
    "        for line in data:\n",
    "            p = line.split()\n",
    "            x.append(float(p[0]))\n",
    "            complex = p[1].split(\",\")\n",
    "            y.append(float(complex[0]))\n",
    "            z.append(float(complex[1]))\n",
    "\n",
    "    return x, y, z\n",
    "\n",
    "def plot_logxy2(x1, y1, x2, y2, x1label, y1label, x2label, y2label):\n",
    "    fig, ax = plt.subplots(2, figsize = (10.0, 7.5));\n",
    "    ax[0].semilogx(x1, y1, 'b');\n",
    "    ax[0].set_ylabel(y1label)\n",
    "    ax[0].grid()\n",
    "    \n",
    "    ax[1].semilogx(x2, y2, 'b');\n",
    "    ax[1].set_xlabel(x1label)\n",
    "    ax[1].set_xlabel(x2label);\n",
    "    ax[1].set_ylabel(y2label);\n",
    "    ax[1].grid();\n",
    "    \n",
    "    fig.align_ylabels(ax[:])\n",
    "    \n",
    "def plot_noise_bandwidth(f, mag):\n",
    "    fig, ax = plt.subplots(2, figsize=(10.0,7.5))\n",
    "    ax[0].semilogx(f, RC_mag)\n",
    "    ax[0].set_xscale(\"log\")\n",
    "    ax[0].set_xlim(f[0], f[-1])\n",
    "    ax[0].set_xticks(np.logspace(0.1,4,5))\n",
    "    ax[0].set_xticklabels([])\n",
    "    ax[0].set_ylabel('Magnitude [V/V]')\n",
    "    ax[0].set_title('Equivalent Noise Bandwidth')\n",
    "    ax[0].grid()\n",
    "\n",
    "    ax[1].hlines(1, 0, f_enb, color='tab:blue')\n",
    "    ax[1].hlines(0, f_enb, f[-1], color='tab:blue')\n",
    "    ax[1].vlines(f_enb, 0, 1, color='tab:blue')\n",
    "    ax[1].set_xlim(f[0], f[-1])\n",
    "    ax[1].set_xscale(\"log\")\n",
    "    ax[1].set_xticks(np.logspace(0.1,4,5))\n",
    "    ax[1].set_xticklabels([r'$10^0$',r'$10^1$', r'$10^2$', r'$10^3$', r'$10^4$'])\n",
    "    ax[1].set_ylabel('Magnitude [V/V]')\n",
    "    ax[1].set_xlabel('Frequency [Hz]')\n",
    "    ax[1].grid()\n",
    "    \n",
    "def noise_hist(vnoise, vn_rms, bins):\n",
    "    fig = plt.figure( figsize=(10.0,7.5) )\n",
    "    vn_norm = vnoise/ vn_rms\n",
    "    ax = fig.add_subplot(111)\n",
    "    n, bins, rectangles = ax.hist(vn_norm, bins, density=True, range=(-3, 3),\n",
    "                                 color='b')\n",
    "    ax.set_xlabel(r'Sample Voltage [$v_{n(rms)}$]')\n",
    "    ax.set_ylabel('Probability Density')\n",
    "    ax.grid()\n",
    "    fig.canvas.draw()\n",
    "\n",
    "def plot_NF_vs_Rs(en_vals, in_vals, Rs_min, Rs_max, T_in_K):\n",
    "    fig, ax = plt.subplots(figsize=(10.0, 7.5))\n",
    "    k = 1.38e-23\n",
    "    Rs = np.logspace(np.log10(Rs_min), np.log10(Rs_max), num=200)\n",
    "    F1 = 1 + (en_vals[0]**2+Rs**2*in_vals[0]**2)/(4*k*T_in_K*Rs)\n",
    "    F2 = 1 + (en_vals[1]**2+Rs**2*in_vals[1]**2)/(4*k*T_in_K*Rs)\n",
    "    F3 = 1 + (en_vals[2]**2+Rs**2*in_vals[2]**2)/(4*k*T_in_K*Rs)\n",
    "    ax.semilogx(Rs, 10*np.log10(F1), 'b', label=r'$e_{n1}$, $i_{n1}$')\n",
    "    ax.semilogx(Rs, 10*np.log10(F2), 'r', label=r'$e_{n2}$, $i_{n2}$')\n",
    "    ax.semilogx(Rs, 10*np.log10(F3), 'g', label=r'$e_{n3}$, $i_{n3}$')\n",
    "    ax.grid();\n",
    "    ax.set_xlabel(r'Source Resistance $R_s [\\Omega]$')\n",
    "    ax.set_ylabel(r'Noise Figure $NF$ [$dB$]')  \n",
    "    \n",
    "    ax.legend()\n",
    "    ax.legend(loc='upper center', ncol=3, fancybox=True, \n",
    "               shadow=True, bbox_to_anchor=(0.5,1.13) )  \n",
    "    \n",
    "def plot_noise_curve(e_n, i_n, Rs_min, Rs_max):\n",
    "    fig, ax = plt.subplots(figsize=(10.0, 7.5))\n",
    "    Rs = np.logspace(np.log10(Rs_min), np.log10(Rs_max), num=200)\n",
    "    e_ni_2 = 4*k*T*Rs + e_n**2 + i_n**2*Rs**2\n",
    "    ax.loglog(Rs, np.sqrt(e_ni_2), 'b', label='Total Noise')\n",
    "    ax.loglog(Rs, np.sqrt(4*k*T*Rs), 'r', label=r'$\\sqrt{4kTR_s}$')\n",
    "    ax.loglog(Rs, e_n*np.ones(np.size(Rs)), 'g', label=r'$e_n$')\n",
    "    ax.loglog(Rs, i_n*Rs, 'y', label=r'$i_n R_s$')\n",
    "    ax.grid();\n",
    "    ax.set_xlabel(r'Source Resistance $R_s [\\Omega]$')\n",
    "    ax.set_ylabel(r'Equivalent Input Noise [$V/\\sqrt{Hz}$]')\n",
    "    \n",
    "    ax.legend()\n",
    "    ax.legend(loc='upper center', ncol=4, fancybox=True, \n",
    "               shadow=True, bbox_to_anchor=(0.5,1.13) )   \n",
    "    \n",
    "def plot_bjt_NF(beta, r_bb, Rmin, Rmax, Imin, Imax):\n",
    "    fig, ax = plt.subplots(figsize=(10.0, 7.5))\n",
    "    k = 1.38e-23\n",
    "    T = 300\n",
    "    q = 1.602e-19\n",
    "    V_T = k*T/q\n",
    "    rs = np.logspace(np.log10(Rmin), np.log10(Rmax), num = 100)\n",
    "    ic = np.logspace(np.log10(Imin), np.log10(Imax), num = 100)\n",
    "    I_C, R_S = np.meshgrid(ic, rs)\n",
    "    e_n_2 = 4*k*T*(V_T/2/I_C + r_bb)\n",
    "    i_n_2 = 2*q*I_C/beta_0\n",
    "    NF = 1 + (e_n_2 + i_n_2*R_S**2)/(4*k*T*R_S)\n",
    "    cp = ax.contourf(I_C, R_S, 10*np.log10(NF), levels=np.linspace(0,15, num=16))\n",
    "    plt.xscale('log')\n",
    "    plt.yscale('log')\n",
    "    plt.ylabel(r'Source Resistance $R_s$ [$\\Omega$]')\n",
    "    plt.xlabel(r'Collector Current $I_C$ [A]')\n",
    "    fig.colorbar(cp)"
   ]
  },
  {
   "cell_type": "code",
   "execution_count": 9,
   "metadata": {
    "slideshow": {
     "slide_type": "skip"
    }
   },
   "outputs": [],
   "source": [
    "def fftnoise(f):\n",
    "    f = np.array(f, dtype='complex')\n",
    "    Np = (len(f) - 1) // 2\n",
    "    phases = np.random.rand(Np) * 2 * np.pi\n",
    "    phases = np.cos(phases) + 1j * np.sin(phases)\n",
    "    f[1:Np+1] *= phases\n",
    "    f[-1:-1-Np:-1] = np.conj(f[1:Np+1])\n",
    "    return np.fft.ifft(f).real\n",
    "\n",
    "def band_limited_noise(min_freq, max_freq, samples=1024, samplerate=1):\n",
    "    freqs = np.abs(np.fft.fftfreq(samples, 1/samplerate))\n",
    "    f = np.zeros(samples)\n",
    "    idx = np.where(np.logical_and(freqs>=min_freq, freqs<=max_freq))[0]\n",
    "    f[idx] = 1\n",
    "    return fftnoise(f)"
   ]
  },
  {
   "cell_type": "markdown",
   "metadata": {
    "slideshow": {
     "slide_type": "slide"
    }
   },
   "source": [
    "# Lecture 3 - Noise in Bipolar Junction Transistors"
   ]
  },
  {
   "cell_type": "markdown",
   "metadata": {
    "slideshow": {
     "slide_type": "slide"
    }
   },
   "source": [
    "## BJT operation (npn)"
   ]
  },
  {
   "cell_type": "markdown",
   "metadata": {},
   "source": [
    "<center><img src=\"img/npn_current.png\" width=700 /></center>"
   ]
  },
  {
   "cell_type": "markdown",
   "metadata": {
    "slideshow": {
     "slide_type": "-"
    }
   },
   "source": [
    "- $V_{be}$ controls the potential barrier for electrons trying to diffuse into the base region\n",
    "- For $V_{be} > 0$ (forward bias), electrons diffuse from (are emitted by) the emitter into base\n",
    "- The electric field generated by $V_{cb}$ causes electrons to be swept across the collector-base diffusion region"
   ]
  },
  {
   "cell_type": "markdown",
   "metadata": {
    "slideshow": {
     "slide_type": "slide"
    }
   },
   "source": [
    "## Large-signal model (Ebers-Moll)"
   ]
  },
  {
   "cell_type": "markdown",
   "metadata": {
    "cell_style": "split",
    "slideshow": {
     "slide_type": "-"
    }
   },
   "source": [
    "<center><img src=\"img/NPN_transistor.png\" width=300 /></center>"
   ]
  },
  {
   "cell_type": "markdown",
   "metadata": {
    "cell_style": "split",
    "slideshow": {
     "slide_type": "-"
    }
   },
   "source": [
    "$$I_c = I_S\\left(1+\\dfrac{V_{ce}}{V_A}\\right)e^{V_{be}/V_T} $$\n",
    "\n",
    "\\begin{align} I_b = I_c/\\beta && I_e = I_b + I_c\n",
    "\\end{align}\n",
    "\n",
    "$$ V_{be} = \\dfrac{kT}{q}ln\\left(\\dfrac{I_c}{I_S}+1\\right) $$"
   ]
  },
  {
   "cell_type": "markdown",
   "metadata": {
    "slideshow": {
     "slide_type": "-"
    }
   },
   "source": [
    " - In active mode, collector current ($I_c$) is an exponential function of $V_{be}$ and (secondarily) a linear function of $V_{ce}$\n",
    " - Base current ($I_b$) is smaller than $I_c$ by a factor $\\beta$, which is typically in the range of 10 to several hundred at DC\n",
    " - A large value of $\\beta$ is desirable to minimize loading at the base of the BJT (among other reasons, including low noise)\n",
    " - If $I_c$ is held constant, $V_{be}$ is a logarithmic function of $I_c$"
   ]
  },
  {
   "cell_type": "markdown",
   "metadata": {
    "slideshow": {
     "slide_type": "slide"
    }
   },
   "source": [
    "## Hybrid-pi model"
   ]
  },
  {
   "cell_type": "markdown",
   "metadata": {
    "cell_style": "split"
   },
   "source": [
    "<center><img src=\"img/BJT_hybrid_pi.png\" width=700 /></center>\n",
    "\n",
    "\\begin{equation}\n",
    "g_m \\equiv \\dfrac{\\partial I_C}{\\partial V_{BE}} = \\dfrac{qI_C}{kT} = \\dfrac{I_C}{V_T} \n",
    "\\end{equation}\n",
    "\n",
    "\\begin{equation}\n",
    "r_o \\equiv \\dfrac{\\partial V_{CE}}{\\partial I_C} = \\dfrac{V_A}{I_C}\n",
    "\\end{equation}\n",
    "\n",
    "\\begin{equation}\n",
    "r_\\pi = \\beta_0 \\dfrac{V_T}{I_C} = \\dfrac{\\beta_0}{g_m}\n",
    "\\end{equation}"
   ]
  },
  {
   "cell_type": "markdown",
   "metadata": {
    "cell_style": "split"
   },
   "source": [
    " - The transconductance $g_m$ is the derivative of collector current with respect to base-emitter voltage\n",
    "\n",
    " - $r_o$ is the small-signal output resistance of the transistor which captures the dependence of $i_c$ on $v_{ce}$\n",
    " \n",
    " - $r_\\pi$ is a small-signal resistance that represents the dependence of $i_b$ on $v_\\pi$\n",
    " \n",
    " - $r_{b}$ is the so-called \"spreading resistance\" of the base, and is a real resistance\n",
    " \n",
    " - $r_\\mu$ is a small-signal resistance that models the dependece of $i_b$ on $v_{ce}$ ($r_\\mu \\geq \\beta_0 r_o$)\n",
    " \n",
    " - In addition to these parameters, we also often utilize $r_e$, the small-signal resistance \"looking into\" the emitter ($r_e \\equiv 1/g_m = V_T/I_C$)\n",
    " "
   ]
  },
  {
   "cell_type": "markdown",
   "metadata": {
    "slideshow": {
     "slide_type": "slide"
    }
   },
   "source": [
    "## BJT capacitances"
   ]
  },
  {
   "cell_type": "markdown",
   "metadata": {
    "cell_style": "split"
   },
   "source": [
    "<center><img src=\"img/BJT_hybrid_pi.png\" width=700 /></center>\n",
    "\n",
    "\\begin{equation}\n",
    "C_\\mu = \\dfrac{1}{\\left(1 - \\dfrac{V_{BC}}{\\Phi_o}\\right)}\n",
    "\\end{equation}\n",
    "\n",
    "\\begin{equation}\n",
    "C_\\pi = C_j + C_b \\approx \\tau_F g_m\n",
    "\\end{equation}"
   ]
  },
  {
   "cell_type": "markdown",
   "metadata": {
    "cell_style": "split"
   },
   "source": [
    " - The hybrid-$\\pi$ model contains two small-signal capacitances, $C_\\pi$ and $C_\\mu$\n",
    " \n",
    " - $C_\\mu$ reresents the depletion capacitance of the base-collector junction\n",
    " \n",
    " - $C_\\pi$ contains both a junction capacitance ($C_{j}$) and the so-called \"base-charging\" capacitance ($C_b$), which depends on the average time (per charge carrier) spent crossing the base region\n",
    " \n",
    " - Depending on whether the BJT is integrated or discrete, $C_\\pi$ is typically an order of magnitude (or more) greater than $C_\\mu$"
   ]
  },
  {
   "cell_type": "markdown",
   "metadata": {
    "slideshow": {
     "slide_type": "slide"
    }
   },
   "source": [
    "## BJT transit frequency"
   ]
  },
  {
   "cell_type": "markdown",
   "metadata": {
    "cell_style": "split"
   },
   "source": [
    "<center><img src=\"img/BJT_ft.png\" width=500 /></center>"
   ]
  },
  {
   "cell_type": "markdown",
   "metadata": {
    "cell_style": "split"
   },
   "source": [
    " - The BJT gain-bandwidth product (or, equivalently, transit frequency $f_T$) is defined as the frequency at which the short-circuit current gain is equal to one:\n",
    " \n",
    "\\begin{equation}\n",
    "f_T = \\dfrac{g_m}{2\\pi \\cdot (C_\\pi + C_\\mu)}\n",
    "\\end{equation}\n",
    "\n",
    " - $f_T$ constitutes the maximum frequency at which the transistor is able to provide power gain - beyond this frequency, it loses its utility as a gain device\n",
    " \n",
    " - $f_T$ essentially captures the reduction in $\\beta$ as a function of frequency $-$ i.e. it is the frequency at which $|\\beta(f)| = 1$ \n",
    " \n",
    " - As predicted by the expression, $f_T$ generally increases with $I_C$ (though at high values of $I_C$ $f_T$ begins to lower due to a decrease in $\\tau_F$)"
   ]
  },
  {
   "cell_type": "markdown",
   "metadata": {
    "slideshow": {
     "slide_type": "subslide"
    }
   },
   "source": [
    " - We can plot the dependence of current gain $\\beta$ on frequency if we know the DC current gain $\\beta_0$ and the transit frequency $f_T$ (both of which are typically specified in transistor datasheets)"
   ]
  },
  {
   "cell_type": "code",
   "execution_count": 10,
   "metadata": {},
   "outputs": [
    {
     "data": {
      "image/png": "[encoded data removed]",
      "text/plain": [
       "<Figure size 720x540 with 1 Axes>"
      ]
     },
     "metadata": {
      "needs_background": "light"
     },
     "output_type": "display_data"
    }
   ],
   "source": [
    "beta_0 = 200\n",
    "f_t = 100e6\n",
    "f_3dB = f_t/beta_0\n",
    "f = np.logspace(1, 9, num=800)\n",
    "beta_f = beta_0/np.sqrt(1+f**2/f_3dB**2)\n",
    "plot_loglog(f, beta_f, 'Frequency [Hz]', r'|$\\beta$(f)|')"
   ]
  },
  {
   "cell_type": "markdown",
   "metadata": {
    "slideshow": {
     "slide_type": "slide"
    }
   },
   "source": [
    "## BJT noise mechanisms"
   ]
  },
  {
   "cell_type": "markdown",
   "metadata": {},
   "source": [
    "<center><img src=\"img/BJT_parasitics.png\" width=800 /></center>"
   ]
  },
  {
   "cell_type": "markdown",
   "metadata": {},
   "source": [
    " - Electrons injected into the base region from the emitter do so at random times, independent of each other, resulting in shot noise that is dependent on $I_C$\n",
    " \n",
    " - Similarly, electrons swept across the base-collector junction are subject to random shot noise, which in this case is dependent on $I_B$\n",
    " \n",
    " - $r_b$ is the resistance of the base semiconductor material, and thus exhibits thermal noise\n",
    " \n",
    " - *Figure source: Analysis and Design of Analog Integrated Circuits, Fifth Edition*"
   ]
  },
  {
   "cell_type": "markdown",
   "metadata": {
    "slideshow": {
     "slide_type": "slide"
    }
   },
   "source": [
    "## BJT noise model"
   ]
  },
  {
   "cell_type": "markdown",
   "metadata": {},
   "source": [
    "<center><img src=\"img/BJT_noise_model.png\" width=1000 /></center>"
   ]
  },
  {
   "cell_type": "markdown",
   "metadata": {},
   "source": [
    " - The BJT noise model contains a single voltage noise source due to $r_b$\n",
    "\n",
    "\\begin{equation}\n",
    "e_{b}^2 = 4kTr_{b}\n",
    "\\end{equation}\n",
    "\n",
    " - In addition, there are both shot and $1/f$ current noise generators\n",
    " \n",
    "\\begin{equation}\n",
    " i_{nc}^2 = 2qI_C \\;\\;\\;\\; i_{nb}^2 = 2qI_B = 2q\\dfrac{I_C}{\\beta_0} \\;\\;\\;\\;   i_{nf}^2 = \\dfrac{KI_B^\\gamma}{f^\\alpha}\n",
    "\\end{equation}\n",
    "\n",
    " - $\\gamma$ is typically in the range of $1$ to $2$, while $\\alpha$ is generally close to unity\n",
    " \n",
    " - Neither $r_\\pi$ nor $r_o$ produces thermal noise, as they small-signal resistances (as opposed to actual resistances)"
   ]
  },
  {
   "cell_type": "markdown",
   "metadata": {
    "slideshow": {
     "slide_type": "slide"
    }
   },
   "source": [
    "## Equivalent input voltage noise"
   ]
  },
  {
   "cell_type": "markdown",
   "metadata": {},
   "source": [
    " - Thermal noise due to $r_{b}$ is an intrinsic noise voltage given by $e_{b}^2 = 4kTr_{b}$\n",
    " \n",
    " - Collector current shot noise is referred to the base of the transistor by dividing by the transconductance $g_m$\n",
    " \n",
    "\\begin{equation}\n",
    "e_{nc}^2 = i_{nc}^2\\cdot \\dfrac{1}{g_m^2} = 2qI_C \\left(\\dfrac{V_T}{I_C}\\right)^2 = 2qI_Cr_e^2\n",
    "\\end{equation}\n",
    "\n",
    " - The equivalent voltage noise is given by\n",
    "\n",
    "\\begin{equation}\n",
    "e_n^2 =  2qI_Cr_e^2 + 4kTr_{b} \\:\\: V^2/Hz\n",
    "\\end{equation}\n",
    "\n",
    " - The combination can be expressed as Johnson noise arising from two separate resistances, $r_{b}$ and $r_e/2$\n",
    " \n",
    "\\begin{equation}\n",
    "e_n^2 =  2qI_Cr_e^2 + 4kTr_{b} = 4kT\\left( \\dfrac{r_e}{2} + r_{b} \\right) \\:\\: V^2/Hz\n",
    "\\end{equation}"
   ]
  },
  {
   "cell_type": "code",
   "execution_count": 11,
   "metadata": {
    "slideshow": {
     "slide_type": "subslide"
    }
   },
   "outputs": [
    {
     "data": {
      "image/png": "[encoded data removed]",
      "text/plain": [
       "<Figure size 720x540 with 1 Axes>"
      ]
     },
     "metadata": {
      "needs_background": "light"
     },
     "output_type": "display_data"
    }
   ],
   "source": [
    "r_b = 10\n",
    "beta_0 = 200\n",
    "k = 1.38e-23\n",
    "T = 300\n",
    "q = 1.602e-19\n",
    "V_T = k*T/q\n",
    "I_C = np.logspace(-6, -1, num = 100)\n",
    "e_n_2 = 4*k*T*(V_T/2/I_C + r_b)\n",
    "plot_loglog(I_C, 1e9*np.sqrt(e_n_2), r'Collector Current [A]', r'Noise Voltage Density [$nV/\\sqrt{Hz}$]')"
   ]
  },
  {
   "cell_type": "markdown",
   "metadata": {},
   "source": [
    " - At low values of $I_C$, the voltage noise is \"shot-noise-limted,\" and the noise due to $r_{b}$ has little effect\n",
    " \n",
    " - As $I_C$ is increased, $r_{b}$'s noise eventually dominates, requiring a lower value of $r_{b}$ to further reduce noise"
   ]
  },
  {
   "cell_type": "markdown",
   "metadata": {
    "slideshow": {
     "slide_type": "slide"
    }
   },
   "source": [
    "## Minimizing voltage noise"
   ]
  },
  {
   "cell_type": "markdown",
   "metadata": {},
   "source": [
    "<center><img src=\"img/AoE_BJT_en_vs_rbb.png\" width=700 /></center>"
   ]
  },
  {
   "cell_type": "markdown",
   "metadata": {},
   "source": [
    " - For very low collector currents (i.e. $< 1mA$), the value of $r_{b}$ has much less of an impact on the input voltage noise due to the dominance of collector current shot noise\n",
    " \n",
    " - To minimize voltage noise, we need both an increase in collector current and an decrease in $r_{b}$\n",
    " \n",
    " - Note that, dependence on the source resistance, this may not necessarily align with the goal of a low noise figure\n",
    " \n",
    " - *Figure source: Art of Electronics, Third Edition*"
   ]
  },
  {
   "cell_type": "markdown",
   "metadata": {
    "slideshow": {
     "slide_type": "subslide"
    }
   },
   "source": [
    "<center><img src=\"img/uncorrelated_noise_currents.png\" width=700 /></center>"
   ]
  },
  {
   "cell_type": "markdown",
   "metadata": {
    "slideshow": {
     "slide_type": "-"
    }
   },
   "source": [
    " - The improvement of $e_n$ with increasing $I_C$ is an intrinsic feature of shot noise, and is common to various noise processes\n",
    " \n",
    " - Essentially, the *signal* current increases linearly with $I_C$ (due to the commensurate increase in $g_m$), while the *noise* current goes up as $\\sqrt{I_C}$\n",
    " \n",
    " - This is due to the fact that while the signal currents are $100\\%$ correlated, the noise currents are not"
   ]
  },
  {
   "cell_type": "markdown",
   "metadata": {
    "slideshow": {
     "slide_type": "slide"
    }
   },
   "source": [
    "## Input-referred noise"
   ]
  },
  {
   "cell_type": "markdown",
   "metadata": {},
   "source": [
    "<center><img src=\"img/bjt_input_referred_noise.png\" width=900 /></center>"
   ]
  },
  {
   "cell_type": "markdown",
   "metadata": {},
   "source": [
    " - We typically refer various noise sources, regardless of origin, to the input (in this case, the base of the BJT) for comparison with other noise sources, including that due to the source resistance\n",
    " \n",
    " - In doing so, we need to divide by the device gain, which in this case the the transconductance of the BJT, $g_m$\n",
    " \n",
    " - The equivalent noise voltage is given by\n",
    " \n",
    "\\begin{equation}\n",
    "e_{nc} = \\dfrac{i_{nc}}{g_m} = \\dfrac{\\sqrt{2qI_C}}{g_m} \n",
    "\\end{equation}\n",
    " "
   ]
  },
  {
   "cell_type": "markdown",
   "metadata": {
    "slideshow": {
     "slide_type": "slide"
    }
   },
   "source": [
    "## Equivalent input current noise"
   ]
  },
  {
   "cell_type": "markdown",
   "metadata": {},
   "source": [
    " - Two current noise generators are associated with the base, one due to shot noise and another with a $1/f$ characteristic\n",
    "\n",
    "\\begin{equation}\n",
    "i_{nb}^2 = 2qI_B \\;\\;\\;\\; i_{nf}^2 = \\dfrac{KI_B^\\gamma}{f^\\alpha}\n",
    "\\end{equation}\n",
    " \n",
    " - The base current shot noise is typically expressed in reference to the collector current, such that $i_{nb}^2 = 2qI_C/\\beta_0$\n",
    " \n",
    " - At high frequencies, collector current shot noise flows through $C_{\\mu}$, contributing an additional frequency-dependent noise current given by\n",
    " \n",
    "\\begin{equation}\n",
    "i_{nc,b}^2 = 2qI_C\\left(\\dfrac{f}{f_T}\\right)^2\n",
    "\\end{equation}\n",
    "\n",
    " - The equivalent input noise current is thus\n",
    " \n",
    "\\begin{equation}\n",
    "i_{n}^2 = 2q\\dfrac{I_C}{\\beta_0} + \\dfrac{KI_B^\\gamma}{f^\\alpha} + 2qI_C\\left(\\dfrac{f}{f_T}\\right)^2\n",
    "\\end{equation}"
   ]
  },
  {
   "cell_type": "markdown",
   "metadata": {
    "slideshow": {
     "slide_type": "slide"
    }
   },
   "source": [
    "## BJT 1/f noise "
   ]
  },
  {
   "cell_type": "markdown",
   "metadata": {
    "slideshow": {
     "slide_type": "-"
    }
   },
   "source": [
    " - $1/f$ noise is a process-dependent noise mechanism that arises due to construction defects, often at material interfaces\n",
    " \n",
    " - In BJTs $1/f$ noise is generally visible only at very low frequencies or high collector currents. It is expressed as\n",
    " \n",
    "\\begin{equation}\n",
    "i_{nf}^2 = \\dfrac{KI_B^\\gamma}{f^\\alpha}\n",
    "\\end{equation}\n",
    "\n",
    " - $\\gamma$ is typically between $1$ and $2$, and $\\alpha$ is usually assumed to be unity\n",
    " \n",
    " - Letting $\\alpha = 1$ and $f_{ci} = KI_B^{\\gamma - 1}/2q$ the base current noise can be expressed as\n",
    " \n",
    "\\begin{equation}\n",
    "i_{n}^2 = 2qI_B\\left(1 + \\dfrac{f_{ci}}{f}\\right) + 2qI_C\\left(\\dfrac{f}{f_T}\\right)^2 = 2q\\dfrac{I_C}{\\beta_0}\\left(1 + \\dfrac{f_{ci}}{f}\\right) + 2qI_C\\left(\\dfrac{f}{f_T}\\right)^2\n",
    "\\end{equation}\n",
    "\n",
    " - $f_{ci}$ represents the $1/f$ noise corner frequency, which increases with current as $I_B^{\\gamma - 1}$ and is typically in the range of $10$'s of $\\text{Hz}$ to several $\\text{kHz}$\n"
   ]
  },
  {
   "cell_type": "markdown",
   "metadata": {
    "slideshow": {
     "slide_type": "slide"
    }
   },
   "source": [
    "## Induced voltage noise"
   ]
  },
  {
   "cell_type": "markdown",
   "metadata": {},
   "source": [
    " - Recall that the input current noise can be expressed as the sum of one component that is correlated with $e_n$ and another that is not. Expressing this concept in terms of voltage noise, we have\n",
    " \n",
    "\\begin{equation}\n",
    "e_n = e_u + e_c = e_u + Z_c i_n\n",
    "\\end{equation}\n",
    "\n",
    " - As the base noise current (both shot and $1/f$ components) flows through $r_{b}$ it produces a voltage noise that is correlated with $i_n$\n",
    " \n",
    "\\begin{equation}\n",
    "e_{c}^2 = i_n^2r_b^2  = 2q\\dfrac{I_C}{\\beta_0}\\left(1+\\dfrac{f_{ci}}{f}\\right)r_{b}^{2} + 2qI_C\\left(\\dfrac{f}{f_T}\\right)^2r_{b}^2\n",
    "\\end{equation}\n",
    "\n",
    " - The total input-referred voltage noise is thus\n",
    " \n",
    "\\begin{equation}\n",
    "e_n^2 = e_u^2 +  i_n^2 r_b^2 = 4kT\\left( \\dfrac{r_e}{2} + r_{b} \\right) + 2q\\dfrac{I_C}{\\beta_0}\\left(1+\\dfrac{f_{ci}}{f}\\right)r_{b}^{2} + 2qI_C\\left(\\dfrac{f}{f_T}\\right)^2r_{b}^2\n",
    "\\end{equation}"
   ]
  },
  {
   "cell_type": "code",
   "execution_count": 12,
   "metadata": {
    "scrolled": false,
    "slideshow": {
     "slide_type": "subslide"
    }
   },
   "outputs": [
    {
     "data": {
      "image/png": "[encoded data removed]",
      "text/plain": [
       "<Figure size 720x540 with 1 Axes>"
      ]
     },
     "metadata": {
      "needs_background": "light"
     },
     "output_type": "display_data"
    }
   ],
   "source": [
    "r_b = 50\n",
    "beta_0 = 200\n",
    "kT = 1.38e-23*300\n",
    "q = 1.602e-19\n",
    "V_T = kT/q\n",
    "I_C = 1e-3\n",
    "f_ci = 1e3\n",
    "f_t = 100e6\n",
    "f = np.logspace(-2, 9, num=700)\n",
    "e_n_2 = 4*k*T*(V_T/2/I_C + r_b) + + 2*q*(I_C/beta_0)*r_b**2*(1+f_ci/f)+ 2*q*I_C*r_b*(f/f_t)**2\n",
    "plot_loglog(f, 1e9*np.sqrt(e_n_2), r'Frequency [Hz]', r'Noise Voltage Density [$nV/\\sqrt{Hz}$]')"
   ]
  },
  {
   "cell_type": "markdown",
   "metadata": {},
   "source": [
    " - The flat portion of the noise corresponds to the noise due to $r_b$, $i_{nb}$, and $i_{nc}$ (component referred through $g_m$))\n",
    " \n",
    " - With the inclusion of the induced voltage noise, the resulting noise exhibits frequency dependence at both low and high frequencies due to $1/f$ noise and collector current shot noise passing through $C_\\mu$"
   ]
  },
  {
   "cell_type": "markdown",
   "metadata": {
    "slideshow": {
     "slide_type": "slide"
    }
   },
   "source": [
    "## Equivalent noise model"
   ]
  },
  {
   "cell_type": "markdown",
   "metadata": {},
   "source": [
    "<center><img src=\"img/BJT_input_noise.png\" width=600 /></center>"
   ]
  },
  {
   "cell_type": "markdown",
   "metadata": {
    "slideshow": {
     "slide_type": "-"
    }
   },
   "source": [
    " - Equivalent voltage noise:\n",
    " \n",
    "\\begin{equation}\n",
    "e_n^2 = 4kTr_{b} + 2qI_Cr_e^2 + \\dfrac{2qI_C}{\\beta_0}r_{b}^{2}\\left(1+\\dfrac{f_{ci}}{f}\\right) + 2qI_Cr_{b}^2\\left(\\dfrac{f}{f_T}\\right)^2\n",
    "\\end{equation}\n",
    "\n",
    " - Equivalent current noise:\n",
    " \n",
    "\\begin{equation}\n",
    "i_n^2 =2q\\dfrac{I_C}{\\beta_0}\\left(1 + \\dfrac{f_{ci}}{f}\\right)+2qI_C\\left(\\dfrac{f}{f_T}\\right)^2\n",
    "\\end{equation}\n",
    " \n",
    " "
   ]
  },
  {
   "cell_type": "markdown",
   "metadata": {
    "slideshow": {
     "slide_type": "subslide"
    }
   },
   "source": [
    " - In many cases a simplified noise model is adequate for describing the transistor's noise performance\n",
    " \n",
    " - $r_b$ is typically much smaller than $\\beta_0 r_e$, generally allowing us to ignore the voltage noise due to $i_{nc}$\n",
    " \n",
    " - Further, assuming we are primarily interested in \"midband\" frequencies such that $f_{ci} << f << f_{T}$, we can ignore the $1/f$ and \"direct\" shot-noise current components and the noise model becomes\n",
    " \n",
    "\\begin{equation}\n",
    "e_n^2 = 4kTr_{b} + 2qI_Cr_e^2\n",
    "\\end{equation}\n",
    "\n",
    "\\begin{equation}\n",
    "i_n^2 =2q\\dfrac{I_C}{\\beta_0}\n",
    "\\end{equation}\n",
    " "
   ]
  },
  {
   "cell_type": "markdown",
   "metadata": {
    "slideshow": {
     "slide_type": "slide"
    }
   },
   "source": [
    "## BJT noise factor"
   ]
  },
  {
   "cell_type": "markdown",
   "metadata": {},
   "source": [
    " - As previously discussed, the optimum (minimum) noise factor is given by\n",
    " \n",
    "\\begin{equation}\n",
    "F_{opt} = 1 + \\dfrac{e_n^2 + R_{opt}^2 i_n^2}{4kT R_{opt}\\Delta f} = 1 + \\dfrac{2 e_n^2}{4kT \\Delta f e_n/i_n} = 1 + \\dfrac{e_n\\cdot i_n}{2kT\\Delta f}\n",
    "\\end{equation}\n",
    "\n",
    " - where $R_{opt} = e_n/i_n$ is the source resistance that gives the optimum noise factor\n",
    " \n",
    " - Neglecting $1/f$ noise (which is typically only a concern at very low frequencies), we can express $F_{opt}$ in terms of small-signal BJT parameters:\n",
    " \n",
    "\\begin{equation}\n",
    "F_{opt} =  1 + \\dfrac{\\sqrt{4kT\\left(r_{b} + \\dfrac{r_e}{2} \\right)\\cdot \\dfrac{2kT}{\\beta_0 r_e }}}{2kT\\Delta f} = 1+ \\sqrt{\\dfrac{2r_{b}}{\\beta_0}\\cdot\\dfrac{I_C}{V_T} + \\dfrac{1}{\\beta_0}}\n",
    "\\end{equation}\n",
    "\n",
    " - From this expression we can see that increasing $\\beta_0$ or lowering $r_{b}$, $I_C$ reduces the minimum noise factor\n",
    " \n",
    " - The lowest noise factor is realized at low collector currents when the BJT is \"shot-noise-limited\""
   ]
  },
  {
   "cell_type": "markdown",
   "metadata": {
    "slideshow": {
     "slide_type": "slide"
    }
   },
   "source": [
    "## However..."
   ]
  },
  {
   "cell_type": "markdown",
   "metadata": {},
   "source": [
    " - Does the preceding result mean that for low-noise amplification we should operate our input-stage BJT with a low collector current?\n",
    " \n",
    " - Recall that the optimum source resistance corresponding to the minimum noise factor is given by $R_{opt} = e_n/i_n$. Expressed in terms of $e_n$ and $i_n$ of the BJT, this becomes\n",
    " \n",
    "\\begin{equation}\n",
    "R_{opt} = \\dfrac{e_n}{i_n} = \\sqrt{\\dfrac{4kT\\left(r_{b} + \\dfrac{r_e}{2}\\right)}{2kT/\\beta_0r_e}} = \\sqrt{\\beta_0 r_{b}\\cdot\\dfrac{2V_T}{I_C} + \\dfrac{\\beta_0 V_T^2}{I_C^2} }\n",
    "\\end{equation}\n",
    "\n",
    " - In the shot-noise-limited regime this becomes\n",
    " \n",
    "\\begin{equation}\n",
    "R_{opt} \\approx \\dfrac{V_T}{I_C}\\sqrt{\\beta_0}\n",
    "\\end{equation}\n",
    "\n",
    " - This means that to operate at $F_{opt}$, $R_{opt}$ should become increasingly large (a condition that will not be possible to satisfy for many applications)"
   ]
  },
  {
   "cell_type": "markdown",
   "metadata": {
    "slideshow": {
     "slide_type": "subslide"
    }
   },
   "source": [
    " - We can assess the noise factor graphically as a function of collector current and source resistance"
   ]
  },
  {
   "cell_type": "code",
   "execution_count": 13,
   "metadata": {
    "slideshow": {
     "slide_type": "-"
    }
   },
   "outputs": [
    {
     "data": {
      "image/png": "[encoded data removed]",
      "text/plain": [
       "<Figure size 720x540 with 2 Axes>"
      ]
     },
     "metadata": {
      "needs_background": "light"
     },
     "output_type": "display_data"
    }
   ],
   "source": [
    "r_b = 100\n",
    "beta_0 = 100\n",
    "plot_bjt_NF(beta_0, r_b, 100, 1e5, 1e-6, 10e-3)"
   ]
  },
  {
   "cell_type": "markdown",
   "metadata": {},
   "source": [
    " - For moderate values of $R_s$ (~$1k\\Omega$), the optimal value of $I_C$ is close to $1mA$ "
   ]
  },
  {
   "cell_type": "markdown",
   "metadata": {
    "slideshow": {
     "slide_type": "slide"
    }
   },
   "source": [
    "## Common-emitter stage"
   ]
  },
  {
   "cell_type": "markdown",
   "metadata": {
    "cell_style": "split",
    "slideshow": {
     "slide_type": "-"
    }
   },
   "source": [
    "<center><img src=\"img/CE_noise_analysis.png\" width=700 /></center>"
   ]
  },
  {
   "cell_type": "markdown",
   "metadata": {
    "cell_style": "split"
   },
   "source": [
    " - Johnson noise from $R_{B1,2}$ is heavily filtered due to $C_{AC}$\n",
    " \n",
    " - $R_E$ is used for biasing, but it is bypassed with $C_{AC2}$ (which can be considered an AC short at signal frequencies) for high gain and reduced noise \n",
    " \n",
    " - Primary noise contributors are $R_C$ and the transistor\n",
    " \n",
    " - What is the input-referred noise in the signal band (e.g. at audio frequencies)?"
   ]
  },
  {
   "cell_type": "markdown",
   "metadata": {
    "slideshow": {
     "slide_type": "subslide"
    }
   },
   "source": [
    "<center><img src=\"img/CE_noise_model.png\" width=1000 /></center>"
   ]
  },
  {
   "cell_type": "markdown",
   "metadata": {
    "slideshow": {
     "slide_type": "-"
    }
   },
   "source": [
    " - $R_C$'s current noise appears in parallel with the transistor's collector shot noise, and can be input-referred via $g_{m}$  \n",
    " \n",
    " - The (midband) input-referred voltage density can be expressed as\n",
    " \n",
    "\\begin{equation}\n",
    "e_n^2 = 4kT\\left(r_{b} + \\dfrac{r_e}{2} + \\dfrac{r_e^2}{R_C}\\right) = 4kT\\left(r_{b} + \\dfrac{1}{2g_m} + \\dfrac{1}{g_m^2R_C}\\right)\n",
    "\\end{equation}\n",
    "\n",
    " - Assuming we want high gain ($g_mR_C >> 1$), transistor shot noise will dominate over $R_C$'s thermal noise\n",
    "\n",
    " - The equivalent current-noise density is the same as that of the BJT alone:\n",
    " \n",
    "\\begin{equation}\n",
    "i_n^2 =2q\\dfrac{I_C}{\\beta_0} \n",
    "\\end{equation}\n"
   ]
  },
  {
   "cell_type": "markdown",
   "metadata": {
    "slideshow": {
     "slide_type": "slide"
    }
   },
   "source": [
    "## Emitter-degeneration"
   ]
  },
  {
   "cell_type": "markdown",
   "metadata": {
    "cell_style": "split",
    "slideshow": {
     "slide_type": "-"
    }
   },
   "source": [
    "<center><img src=\"img/CE_degeneration_noise.png\" width=500 /></center>"
   ]
  },
  {
   "cell_type": "markdown",
   "metadata": {
    "cell_style": "split"
   },
   "source": [
    " - What happens to the noise performance if we remove $C_{AC2}$?\n",
    "  \n",
    " - Assuming $g_mR_E >> 1$, $R_E$'s current noise is added to the total output noise current as \n",
    " \n",
    "\\begin{equation}\n",
    "i_{nR_E,out} = \\sqrt{\\dfrac{4kT}{R_E}}\\cdot\\dfrac{R_E}{1/g_m + R_E} \\approx \\sqrt{\\dfrac{4kT}{R_E}}\n",
    "\\end{equation}\n",
    "\n",
    " - $R_C$'s noise current flows directly to the output\n",
    " \n",
    " - Assuming $g_mR_E >> 1$, the effective transconductance, reduced by negative feedback, is given by\n",
    " \n",
    "\\begin{equation}\n",
    "G_m \\equiv \\dfrac{i_{out}}{v_b} = \\dfrac{g_m}{1+g_mR_E}\n",
    "\\end{equation}"
   ]
  },
  {
   "cell_type": "markdown",
   "metadata": {
    "slideshow": {
     "slide_type": "subslide"
    }
   },
   "source": [
    " - A fraction of the collector shot noise current flows through $R_E$, resulting in a noise voltage at $v_e$ given by\n",
    " \n",
    "\\begin{equation}\n",
    "v_e = \\dfrac{i_{nc}R_E}{1+g_mR_E} \n",
    "\\end{equation}\n",
    "\n",
    " - This causes a noise current to flow in the transistor given by\n",
    "\n",
    "\\begin{equation} \n",
    "-g_mv_e = -g_m\\cdot \\dfrac{i_{nc}R_E}{1+g_mR_E}\n",
    "\\end{equation}\n",
    "\n",
    " - The output noise current due to the transistor is thus\n",
    " \n",
    "\\begin{equation}\n",
    "i_{nc,out} = i_{nc} - g_m\\cdot \\dfrac{i_{nc}R_E}{1+g_mR_E} = \\dfrac{i_{nc}}{1+g_m R_E}\n",
    "\\end{equation}\n",
    " \n",
    " - This noise current approaches zero as $g_m R_E >> 1$"
   ]
  },
  {
   "cell_type": "markdown",
   "metadata": {
    "slideshow": {
     "slide_type": "subslide"
    }
   },
   "source": [
    " - The reduction in current noise due to degeneration is a useful property in current mirrors and differential amplifiers, allowing a reduction in transistor noise for a given collector current\n",
    " \n",
    " - In comparing $R_E$'s noise to collector shot noise (again assuming $g_m R_E >> 1$), we can use the equivalent thermal noise expression\n",
    " \n",
    "\\begin{equation}\n",
    "i_{nc} = 2qI_C = 2q g_m \\dfrac{kT}{q} = 2kTg_m = \\dfrac{4kT}{r_e/2} >> \\dfrac{4kT}{R_E}\n",
    "\\end{equation}\n",
    "\n",
    " - Thus, the inclusion of $R_E$ proves beneficial in reducting output current noise\n",
    " \n",
    " - The input-referred voltage noise, on the other hand, remains unchanged\n",
    " \n",
    "\\begin{equation}\n",
    "$e_{nc} = \\dfrac{i_{nc,out}}{G_m} = \\dfrac{i_{nc}}{1+g_m R_E}\\cdot \\dfrac{1+g_mR_E}{g_m} = \\dfrac{i_{nc}}{g_m}\n",
    "\\end{equation}"
   ]
  },
  {
   "cell_type": "markdown",
   "metadata": {
    "slideshow": {
     "slide_type": "slide"
    }
   },
   "source": [
    "## Summary"
   ]
  },
  {
   "cell_type": "markdown",
   "metadata": {},
   "source": [
    " - The BJT noise model consists of thermal, shot, and $1/f$ noise sources\n",
    " \n",
    " - BJT voltage noise $e_n$ is primarily due to $r_b$ and collector current shot noise (which is input-referred via $g_m$)\n",
    " \n",
    " - Minimization of $e_n$ requires both an increase in $I_C$ and a small value of $r_b$\n",
    " \n",
    " - BJT current noise $i_n$ is dominated by base current shot noise, which increases with collector current and decreases for larger values of $\\beta$\n",
    " \n",
    " - Optimizing the BJT's noise factor requires operation in the shot-noise-limited regime, though this generally involves high values of source resistance\n",
    " \n",
    " - Noise in a common-emitter amplifier is dominated by transistor noise ($R_C$ noise has little effect if designed for high gain)\n",
    " \n",
    " - Emitter degeneration supresses collector current shot noise in current sources, but does not affect the input-referred voltage noise"
   ]
  }
 ],
 "metadata": {
  "celltoolbar": "Slideshow",
  "kernelspec": {
   "display_name": "Python 3",
   "language": "python",
   "name": "python3"
  },
  "language_info": {
   "codemirror_mode": {
    "name": "ipython",
    "version": 3
   },
   "file_extension": ".py",
   "mimetype": "text/x-python",
   "name": "python",
   "nbconvert_exporter": "python",
   "pygments_lexer": "ipython3",
   "version": "3.8.2"
  },
  "livereveal": {
   "controls": false,
   "scroll": true,
   "theme": "simple"
  },
  "rise": {
   "enable_chalkboard": true,
   "slideNumber": true
  }
 },
 "nbformat": 4,
 "nbformat_minor": 4
}
