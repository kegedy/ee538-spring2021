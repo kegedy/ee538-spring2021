{
 "cells": [
  {
   "cell_type": "markdown",
   "metadata": {
    "cell_style": "center",
    "slideshow": {
     "slide_type": "slide"
    }
   },
   "source": [
    "# EE 538: Low-Noise Analog Circuit Design\n",
    "## Spring 2021\n",
    "## Instructor: Jason Silver"
   ]
  },
  {
   "cell_type": "markdown",
   "metadata": {
    "slideshow": {
     "slide_type": "slide"
    }
   },
   "source": [
    "## EE 538 basics I"
   ]
  },
  {
   "cell_type": "markdown",
   "metadata": {
    "slideshow": {
     "slide_type": "-"
    }
   },
   "source": [
    " - Instructor\n",
    "     - Jason Silver\n",
    "     - Office hours Thursdays 6 - 7pm\n",
    " - Teaching assistant\n",
    "     - Alan Logan\n",
    "     - Office hours TBD\n",
    " - Web page: [EE 538 Spring 2021 (Canvas)](https://canvas.uw.edu/courses/1448967)\n",
    "     - Access assignments, grades, and solutions\n",
    " - Slack\n",
    "     - [EE 538 Spring 2021 Slack workspace](https://join.slack.com/t/uwlnad2021/shared_invite/zt-objv9s4w-5T1Tx_YIKWhrjI4FqgFWJQ)\n",
    "     - Use Slack to ask questions about assignments and projects\n",
    "     - Participation in online discussion benefits everyone\n",
    "     \n",
    "         "
   ]
  },
  {
   "cell_type": "markdown",
   "metadata": {
    "slideshow": {
     "slide_type": "slide"
    }
   },
   "source": [
    "## EE 538 basics II"
   ]
  },
  {
   "cell_type": "markdown",
   "metadata": {
    "slideshow": {
     "slide_type": "-"
    }
   },
   "source": [
    " - To succeed in this course, you should have an understanding of\n",
    "     - Elementary circuit theory\n",
    "        - KVL, KCL, Thevenin equivalent circuits, Laplace/Fourier transforms\n",
    "     - Semiconductor device operation and circuit analysis \n",
    "         - Diodes, FETs, BJTs\n",
    "     - Basic linear systems\n",
    "         - Frequency response, poles, zeros, Bode plots\n",
    "     - Circuit simulation with some flavor of SPICE (__S__imulation __P__rogram with __I__ntegrated __C__ircuit __E__mphasis)\n",
    " \n",
    "         \n",
    "         "
   ]
  },
  {
   "cell_type": "markdown",
   "metadata": {
    "slideshow": {
     "slide_type": "slide"
    }
   },
   "source": [
    "## About your instructor"
   ]
  },
  {
   "cell_type": "markdown",
   "metadata": {
    "slideshow": {
     "slide_type": "-"
    }
   },
   "source": [
    " - PhD from UW EE in 2015\n",
    "     - Low power integrated circuit (IC) design for bioelectrical interfaces\n",
    "         - EEG, EMG, neural recording\n",
    "     - Focus on optimizing for power efficiency\n",
    " - 12 years experience designing ICs and systems for academia and industry\n",
    "     - Mixed-signal design for biomedical applications\n",
    " - Current (full-time) role\n",
    "     - Director of Hardware Engineering at Curi Bio\n",
    "         - Formerly housed in UW CoMotion startup incubator (Fluke Hall)\n",
    "         - Instrumentation for *in vitro* cell studies"
   ]
  },
  {
   "cell_type": "markdown",
   "metadata": {
    "slideshow": {
     "slide_type": "slide"
    }
   },
   "source": [
    "## Course breakdown"
   ]
  },
  {
   "cell_type": "markdown",
   "metadata": {
    "slideshow": {
     "slide_type": "-"
    }
   },
   "source": [
    "- Weekly assignments (40%)\n",
    "    - Typically assigned Saturday, submitted online the Sunday of the following week\n",
    "- Midterm exam (20%)\n",
    "    - Single exam covering approximately half of the course material\n",
    "    - \"Take-home\" format, submitted online\n",
    "- Design project (40%)\n",
    "    - Analog/mixed-signal design project with Python/Jupyter Notebooks and LTspice\n",
    "    - Optimization for performance, power, cost\n",
    "    - Topic TBD"
   ]
  },
  {
   "cell_type": "markdown",
   "metadata": {
    "slideshow": {
     "slide_type": "slide"
    }
   },
   "source": [
    "## Course learning goals"
   ]
  },
  {
   "cell_type": "markdown",
   "metadata": {
    "slideshow": {
     "slide_type": "-"
    }
   },
   "source": [
    " - Develop deeper understanding of noise processes and the mathemtical treatment of noise\n",
    " - Understand the effects of noise on analog circuit and system performance, and how to minimize noise while balancing power, cost, and circuit complexity\n",
    " - Utilize a systematic approach to circuit/system design\n",
    "    - Focus on analysis/scripting early in the design process\n",
    "    - Employ SPICE to validate calculations and assumptions"
   ]
  },
  {
   "cell_type": "markdown",
   "metadata": {
    "slideshow": {
     "slide_type": "slide"
    }
   },
   "source": [
    "## Course topics"
   ]
  },
  {
   "cell_type": "markdown",
   "metadata": {
    "slideshow": {
     "slide_type": "-"
    }
   },
   "source": [
    " - Fundamentals of random noise processes\n",
    "    - Thermal noise\n",
    "    - Shot noise\n",
    "    - $1/f$ noise\n",
    " - Amplifier noise model\n",
    "    - Input-referred noise sources\n",
    "    - Noise figure\n",
    "    - Signal-to-noise ratio (SNR)\n",
    "    - Noise in feedback circuits\n",
    " - Transistor noise\n",
    "    - BJT noise model\n",
    "    - MOSFET noise model\n",
    "    - JFET noise model\n",
    " - Nonlinearity/distortion\n",
    " - Sensor noise\n",
    " - Low-noise design\n",
    "    - Chopper modulation\n",
    "    - Auto-zeroing/correlated double sampling "
   ]
  },
  {
   "cell_type": "markdown",
   "metadata": {
    "slideshow": {
     "slide_type": "slide"
    }
   },
   "source": [
    "## Software and CAD "
   ]
  },
  {
   "cell_type": "markdown",
   "metadata": {
    "slideshow": {
     "slide_type": "-"
    }
   },
   "source": [
    " - We will use LTspice for circuit simulation\n",
    "     - [LTSpice IV Getting Started](https://www.analog.com/media/en/simulation-models/spice-models/LTspiceGettingStartedGuide.pdf?modelType=spice-models)\n",
    "     - You may use other tools “at your own risk”\n",
    " - Design, data analysis, and results plotting using Python/Jupyter Notebooks\n",
    "    - Design scripts iterable and reusable\n",
    "    - More flexible than LTspice native plotting functions\n",
    "    - Lecture examples created using Python/Jupyter Notebooks"
   ]
  },
  {
   "cell_type": "markdown",
   "metadata": {
    "slideshow": {
     "slide_type": "slide"
    }
   },
   "source": [
    "## SPICE design methodology"
   ]
  },
  {
   "cell_type": "markdown",
   "metadata": {
    "slideshow": {
     "slide_type": "-"
    }
   },
   "source": [
    " - SPICE is a numerical simulation tool that enables you to evaluate circuit ideas\n",
    " - General rule: Don't simulate something you don't already (mostly) understand\n",
    "    - SPICE is for verification only!\n",
    " - Neither analytical nor simulation models provide a complete picture of reality\n",
    "     - Understanding model limitations is crucial to building successful circuits and systems"
   ]
  },
  {
   "cell_type": "markdown",
   "metadata": {
    "slideshow": {
     "slide_type": "slide"
    }
   },
   "source": [
    "## Jupyter Hub / Jupyter Notebooks"
   ]
  },
  {
   "cell_type": "markdown",
   "metadata": {
    "slideshow": {
     "slide_type": "-"
    }
   },
   "source": [
    " - Lecture notes and assignments will be available as Jupyter notebooks (and PDFs) through Jupyter Hub\n",
    " - Jupyter Hub enables execution of Python code without the need for installation/maintenance of packages, etc\n",
    " - Lecture notes/slides will be made available in student directories prior to lecture\n",
    " - [EE538 Jupyter Hub Server](https://rttl.axdd.s.uw.edu/2020-autumn-e-e-538-a)\n",
    " - Please log out of the server when you're not using it!\n",
    " "
   ]
  },
  {
   "cell_type": "markdown",
   "metadata": {
    "slideshow": {
     "slide_type": "slide"
    }
   },
   "source": [
    "## Announcements"
   ]
  },
  {
   "cell_type": "markdown",
   "metadata": {
    "slideshow": {
     "slide_type": "slide"
    }
   },
   "source": [
    "## Week 1"
   ]
  },
  {
   "cell_type": "markdown",
   "metadata": {
    "slideshow": {
     "slide_type": "-"
    }
   },
   "source": [
    " - Low Noise Electronic System Design: Chapter 1 (Motchenbacher) \n",
    " - Electronic Noise and Fluctuation in Solids: Chapter 1 (Kogan)\n",
    " - Thermal Agitation of Electric Charge in Conductors, Nyquist"
   ]
  },
  {
   "cell_type": "markdown",
   "metadata": {
    "slideshow": {
     "slide_type": "slide"
    }
   },
   "source": [
    "## Overview"
   ]
  },
  {
   "cell_type": "markdown",
   "metadata": {
    "slideshow": {
     "slide_type": "-"
    }
   },
   "source": [
    " - Today...\n",
    "     - Random variables\n",
    "     - Thermal noise\n",
    "     - Noise bandwidth\n",
    "     - Shot noise \n",
    "     - Flicker noise"
   ]
  },
  {
   "cell_type": "markdown",
   "metadata": {
    "slideshow": {
     "slide_type": "skip"
    }
   },
   "source": [
    "## Python packages/modules"
   ]
  },
  {
   "cell_type": "code",
   "execution_count": 166,
   "metadata": {
    "slideshow": {
     "slide_type": "skip"
    }
   },
   "outputs": [],
   "source": [
    "import matplotlib as mpl\n",
    "from matplotlib import pyplot as plt\n",
    "import numpy as np\n",
    "from scipy import signal\n",
    "from scipy import integrate\n",
    "#%matplotlib notebook\n",
    "\n",
    "mpl.rcParams['font.size'] = 14\n",
    "mpl.rcParams['legend.fontsize'] = 'large'\n",
    "\n",
    "def plot_xy(x, y, xlabel, ylabel):\n",
    "    fig, ax = plt.subplots(figsize=(10.0, 7.5));\n",
    "    ax.plot(x, y, 'b')\n",
    "    ax.grid()\n",
    "    ax.set_xlabel(xlabel)\n",
    "    ax.set_ylabel(ylabel)\n",
    "    \n",
    "def plot_xy2(x1, y1, x1label, y1label, x2, y2, x2label, y2label):\n",
    "    fig, ax = plt.subplots(2, figsize = (10.0, 7.5));\n",
    "    ax[0].plot(x1, y1, 'b')\n",
    "    ax[0].set_ylabel(y1label)\n",
    "    ax[0].grid()\n",
    "    \n",
    "    ax[1].plot(x2, y2, 'b')\n",
    "    ax[1].set_xlabel(x1label)\n",
    "    ax[1].set_xlabel(x2label)\n",
    "    ax[1].set_ylabel(y2label)\n",
    "    ax[1].grid()\n",
    "    \n",
    "    fig.align_ylabels(ax[:])\n",
    "\n",
    "def plot_xy3(x, y1, y2, y3, xlabel, y1label, y2label, y3label):\n",
    "    fig, ax = plt.subplots(3, figsize=(10.0,7.5))\n",
    "    \n",
    "    ax[0].plot(x, y1)\n",
    "    ax[0].set_ylabel(y1label)\n",
    "    ax[0].grid()\n",
    "    \n",
    "    ax[1].plot(x, y2)\n",
    "    ax[1].set_ylabel(y2label)\n",
    "    ax[1].grid()\n",
    "    \n",
    "    ax[2].plot(x, y3)  \n",
    "    ax[2].set_ylabel(y3label)\n",
    "    ax[2].set_xlabel(xlabel)\n",
    "    ax[2].grid()\n",
    "    \n",
    "def plot_logxy3(x, y1, y2, y3, xlabel, y1label, y2label, y3label):\n",
    "    fig, ax = plt.subplots(3, figsize=(10.0,7.5))\n",
    "    \n",
    "    ax[0].semilogx(x, y1)\n",
    "    ax[0].set_ylabel(y1label)\n",
    "    ax[0].grid()\n",
    "    \n",
    "    ax[1].semilogx(x, y2)\n",
    "    ax[1].set_ylabel(y2label)\n",
    "    ax[1].grid()\n",
    "    \n",
    "    ax[2].semilogx(x, y3)  \n",
    "    ax[2].set_ylabel(y3label)\n",
    "    ax[2].set_xlabel(xlabel)\n",
    "    ax[2].grid()\n",
    "\n",
    "def plot_logxy(x, y, xlabel, ylabel):\n",
    "    fig, ax = plt.subplots(figsize=(10.0, 7.5))\n",
    "    ax.semilogx(x, y, 'b')\n",
    "    ax.grid();\n",
    "    ax.set_xlabel(xlabel)\n",
    "    ax.set_ylabel(ylabel)\n",
    "    \n",
    "def plot_loglog(x, y, xlabel, ylabel):\n",
    "    fig, ax = plt.subplots(figsize=(10.0, 7.5))\n",
    "    ax.loglog(x, y, 'b')\n",
    "    ax.grid();\n",
    "    ax.set_xlabel(xlabel)\n",
    "    ax.set_ylabel(ylabel)\n",
    "    \n",
    "def plot_xlogy(x, y, xlabel, ylabel, ymin, ymax):\n",
    "    fig, ax = plt.subplots(figsize=(10.0, 7.5));\n",
    "    ax.semilogy(x, y, 'b');\n",
    "    ax.grid();\n",
    "    ax.set_xlabel(xlabel);\n",
    "    ax.set_ylabel(ylabel);\n",
    "    ax.set_ylim(ymin,ymax)\n",
    "    \n",
    "def plot_logxy2(x1, y1, x2, y2, x1label, y1label, x2label, y2label):\n",
    "    fig, ax = plt.subplots(2, figsize = (10.0, 7.5));\n",
    "    ax[0].semilogx(x1, y1, 'b');\n",
    "    ax[0].set_ylabel(y1label)\n",
    "    ax[0].grid()\n",
    "    \n",
    "    ax[1].semilogx(x2, y2, 'b');\n",
    "    ax[1].set_xlabel(x1label)\n",
    "    ax[1].set_xlabel(x2label);\n",
    "    ax[1].set_ylabel(y2label);\n",
    "    ax[1].grid();\n",
    "    \n",
    "    fig.align_ylabels(ax[:])\n",
    "\n",
    "def plot_loglog2(x1, y1, x2, y2, x1label, y1label, x2label, y2label):\n",
    "    fig, ax = plt.subplots(2, figsize = (10.0, 7.5));\n",
    "    ax[0].loglog(x1, y1, 'b');\n",
    "    ax[0].set_ylabel(y1label)\n",
    "    ax[0].grid()\n",
    "    \n",
    "    ax[1].loglog(x2, y2, 'b');\n",
    "    ax[1].set_xlabel(x1label)\n",
    "    ax[1].set_xlabel(x2label);\n",
    "    ax[1].set_ylabel(y2label);\n",
    "    ax[1].grid();\n",
    "    \n",
    "    fig.align_ylabels(ax[:])\n",
    "    \n",
    "def plot_noise_bandwidth(f, mag):\n",
    "    fig, ax = plt.subplots(2, figsize=(10.0,7.5))\n",
    "    ax[0].semilogx(f, RC_mag)\n",
    "    ax[0].set_xscale(\"log\")\n",
    "    ax[0].set_xlim(f[0], f[-1])\n",
    "    ax[0].set_xticks(np.logspace(0.1,4,5))\n",
    "    ax[0].set_xticklabels([])\n",
    "    ax[0].set_ylabel('Magnitude [V/V]')\n",
    "    ax[0].set_title('Equivalent Noise Bandwidth')\n",
    "    ax[0].grid()\n",
    "\n",
    "    ax[1].hlines(1, 0, f_enb, color='tab:blue')\n",
    "    ax[1].hlines(0, f_enb, f[-1], color='tab:blue')\n",
    "    ax[1].vlines(f_enb, 0, 1, color='tab:blue')\n",
    "    ax[1].set_xlim(f[0], f[-1])\n",
    "    ax[1].set_xscale(\"log\")\n",
    "    ax[1].set_xticks(np.logspace(0.1,4,5))\n",
    "    ax[1].set_xticklabels([r'$10^0$',r'$10^1$', r'$10^2$', r'$10^3$', r'$10^4$'])\n",
    "    ax[1].set_ylabel('Magnitude [V/V]')\n",
    "    ax[1].set_xlabel('Frequency [Hz]')\n",
    "    ax[1].grid()\n",
    "\n",
    "def read_ltspice_ac(file_name):\n",
    "    with open(file_name, 'r') as data:\n",
    "        x = []\n",
    "        y = []\n",
    "        z = []\n",
    "        next(data) # skip header line\n",
    "        for line in data:\n",
    "            p = line.split()\n",
    "            x.append(float(p[0]))\n",
    "            complex = p[1].split(\",\")\n",
    "            y.append(float(complex[0]))\n",
    "            z.append(float(complex[1]))\n",
    "\n",
    "    return x, y, z\n",
    "    \n",
    "def noise_hist(vnoise, vn_rms, bins):\n",
    "    fig = plt.figure( figsize=(10.0,7.5) )\n",
    "    vn_norm = vnoise/vn_rms\n",
    "    ax = fig.add_subplot(111)\n",
    "    n, bins, rectangles = ax.hist(vn_norm, bins, density=True, range=(-3, 3),\n",
    "                                 color='b')\n",
    "    ax.set_xlabel(r'Sample Voltage [$v_{n(rms)}$]')\n",
    "    ax.set_ylabel('Probability Density')\n",
    "    ax.grid()\n",
    "    fig.canvas.draw()\n",
    "    \n",
    "def plot_flicker_vs_white_noise(f, e_n_tot, e_n_w, vn_rms, vn_w_rms):\n",
    "    fig, ax = plt.subplots(2, figsize=(10.0,7.5))\n",
    "    ax[0].loglog(f, 1e9*(e_n_tot), label=r'1/f + white noise')\n",
    "    ax[0].loglog(f, 1e9*(e_n_w*np.ones(np.shape(f))), \n",
    "                 color='tab:red', label = 'white noise only')\n",
    "    ax[0].set_ylabel(r'$e_n$ $[nV/\\sqrt{Hz}]$')\n",
    "    ax[0].grid()\n",
    "\n",
    "    # Plot the RMS noise as a function of bandwidth\n",
    "    ax[1].semilogx(f, 1e6*vn_rms)\n",
    "    ax[1].semilogx(f, 1e6*vn_w_rms, color='tab:red')\n",
    "    ax[1].set_ylabel(r'RMS noise $[\\mu V]$')\n",
    "    ax[1].set_xlabel(r'Frequency, Bandwidth [Hz]')\n",
    "    ax[1].grid()\n",
    "    fig.align_ylabels(ax[:])\n",
    "\n",
    "    ax[0].legend()\n",
    "    ax[0].legend(loc='upper center', ncol=2, fancybox=True, \n",
    "               shadow=True, bbox_to_anchor=(0.5,1.3) )   "
   ]
  },
  {
   "cell_type": "code",
   "execution_count": 2,
   "metadata": {
    "slideshow": {
     "slide_type": "skip"
    }
   },
   "outputs": [],
   "source": [
    "def fftnoise(f):\n",
    "    f = np.array(f, dtype='complex')\n",
    "    Np = (len(f) - 1) // 2\n",
    "    phases = np.random.rand(Np) * 2 * np.pi\n",
    "    phases = np.cos(phases) + 1j * np.sin(phases)\n",
    "    f[1:Np+1] *= phases\n",
    "    f[-1:-1-Np:-1] = np.conj(f[1:Np+1])\n",
    "    return np.fft.ifft(f).real\n",
    "\n",
    "def band_limited_noise(min_freq, max_freq, samples=1024, samplerate=1):\n",
    "    freqs = np.abs(np.fft.fftfreq(samples, 1/samplerate))\n",
    "    f = np.zeros(samples)\n",
    "    idx = np.where(np.logical_and(freqs>=min_freq, freqs<=max_freq))[0]\n",
    "    f[idx] = 1\n",
    "    return fftnoise(f)"
   ]
  },
  {
   "cell_type": "markdown",
   "metadata": {
    "slideshow": {
     "slide_type": "slide"
    }
   },
   "source": [
    "# Lecture 1 - Noise Fundamentals"
   ]
  },
  {
   "cell_type": "markdown",
   "metadata": {
    "slideshow": {
     "slide_type": "slide"
    }
   },
   "source": [
    "## Noise"
   ]
  },
  {
   "cell_type": "markdown",
   "metadata": {},
   "source": [
    " - For most applications, the ultimate limit of the detectability of weak signals is determined by random noise\n",
    " \n",
    " - We generally define noise as any unwanted “signals” that obscure or corrupt the desired signal\n",
    " \n",
    " - Some forms of noise are unavoidable and can only be overcome by averaging or bandwidth limiting (i.e. filtering)\n",
    " \n",
    " - Other forms can be reduced or eliminated by circuit/system architecture (e.g. ground loops and other common-mode interference)\n",
    " \n",
    " - A significant amount of design effort in signal conditioning is devoted to reducing/managing noise\n",
    "\n"
   ]
  },
  {
   "cell_type": "markdown",
   "metadata": {
    "slideshow": {
     "slide_type": "slide"
    }
   },
   "source": [
    "## Random noise"
   ]
  },
  {
   "cell_type": "markdown",
   "metadata": {
    "slideshow": {
     "slide_type": "-"
    }
   },
   "source": [
    " - Although noise can take on many definitions, the term typically refers to random noise due to fundamental physical processes (e.g. the random motion of charge in conductors)\n",
    " \n",
    " -  In this sense, noise is a stochastic (random) process. The random nature of noise is due to the fact that the thermal motion and quantum transitions of particles (i.e. electrons and atoms) in solids are random\n",
    " \n",
    " - Some examples of random noise are:\n",
    "     - __Johnson noise__: Random voltage noise caused by thermal fluctuations in a conductor\n",
    "     - __Shot noise__: Random statistical fluctuations in current caused by the discrete nature of charge\n",
    "     - __Flicker noise ($1/f$)__: Random noise, caused by a variety of factors, characterized by an increase in power spectral density at low frequencies\n",
    "     - __Burst noise__: Low-frequency noise typically seen as random jumps between two signal levels\n",
    " - In this course we will focus on the first three types, which tend to be the dominant sources of noise in resistors and transistors"
   ]
  },
  {
   "cell_type": "markdown",
   "metadata": {
    "slideshow": {
     "slide_type": "slide"
    }
   },
   "source": [
    "## Random processes"
   ]
  },
  {
   "cell_type": "markdown",
   "metadata": {},
   "source": [
    " - A random process, which can be continuous-time (CT) or discrete-time (DTT, is a function that maps each outcome of a probabalistic experiment to a CT or DT signal\n",
    " \n",
    " - The statistical characteristics of a random process are nonrandom quantities, which in principle can be measured by a corresponding averaging of the random quantity\n",
    "  \n",
    " - \n",
    " "
   ]
  },
  {
   "cell_type": "markdown",
   "metadata": {
    "slideshow": {
     "slide_type": "slide"
    }
   },
   "source": [
    "## Mean, variance, and autocorrelation"
   ]
  },
  {
   "cell_type": "markdown",
   "metadata": {},
   "source": [
    " - The __mean__, or, expected value, of random variable $x(t)$, typically denoted $\\overline{x(t)}$ or $\\langle x(t) \\rangle$, is the arithmetic mean of a large number of independent samples of $x(t)$\n",
    " \n",
    "\\begin{equation}\n",
    "\\mu_x = E[x(t)] = \\overline{x(t)} =\\int_{-\\infty}^{+\\infty}x(t)w(x)dx\n",
    "\\end{equation}\n",
    "\n",
    " - where $w(x)$ is the **probability density function** of $x$. Assuming an appropriately long measurement time $T$ (and a property called *ergodicity*), the mean can also be expresssed as\n",
    " \n",
    "\\begin{equation}\n",
    "\\mu_x = \\overline{x(t)} =  \\lim_{T \\to \\infty} \\dfrac{1}{2T}\\int_{-T}^{T} x(t) dt\n",
    "\\end{equation}\n",
    "\n",
    " - Let $\\delta x = x(t) - \\overline{x}$ be defined as the **fluctuation** of $x(t)$.  The __variance__ (also called the *second-order moment*) is the expected value of the fluctuation squared\n",
    "\n",
    "\\begin{equation}\n",
    "\\text{Var}(x) = \\sigma_x^2 = \\langle (\\delta x)^2 \\rangle = \\int_{-\\infty}^{+\\infty}(\\delta x)^2w(x)dx\n",
    "\\end{equation}"
   ]
  },
  {
   "cell_type": "markdown",
   "metadata": {
    "slideshow": {
     "slide_type": "subslide"
    }
   },
   "source": [
    "- **Autocorrelation** is the correlation of a signal or process with itself at *different time points*\n",
    " \n",
    "\\begin{equation}\n",
    "R_{xx}(\\tau) = E[x(t)x(t+\\tau)] = \\lim_{T\\to\\infty}\\dfrac{1}{2T}\\int_{-T}^{T}x(t)x(t+\\tau)dt \n",
    "\\end{equation}\n",
    "\n",
    " - Note that the autocorrelation function only depends on the time difference $\\tau$, not on the specific point in time at which it is evaluated\n",
    " \n",
    " - In a sense, the autocorrelation function can be thought to describe the memory a random process retains of its previous values"
   ]
  },
  {
   "cell_type": "markdown",
   "metadata": {
    "slideshow": {
     "slide_type": "slide"
    }
   },
   "source": [
    "## Gaussian random variables"
   ]
  },
  {
   "cell_type": "markdown",
   "metadata": {},
   "source": [
    " - The general form of the probability density function for a Gaussian random variable is\n",
    " \n",
    "\\begin{equation}\n",
    "w(x) = \\dfrac{1}{\\sigma_x\\sqrt{2\\pi}} e^{-\\frac{1}{2}\\left( \\frac{x-\\mu_x}{\\sigma_x}\\right)^2}\n",
    "\\end{equation}\n",
    "\n",
    " - $\\mu_x$ is the mean or expected value of the distribution, and $\\sigma_x$ is the square root of the variance, or **standard deviation**\n",
    " \n",
    " - Gaussian distributions arise when a random quantity $x(t)$ is the sum of many ($N>>1$) independent and identically distributed random quantities (regardless of whether the individual distributions are Gaussian)\n",
    " \n",
    " - The **central limit theorem** states that the average of many samples (observations) of a random variable with finite mean and variance is itself a random variable whose distribution converges to a normal distribution as the number of samples increases\n",
    " \n",
    " - Essentially, no matter what distribution you begin with, the sum (or average) of the outcomes of many trials will be approximately Gaussian\n",
    " \n",
    " - Additionally, and conveniently, a Gaussian variable is *entirely described* by its mean and variance"
   ]
  },
  {
   "cell_type": "markdown",
   "metadata": {
    "slideshow": {
     "slide_type": "subslide"
    }
   },
   "source": [
    " - A Gaussian probability distribution exhibits the stereotypical \"bell\" curve (although many other types of distributions are also bell-shaped)\n",
    " \n",
    " - A key characteristic of a Gaussian distribution is that large fluctuations (i.e. deviations from the mean) are much less probable than small ones"
   ]
  },
  {
   "cell_type": "code",
   "execution_count": 3,
   "metadata": {
    "cell_style": "center",
    "scrolled": false,
    "slideshow": {
     "slide_type": "-"
    }
   },
   "outputs": [
    {
     "data": {
      "image/png": "[encoded data removed]",
      "text/plain": [
       "<Figure size 720x540 with 1 Axes>"
      ]
     },
     "metadata": {
      "needs_background": "light"
     },
     "output_type": "display_data"
    }
   ],
   "source": [
    "sigma = 1\n",
    "x = np.linspace(-6*sigma, 6*sigma, 12000) \n",
    "normal_dist = (1/np.sqrt(2*np.pi))*np.exp(-np.power(x,2)/2/sigma**2)\n",
    "plot_xy(x/sigma, normal_dist, r' $x/\\sigma$', r'$w(x)$')"
   ]
  },
  {
   "cell_type": "markdown",
   "metadata": {
    "slideshow": {
     "slide_type": "subslide"
    }
   },
   "source": [
    " - We can use the distribution function to predict the percentage of measurements of a noise process that will fall within in a given amplitude range"
   ]
  },
  {
   "cell_type": "code",
   "execution_count": 4,
   "metadata": {},
   "outputs": [
    {
     "data": {
      "image/png": "[encoded data removed]",
      "text/plain": [
       "<Figure size 720x540 with 1 Axes>"
      ]
     },
     "metadata": {
      "needs_background": "light"
     },
     "output_type": "display_data"
    }
   ],
   "source": [
    "val_probability = []\n",
    "int_range = [1, 2, 3, 4, 5, 6]\n",
    "for rng in int_range:\n",
    "    p = integrate.cumtrapz(normal_dist[int(x.size/2)-rng*1000:int(x.size/2)+rng*1000], \n",
    "                           x[int(x.size/2)-rng*1000:int(x.size/2)+rng*1000], initial=0)\n",
    "    val_probability.append(p[-1])\n",
    "val_probability = np.asarray(val_probability)\n",
    "plot_xy(int_range, val_probability*100, r'$|x|/\\sigma_x$', '% of Measured Values')"
   ]
  },
  {
   "cell_type": "markdown",
   "metadata": {
    "slideshow": {
     "slide_type": "slide"
    }
   },
   "source": [
    "## Spectral density"
   ]
  },
  {
   "cell_type": "markdown",
   "metadata": {},
   "source": [
    " - If we take $x(t)$ to be the instantaneous voltage across (or current through) a unit resistor, we refer to $x^2(t)$ as the *instantaneous power* in $x(t)$. The *expected value* of the instantaneous power is given by\n",
    " \n",
    "\\begin{equation}\n",
    "E[x^2(t)] = \\sigma_x^2 = R_{xx}(0) = \\dfrac{1}{2\\pi}\\int_{-\\infty}^{\\infty}S_{xx}(f)df \n",
    "\\end{equation}\n",
    " \n",
    " - $S_{xx}(f)$ is the Fourier transform of the autocorrelation function $R_{xx}(\\tau)$. For a given realization of $x(t)$, $S_{xx}$ represents the time-average power of the signal, and is referred to as the **power spectral density** of $x(t)$\n",
    " \n",
    " - If we focus on a finite frequency band $\\Delta f$, we can express the expected power of $x(t)$ over a finite window of time $T$ as\n",
    " \n",
    "\\begin{equation}\n",
    "E[x_{\\Delta f}^2(t)] = \\sigma_{x_{\\Delta f}}^2 =  \\dfrac{1}{2\\pi}\\int_{\\Delta f}S_{xx}(f)df \n",
    "\\end{equation}\n",
    " \n",
    " - This property is useful in that it allows us to assess the (statistical) time-domain properties of a noise process by integrating its spectral density over the bandwidth of interest\n"
   ]
  },
  {
   "cell_type": "markdown",
   "metadata": {
    "slideshow": {
     "slide_type": "slide"
    }
   },
   "source": [
    "## Noise color"
   ]
  },
  {
   "cell_type": "markdown",
   "metadata": {},
   "source": [
    " - __White noise__: Equal power at all frequencies (i.e. spectral density invariant with frequency)\n",
    " \n",
    "     - So called based on an analogy with white light, though somewhat of a misnomer as white light has equal energy per wavelength (not frequency)\n",
    "     - Thermal and shot noise are examples of white noise\n",
    " - __Pink noise__: Power spectral density is inversely proportional to frequency ($1/f^\\alpha$)\n",
    "     - In electronics, often referred to as \"flicker\" noise, a termed coined by Walter Schottky in reference to emission of light with a $1/f^\\alpha$ characteristic (\"flicker effect\")\n",
    "     - Observed in many natural systems, including biological ones\n",
    " - __Red (or Brown) noise__: Power spectral density inversely proportional to the square of frequency ($1/f^2$)\n",
    "     - The result of Brownian motion, the random motion of particles suspended in a liquid or gas at thermal equilibrium\n",
    "     - As sound, a low roar resembling a waterfall or heavy rainfall"
   ]
  },
  {
   "cell_type": "markdown",
   "metadata": {
    "cell_style": "center",
    "slideshow": {
     "slide_type": "slide"
    }
   },
   "source": [
    "## Johnson-Nyquist (thermal) noise"
   ]
  },
  {
   "cell_type": "markdown",
   "metadata": {},
   "source": [
    " - In his landmark 1928 paper, Harry Nyquist showed that the average power, due to thermal fluctuations of electrons, transferred between two identical conductors in thermal equilibrium with each other in a bandwidth of $\\Delta f$ is given by\n",
    " \n",
    "\\begin{equation}\n",
    "N_t =  kT \\Delta f \\: W/Hz\n",
    "\\end{equation}\n",
    "\n",
    " - where $k = 1.38E^{-23} J/K $ is Boltzmann's constant and $T$ is temperature in Kelvin \n",
    " \n",
    " - The current induced by the noise voltage (which we'll call $e_n$) of either conductor is obtained by dividing $e_n$ by the total resistance of $2R$. The resulting power is the square of the current multiplied by $R$:\n",
    " \n",
    "\\begin{equation}\n",
    "N_t = \\dfrac{e_n^2}{R^2}\\cdot R = kT\\Delta f\n",
    "\\end{equation}\n",
    "\n",
    " - The *power spectral density* of the noise voltage due to each resistor is thus\n",
    " \n",
    "\\begin{equation}\n",
    "\\boxed{e_n^2 = 4kTR\\Delta f}\n",
    "\\end{equation}"
   ]
  },
  {
   "cell_type": "markdown",
   "metadata": {
    "cell_style": "split",
    "slideshow": {
     "slide_type": "subslide"
    }
   },
   "source": [
    " - A conductor unconnected to anything generates a noise voltage across its terminals due to the kinetic energy of electrons\n",
    " \n",
    " - Thermal noise is a type of white noise, and thus has the same power in every $1Hz$ bandwidth of frequency ($\\Delta f = 1 Hz$).  \n",
    " \n",
    " - Another way of stating this is that the autocorrelation function of thermal/white noise is an impulse function (i.e. noise values at different points in time are uncorrelated)"
   ]
  },
  {
   "cell_type": "markdown",
   "metadata": {
    "cell_style": "split"
   },
   "source": [
    "<center><img src=\"img/resistor_noise.png\" width=250 /></center>\n",
    "\n",
    "\n",
    "$$ e_n = \\sqrt{4kTR} \\; V/\\sqrt{Hz} $$\n",
    "\n",
    "$$ e_n^2 = 4kTR \\; V^2/Hz $$\n"
   ]
  },
  {
   "cell_type": "markdown",
   "metadata": {
    "slideshow": {
     "slide_type": "slide"
    }
   },
   "source": [
    "## RMS noise"
   ]
  },
  {
   "cell_type": "markdown",
   "metadata": {},
   "source": [
    "<center><img src=\"img/rms_noise.png\" width=800 /></center>"
   ]
  },
  {
   "cell_type": "markdown",
   "metadata": {
    "slideshow": {
     "slide_type": "-"
    }
   },
   "source": [
    " - The $rms$ noise is the voltage we would measure if we connected the resistor to an ideal (noiseless) amplifier and bandpass filter and looked at the output on a spectrum analyzer\n",
    " \n",
    " - For a resistor with resistance $R$ and a bandwidth of $\\Delta f$, this is given by\n",
    " \n",
    "\\begin{equation}\n",
    "v_{n(rms)} = \\sigma_{v_n} = e_n \\sqrt{\\Delta f} = \\sqrt{4kTR \\Delta f}\n",
    "\\end{equation}\n",
    " \n",
    " - This definition of $rms$ noise tells us that thermal noise *increases as the square root of bandwidth*\n",
    " \n",
    " - Note that this does not say anything about the voltage we measure at any given time instant, only its $rms$ value (i.e. its standard deviation)"
   ]
  },
  {
   "cell_type": "markdown",
   "metadata": {
    "slideshow": {
     "slide_type": "slide"
    }
   },
   "source": [
    "## Thermal noise density"
   ]
  },
  {
   "cell_type": "markdown",
   "metadata": {},
   "source": [
    " - As an example, a $1k\\Omega$ resistor at room temperature ($25C$) has an open-circuit voltage noise density $e_n \\approx 4nV/\\sqrt{Hz} $"
   ]
  },
  {
   "cell_type": "code",
   "execution_count": 5,
   "metadata": {
    "slideshow": {
     "slide_type": "-"
    }
   },
   "outputs": [],
   "source": [
    "k = 1.38e-23                 # Boltzmann constant, J/K\n",
    "T = 300                      # room temperature (27C) in Kelvin\n",
    "R_1k = 1e3                     # 10,000 ohm resistor\n",
    "f = np.logspace(0,7,num=700) # 1 Hz to 10 MHz\n",
    "en_1k =np.sqrt(4*k*T*R_1k)*np.ones(np.shape(f)) # flat PSD\n",
    "en_1k_2 = en_1k**2         # mean-square noise"
   ]
  },
  {
   "cell_type": "markdown",
   "metadata": {},
   "source": [
    " - To calculate the $rms$ noise over a given bandwidth $\\Delta f$, we integrate the mean-square noise $e_n^2$ over that bandwidth and take the square root"
   ]
  },
  {
   "cell_type": "code",
   "execution_count": 6,
   "metadata": {},
   "outputs": [],
   "source": [
    "vn_rms = []\n",
    "for fbw in f:\n",
    "    vn_rms.append(np.sqrt(4*k*T*R_1k*fbw))\n",
    "vn_rms = np.asarray(vn_rms)"
   ]
  },
  {
   "cell_type": "markdown",
   "metadata": {
    "slideshow": {
     "slide_type": "subslide"
    }
   },
   "source": [
    " - Here we're plotting the voltage noise density, mean square noise density (also called the power spectral density), and the $rms$ voltage noise as a function of frequency/bandwidth"
   ]
  },
  {
   "cell_type": "code",
   "execution_count": 7,
   "metadata": {
    "slideshow": {
     "slide_type": "-"
    }
   },
   "outputs": [
    {
     "data": {
      "image/png": "[encoded data removed]",
      "text/plain": [
       "<Figure size 720x540 with 3 Axes>"
      ]
     },
     "metadata": {
      "needs_background": "light"
     },
     "output_type": "display_data"
    }
   ],
   "source": [
    "plot_logxy3(f, 1e9*en_1k, 1e9**2*en_1k_2, 1e6*vn_rms,\n",
    "        'Frequency, Bandwidth [Hz]', r'${e_n}$ [${nV}/\\sqrt{Hz}$]', \n",
    "        r'${e_n}^2$ [${nV}^2/Hz$]', r'$v_{n(rms)}$ [$\\mu V$]' )"
   ]
  },
  {
   "cell_type": "markdown",
   "metadata": {},
   "source": [
    " - Over a $10 \\:\\text{kHz}$ bandwidth, the $1\\text{k}\\Omega$ resistor generates an $rms$ voltage noise of $\\sim0.4\\mu V$\n",
    " - For a $10\\:\\text{MHz}$ bandwidth, the $rms$ voltage noise is about $13\\mu V$"
   ]
  },
  {
   "cell_type": "markdown",
   "metadata": {
    "slideshow": {
     "slide_type": "slide"
    }
   },
   "source": [
    "## Short-circuit noise current"
   ]
  },
  {
   "cell_type": "markdown",
   "metadata": {
    "cell_style": "split"
   },
   "source": [
    " - A resistor's voltage noise can be converted to a noise current by shorting the two terminals (Norton equivalent circuit)\n",
    " \n",
    " - The bidrectional current symbol just means that the noise current can flow in either direction (random variable)\n",
    " \n",
    " - Thermal *current* noise density decreases with resistance magnitude, and is specified in units of $A/\\sqrt{Hz}$\n",
    "  \n",
    " - The short-circuit noise current is a alternative representation of the resistor's noise, and still represents the *same noise mechanism*\n",
    " "
   ]
  },
  {
   "cell_type": "markdown",
   "metadata": {
    "cell_style": "split"
   },
   "source": [
    "<center><img src=\"img/resistor_current_noise.png\" height=400 /></center>\n",
    "\n",
    "\n",
    "$$ i_n = \\sqrt{4kT/R} \\; A/\\sqrt{Hz} $$\n",
    "\n",
    "$$ e_n = i_n \\cdot R = \\sqrt{4kTR} \\; V/\\sqrt{Hz} $$\n",
    "\n",
    "$$ i_n^2 = 4kT/R \\; A^2/Hz $$\n"
   ]
  },
  {
   "cell_type": "markdown",
   "metadata": {
    "slideshow": {
     "slide_type": "slide"
    }
   },
   "source": [
    "## Combining noise sources"
   ]
  },
  {
   "cell_type": "markdown",
   "metadata": {
    "cell_style": "split"
   },
   "source": [
    "- Because we deal with $rms$ values of noise voltages and currents, our treatment of them in circuits is slightly different from that of other sources\n",
    "\n",
    "- $rms$ sources that are uncorrelated (i.e. independent of each other) cannot be added together directly, but must be added as *mean-square* quantities\n",
    "\n",
    "- An intuitive explanation for this is that different random noise sources will sometimes add, sometimes subtract, resulting in a total noise that is not a direct sum\n",
    "\n",
    "- To combine two uncorrelated noise sources we compute the square-root of the sum of their mean-square values"
   ]
  },
  {
   "cell_type": "markdown",
   "metadata": {
    "cell_style": "split"
   },
   "source": [
    "<center><img src=\"img/multiple_noise_currents.png\" height=400 /></center>\n",
    "\n",
    "\n",
    "$$ i_{n1} = \\sqrt{4kT/R_1} \\; A/\\sqrt{Hz} $$\n",
    "\n",
    "$$ i_{n2} = \\sqrt{4kT/R_2} \\; A/\\sqrt{Hz} $$\n",
    "\n",
    "$$ i_{n,tot}^2 =  i_{n1}^2 + i_{n2}^2 \\; A^2/Hz$$\n",
    "\n",
    "$$ i_{n,tot} =  \\sqrt{i_{n,tot}^2} \\; A/\\sqrt{Hz} $$"
   ]
  },
  {
   "cell_type": "markdown",
   "metadata": {
    "slideshow": {
     "slide_type": "slide"
    }
   },
   "source": [
    "## Noise in a voltage divider"
   ]
  },
  {
   "cell_type": "markdown",
   "metadata": {
    "cell_style": "center"
   },
   "source": [
    "<center><img src=\"img/voltage_divider_noise.png\" width=1100 /></center>"
   ]
  },
  {
   "cell_type": "markdown",
   "metadata": {},
   "source": [
    " - We can assess the effect of each noise source separately, and combine them using superposition\n",
    " \n",
    " - When evaluating noise, $V_{in}$ is removed (again, we're using the principle of superposition for this, which assumes linearity)\n",
    " \n",
    " - $e_{n1}$ and $e_{n2}$ are attenuated by different voltage dividers based on their respective positions in the circuit relative to $V_{out}$"
   ]
  },
  {
   "cell_type": "markdown",
   "metadata": {
    "slideshow": {
     "slide_type": "subslide"
    }
   },
   "source": [
    "- The contribution of $e_{n1}$ to the output noise is given by\n",
    " \n",
    "$$ e_{n1,out} = \\dfrac{R_2}{R_1+R_2}\\cdot e_{n1} $$\n",
    " \n",
    " - Similarly, for $e_{n2}$\n",
    " \n",
    "$$ e_{n2,out} = \\dfrac{R_1}{R_1+R_2}\\cdot e_{n2} $$\n",
    "  \n",
    " - The total noise is the $rms$ sum of the two\n",
    "\n",
    "$$ e_{n,out} = \\sqrt{e_{n1,out}^2 + e_{n2,out}^2} = \\boxed{ \\sqrt{4kT \\dfrac{R_1R_2}{R_1+R_2}} \\; \\dfrac{V}{\\sqrt{Hz}} }$$"
   ]
  },
  {
   "cell_type": "markdown",
   "metadata": {
    "slideshow": {
     "slide_type": "slide"
    }
   },
   "source": [
    "## Noise-equivalent circuit"
   ]
  },
  {
   "cell_type": "markdown",
   "metadata": {},
   "source": [
    "<center><img src=\"img/divider_noise_equivalent_circuit.png\" width=800 /></center>"
   ]
  },
  {
   "cell_type": "markdown",
   "metadata": {},
   "source": [
    "- A simpler approach to determining the output noise is to use a Thevenin equivalent circuit\n",
    "\n",
    "- From the perspective of the divider output, $R_1$ and $R_2$ appear in parallel\n",
    "\n",
    "- $e_{n,out}$ is just the voltage noise of an equivalent resistance formed by the parallel combination of $R_1$ and $R_2$\n",
    "\n",
    "$$ e_{n,out} = \\sqrt{4kTR_1||R_2} = \\sqrt{4kT \\dfrac{R_1R_2}{R_1+R_2}} \\; \\dfrac{V}{\\sqrt{Hz}} $$"
   ]
  },
  {
   "cell_type": "markdown",
   "metadata": {
    "slideshow": {
     "slide_type": "slide"
    }
   },
   "source": [
    "## Bandwidth-limited noise"
   ]
  },
  {
   "cell_type": "markdown",
   "metadata": {
    "cell_style": "split",
    "slideshow": {
     "slide_type": "-"
    }
   },
   "source": [
    "<center><img src=\"img/RC_noise.png\" width=500 /></center>"
   ]
  },
  {
   "cell_type": "markdown",
   "metadata": {
    "cell_style": "split"
   },
   "source": [
    "$$ e_n^2 = 4kTR \\; V^2/Hz $$\n",
    "\n",
    "\n",
    "$$ \\left| \\dfrac{e_{n,out}^2}{e_n^2} \\right | = \\dfrac{1}{1+(2\\pi f RC)^2}$$"
   ]
  },
  {
   "cell_type": "markdown",
   "metadata": {},
   "source": [
    " - The bandwidth of any circuit is limited by capacitance, which also limits the $rms$ noise\n",
    " - For example, the voltage noise above the $3dB$ bandwidth of an RC lowpass filter becomes increasingly small with frequency\n",
    " - The total $rms$ noise is the *square root of the integral* of the mean-square noise density over frequency\n",
    " \n",
    " $$ v_{n,out(rms)} = \\sqrt{\\int_{0}^{\\infty}\\dfrac{4kTR}{1+(2\\pi f RC)^2}df} = \\sqrt{\\dfrac{kT}{C}} $$"
   ]
  },
  {
   "cell_type": "markdown",
   "metadata": {
    "slideshow": {
     "slide_type": "slide"
    }
   },
   "source": [
    "## kT/C noise"
   ]
  },
  {
   "cell_type": "markdown",
   "metadata": {
    "cell_style": "split"
   },
   "source": [
    "- An interesting result of the preceding analysis is that the $rms$ noise of an RC lowpass filter depends only on the capacitor value\n",
    "\n",
    "- If we increase the resistance value, the noise density goes up, but the bandwidth goes down proportionately, keeping the total noise constant\n",
    "\n",
    "- Because the spectral density of thermal noise is frequency-invariant, it is convenient to define an effective __noise bandwidth__, the bandwidth of an ideal lowpass filter that would result in the same $rms$ noise as the actual filter\n"
   ]
  },
  {
   "cell_type": "markdown",
   "metadata": {
    "cell_style": "split"
   },
   "source": [
    "<center><img src=\"img/RC_noise.png\" width=500 /></center>\n",
    "\n",
    "\n",
    "$$ e_n = \\sqrt{4kTR} \\; V/\\sqrt{Hz} $$\n",
    "\n",
    "$$f_{3dB} = \\dfrac{1}{2\\pi RC} $$\n",
    "\n",
    "$$ v_{n,out(rms)} = \\sqrt{\\dfrac{kT}{C}} $$"
   ]
  },
  {
   "cell_type": "markdown",
   "metadata": {
    "slideshow": {
     "slide_type": "slide"
    }
   },
   "source": [
    "## Equivalent noise bandwidth"
   ]
  },
  {
   "cell_type": "markdown",
   "metadata": {},
   "source": [
    " - The equivalent noise bandwidth ($f_{enb}$) of a circuit is the bandwidth of an ideal \"brick-wall\" filter that would result in the same $rms$ noise as the real filter\n",
    " \n",
    " - Because white noise has a flat (constant-value) spectrum, multiplication of $e_n$ by the noise bandwidth will conveniently yield the same $rms$ noise value as that obtained via integration of the filter magitude response\n",
    " \n",
    "\\begin{equation}\n",
    "v_{n,out(rms)} = \\sqrt{e_n^2\\cdot f_{enb}}\n",
    "\\end{equation}\n",
    "\n",
    " - For the first-order RC filter this is\n",
    " \n",
    "\n",
    "\\begin{equation}\n",
    "v_{n,out(rms)} = \\sqrt{\\dfrac{kT}{C}} =  \\sqrt{4kTR \\cdot f_{enb}}\n",
    "\\end{equation}\n",
    "\n",
    "\\begin{equation}\n",
    "\\boxed{f_{enb} = \\sqrt{\\int_{0}^{\\infty}\\dfrac{1}{1+(2\\pi fRC)^2}df} = \\dfrac{1}{4RC} = \\dfrac{\\pi}{2}f_{3dB} }\n",
    "\\end{equation}\n",
    "\n",
    " - Note that the concept of noise bandwidth *only applies to situations where white noise is the dominant type of noise*\n"
   ]
  },
  {
   "cell_type": "markdown",
   "metadata": {
    "slideshow": {
     "slide_type": "subslide"
    }
   },
   "source": [
    " - Because noise is present well beyond the $3dB$ frequency, noise bandwidth is *always* greater than $3dB$ bandwidth, "
   ]
  },
  {
   "cell_type": "code",
   "execution_count": 8,
   "metadata": {
    "scrolled": false,
    "slideshow": {
     "slide_type": "-"
    }
   },
   "outputs": [
    {
     "data": {
      "image/png": "[encoded data removed]",
      "text/plain": [
       "<Figure size 720x540 with 2 Axes>"
      ]
     },
     "metadata": {
      "needs_background": "light"
     },
     "output_type": "display_data"
    }
   ],
   "source": [
    "f = np.arange(.5, 1e5+.5 , step=1)\n",
    "w = 2*np.pi*f\n",
    "R = 10e3\n",
    "C = 1e-6\n",
    "tau = R*C\n",
    "RC_mag = 1/np.sqrt(1+(w*tau)**2)\n",
    "f_enb = np.sum(RC_mag**2)\n",
    "\n",
    "plot_noise_bandwidth(f, RC_mag)"
   ]
  },
  {
   "cell_type": "markdown",
   "metadata": {
    "slideshow": {
     "slide_type": "slide"
    }
   },
   "source": [
    "## Thermal noise amplitude"
   ]
  },
  {
   "cell_type": "markdown",
   "metadata": {
    "cell_style": "center"
   },
   "source": [
    "- The amplitude of thermal noise at any given instant is unpredictable, but follows a Gaussian distribution\n",
    "\n",
    "- If we integrate the probability density function over the range $-3\\sigma_{v_n}$ to $3\\sigma_{v_n}$, the probability of the instantaneous voltage being in that range would be 99.73%"
   ]
  },
  {
   "cell_type": "code",
   "execution_count": 9,
   "metadata": {
    "cell_style": "center",
    "scrolled": false
   },
   "outputs": [
    {
     "data": {
      "image/png": "[encoded data removed]",
      "text/plain": [
       "<Figure size 720x540 with 1 Axes>"
      ]
     },
     "metadata": {
      "needs_background": "light"
     },
     "output_type": "display_data"
    }
   ],
   "source": [
    "R = 10e3\n",
    "C = 1e-9 \n",
    "vn_rms = np.sqrt(k*T/C)\n",
    "vn_range = np.linspace(-6*vn_rms, 6*vn_rms, 10000) \n",
    "vn_ampl = (1/np.sqrt(2*np.pi))*np.exp(-np.power(vn_range,2)/2/vn_rms**2)\n",
    "plot_xy(vn_range/vn_rms, vn_ampl, r'Instantaneous Noise Voltage [$\\sigma_{v_n}$]',\n",
    "       'Probability Density')"
   ]
  },
  {
   "cell_type": "markdown",
   "metadata": {
    "slideshow": {
     "slide_type": "slide"
    }
   },
   "source": [
    "## Noise as a function of time"
   ]
  },
  {
   "cell_type": "code",
   "execution_count": 150,
   "metadata": {},
   "outputs": [
    {
     "data": {
      "image/png": "[encoded data removed]",
      "text/plain": [
       "<Figure size 720x540 with 1 Axes>"
      ]
     },
     "metadata": {
      "needs_background": "light"
     },
     "output_type": "display_data"
    }
   ],
   "source": [
    "vn_rms = 1e-6                                     # rms noise value (standard deviation)\n",
    "fenb = 500e3                                      # 500kHz noise bandwidth\n",
    "N = 100e-3*fenb*2                                 # N noise samples   \n",
    "t = np.arange(N) / fenb / 2                       # sample at exactly 2x the noise bandwidth\n",
    "vn_t = np.random.normal(0, vn_rms, size=t.shape)  # random sequence with a Gaussian distribution\n",
    "plot_xy(1e3*t, 1e6*vn_t, 'Time [ms]', 'Voltage [mV]')"
   ]
  },
  {
   "cell_type": "code",
   "execution_count": 151,
   "metadata": {},
   "outputs": [
    {
     "name": "stdout",
     "output_type": "stream",
     "text": [
      "The standard deviation is 9.97e-07\n"
     ]
    }
   ],
   "source": [
    "print('The standard deviation is', np.round(np.std(vn_t),9))"
   ]
  },
  {
   "cell_type": "markdown",
   "metadata": {
    "slideshow": {
     "slide_type": "subslide"
    }
   },
   "source": [
    "- The percentage occurence of a given range of noise values approaches the probability density function"
   ]
  },
  {
   "cell_type": "code",
   "execution_count": 152,
   "metadata": {
    "scrolled": false,
    "slideshow": {
     "slide_type": "-"
    }
   },
   "outputs": [
    {
     "data": {
      "image/png": "[encoded data removed]",
      "text/plain": [
       "<Figure size 720x540 with 1 Axes>"
      ]
     },
     "metadata": {
      "needs_background": "light"
     },
     "output_type": "display_data"
    }
   ],
   "source": [
    "noise_hist(vn_t, vn_rms, 100)"
   ]
  },
  {
   "cell_type": "markdown",
   "metadata": {
    "slideshow": {
     "slide_type": "slide"
    }
   },
   "source": [
    "## White noise spectral density"
   ]
  },
  {
   "cell_type": "code",
   "execution_count": 147,
   "metadata": {
    "scrolled": false
   },
   "outputs": [
    {
     "data": {
      "image/png": "[encoded data removed]",
      "text/plain": [
       "<Figure size 720x540 with 1 Axes>"
      ]
     },
     "metadata": {
      "needs_background": "light"
     },
     "output_type": "display_data"
    }
   ],
   "source": [
    "fenb = 500e3\n",
    "freq_bin = 2*fenb/N\n",
    "nfft = 2**10\n",
    "f, en_in_psd = signal.periodogram(vn_t, fenb*2, nfft=nfft)\n",
    "vn_rms_psd = np.sqrt(np.sum(en_in_psd)*2*fenb/nfft)\n",
    "plot_xlogy(1e-3*f[1:-2], en_in_psd[1:-2], 'Frequency [kHz]', r'PSD [$V^2/Hz$]', 1e-24, 1e-12)"
   ]
  },
  {
   "cell_type": "code",
   "execution_count": 148,
   "metadata": {},
   "outputs": [
    {
     "name": "stdout",
     "output_type": "stream",
     "text": [
      "The rms noise from the PSD is 9.78e-07\n"
     ]
    }
   ],
   "source": [
    "print('The rms noise from the PSD is', np.round(vn_rms_psd,9))"
   ]
  },
  {
   "cell_type": "markdown",
   "metadata": {
    "slideshow": {
     "slide_type": "slide"
    }
   },
   "source": [
    "## Shot noise"
   ]
  },
  {
   "cell_type": "markdown",
   "metadata": {},
   "source": [
    " - Define $N$ as the number of carriers passing a point in a time interval $\\tau$ at a rate $n(t)$. Then\n",
    "\n",
    "\\begin{equation}\n",
    "N = \\int_0^\\tau n(t) dt\n",
    "\\end{equation}\n",
    "\n",
    "\\begin{equation}\n",
    "\\overline{N} = \\overline{n}\\tau\n",
    "\\end{equation}\n",
    "\n",
    " - where $\\overline{N}$ and $\\overline{n}$ are ensemble averages. Let $\\delta N = N - \\overline{N}$ be the fluctuation in the number of carriers passing through during in an interval $\\tau$ \n",
    " \n",
    " - Let's also define the random process $x_\\tau$ such that $x_\\tau = \\delta N/\\tau$\n",
    " \n",
    " - For a **Poisson process**, $\\overline{N} = \\text{Var}(N) = \\overline{[\\delta N]^2}$ and $\\overline{n} = \\text{Var}(n)$, thus\n",
    " \n",
    "\\begin{equation}\n",
    "\\text{Var}(n) = \\tau \\overline{x_\\tau^2}\n",
    "\\end{equation}\n",
    " "
   ]
  },
  {
   "cell_type": "markdown",
   "metadata": {
    "slideshow": {
     "slide_type": "subslide"
    }
   },
   "source": [
    " - Applying the Wiener-Khinchin theorem gives\n",
    " \n",
    "\\begin{equation}\n",
    "S_{nn}(0) = \\lim_{\\tau\\to\\infty} 2\\tau \\overline{x_\\tau^2} = 2\\text{Var}(n) = 2\\overline{n}\n",
    "\\end{equation}\n",
    "\n",
    " - where the $(0)$ indicates invariance of the spectral density with frequency. To get mean current from mean carrier flux, multiply by the carrier charge $q$ \n",
    " \n",
    "\\begin{equation}\n",
    "\\overline{I} = q \\overline{n}\n",
    "\\end{equation}\n",
    "\n",
    " - The spectral density of the current fluctuation is thus\n",
    "\n",
    "\\begin{equation}\n",
    "S_I(0) = q^2 S_n(0) = 2q^2\\text{Var}(n) = 2q^2\\overline{n} = \\boxed{2q\\overline{I}}\n",
    "\\end{equation}"
   ]
  },
  {
   "cell_type": "markdown",
   "metadata": {
    "slideshow": {
     "slide_type": "slide"
    }
   },
   "source": [
    "## Shot noise in a pn junction"
   ]
  },
  {
   "cell_type": "markdown",
   "metadata": {
    "cell_style": "center"
   },
   "source": [
    "<center><img src=\"img/shot_noise.png\" width=900 /></center>"
   ]
  },
  {
   "cell_type": "markdown",
   "metadata": {
    "cell_style": "center"
   },
   "source": [
    " - The current in a forward-biased $pn$ junction is given by\n",
    " \n",
    "$$I_D = I_S(e^{\\frac{V_{D}}{V_T}} - 1) $$\n",
    "\n",
    " - The shot noise mean square current density is given by\n",
    " \n",
    "$$ i_{sh}^2 = 2qI_D\\Delta f $$\n",
    "\n",
    " - $r_d = kT/qI_D$ is the small-signal resistance of the $pn$ junction, and is considered to be noiseless \n",
    " \n",
    " - Note that unlike thermal noise in resistors, shot noise in $pn$-junctions *only exists in the presence of DC current flow*\n",
    " - Like thermal noise, shot noise exhibits a Gaussian amplitude distribution"
   ]
  },
  {
   "cell_type": "markdown",
   "metadata": {
    "slideshow": {
     "slide_type": "slide"
    }
   },
   "source": [
    "## Diode noise model"
   ]
  },
  {
   "cell_type": "markdown",
   "metadata": {},
   "source": [
    "<center><img src=\"img/diode_noise.png\" width=700 /></center>"
   ]
  },
  {
   "cell_type": "markdown",
   "metadata": {},
   "source": [
    " - The complete diode noise model includes thermal noise due to the finite resistivity of the semiconductor material comprising the diode\n",
    " \n",
    " - Because $r_s$ is a real resistance (typically small, from 10's to 100's of $\\Omega$), its noise spectral density is given by\n",
    " \n",
    "$$ e_s = \\sqrt{4kTr_s} $$\n",
    "\n",
    " - Note that although $r_d$ is represented as a small-signal resistance, it is not a real resistor and therefore *does not* exhibit thermal noise itself (typical for many *small-signal* resistances)"
   ]
  },
  {
   "cell_type": "markdown",
   "metadata": {
    "slideshow": {
     "slide_type": "slide"
    }
   },
   "source": [
    "## 1/f noise"
   ]
  },
  {
   "cell_type": "markdown",
   "metadata": {
    "cell_style": "center"
   },
   "source": [
    " - The principal feature of $1/f$ noise is a spectral density $S_x(f)$ that increases with decreasing frequency $f$ with no observed leveling off \n",
    " \n",
    " - $1/f$ noise arises in devices due to a variety of factors, though in electronic devices it is typically attributed to the existence of \"energy traps\" that arise due to material imperfections (often at the interface between different materials) \n",
    " \n",
    " - In some cases, the fundamental physical principles that give rise to a specific $1/f$ noise process may be unknown\n",
    " \n",
    " - In general, $1/f$ noise has a spectral density that varies as $1/f^\\gamma$, with $\\gamma$ typically exhibiting values between $0.8$ and $1.2$ (although values outside this range are not uncommon) \n",
    " \n",
    " - The $1/f^\\gamma$ noise characteristic, with spectral density increasing with decreasing frequency, has been experimentally observed to continue down to frequencies as low as $0.5 \\mu\\text{Hz}$ (approximately one cycle per day)\n"
   ]
  },
  {
   "cell_type": "markdown",
   "metadata": {
    "slideshow": {
     "slide_type": "slide"
    }
   },
   "source": [
    "## Spectral density of 1/f noise"
   ]
  },
  {
   "cell_type": "markdown",
   "metadata": {},
   "source": [
    " - If we denote $f_1$ and $f_2$ as the minimum and maximum frequencies of interest for a given application or measurement system and assume that the spectral density is zero outside this range, assuming a noise coefficient $C_{1/f}$ we have\n",
    "    \n",
    "\\begin{equation}\n",
    "S_x(f) = \n",
    "\\begin{cases} \n",
    "C_{1/f}f^{-1}, & \\: f_1 < f < f_2 \\\\\n",
    "0, & f < f_1 < f_2 \n",
    "\\end{cases}\n",
    "\\end{equation}\n",
    "\n",
    " - In this case, the variance of the noise (determined by integrating $S_x(f)$ from $f_1$ to $f_2$) is given by\n",
    "\n",
    "\\begin{equation}\n",
    "\\sigma_x^2 = \\langle (\\delta x)^2 \\rangle = C_{1/f}\\ln\\dfrac{f_2}{f_1}\n",
    "\\end{equation}\n",
    "\n",
    " - In most cases, $1/f$ noise is only of interest up to the frequency at which another source of noise (e.g. thermal or shot noise) begins to dominate the total noise, so it makes sense to model the noise this way\n",
    " \n",
    " - The logarithmic dependence of the variance on the frequency span means that it grows *very* slowly with measurement time, practically limiting the magnitude (i.e., variance) of $1/f$ noise"
   ]
  },
  {
   "cell_type": "markdown",
   "metadata": {
    "slideshow": {
     "slide_type": "subslide"
    }
   },
   "source": [
    " - The power spectral density grows inversely with frequency at $20 \\: \\text{dB}/\\text{dec}$, while the voltage spectral density grows at $10 \\: \\text{dB}/\\text{dec}$"
   ]
  },
  {
   "cell_type": "code",
   "execution_count": 194,
   "metadata": {
    "scrolled": false,
    "slideshow": {
     "slide_type": "-"
    }
   },
   "outputs": [
    {
     "data": {
      "image/png": "[encoded data removed]",
      "text/plain": [
       "<Figure size 720x540 with 2 Axes>"
      ]
     },
     "metadata": {
      "needs_background": "light"
     },
     "output_type": "display_data"
    }
   ],
   "source": [
    "f = np.logspace(0,5,num=300)      # 0.1Hz to 1MHz\n",
    "s_x_1_over_f = 1/f                # spectral density\n",
    "plot_loglog2(f, s_x_1_over_f, f, np.sqrt(s_x_1_over_f), 'Frequency [Hz]', r'$e_n^2$  [$V^2/Hz$]', \n",
    "            'Frequency [Hz]', r'$e_n$ [$V/\\sqrt{Hz}$]');"
   ]
  },
  {
   "cell_type": "markdown",
   "metadata": {
    "slideshow": {
     "slide_type": "slide"
    }
   },
   "source": [
    "## 1/f noise \"corner\""
   ]
  },
  {
   "cell_type": "markdown",
   "metadata": {},
   "source": [
    " - The $1/f$ noise of a given circuit or device is often described by its \"corner\" frequency $f_c$, the frequency at which $1/f$ and white noise contributions to the total noise are equal "
   ]
  },
  {
   "cell_type": "code",
   "execution_count": 14,
   "metadata": {
    "cell_style": "center"
   },
   "outputs": [
    {
     "data": {
      "image/png": "[encoded data removed]",
      "text/plain": [
       "<Figure size 720x540 with 1 Axes>"
      ]
     },
     "metadata": {
      "needs_background": "light"
     },
     "output_type": "display_data"
    }
   ],
   "source": [
    "f = np.logspace(-1,6,num=300)      # 0.1Hz to 1MHz\n",
    "R = 10e3                           # 10k-ohm resistance\n",
    "f_c = 1000                         # 1kHz corner frequency\n",
    "e_n_w = np.sqrt(4*k*T*R)           # white noise voltage density\n",
    "e_n_tot = e_n_w*np.sqrt(1+f_c/f)   # total noise voltage density\n",
    "plot_loglog(f, e_n_tot, 'Frequency [Hz]', 'Voltage Noise Density [$e_n$, $V/\\sqrt{Hz}$]')"
   ]
  },
  {
   "cell_type": "markdown",
   "metadata": {
    "slideshow": {
     "slide_type": "slide"
    }
   },
   "source": [
    "## RMS noise versus bandwidth"
   ]
  },
  {
   "cell_type": "markdown",
   "metadata": {
    "cell_style": "center"
   },
   "source": [
    " - For applications requiring high precision at very low frequencies, $1/f$ noise can have a substantial impact\n",
    " \n",
    " - Let's take a look at both noise density ($e_n$) and $rms$ noise ($v_{n,rms}$) with and without $1/f$ noise"
   ]
  },
  {
   "cell_type": "code",
   "execution_count": 15,
   "metadata": {
    "slideshow": {
     "slide_type": "-"
    }
   },
   "outputs": [],
   "source": [
    "f = np.logspace(-3,5,num=1000)          # 1mHz to 100kHz\n",
    "T = 300                                 # absolute (room) temperature\n",
    "R = 10e3                                # 10k-ohm resistance\n",
    "f_c = 100                               # flicker noise corner \n",
    "e_n_w_2 = 4*k*T*R                       # white noise power spectral density\n",
    "e_n_w = np.sqrt(e_n_w_2)                # white noise voltage spectral density\n",
    "e_n_tot = e_n_w*np.sqrt(1+f_c/f)        # voltage spectral density, including 1/f contribution\n",
    "e_n_tot_2 = e_n_tot**2                  # total noise power spectral density\n",
    "vn2 = integrate.cumtrapz(e_n_tot_2, f, initial=0) # integrated noise power as a function of bandwidth\n",
    "vn_rms = np.sqrt(vn2)                   # rms noise as a function of bandwidth\n",
    "vn_w_2 = integrate.cumtrapz(e_n_w_2*np.ones(np.shape(f)), f, initial=0) # integrated white noise power\n",
    "vn_w_rms = np.sqrt(vn_w_2)              # rms noise without 1/f"
   ]
  },
  {
   "cell_type": "code",
   "execution_count": 16,
   "metadata": {
    "cell_style": "center",
    "slideshow": {
     "slide_type": "subslide"
    }
   },
   "outputs": [
    {
     "data": {
      "image/png": "[encoded data removed]",
      "text/plain": [
       "<Figure size 720x540 with 2 Axes>"
      ]
     },
     "metadata": {
      "needs_background": "light"
     },
     "output_type": "display_data"
    }
   ],
   "source": [
    "plot_flicker_vs_white_noise(f, e_n_tot, e_n_w, vn_rms, vn_w_rms) "
   ]
  },
  {
   "cell_type": "markdown",
   "metadata": {},
   "source": [
    " - Note that for wider measurement bandwidths the $rms$ noise is approximately the same with (blue curve) and without (red curve) $1/f$ noise, but for narrow bandwidths $1/f$ noise dominates\n",
    " \n",
    " - What constitutes a \"wide\" or \"narrow\" bandwidth depends on both the thermal noise floor and the corner frequency\n",
    " \n",
    " - All transistors exhibit some amount of flicker noise, but FETs typically exhibit much higher levels of $1/f$ noise (and higher corner frequencies) than BJTs"
   ]
  },
  {
   "cell_type": "markdown",
   "metadata": {
    "slideshow": {
     "slide_type": "slide"
    }
   },
   "source": [
    "## Summary"
   ]
  },
  {
   "cell_type": "markdown",
   "metadata": {},
   "source": [
    " - Noise is a random process that must be analyzed using statistical means\n",
    " \n",
    " - Many noise processes obey Gaussian distributions, and are typically, and conveniently, described using mean $\\mu_x$, variance $\\sigma_x^2$, and autocorrelation $R_{xx}(\\tau)$\n",
    " \n",
    " - Spectral density describes the power (or voltage, current) present in a signal, per unit frequency, as a function of frequency\n",
    " \n",
    " - The most important types of noise in electronic devices are thermal noise, shot noise, and $1/f$ noise\n",
    " \n",
    "    - Thermal noise is white and does not dependent on steady state (DC) current\n",
    "    \n",
    "    - Shot noise is also white, but relies on the presence of DC current\n",
    "    \n",
    "    - $1/f$ noise exhibits a power spectral density that is inversely proportional to frequency\n",
    "\n"
   ]
  }
 ],
 "metadata": {
  "celltoolbar": "Slideshow",
  "kernelspec": {
   "display_name": "Python 3",
   "language": "python",
   "name": "python3"
  },
  "language_info": {
   "codemirror_mode": {
    "name": "ipython",
    "version": 3
   },
   "file_extension": ".py",
   "mimetype": "text/x-python",
   "name": "python",
   "nbconvert_exporter": "python",
   "pygments_lexer": "ipython3",
   "version": "3.8.2"
  },
  "livereveal": {
   "controls": false,
   "scroll": true,
   "theme": "simple"
  },
  "rise": {
   "enable_chalkboard": true,
   "slideNumber": true
  }
 },
 "nbformat": 4,
 "nbformat_minor": 4
}
