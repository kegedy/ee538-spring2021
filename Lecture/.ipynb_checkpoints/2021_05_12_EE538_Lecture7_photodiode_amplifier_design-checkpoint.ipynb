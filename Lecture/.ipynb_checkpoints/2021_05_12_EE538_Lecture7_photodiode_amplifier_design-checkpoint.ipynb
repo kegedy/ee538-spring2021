{
 "cells": [
  {
   "cell_type": "markdown",
   "metadata": {
    "cell_style": "center",
    "slideshow": {
     "slide_type": "slide"
    }
   },
   "source": [
    "# EE 538: Low-Noise Analog Circuit Design\n",
    "## Spring 2021\n",
    "## Instructor: Jason Silver"
   ]
  },
  {
   "cell_type": "markdown",
   "metadata": {
    "slideshow": {
     "slide_type": "slide"
    }
   },
   "source": [
    "## Announcements"
   ]
  },
  {
   "cell_type": "markdown",
   "metadata": {
    "slideshow": {
     "slide_type": "-"
    }
   },
   "source": [
    " - Midterm exam due Sunday, May 16\n",
    " - Design project posted\n",
    "     - In-class presentation Wednesday, June 2\n",
    "     - Final report due Friday, June 11 at midnight     "
   ]
  },
  {
   "cell_type": "markdown",
   "metadata": {
    "slideshow": {
     "slide_type": "slide"
    }
   },
   "source": [
    "## Week 7"
   ]
  },
  {
   "cell_type": "markdown",
   "metadata": {
    "slideshow": {
     "slide_type": "-"
    }
   },
   "source": [
    " - EE538 lecture notes\n",
    " - Photodiode Front Ends $-$ The REAL Story, *Opt. Photon. News, 12, 42-45 (April 2001).\n",
    " - AoE Chapter 8, Section 8.11 \n",
    " - AoE $-$ The x-Chapters, Sectin 4x.3 "
   ]
  },
  {
   "cell_type": "markdown",
   "metadata": {
    "slideshow": {
     "slide_type": "slide"
    }
   },
   "source": [
    "## Overview"
   ]
  },
  {
   "cell_type": "markdown",
   "metadata": {
    "slideshow": {
     "slide_type": "-"
    }
   },
   "source": [
    " - Last time...\n",
    "     - Nonlinear device characteristics\n",
    "     - Distortion in amplifiers\n",
    "     - Total harmonic distortion\n",
    "     - Intermodulation distortion\n",
    "     - Effect of feedback on nonlinearity\n",
    "     - Dynamic range\n",
    " - Today...\n",
    "     - TIA frequency response and noise\n",
    "     - Shot noise limit and minimizing added noise\n",
    "     - Cascode isolation of photodiode capacitance\n",
    "     - Regulated (i.e. gain-boosted) cascode\n",
    "     - Boostrapping photodiode capacitance"
   ]
  },
  {
   "cell_type": "markdown",
   "metadata": {
    "slideshow": {
     "slide_type": "skip"
    }
   },
   "source": [
    "## Python packages/modules"
   ]
  },
  {
   "cell_type": "code",
   "execution_count": 5,
   "metadata": {
    "slideshow": {
     "slide_type": "skip"
    }
   },
   "outputs": [],
   "source": [
    "import matplotlib as mpl\n",
    "from matplotlib import pyplot as plt\n",
    "from matplotlib import ticker, cm\n",
    "import numpy as np\n",
    "from scipy import signal\n",
    "from scipy import integrate\n",
    "from scipy.fft import fft\n",
    "#%matplotlib notebook\n",
    "\n",
    "mpl.rcParams['font.size'] = 14\n",
    "mpl.rcParams['legend.fontsize'] = 'large'\n",
    "\n",
    "def plot_xy(x, y, xlabel, ylabel):\n",
    "    fig, ax = plt.subplots(figsize=(10.0, 7.5));\n",
    "    ax.plot(x, y, 'b')\n",
    "    ax.grid()\n",
    "    ax.set_xlabel(xlabel)\n",
    "    ax.set_ylabel(ylabel)\n",
    "    \n",
    "def plot_2xy(x, y1, y2, xlabel, ylabel, y1label, y2label):\n",
    "    fig, ax = plt.subplots(figsize=(10.0,7.5))\n",
    "    \n",
    "    ax.plot(x, y1, 'b', label=y1label)\n",
    "    ax.plot(x, y2, 'r', label=y2label)\n",
    "    ax.set_ylabel(ylabel)\n",
    "    ax.set_xlabel(xlabel)\n",
    "    ax.grid()    \n",
    "    \n",
    "    ax.legend()\n",
    "    ax.legend(loc='upper center', ncol=2, fancybox=True, \n",
    "               shadow=True, bbox_to_anchor=(0.5,1.13) )     \n",
    "\n",
    "def plot_xy2(x1, y1, x1label, y1label, x2, y2, x2label, y2label):\n",
    "    fig, ax = plt.subplots(2, figsize = (10.0, 7.5));\n",
    "    ax[0].plot(x1, y1, 'b')\n",
    "    ax[0].set_ylabel(y1label)\n",
    "    ax[0].grid()\n",
    "    \n",
    "    ax[1].plot(x2, y2, 'b')\n",
    "    ax[1].set_xlabel(x1label)\n",
    "    ax[1].set_xlabel(x2label)\n",
    "    ax[1].set_ylabel(y2label)\n",
    "    ax[1].grid()\n",
    "    \n",
    "    fig.align_ylabels(ax[:])\n",
    "\n",
    "def plot_xy3(x, y1, y2, y3, xlabel, y1label, y2label, y3label):\n",
    "    fig, ax = plt.subplots(3, figsize=(10.0,7.5))\n",
    "    \n",
    "    ax[0].plot(x, y1)\n",
    "    ax[0].set_ylabel(y1label)\n",
    "    ax[0].grid()\n",
    "    \n",
    "    ax[1].plot(x, y2)\n",
    "    ax[1].set_ylabel(y2label)\n",
    "    ax[1].grid()\n",
    "    \n",
    "    ax[2].plot(x, y3)  \n",
    "    ax[2].set_ylabel(y3label)\n",
    "    ax[2].set_xlabel(xlabel)\n",
    "    ax[2].grid()\n",
    "    \n",
    "def plot_logxy3(x, y1, y2, y3, xlabel, y1label, y2label, y3label):\n",
    "    fig, ax = plt.subplots(3, figsize=(10.0,7.5))\n",
    "    \n",
    "    ax[0].semilogx(x, y1)\n",
    "    ax[0].set_ylabel(y1label)\n",
    "    ax[0].grid()\n",
    "    \n",
    "    ax[1].semilogx(x, y2)\n",
    "    ax[1].set_ylabel(y2label)\n",
    "    ax[1].grid()\n",
    "    \n",
    "    ax[2].semilogx(x, y3)  \n",
    "    ax[2].set_ylabel(y3label)\n",
    "    ax[2].set_xlabel(xlabel)\n",
    "    ax[2].grid()\n",
    "\n",
    "def plot_logxy(x, y, xlabel, ylabel):\n",
    "    fig, ax = plt.subplots(figsize=(10.0, 7.5))\n",
    "    ax.semilogx(x, y, 'b')\n",
    "    ax.grid();\n",
    "    ax.set_xlabel(xlabel)\n",
    "    ax.set_ylabel(ylabel)    \n",
    "    \n",
    "def plot_log3xy(x, y1, y2, y3, xlabel, ylabel, y1label, y2label, y3label):\n",
    "    fig, ax = plt.subplots(figsize=(10.0,7.5))\n",
    "    \n",
    "    ax.semilogx(x, y1, 'b', label=y1label)\n",
    "    ax.semilogx(x, y2, 'r', label=y2label)\n",
    "    ax.semilogx(x, y3, 'g', label=y3label)  \n",
    "    ax.set_ylabel(ylabel)\n",
    "    ax.set_xlabel(xlabel)\n",
    "    ax.grid()    \n",
    "    \n",
    "    ax.legend()\n",
    "    ax.legend(loc='upper center', ncol=3, fancybox=True, \n",
    "               shadow=True, bbox_to_anchor=(0.5,1.13) )  \n",
    "    \n",
    "def plot_log2xy(x, y1, y2, xlabel, ylabel, y1label, y2label):\n",
    "    fig, ax = plt.subplots(figsize=(10.0,7.5))\n",
    "    \n",
    "    ax.semilogx(x, y1, 'b', label=y1label)\n",
    "    ax.semilogx(x, y2, 'r', label=y2label)\n",
    "    ax.set_ylabel(ylabel)\n",
    "    ax.set_xlabel(xlabel)\n",
    "    ax.grid()    \n",
    "    \n",
    "    ax.legend()\n",
    "    ax.legend(loc='upper center', ncol=2, fancybox=True, \n",
    "               shadow=True, bbox_to_anchor=(0.5,1.13) )  \n",
    "    \n",
    "def plot_loglog(x, y, xlabel, ylabel):\n",
    "    fig, ax = plt.subplots(figsize=(10.0, 7.5))\n",
    "    ax.loglog(x, y, 'b')\n",
    "    ax.grid();\n",
    "    ax.set_xlabel(xlabel)\n",
    "    ax.set_ylabel(ylabel)\n",
    "    \n",
    "    \n",
    "def plot_loglog2(x, y1, y2, xlabel, ylabel, y1label, y2label):\n",
    "    fig, ax = plt.subplots(figsize=(10.0,7.5))\n",
    "    \n",
    "    ax.loglog(x, y1, 'b', label=y1label)\n",
    "    ax.loglog(x, y2, 'r', label=y2label)\n",
    "    ax.set_ylabel(ylabel)\n",
    "    ax.set_xlabel(xlabel)\n",
    "    ax.grid()    \n",
    "    \n",
    "    ax.legend()\n",
    "    ax.legend(loc='upper center', ncol=2, fancybox=True, \n",
    "               shadow=True, bbox_to_anchor=(0.5,1.13) )  \n",
    "    \n",
    "def plot_xlogy(x, y, xlabel, ylabel):\n",
    "    fig, ax = plt.subplots(figsize=(10.0, 7.5));\n",
    "    ax.semilogy(x, y, 'b');\n",
    "    ax.grid();\n",
    "    ax.set_xlabel(xlabel);\n",
    "    ax.set_ylabel(ylabel);\n",
    "    \n",
    "def read_ltspice_ac(file_name):\n",
    "    with open(file_name, 'r') as data:\n",
    "        x = []\n",
    "        y = []\n",
    "        z = []\n",
    "        next(data) # skip header line\n",
    "        for line in data:\n",
    "            p = line.split()\n",
    "            x.append(float(p[0]))\n",
    "            complex = p[1].split(\",\")\n",
    "            y.append(float(complex[0]))\n",
    "            z.append(float(complex[1]))\n",
    "\n",
    "    return x, y, z\n",
    "\n",
    "def plot_logxy2(x1, y1, x2, y2, x1label, y1label, x2label, y2label):\n",
    "    fig, ax = plt.subplots(2, figsize = (10.0, 7.5));\n",
    "    ax[0].semilogx(x1, y1, 'b');\n",
    "    ax[0].set_ylabel(y1label)\n",
    "    ax[0].grid()\n",
    "    \n",
    "    ax[1].semilogx(x2, y2, 'b');\n",
    "    ax[1].set_xlabel(x1label)\n",
    "    ax[1].set_xlabel(x2label);\n",
    "    ax[1].set_ylabel(y2label);\n",
    "    ax[1].grid();\n",
    "    \n",
    "    fig.align_ylabels(ax[:])\n",
    "    \n",
    "def plot_noise_bandwidth(f, mag):\n",
    "    fig, ax = plt.subplots(2, figsize=(10.0,7.5))\n",
    "    ax[0].semilogx(f, RC_mag)\n",
    "    ax[0].set_xscale(\"log\")\n",
    "    ax[0].set_xlim(f[0], f[-1])\n",
    "    ax[0].set_xticks(np.logspace(0.1,4,5))\n",
    "    ax[0].set_xticklabels([])\n",
    "    ax[0].set_ylabel('Magnitude [V/V]')\n",
    "    ax[0].set_title('Equivalent Noise Bandwidth')\n",
    "    ax[0].grid()\n",
    "\n",
    "    ax[1].hlines(1, 0, f_enb, color='tab:blue')\n",
    "    ax[1].hlines(0, f_enb, f[-1], color='tab:blue')\n",
    "    ax[1].vlines(f_enb, 0, 1, color='tab:blue')\n",
    "    ax[1].set_xlim(f[0], f[-1])\n",
    "    ax[1].set_xscale(\"log\")\n",
    "    ax[1].set_xticks(np.logspace(0.1,4,5))\n",
    "    ax[1].set_xticklabels([r'$10^0$',r'$10^1$', r'$10^2$', r'$10^3$', r'$10^4$'])\n",
    "    ax[1].set_ylabel('Magnitude [V/V]')\n",
    "    ax[1].set_xlabel('Frequency [Hz]')\n",
    "    ax[1].grid()\n",
    "    \n",
    "def noise_hist(vnoise, vn_rms, bins):\n",
    "    fig = plt.figure( figsize=(10.0,7.5) )\n",
    "    vn_norm = vnoise/ vn_rms\n",
    "    ax = fig.add_subplot(111)\n",
    "    n, bins, rectangles = ax.hist(vn_norm, bins, density=True, range=(-3, 3),\n",
    "                                 color='b')\n",
    "    ax.set_xlabel(r'Sample Voltage [$v_{n(rms)}$]')\n",
    "    ax.set_ylabel('Probability Density')\n",
    "    ax.grid()\n",
    "    fig.canvas.draw()\n",
    "\n",
    "def plot_NF_vs_Rs(en_vals, in_vals, Rs_min, Rs_max, T_in_K):\n",
    "    fig, ax = plt.subplots(figsize=(10.0, 7.5))\n",
    "    k = 1.38e-23\n",
    "    Rs = np.logspace(np.log10(Rs_min), np.log10(Rs_max), num=200)\n",
    "    F1 = 1 + (en_vals[0]**2+Rs**2*in_vals[0]**2)/(4*k*T_in_K*Rs)\n",
    "    F2 = 1 + (en_vals[1]**2+Rs**2*in_vals[1]**2)/(4*k*T_in_K*Rs)\n",
    "    F3 = 1 + (en_vals[2]**2+Rs**2*in_vals[2]**2)/(4*k*T_in_K*Rs)\n",
    "    ax.semilogx(Rs, 10*np.log10(F1), 'b', label=r'$e_{n1}$, $i_{n1}$')\n",
    "    ax.semilogx(Rs, 10*np.log10(F2), 'r', label=r'$e_{n2}$, $i_{n2}$')\n",
    "    ax.semilogx(Rs, 10*np.log10(F3), 'g', label=r'$e_{n3}$, $i_{n3}$')\n",
    "    ax.grid();\n",
    "    ax.set_xlabel(r'Source Resistance $R_s [\\Omega]$')\n",
    "    ax.set_ylabel(r'Noise Figure $NF$ [$dB$]')  \n",
    "    \n",
    "    ax.legend()\n",
    "    ax.legend(loc='upper center', ncol=3, fancybox=True, \n",
    "               shadow=True, bbox_to_anchor=(0.5,1.13) )  \n",
    "    \n",
    "def plot_noise_curve(e_n, i_n, Rs_min, Rs_max):\n",
    "    fig, ax = plt.subplots(figsize=(10.0, 7.5))\n",
    "    Rs = np.logspace(np.log10(Rs_min), np.log10(Rs_max), num=200)\n",
    "    e_ni_2 = 4*k*T*Rs + e_n**2 + i_n**2*Rs**2\n",
    "    ax.loglog(Rs, np.sqrt(e_ni_2), 'b', label='Total Noise')\n",
    "    ax.loglog(Rs, np.sqrt(4*k*T*Rs), 'r', label=r'$\\sqrt{4kTR_s}$')\n",
    "    ax.loglog(Rs, e_n*np.ones(np.size(Rs)), 'g', label=r'$e_n$')\n",
    "    ax.loglog(Rs, i_n*Rs, 'y', label=r'$i_n R_s$')\n",
    "    ax.grid();\n",
    "    ax.set_xlabel(r'Source Resistance $R_s [\\Omega]$')\n",
    "    ax.set_ylabel(r'Equivalent Input Noise [$V/\\sqrt{Hz}$]')\n",
    "    \n",
    "    ax.legend()\n",
    "    ax.legend(loc='upper center', ncol=4, fancybox=True, \n",
    "               shadow=True, bbox_to_anchor=(0.5,1.13) )   \n",
    "    \n",
    "def plot_bjt_NF(beta, r_bb, Rmin, Rmax, Imin, Imax):\n",
    "    fig, ax = plt.subplots(figsize=(10.0, 7.5))\n",
    "    k = 1.38e-23\n",
    "    T = 300\n",
    "    q = 1.602e-19\n",
    "    V_T = k*T/q\n",
    "    rs = np.logspace(np.log10(Rmin), np.log10(Rmax), num = 100)\n",
    "    ic = np.logspace(np.log10(Imin), np.log10(Imax), num = 100)\n",
    "    I_C, R_S = np.meshgrid(ic, rs)\n",
    "    e_n_2 = 4*k*T*(V_T/2/I_C + r_bb)\n",
    "    i_n_2 = 2*q*I_C/beta_0\n",
    "    NF = 1 + (e_n_2 + i_n_2*R_S**2)/(4*k*T*R_S)\n",
    "    cp = ax.contourf(I_C, R_S, 10*np.log10(NF), levels=np.linspace(0,15, num=16))\n",
    "    plt.xscale('log')\n",
    "    plt.yscale('log')\n",
    "    plt.ylabel(r'Source Resistance $R_s$ [$\\Omega$]')\n",
    "    plt.xlabel(r'Collector Current $I_C$ [A]')\n",
    "    fig.colorbar(cp)\n",
    "\n",
    "def fftnoise(f):\n",
    "    f = np.array(f, dtype='complex')\n",
    "    Np = (len(f) - 1) // 2\n",
    "    phases = np.random.rand(Np) * 2 * np.pi\n",
    "    phases = np.cos(phases) + 1j * np.sin(phases)\n",
    "    f[1:Np+1] *= phases\n",
    "    f[-1:-1-Np:-1] = np.conj(f[1:Np+1])\n",
    "    return np.fft.ifft(f).real\n",
    "\n",
    "def band_limited_noise(min_freq, max_freq, samples=1024, samplerate=1):\n",
    "    freqs = np.abs(np.fft.fftfreq(samples, 1/samplerate))\n",
    "    f = np.zeros(samples)\n",
    "    idx = np.where(np.logical_and(freqs>=min_freq, freqs<=max_freq))[0]\n",
    "    f[idx] = 1\n",
    "    return fftnoise(f)\n",
    "\n",
    "def fft_mag(x, N, T, t):\n",
    "    fft_sig  = fft(x, N)  \n",
    "    freqs = np.linspace(0.0, 1.0/(2.0*T), N//2)\n",
    "    mags = 2.0/N * np.abs(fft_sig[0:N//2]) # single-sided FFT\n",
    "    \n",
    "    return freqs, mags\n",
    "\n",
    "def plot_fft_dB(freqs, mags, fmin, fmax):\n",
    "    fig, ax = plt.subplots(figsize = (10.0,7.5))\n",
    "    ax.plot(1e-3*freqs, 20*np.log10(mags), 'b')\n",
    "    ax.set_xlim(fmin, fmax)\n",
    "    ax.set_xlabel('Frequency [kHz]')\n",
    "    ax.set_ylabel('Magnitude [dB]')\n",
    "    ax.grid()"
   ]
  },
  {
   "cell_type": "markdown",
   "metadata": {
    "slideshow": {
     "slide_type": "slide"
    }
   },
   "source": [
    "# Lecture 7 - Transimpedance Amplifier Design"
   ]
  },
  {
   "cell_type": "markdown",
   "metadata": {
    "slideshow": {
     "slide_type": "slide"
    }
   },
   "source": [
    "## Photodiodes for wideband optical sensing"
   ]
  },
  {
   "cell_type": "markdown",
   "metadata": {
    "cell_style": "split"
   },
   "source": [
    "<center><img src=\"img/photodiode_resistor.png\" width=500 /></center>"
   ]
  },
  {
   "cell_type": "markdown",
   "metadata": {
    "cell_style": "split"
   },
   "source": [
    " - Photodiodes produce current\n",
    " \n",
    " - To convert this current to a voltage that can be processed by our signal conditional circuitry (e.g. filter, ADC, gain stage, etc.), we might consider using just a resistor, which produces an output voltage of $v_o = i_d R_f$\n",
    " \n",
    " - The value of $R_f$ should be chosen such that its thermal noise current $4kT/R_f$ is neglible compared to the shot noise current of the diode $2qi_d$"
   ]
  },
  {
   "cell_type": "markdown",
   "metadata": {
    "slideshow": {
     "slide_type": "subslide"
    }
   },
   "source": [
    " - To put this in concrete terms, assume our application requires a bandwidth of $500kHz$, a minimum signal level of $1\\mu A$, and our photodiode has a reverse-biased depletion capacitance of $100pF$\n",
    " \n",
    " - The photodiode produces a shot noise current with power spectral density given by\n",
    " \n",
    "\\begin{equation}\n",
    "i_{ns}^2 = 2qi_d\n",
    "\\end{equation}\n",
    "\n",
    " - To ensure the resistor contributes negligibly to the total noise, we can require the spectral density of its noise to be $10\\%$ of that of the shot noise (this is a $0.5\\%$ increase in the $rms$ current noise density)\n",
    " \n",
    " - This gives us a value of $R_f$ of \n",
    " \n",
    "\\begin{equation}\n",
    "R_f = 10\\cdot\\dfrac{4kT}{2qi_d}\n",
    "\\end{equation}\n",
    "\n",
    " - If we need to design for a signal current of $1\\mu A$, this necessitates an $R_f$ value of ~$50k\\Omega$, which limits our $3dB$ bandwidth to $30kHz$, mucher lower than the target $500kHz$!"
   ]
  },
  {
   "cell_type": "markdown",
   "metadata": {
    "slideshow": {
     "slide_type": "slide"
    }
   },
   "source": [
    "## Transimpedance amplifier (TIA)"
   ]
  },
  {
   "cell_type": "markdown",
   "metadata": {
    "cell_style": "split"
   },
   "source": [
    "<center><img src=\"img/TIA_simple.png\" width=700 /></center>"
   ]
  },
  {
   "cell_type": "markdown",
   "metadata": {
    "cell_style": "split"
   },
   "source": [
    " - The transimpedance amplifier resolves this issues by using an opamp's virtual ground to present a low impedance to the capacitance of the photodiode\n",
    " \n",
    " - The ideal transfer function of the TIA is given by\n",
    " \n",
    "\\begin{equation}\n",
    "\\dfrac{v_o}{i_d} = R_f\n",
    "\\end{equation}\n",
    "\n",
    " - Ignoring the opamp's noise (for the moment), the resistor value and its associated noise are identical to the above derivation"
   ]
  },
  {
   "cell_type": "markdown",
   "metadata": {
    "cell_style": "center",
    "slideshow": {
     "slide_type": "subslide"
    }
   },
   "source": [
    "\n",
    " - Assuming the resistor is the only noise source the noise factor of the TIA is determined by the ratio of $R_f$'s noise current to the shot noise current of the photodiode:\n",
    " \n",
    "\\begin{equation}\n",
    "F = 1+\\dfrac{i_{nRF}}{i_{ns}} = 1+ \\dfrac{4kT/R_f}{2qi_d}\n",
    "\\end{equation}\n",
    "\n",
    "- The noise factor can be enhanced (reduced) by increasing the feedback resistance until its noise becomes negligible relative to the shot noise of the photodiode"
   ]
  },
  {
   "cell_type": "markdown",
   "metadata": {
    "slideshow": {
     "slide_type": "slide"
    }
   },
   "source": [
    "## TIA stability"
   ]
  },
  {
   "cell_type": "markdown",
   "metadata": {
    "cell_style": "split"
   },
   "source": [
    "<center><img src=\"img/TIA_stability.png\" width=700 /></center>"
   ]
  },
  {
   "cell_type": "markdown",
   "metadata": {
    "cell_style": "split"
   },
   "source": [
    " - Unfortunately, the required large value of $R_f$ lower the frequency of a parasitic pole due to $R_f C_{in}$, compromising the stability of the closed-loop amplifier\n",
    " \n",
    " - $C_{in}$ is the total capacitance connected to the feedback node, which includes the input capacitance of the opamp and is often dominated by the photodiode's depletion capacitance\n",
    " \n",
    " - The addition of $C_f$ contributes a zero to the transfer function that can be used to compensate for the phase lag due to $R_f C_{in}$ "
   ]
  },
  {
   "cell_type": "markdown",
   "metadata": {
    "slideshow": {
     "slide_type": "slide"
    }
   },
   "source": [
    "## TIA frequency response"
   ]
  },
  {
   "cell_type": "markdown",
   "metadata": {},
   "source": [
    " - The closed-loop transfer function of the TIA is second order and can be expressed as\n",
    " \n",
    "\\begin{equation}\n",
    "\\dfrac{v_o}{i_d} = R_f\\dfrac{\\omega_0^2}{s^2 + 2\\zeta\\omega_0 + \\omega_0^2}\n",
    "\\end{equation}\n",
    "\n",
    " - Assuming a single-pole response of the opamp given by the transfer function $A = A_0/(1+s/s_p)$ and a unity-gain frequency of $\\omega_t \\approx A_0 \\omega_p$, where $\\omega_p$ is the open-loop pole frequency, the closed-loop bandwidth is given by\n",
    "\n",
    "\\begin{equation}\n",
    "\\omega_0 \\approx \\sqrt{\\dfrac{\\omega_t}{R_f(C_{in} + C_f)}}\n",
    "\\end{equation}\n",
    "\n",
    " - The damping factor (or, equivalently, the $Q$ factor) is given by\n",
    " \n",
    "\\begin{equation}\n",
    "2\\zeta = \\dfrac{1}{Q} \\approx R_fC_f\\cdot\\sqrt{\\dfrac{\\omega_t}{R_f(C_{in}+C_f)}}\n",
    "\\end{equation}\n",
    "\n",
    " - The $Q$ factor determines the \"quality\" of both the step and frequency responses, and it is typically desirable to keep $Q$ below some critical value for a \"well-behaved\" response\n"
   ]
  },
  {
   "cell_type": "markdown",
   "metadata": {
    "slideshow": {
     "slide_type": "subslide"
    }
   },
   "source": [
    " - For a damping factor of $\\zeta = 1/\\sqrt{2}$ (or equivalently, $Q=1/\\sqrt{2}$, a maximially flat response), and assuming $C_{in}>>C_f$, the required value of $C_f$ is approximately\n",
    " \n",
    "\\begin{equation}\n",
    "C_f \\approx \\sqrt{\\dfrac{2\\cdot C_{in}}{R_f\\omega_t}}\n",
    "\\end{equation}\n",
    "\n",
    " - That is, in order to achieve a \"well-behaved response\" the zero frequency $\\omega_z = 1/R_fC_f$ should be equal to the geometric mean of the \"parasitic\" pole frequency $\\omega_p = 1/R_f(C_f+C_{in})$ and the opamp transit frequency $\\omega_t$ "
   ]
  },
  {
   "cell_type": "markdown",
   "metadata": {
    "slideshow": {
     "slide_type": "slide"
    }
   },
   "source": [
    "## TIA noise"
   ]
  },
  {
   "cell_type": "markdown",
   "metadata": {
    "cell_style": "split"
   },
   "source": [
    "<center><img src=\"img/TIA_noise_model.png\" width=700 /></center>"
   ]
  },
  {
   "cell_type": "markdown",
   "metadata": {
    "cell_style": "split"
   },
   "source": [
    " - The basic transimpedance amplifier contains four noise sources, including the shot noise of the photodiode\n",
    " \n",
    " - $i_{naR_f} = 4kT/R_f$ should be minimized by choosing an appropriately large value of $R_f$\n",
    " \n",
    " - $i_{na}$ can be controlled by choosing an opamp with low input noise current (i.e. JFET- or CMOS-based, with the caveat that $1/f$ noise may be problematic with the latter, but generally only for narrow bandwidths)\n",
    " \n",
    " - Assuming these first two noise sources are appropriately managed, this leaves the opamp's voltage noise $e_{na}$, which at low frequencies can be input-referred by dividing by $R_f$:\n",
    " \n",
    "\\begin{equation}\n",
    "i_{ne_{na},LF} = \\dfrac{e_{na}}{R_f}\n",
    "\\end{equation}\n",
    " \n",
    " "
   ]
  },
  {
   "cell_type": "markdown",
   "metadata": {
    "slideshow": {
     "slide_type": "subslide"
    }
   },
   "source": [
    " - How does a typical \"low-noise\" opamp stack up for low-noise photodiode applications?\n",
    " \n",
    " - Assuming $i_d = 15\\mu A$, the diode's shot noise is given by\n",
    " \n",
    "\\begin{equation}\n",
    "i_{ns} = \\sqrt{2qi_d} = 2.2pA/\\sqrt{Hz}\n",
    "\\end{equation}\n",
    "\n",
    " - To reduce $R_f$'s contribution to noise, let's use $R_f = 100k\\Omega$, which gives an input-referred noise current $i_{nR_f} = \\sqrt{4kT/R_f} \\approx .4pA/\\sqrt{Hz}$ \n",
    "\n",
    " - Let's say $e_{na} = 5nV/\\sqrt{Hz}$. This gives a low-frequency input-referred noise current due to $e_{na}$ of\n",
    " \n",
    "\\begin{equation}\n",
    "i_{ne_{na},LF} = \\dfrac{e_{na}}{R_f} = \\dfrac{1nV/\\sqrt{Hz}}{100k\\Omega} = 50fA\\sqrt{Hz}\n",
    "\\end{equation}\n",
    "\n",
    " - Not bad! Even an opamp with moderate noise performance does well, at least at low frequencies\n",
    " \n",
    " - What happens as we increase the bandwidth of the TIA?"
   ]
  },
  {
   "cell_type": "markdown",
   "metadata": {
    "slideshow": {
     "slide_type": "slide"
    }
   },
   "source": [
    "## Noise peaking"
   ]
  },
  {
   "cell_type": "markdown",
   "metadata": {
    "cell_style": "split"
   },
   "source": [
    "<center><img src=\"img/TIA_noise_peaking.png\" width=600 /></center>"
   ]
  },
  {
   "cell_type": "markdown",
   "metadata": {
    "cell_style": "split"
   },
   "source": [
    " - Assuming an ideal (infinite-bandwidth) opamp, the noise transfer function is the input/output relationship for the amplifier voltage noise\n",
    " \n",
    "\\begin{align}\n",
    "\\dfrac{e_{na,out}}{e_{na}} &= \\left(1+\\dfrac{Z_f}{Z_{in}}\\right)\\\\ \n",
    "\\\\\n",
    "&= \\dfrac{1+s(C_{in}+C_f)R_f}{1+sC_fR_f}\n",
    "\\end{align}\n",
    "\n",
    " - This expression has a zero at $1/R_f(C_{in}+C_f) \\approx 1/R_fC_{in}$, which results in \"peaking\" of the output noise due to $e_{na}$ and significantly degrades the noise performance of the TIA\n",
    " \n",
    " - The noise due to $e_{na}$ rises with frequency, as the impedance of $C_{in}$ decreases"
   ]
  },
  {
   "cell_type": "code",
   "execution_count": 40,
   "metadata": {
    "slideshow": {
     "slide_type": "subslide"
    }
   },
   "outputs": [
    {
     "data": {
      "image/png": "[encoded data removed]",
      "text/plain": [
       "<Figure size 720x540 with 1 Axes>"
      ]
     },
     "metadata": {
      "needs_background": "light"
     },
     "output_type": "display_data"
    }
   ],
   "source": [
    "w = np.logspace(1, 8, num=700)\n",
    "Cin = 1000e-12\n",
    "Rf = 100e3\n",
    "wt = 10e6\n",
    "Cf = np.sqrt(2*Cin/Rf/wt)\n",
    "ena = 5e-9\n",
    "G_noise = signal.TransferFunction([(Cin+Cf)*Rf, 1], [Cf*Rf, 1])\n",
    "w, mag, phase = signal.bode(G_noise, w=w)\n",
    "plot_logxy(w/2/np.pi, 1e9*10**(mag/20)*ena, 'Frequency [Hz]', r'Output Noise [$nV/\\sqrt{Hz}$]')"
   ]
  },
  {
   "cell_type": "markdown",
   "metadata": {},
   "source": [
    " - The output noise begins rising at relatively low frequencies, substantially increasing the $rms$ noise"
   ]
  },
  {
   "cell_type": "code",
   "execution_count": 38,
   "metadata": {
    "slideshow": {
     "slide_type": "subslide"
    }
   },
   "outputs": [
    {
     "data": {
      "image/png": "[encoded data removed]",
      "text/plain": [
       "<Figure size 720x540 with 1 Axes>"
      ]
     },
     "metadata": {
      "needs_background": "light"
     },
     "output_type": "display_data"
    }
   ],
   "source": [
    "w0 = np.sqrt(wt/(Cin+Cf)/Rf)\n",
    "zeta = Rf*Cf*w0/2\n",
    "G_sig = signal.TransferFunction([Rf*w0**2], [1, 2*zeta*w0, w0**2])\n",
    "w, mag, phase = signal.bode(G_sig, w=w)\n",
    "plot_loglog(w/2/np.pi, 10**(mag/20), 'Frequency [Hz]', r'Transimpedance Gain [$\\Omega$]')"
   ]
  },
  {
   "cell_type": "markdown",
   "metadata": {},
   "source": [
    " - Even worse, the bandwidth of the TIA has been significantly hampered by the large input capacitance\n",
    " - How can we (significantly) increase bandwidth while managing the $rms$ noise?"
   ]
  },
  {
   "cell_type": "markdown",
   "metadata": {
    "slideshow": {
     "slide_type": "slide"
    }
   },
   "source": [
    "## Cascoded TIA"
   ]
  },
  {
   "cell_type": "markdown",
   "metadata": {},
   "source": [
    "<center><img src=\"img/TIA_simple_cascode.png\" width=700 /></center>"
   ]
  },
  {
   "cell_type": "markdown",
   "metadata": {},
   "source": [
    " - A cascode transistor ($Q_1$) can be used to isolate the large photodiode capacitance from the voltage noise of the amplifier\n",
    " \n",
    " - The opamp noise voltage at the feedback (inverting) node of the amplifier sees a high impedance, minimizing the resulting noise current\n",
    " \n",
    " - What effect does the $Q_1$ have on the signal, and what noise does it contribute?"
   ]
  },
  {
   "cell_type": "markdown",
   "metadata": {
    "slideshow": {
     "slide_type": "slide"
    }
   },
   "source": [
    "## Cascode noise"
   ]
  },
  {
   "cell_type": "markdown",
   "metadata": {
    "cell_style": "split"
   },
   "source": [
    "<center><img src=\"img/TIA_cascode_noise.png\" width=400 /></center>"
   ]
  },
  {
   "cell_type": "markdown",
   "metadata": {
    "cell_style": "split"
   },
   "source": [
    " - The impedance looking into the emitter of $Q_1$ is given by $r_e = 1/g_m$\n",
    " \n",
    " - The diode is reverse-biased, so its resistance is high and $i_{nc}$ is approximately split between $r_e$ and $C_d$, resulting in a frequency-dependent output noise given by\n",
    " \n",
    "\\begin{equation}\n",
    "i_{nc,out} = \\dfrac{sC_dr_e}{sC_dr_e+1}i_{nc}\n",
    "\\end{equation}\n",
    "\n",
    " - Below the frequency $g_m/2\\pi C_d$, $Q_1$ contributes only base current shot noise, which is $\\beta$ times lower, in terms of power spectral density, than the shot noise current of the photodiode\n",
    "\n",
    " - Beyond this bandwidth, $Q_1$ contributes full shot noise, as the shot noise of the photodiode becomes attenuated (resulting in full shot noise at all frequencies)"
   ]
  },
  {
   "cell_type": "markdown",
   "metadata": {
    "slideshow": {
     "slide_type": "slide"
    }
   },
   "source": [
    "## Common-base stage"
   ]
  },
  {
   "cell_type": "markdown",
   "metadata": {},
   "source": [
    " - The cascode stage is often referred to as a *common-base* stage, since the base is common to  both the input (emitter) and output (collector)\n",
    " \n",
    " - The input impedance of the cascode/common-base stage is critical in determining a) how much of the signal current makes it to the TIA input and b) the bandwidth limitations of the added cascode"
   ]
  },
  {
   "cell_type": "markdown",
   "metadata": {
    "slideshow": {
     "slide_type": "slide"
    }
   },
   "source": [
    "## Cascode frequency response"
   ]
  },
  {
   "cell_type": "markdown",
   "metadata": {},
   "source": [
    " - The photodiode signal current also sees an input impedance of $1/g_{m}$ (at low frequencies) due to the cascode device\n",
    " \n",
    " - At high frequencies, the diode capacitance $C_d$ shunts the signal current, reducing the current going into the TIA\n",
    " \n",
    " - The transfer function seen by the photodiode current is\n",
    " \n",
    "\\begin{equation}\n",
    "i_{in} = \\dfrac{1}{1 + sC_d/g_{m}}i_d \n",
    "\\end{equation}\n",
    " \n",
    " - Assuming $i_d = 15\\mu A$ and a collector current in $Q_1$ approximately equal to this value, the input impedance of the cascode device is approximately $1.7k\\Omega$\n",
    " \n",
    " - For a photodiode capacitance of $500pF$, this results in a pole at ~$190kHz$, severely limiting the frequency response of the amplifier if wide bandwidth is needed\n",
    " \n",
    " - How can we reduce the input impedance of the cascode/common-gate stage and avoid significant bandwidth limitations?\n",
    " "
   ]
  },
  {
   "cell_type": "markdown",
   "metadata": {
    "slideshow": {
     "slide_type": "slide"
    }
   },
   "source": [
    "## Biased cascode"
   ]
  },
  {
   "cell_type": "markdown",
   "metadata": {
    "cell_style": "split"
   },
   "source": [
    "<center><img src=\"img/TIA_biased_cascode.png\" width=700 /></center>"
   ]
  },
  {
   "cell_type": "markdown",
   "metadata": {
    "cell_style": "split"
   },
   "source": [
    " - The input impedance of the cascode stage can be reduced significantly by adding a DC bias to increase the frequency of the input pole, which is proportional to the value of $Q_1$'s collector current\n",
    " \n",
    " - $R_E$ can be chosen to set the collector current of $Q_1$ such that the $g_{m1}/C_d$ pole is placed outside of the TIA bandwidth\n",
    "  \n",
    " - For example, if $I_{C1}$ is set at $200\\mu A$ the pole is moved from ~$190kHz$ to $2.5MHz$ due to the increase in $g_{m1}$\n",
    " \n",
    " - How does biasing the cascode stage affect noise performance? "
   ]
  },
  {
   "cell_type": "markdown",
   "metadata": {
    "slideshow": {
     "slide_type": "slide"
    }
   },
   "source": [
    "## Biased cascode noise"
   ]
  },
  {
   "cell_type": "markdown",
   "metadata": {
    "cell_style": "split"
   },
   "source": [
    "<center><img src=\"img/TIA_biased_cascode_noise.png\" width=300 /></center>"
   ]
  },
  {
   "cell_type": "markdown",
   "metadata": {
    "cell_style": "split"
   },
   "source": [
    " - The bias current of the cascode stage is developed based on the value of $R_E$ and the supply voltage, and is approximately given by $I_{BIAS} = (V_{EE} - 0.6V)/R_E$\n",
    " \n",
    " - For a bias current of, say, $200uA$ and a supply voltage of $\\pm 15V$, this gives $R_E \\approx 72k\\Omega$ ($R_C$ will be a similar value)\n",
    " \n",
    " - Still hoping to limit the PSD of the thermal noise to $10\\%$ of the shot noise limit sets a lower bound on the signal current:\n",
    " \n",
    "\\begin{equation}\n",
    "i_d \\geq 10\\cdot\\dfrac{4kT}{2q\\cdot(R_E + R_C)} \\approx 3.6\\mu A\n",
    "\\end{equation}\n",
    "\n",
    " - The output noise contributed by $Q_1$ is given by\n",
    " \n",
    "\\begin{equation}\n",
    "i_{nc1,out}^2 = \\dfrac{2qI_C}{(1+g_{m1}R_E)^2}\n",
    "\\end{equation}"
   ]
  },
  {
   "cell_type": "markdown",
   "metadata": {
    "slideshow": {
     "slide_type": "slide"
    }
   },
   "source": [
    "## DC biasing issues"
   ]
  },
  {
   "cell_type": "markdown",
   "metadata": {
    "slideshow": {
     "slide_type": "slide"
    }
   },
   "source": [
    "## Regulated cascode"
   ]
  },
  {
   "cell_type": "markdown",
   "metadata": {
    "cell_style": "split"
   },
   "source": [
    "<center><img src=\"img/TIA_regulated_cascode.png\" width=700 /></center>"
   ]
  },
  {
   "cell_type": "markdown",
   "metadata": {
    "cell_style": "split"
   },
   "source": [
    " - We can achieve both low noise and low input impedance by applying feedback and decreasing $Q_1$'s collector current to reduce both its shot noise and the thermal noise from $R_E$ and $R_{C1}$\n",
    " \n",
    " - The regulated (or, gain-boosted) cascode works by amplifying $Q_1$'s emitter voltage and feeding it back to its base, effectively multiplying the transconductance of $Q_1$ by the voltage gain of the common-emitter amplifer formed by $Q_2$, $R_{C2}$\n",
    " \n",
    " - The input impedance of the regulated cascode is given by\n",
    " \n",
    "\\begin{equation}\n",
    "R_{in} = \\dfrac{1}{g_{m1}(1+g_{m2}R_{C2})}\n",
    "\\end{equation}\n",
    "\n",
    " - The result is an increase in the input pole frequency by the factor $g_{m2}R_{C2}$"
   ]
  },
  {
   "cell_type": "markdown",
   "metadata": {
    "slideshow": {
     "slide_type": "subslide"
    }
   },
   "source": []
  },
  {
   "cell_type": "markdown",
   "metadata": {
    "slideshow": {
     "slide_type": "slide"
    }
   },
   "source": [
    "## Regulated cascode noise"
   ]
  },
  {
   "cell_type": "markdown",
   "metadata": {
    "cell_style": "split"
   },
   "source": [
    "<center><img src=\"img/TIA_regulated_cascode_noise.png\" width=500 /></center>"
   ]
  },
  {
   "cell_type": "markdown",
   "metadata": {
    "cell_style": "split"
   },
   "source": [
    " - $Q_1$'s shot noise is reduced even further by the $g_m$-boosting action of the $Q_2$ common-emitter stage\n",
    " \n",
    " - $Q_2$'s shot noise sees a gain of\n",
    " \n",
    "\\begin{align}\n",
    "i_{nc2,out} &= \\dfrac{g_{m1}R_{C2}}{1+g_{m1}R_E}i_{nc2}\\\\\n",
    "\\end{align}"
   ]
  },
  {
   "cell_type": "markdown",
   "metadata": {
    "slideshow": {
     "slide_type": "slide"
    }
   },
   "source": [
    "## Bootstrapping"
   ]
  },
  {
   "cell_type": "markdown",
   "metadata": {},
   "source": [
    "<center><img src=\"img/TIA_bootstrapping_concept.png\" width=700 /></center>"
   ]
  },
  {
   "cell_type": "markdown",
   "metadata": {},
   "source": [
    " - Recall that the mechanism producing rising noise due to $e_{na}$ with frequency is the resulting current through the photodiode capacitance, $i_{e_{na}} = e_{na}\\omega C_d$\n",
    " \n",
    " - If we can ensure that the current through the diode capacitance is zero, the input noise due to $e_{na}$ will be limited to the nominal value $e_{na}/R_f$\n",
    " \n",
    " - This can be accomplished by the *feedforward* amplifier $G$, which is used to ensure that the noise voltage across the capacitance is zero, thus eliminating the rising amplifier noise\n",
    " \n",
    " - How do we implement the feedforward amplifier?"
   ]
  },
  {
   "cell_type": "markdown",
   "metadata": {
    "slideshow": {
     "slide_type": "slide"
    }
   },
   "source": [
    "## Source follower bootstrapping"
   ]
  },
  {
   "cell_type": "markdown",
   "metadata": {
    "cell_style": "split"
   },
   "source": [
    "<center><img src=\"img/TIA_bootstrap.png\" width=700 /></center>"
   ]
  },
  {
   "cell_type": "markdown",
   "metadata": {
    "cell_style": "split"
   },
   "source": [
    " - The unity-gain amplifier can be realized as a JFET source follower, the input current of which and resulting current noise are small\n",
    " \n",
    " - At moderate frequencies the capacitor noise voltage due to the amplifier voltage noise is\n",
    " \n",
    "\\begin{equation}\n",
    "e_{n,C_d} = e_{na} - \\dfrac{g_mR_{eq}}{1+g_mR_{eq}}e_{na} =\\dfrac{1}{1+g_mR_{eq}}e_{na}\n",
    "\\end{equation}\n",
    "\n",
    " - The resulting noise current magnitude is\n",
    "\n",
    "\\begin{equation}\n",
    "|i_{n,C_d}| = \\dfrac{e_{na}\\omega C_d}{1+g_mR_{eq}}\n",
    "\\end{equation}\n",
    "\n",
    " - This is accurate to approximately $g_m/C_d$, at which point the source follower gain rolls off at $-20dB/dec$\n"
   ]
  },
  {
   "cell_type": "markdown",
   "metadata": {
    "slideshow": {
     "slide_type": "slide"
    }
   },
   "source": [
    "## Effective capacitance"
   ]
  },
  {
   "cell_type": "markdown",
   "metadata": {
    "cell_style": "center"
   },
   "source": [
    " - The current through $C_d$ determines the *effective* capacitance seen by the amplifier's voltage noise\n",
    " \n",
    " - The effective impedance is given by\n",
    " \n",
    "\\begin{equation}\n",
    "|Z_{eff}| = \\dfrac{1+g_mR_{eq}}{e_{na}\\omega C_d}e_{na} = \\dfrac{1+g_mR_{eq}}{\\omega C_d}\n",
    "\\end{equation}\n",
    "\n",
    " - From this the effective capacitance is determined to be $C_d/(1+g_mR_{eq})$\n",
    " \n",
    " - Depending on the values of $g_m$ and $R_S$ boostrapping can reduce the effective capacitance by an order of magnitude or mor, where the reduction depends on the gain accuracy of the source follower\n",
    "\n",
    " - This effective capictance appears in parallel with the input capcitance of the opamp and the gate-drain capacitance of the source follower, the sum total of which may not be insigificant when seeking wide TIA bandwidths\n",
    " \n",
    " - In this case, choosing an opamp with low input capacitance becomes critical"
   ]
  },
  {
   "cell_type": "markdown",
   "metadata": {
    "slideshow": {
     "slide_type": "slide"
    }
   },
   "source": [
    "## Source follower noise"
   ]
  },
  {
   "cell_type": "markdown",
   "metadata": {
    "cell_style": "split"
   },
   "source": [
    "<center><img src=\"img/TIA_SF_noise.png\" width=700 /></center>"
   ]
  },
  {
   "cell_type": "markdown",
   "metadata": {
    "cell_style": "split"
   },
   "source": [
    " - The source follower still suffers from noise peaking of its own voltage noise, resulting in a noise current of\n",
    " \n",
    "\\begin{equation}\n",
    "|i_{n,C_d}^{'}| \\approx e_{n}\\omega C_d\n",
    "\\end{equation} \n",
    " \n",
    " - However, $e_n$ can be designed to be significantly lower than the opamp voltage noise, particularly high-speed opamps which aren't necessarily optimized for low noise"
   ]
  },
  {
   "cell_type": "markdown",
   "metadata": {
    "slideshow": {
     "slide_type": "slide"
    }
   },
   "source": [
    "## Summary"
   ]
  },
  {
   "cell_type": "markdown",
   "metadata": {},
   "source": [
    " - Photodiode capacitance degrades both bandwidth/stability and noise performance of TIAs, necessitating techniques that increase bandwidth while controlling noise\n",
    " \n",
    " - Some circuit techniques that can be used to alleviate this tradeoff are\n",
    " \n",
    "     - Cascoding to isolate the diode capacitance from the noise and feedback path of the amplifier\n",
    "     \n",
    "     - Bootstrapping to reduce the effective capacitance seen by the amplifier"
   ]
  }
 ],
 "metadata": {
  "celltoolbar": "Slideshow",
  "kernelspec": {
   "display_name": "Python 3",
   "language": "python",
   "name": "python3"
  },
  "language_info": {
   "codemirror_mode": {
    "name": "ipython",
    "version": 3
   },
   "file_extension": ".py",
   "mimetype": "text/x-python",
   "name": "python",
   "nbconvert_exporter": "python",
   "pygments_lexer": "ipython3",
   "version": "3.8.2"
  },
  "livereveal": {
   "controls": false,
   "scroll": true,
   "theme": "simple"
  },
  "rise": {
   "enable_chalkboard": true,
   "slideNumber": true
  }
 },
 "nbformat": 4,
 "nbformat_minor": 4
}
