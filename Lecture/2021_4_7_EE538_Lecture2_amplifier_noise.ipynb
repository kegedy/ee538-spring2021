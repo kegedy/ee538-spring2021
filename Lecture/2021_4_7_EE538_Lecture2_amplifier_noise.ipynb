{
 "cells": [
  {
   "cell_type": "markdown",
   "metadata": {
    "cell_style": "center",
    "slideshow": {
     "slide_type": "slide"
    }
   },
   "source": [
    "# EE 538: Low-Noise Analog Circuit Design\n",
    "## Spring 2021\n",
    "## Instructor: Jason Silver"
   ]
  },
  {
   "cell_type": "markdown",
   "metadata": {
    "slideshow": {
     "slide_type": "slide"
    }
   },
   "source": [
    "## Announcements"
   ]
  },
  {
   "cell_type": "markdown",
   "metadata": {
    "slideshow": {
     "slide_type": "-"
    }
   },
   "source": [
    " - Assignment 1 due Sunday, April 11 at midnight\n",
    "    - Jupyter Notebook (.ipyb) submission on Canvas\n",
    "    - For LTspice problems, include image (e.g. screen capture) of schematic(s)\n",
    " - Assignment 2 will be posted Saturday, April 17"
   ]
  },
  {
   "cell_type": "markdown",
   "metadata": {
    "slideshow": {
     "slide_type": "slide"
    }
   },
   "source": [
    "## Week 2"
   ]
  },
  {
   "cell_type": "markdown",
   "metadata": {
    "slideshow": {
     "slide_type": "-"
    }
   },
   "source": [
    " - Motchenbacher Chapters 2 and 3"
   ]
  },
  {
   "cell_type": "markdown",
   "metadata": {
    "slideshow": {
     "slide_type": "slide"
    }
   },
   "source": [
    "## Overview"
   ]
  },
  {
   "cell_type": "markdown",
   "metadata": {
    "slideshow": {
     "slide_type": "-"
    }
   },
   "source": [
    " - Last time...\n",
    "     - Random variables\n",
    "     - Thermal noise\n",
    "     - Noise bandwidth\n",
    "     - Shot noise \n",
    "     - Flicker noise\n",
    " - Today\n",
    "     - 2-port noise theory\n",
    "     - Noise figure/noise factor\n",
    "     - Amplifier noise model\n",
    "     - Correlated noise sources\n",
    "     - Feedback amplifier noise analysis"
   ]
  },
  {
   "cell_type": "markdown",
   "metadata": {
    "slideshow": {
     "slide_type": "skip"
    }
   },
   "source": [
    "## Python packages/modules"
   ]
  },
  {
   "cell_type": "code",
   "execution_count": 1,
   "metadata": {
    "slideshow": {
     "slide_type": "skip"
    }
   },
   "outputs": [],
   "source": [
    "import matplotlib as mpl\n",
    "from matplotlib import pyplot as plt\n",
    "import numpy as np\n",
    "from scipy import signal\n",
    "#%matplotlib notebook\n",
    "\n",
    "mpl.rcParams['font.size'] = 12\n",
    "mpl.rcParams['legend.fontsize'] = 'large'\n",
    "\n",
    "def plot_xy(x, y, xlabel, ylabel):\n",
    "    fig, ax = plt.subplots(figsize=(10.0, 7.5));\n",
    "    ax.plot(x, y, 'b')\n",
    "    ax.grid()\n",
    "    ax.set_xlabel(xlabel)\n",
    "    ax.set_ylabel(ylabel)\n",
    "    \n",
    "def plot_xy2(x1, y1, x1label, y1label, x2, y2, x2label, y2label):\n",
    "    fig, ax = plt.subplots(2, figsize = (10.0, 7.5));\n",
    "    ax[0].plot(x1, y1, 'b')\n",
    "    ax[0].set_ylabel(y1label)\n",
    "    ax[0].grid()\n",
    "    \n",
    "    ax[1].plot(x2, y2, 'b')\n",
    "    ax[1].set_xlabel(x1label)\n",
    "    ax[1].set_xlabel(x2label)\n",
    "    ax[1].set_ylabel(y2label)\n",
    "    ax[1].grid()\n",
    "    \n",
    "    fig.align_ylabels(ax[:])\n",
    "\n",
    "def plot_xy3(x, y1, y2, y3, xlabel, y1label, y2label, y3label):\n",
    "    fig, ax = plt.subplots(3, figsize=(10.0,7.5))\n",
    "    \n",
    "    ax[0].plot(x, y1)\n",
    "    ax[0].set_ylabel(y1label)\n",
    "    ax[0].grid()\n",
    "    \n",
    "    ax[1].plot(x, y2)\n",
    "    ax[1].set_ylabel(y2label)\n",
    "    ax[1].grid()\n",
    "    \n",
    "    ax[2].plot(x, y3)  \n",
    "    ax[2].set_ylabel(y3label)\n",
    "    ax[2].set_xlabel(xlabel)\n",
    "    ax[2].grid()\n",
    "    \n",
    "def plot_logxy3(x, y1, y2, y3, xlabel, y1label, y2label, y3label):\n",
    "    fig, ax = plt.subplots(3, figsize=(10.0,7.5))\n",
    "    \n",
    "    ax[0].semilogx(x, y1)\n",
    "    ax[0].set_ylabel(y1label)\n",
    "    ax[0].grid()\n",
    "    \n",
    "    ax[1].semilogx(x, y2)\n",
    "    ax[1].set_ylabel(y2label)\n",
    "    ax[1].grid()\n",
    "    \n",
    "    ax[2].semilogx(x, y3)  \n",
    "    ax[2].set_ylabel(y3label)\n",
    "    ax[2].set_xlabel(xlabel)\n",
    "    ax[2].grid()\n",
    "\n",
    "def plot_logxy(x, y, xlabel, ylabel):\n",
    "    fig, ax = plt.subplots(figsize=(10.0, 7.5))\n",
    "    ax.semilogx(x, y, 'b')\n",
    "    ax.grid();\n",
    "    ax.set_xlabel(xlabel)\n",
    "    ax.set_ylabel(ylabel)\n",
    "    \n",
    "def plot_loglog(x, y, xlabel, ylabel):\n",
    "    fig, ax = plt.subplots(figsize=(10.0, 7.5))\n",
    "    ax.loglog(x, y, 'b')\n",
    "    ax.grid();\n",
    "    ax.set_xlabel(xlabel)\n",
    "    ax.set_ylabel(ylabel)\n",
    "    \n",
    "def plot_xlogy(x, y, xlabel, ylabel):\n",
    "    fig, ax = plt.subplots(figsize=(10.0, 7.5));\n",
    "    ax.semilogy(x, y, 'b');\n",
    "    ax.grid();\n",
    "    ax.set_xlabel(xlabel);\n",
    "    ax.set_ylabel(ylabel);\n",
    "    \n",
    "def read_ltspice_ac(file_name):\n",
    "    with open(file_name, 'r') as data:\n",
    "        x = []\n",
    "        y = []\n",
    "        z = []\n",
    "        next(data) # skip header line\n",
    "        for line in data:\n",
    "            p = line.split()\n",
    "            x.append(float(p[0]))\n",
    "            complex = p[1].split(\",\")\n",
    "            y.append(float(complex[0]))\n",
    "            z.append(float(complex[1]))\n",
    "\n",
    "    return x, y, z\n",
    "\n",
    "def plot_logxy2(x1, y1, x2, y2, x1label, y1label, x2label, y2label):\n",
    "    fig, ax = plt.subplots(2, figsize = (10.0, 7.5));\n",
    "    ax[0].semilogx(x1, y1, 'b');\n",
    "    ax[0].set_ylabel(y1label)\n",
    "    ax[0].grid()\n",
    "    \n",
    "    ax[1].semilogx(x2, y2, 'b');\n",
    "    ax[1].set_xlabel(x1label)\n",
    "    ax[1].set_xlabel(x2label);\n",
    "    ax[1].set_ylabel(y2label);\n",
    "    ax[1].grid();\n",
    "    \n",
    "    fig.align_ylabels(ax[:])\n",
    "    \n",
    "def plot_noise_bandwidth(f, mag):\n",
    "    fig, ax = plt.subplots(2, figsize=(10.0,7.5))\n",
    "    ax[0].semilogx(f, RC_mag)\n",
    "    ax[0].set_xscale(\"log\")\n",
    "    ax[0].set_xlim(f[0], f[-1])\n",
    "    ax[0].set_xticks(np.logspace(0.1,4,5))\n",
    "    ax[0].set_xticklabels([])\n",
    "    ax[0].set_ylabel('Magnitude [V/V]')\n",
    "    ax[0].set_title('Equivalent Noise Bandwidth')\n",
    "    ax[0].grid()\n",
    "\n",
    "    ax[1].hlines(1, 0, f_enb, color='tab:blue')\n",
    "    ax[1].hlines(0, f_enb, f[-1], color='tab:blue')\n",
    "    ax[1].vlines(f_enb, 0, 1, color='tab:blue')\n",
    "    ax[1].set_xlim(f[0], f[-1])\n",
    "    ax[1].set_xscale(\"log\")\n",
    "    ax[1].set_xticks(np.logspace(0.1,4,5))\n",
    "    ax[1].set_xticklabels([r'$10^0$',r'$10^1$', r'$10^2$', r'$10^3$', r'$10^4$'])\n",
    "    ax[1].set_ylabel('Magnitude [V/V]')\n",
    "    ax[1].set_xlabel('Frequency [Hz]')\n",
    "    ax[1].grid()\n",
    "    \n",
    "def noise_hist(vnoise, vn_rms, bins):\n",
    "    fig = plt.figure( figsize=(10.0,7.5) )\n",
    "    vn_norm = vnoise/ vn_rms\n",
    "    ax = fig.add_subplot(111)\n",
    "    n, bins, rectangles = ax.hist(vn_norm, bins, density=True, range=(-3, 3),\n",
    "                                 color='b')\n",
    "    ax.set_xlabel(r'Sample Voltage [$v_{n(rms)}$]')\n",
    "    ax.set_ylabel('Probability Density')\n",
    "    ax.grid()\n",
    "    fig.canvas.draw()"
   ]
  },
  {
   "cell_type": "code",
   "execution_count": 2,
   "metadata": {
    "slideshow": {
     "slide_type": "skip"
    }
   },
   "outputs": [],
   "source": [
    "def fftnoise(f):\n",
    "    f = np.array(f, dtype='complex')\n",
    "    Np = (len(f) - 1) // 2\n",
    "    phases = np.random.rand(Np) * 2 * np.pi\n",
    "    phases = np.cos(phases) + 1j * np.sin(phases)\n",
    "    f[1:Np+1] *= phases\n",
    "    f[-1:-1-Np:-1] = np.conj(f[1:Np+1])\n",
    "    return np.fft.ifft(f).real\n",
    "\n",
    "def band_limited_noise(min_freq, max_freq, samples=1024, samplerate=1):\n",
    "    freqs = np.abs(np.fft.fftfreq(samples, 1/samplerate))\n",
    "    f = np.zeros(samples)\n",
    "    idx = np.where(np.logical_and(freqs>=min_freq, freqs<=max_freq))[0]\n",
    "    f[idx] = 1\n",
    "    return fftnoise(f)"
   ]
  },
  {
   "cell_type": "markdown",
   "metadata": {
    "slideshow": {
     "slide_type": "slide"
    }
   },
   "source": [
    "# Lecture 2 - Noise Modeling"
   ]
  },
  {
   "cell_type": "markdown",
   "metadata": {
    "slideshow": {
     "slide_type": "slide"
    }
   },
   "source": [
    "## Noise factor"
   ]
  },
  {
   "cell_type": "markdown",
   "metadata": {},
   "source": [
    " - For optimum noise performance, we want to minimize the degradation in the signal-to-noise ratio ($\\text{SNR}$) that a system introduces\n",
    " \n",
    " - The noise factor is defined as\n",
    " \n",
    "\\begin{equation}\n",
    "F \\equiv \\dfrac{\\text{total output noise power}}{\\text{output noise due to input source}}\n",
    "\\end{equation}\n",
    "\n",
    " - $F$ can also be expressed as the ratio of input $\\text{SNR}$ to output $\\text{SNR}$. The larger the degradation in $\\text{SNR}$, the larger the noise factor\n",
    " \n",
    " - If a system adds no noise of its own (the ideal case), then the total output noise is due entirely to the source and the noise factor is unity "
   ]
  },
  {
   "cell_type": "markdown",
   "metadata": {
    "slideshow": {
     "slide_type": "slide"
    }
   },
   "source": [
    "## Two-port noise model"
   ]
  },
  {
   "cell_type": "markdown",
   "metadata": {},
   "source": [
    "<center><img src=\"img/2port_noise_model.png\" width=800 /></center>"
   ]
  },
  {
   "cell_type": "markdown",
   "metadata": {},
   "source": [
    " - In the model, all noise appears as inputs to a noiseless network, but arises from the thermal, flicker, and shot noise of the transistors and resistors that make up the network/system\n",
    " \n",
    " - This noise model allows us to focus on system-level considerations rather than needing to keep track of all the internal noise sources\n",
    " \n",
    " - The net effect of all internal noise sources can be represented by a single pair of extrenal sources: a noise voltage $\\overline{e_n}$ and a noise current $\\overline{i_n}$"
   ]
  },
  {
   "cell_type": "markdown",
   "metadata": {
    "slideshow": {
     "slide_type": "subslide"
    }
   },
   "source": [
    " - Assuming the noise processes of the source and two-port system are uncorreated (which would be the typical case), the short-circuit mean-square noise current is given by\n",
    " \n",
    "\\begin{equation}\n",
    "\\overline{i_{ni}^2} = \\overline{i_{ns}^2} + \\overline{|i_n + Y_s e_n|^2}\n",
    "\\end{equation}\n",
    "\n",
    " - Note that this expression does not assume that $i_n$ and $e_n$ are uncorrelated. In general, $i_n$ contains components that are correlated ($i_c$) and uncorrelated ($i_u$) with $e_n$, such that\n",
    " \n",
    "\\begin{equation}\n",
    "i_n = i_c + i_u\n",
    "\\end{equation}\n",
    "\n",
    " - $i_c$ can be related to $e_n$ through a *correlation admittance* $Y_c$, such that $i_c = Y_c e_n$\n",
    " \n",
    " - Expanding the above expression gives\n",
    " \n",
    "\\begin{equation}\n",
    "\\overline{i_{ni}^2} = \\overline{i_{ns}^2} + \\overline{i_{u}^2} + |Y_s + Y_c|^2\\overline{e_n^2}\n",
    "\\end{equation}"
   ]
  },
  {
   "cell_type": "markdown",
   "metadata": {
    "slideshow": {
     "slide_type": "subslide"
    }
   },
   "source": [
    " - The *input-referred* noise power can also be expressed in terms of mean-square voltage density\n",
    " \n",
    "\\begin{equation}\n",
    "\\overline{e_{ni}^2} = \\overline{e_{ns}^2} + \\overline{|e_n + Z_s i_n|^2}\n",
    "\\end{equation} \n",
    "\n",
    " - In which case we can define the correlation impedance $Z_c$ as\n",
    " \n",
    "\\begin{equation}\n",
    "Z_c = \\dfrac{e_n}{i_c}\n",
    "\\end{equation}\n",
    "\n",
    " - Going forward we'll drop the overbars, but we need to remember that we're still dealing with random voltage and current noise sources expresses in terms of $rms$ and mean-square valeus"
   ]
  },
  {
   "cell_type": "markdown",
   "metadata": {
    "slideshow": {
     "slide_type": "slide"
    }
   },
   "source": [
    "## Correlation between noise sources"
   ]
  },
  {
   "cell_type": "markdown",
   "metadata": {},
   "source": [
    " - Two noise sources are partially correlated when each contains noise that arises from a common phenomenon, in addition to independently generated noise\n",
    " \n",
    " - As an example, to combine partially correlated voltage noise sources, we can use the general expression\n",
    " \n",
    "\\begin{equation}\n",
    "e_n^2 = e_{n1}^2 + e_{n2}^2 + 2C_c e_{n1} e_{n2}\n",
    "\\end{equation}\n",
    "\n",
    " - where $C_c$ is the correlation coefficient\n",
    " \n",
    " - For completely independent noise sources, $C_c = 0$ and we combine the mean-square quantities directly:\n",
    " \n",
    "\\begin{equation}\n",
    "e_n^2 = e_{n1}^2 + e_{n2}^2\n",
    "\\end{equation}"
   ]
  },
  {
   "cell_type": "markdown",
   "metadata": {
    "slideshow": {
     "slide_type": "slide"
    }
   },
   "source": [
    "## Two-port noise factor"
   ]
  },
  {
   "cell_type": "markdown",
   "metadata": {},
   "source": [
    " - For the common case where $Y_c = 0$, the input-referred mean-square voltage noise density can be expressed as\n",
    "\n",
    "\\begin{equation}\n",
    "e_{ni}^2 = e_{ns}^2 + e_n^2 + Z_s^2 i_n^2\n",
    "\\end{equation}\n",
    "\n",
    " - The two-port noise factor is thus\n",
    " \n",
    "\\begin{equation}\n",
    "F = \\dfrac{e_{ns}^2 + e_n^2 + Z_s^2 i_n^2}{e_{ns}^2} = \\boxed{1 + \\dfrac{e_n^2 + Z_s^2 i_n^2}{e_{ns}^2}}\n",
    "\\end{equation}\n",
    "\n",
    " - The *noise figure* $\\text{NF}$ is merely the noise factor in decibels:\n",
    " \n",
    "\\begin{equation}\n",
    "\\text{NF} = 10\\log{F} = 10\\log \\left[ 1 + \\dfrac{e_n^2 + Z_s^2 i_n^2}{e_{ns}^2} \\right]\n",
    "\\end{equation}"
   ]
  },
  {
   "cell_type": "markdown",
   "metadata": {
    "slideshow": {
     "slide_type": "slide"
    }
   },
   "source": [
    "## Optimum source resistance"
   ]
  },
  {
   "cell_type": "markdown",
   "metadata": {},
   "source": [
    " - To minimize the noise factor/figure, we can take the first derivative of $F$ with respect to the source impedance and set it equal to zero. Assuming $Z_s = R_s$, this yields\n",
    " \n",
    "\\begin{equation}\n",
    "-\\dfrac{e_n^2}{R_{opt}^2}+ i_n^2 = 0\n",
    "\\end{equation}\n",
    "\n",
    " - From which we find the optimum source resistance to be\n",
    "\n",
    "\\begin{equation}\n",
    "R_{opt} = \\dfrac{e_n}{i_n}\n",
    "\\end{equation}\n",
    "\n",
    " - The noise factor corresponding to $R_{opt}$ is thus\n",
    " \n",
    "\\begin{equation}\n",
    "F_{min} = 1 + \\dfrac{e_n^2 + R_{opt}^2 i_n^2}{4kT R_{opt}\\Delta f} = 1 + \\dfrac{2 e_n^2}{4kT \\Delta f e_n/i_n} = \\boxed{1 + \\dfrac{e_n\\cdot i_n}{2kT\\Delta f}}\n",
    "\\end{equation}\n"
   ]
  },
  {
   "cell_type": "markdown",
   "metadata": {
    "slideshow": {
     "slide_type": "subslide"
    }
   },
   "source": [
    " - Note that there is no direct correspondance between the optimum source resistance and that needed for maximum power transfer "
   ]
  },
  {
   "cell_type": "markdown",
   "metadata": {
    "slideshow": {
     "slide_type": "slide"
    }
   },
   "source": [
    "## Noise resistance and noise temperature"
   ]
  },
  {
   "cell_type": "markdown",
   "metadata": {},
   "source": [
    " - The noise resistance of an amplifier is the value of resistance that would generate thermal noise equal to that of the two-port :\n",
    " \n",
    "\\begin{equation}\n",
    "e_n^2 + i_n^2R_s^2 = 4kTR_n \\Delta f\n",
    "\\end{equation}\n",
    "\n",
    "\\begin{equation}\n",
    "R_n = \\dfrac{e_n^2+i_n^2R_s^2}{4kT \\Delta f}\n",
    "\\end{equation}"
   ]
  },
  {
   "cell_type": "markdown",
   "metadata": {
    "slideshow": {
     "slide_type": "slide"
    }
   },
   "source": [
    "## Noise temperature"
   ]
  },
  {
   "cell_type": "markdown",
   "metadata": {},
   "source": [
    "- Noise temperature is an alternative way of expressing the effect of an amplifier's noise contribution, and is defined as the increase in temperature required for the source resistance to generate the entirety of the amplifier output noise \n",
    " \n",
    "\\begin{equation}\n",
    "4kT_n R_s \\Delta f = e_n^2 + i_n^2 R_s^2\n",
    "\\end{equation}\n",
    "\n",
    " - This yields\n",
    " \n",
    "\\begin{equation}\n",
    "T_n = \\dfrac{e_n^2 + i_n^2R_s^2}{4kTR_s \\Delta f}\n",
    "\\end{equation}\n",
    "\n",
    "\\begin{equation}\n",
    "F = 1 + \\dfrac{T_n}{T_{ref}}\n",
    "\\end{equation}"
   ]
  },
  {
   "cell_type": "markdown",
   "metadata": {
    "slideshow": {
     "slide_type": "slide"
    }
   },
   "source": [
    "## Noise in cascaded networks"
   ]
  },
  {
   "cell_type": "markdown",
   "metadata": {},
   "source": []
  }
 ],
 "metadata": {
  "celltoolbar": "Slideshow",
  "kernelspec": {
   "display_name": "Python 3",
   "language": "python",
   "name": "python3"
  },
  "language_info": {
   "codemirror_mode": {
    "name": "ipython",
    "version": 3
   },
   "file_extension": ".py",
   "mimetype": "text/x-python",
   "name": "python",
   "nbconvert_exporter": "python",
   "pygments_lexer": "ipython3",
   "version": "3.8.2"
  },
  "livereveal": {
   "controls": false,
   "scroll": true,
   "theme": "simple"
  },
  "rise": {
   "enable_chalkboard": true,
   "slideNumber": true
  }
 },
 "nbformat": 4,
 "nbformat_minor": 4
}
